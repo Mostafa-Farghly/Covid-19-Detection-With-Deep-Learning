{
 "cells": [
  {
   "cell_type": "markdown",
   "metadata": {},
   "source": [
    "### <font color=green>By: Mostafa Alaa Abd-Elaal Farghly</font>\n"
   ]
  },
  {
   "cell_type": "markdown",
   "metadata": {},
   "source": [
    "# Results of AlexNet, Resnet50, and Resnet101 CNN in Detecting Covid-19 Using CT and X-ray Images\n",
    "-------------------------------------------------------------------------------"
   ]
  },
  {
   "cell_type": "markdown",
   "metadata": {},
   "source": [
    "The Experiments were conducted using four public databases:"
   ]
  },
  {
   "cell_type": "markdown",
   "metadata": {},
   "source": [
    "| Number | <center>Dataset's Link</center> | <center>Modality<center> | <center>Data Size (Number of Images)</center> |\n",
    "| --- | --- | --- | --- |\n",
    "| <center>1</center> | <center>https://github.com/UCSD-AI4H/COVID-CT</center> | <center>CT</center> | <center>746</center> |\n",
    "| <center>2</center> | <center>https://github.com/RunwenHu/COVID-19</center> | <center>CT</center> | <center>802</center> |\n",
    "| <center>3</center> | <center>https://www.kaggle.com/plameneduardo/sarscov2-ctscan-dataset</center> | <center>CT</center> | <center>2481</center> |\n",
    "| <center>4</center> | <center>https://www.dropbox.com/s/7rjw6oet4za01op/CovidDataset-20200427T133042Z-001.zip?dl=0</center> | <center>X-ray</center> | <center>284</center> |"
   ]
  },
  {
   "cell_type": "markdown",
   "metadata": {},
   "source": [
    "Some or all of the datasets were separately used to train, validate, and test each of the three models (AlexNet, Resnet50, and Resnet101). Moreover, for the models trained by any of the three CT images datasets, the other two whole datasets were used to test the model.\n"
   ]
  },
  {
   "cell_type": "markdown",
   "metadata": {},
   "source": [
    "---------------------------------------------------------------------------- "
   ]
  },
  {
   "cell_type": "markdown",
   "metadata": {},
   "source": [
    "## Models and Results\n",
    "&nbsp;&nbsp;&nbsp;&nbsp;&nbsp;&nbsp;In this section, the standard model's results against the different datasets will be shown along with the results of the same model after customization if any were made."
   ]
  },
  {
   "cell_type": "markdown",
   "metadata": {},
   "source": [
    "&nbsp;&nbsp;&nbsp;&nbsp;&nbsp;&nbsp;First, we will load all the models and datasets to show the testing results."
   ]
  },
  {
   "cell_type": "code",
   "execution_count": 5,
   "metadata": {},
   "outputs": [
    {
     "name": "stdout",
     "output_type": "stream",
     "text": [
      "Found 746 files belonging to 2 classes.\n",
      "Found 802 files belonging to 2 classes.\n",
      "Found 2481 files belonging to 2 classes.\n",
      "Found 284 files belonging to 2 classes.\n"
     ]
    }
   ],
   "source": [
    "import tensorflow as tf\n",
    "\n",
    "# Import Dataset 1\n",
    "ds_1_CT = tf.keras.preprocessing.image_dataset_from_directory(r'./dataset_1_CT',\n",
    "                                                              image_size=(227, 227),\n",
    "                                                              batch_size=32,\n",
    "                                                              label_mode='categorical')\n",
    "\n",
    "# Import Dataset 2\n",
    "ds_2_CT = tf.keras.preprocessing.image_dataset_from_directory(r'./dataset_2_CT',\n",
    "                                                              image_size=(227, 227),\n",
    "                                                              batch_size=32,\n",
    "                                                              label_mode='categorical')\n",
    "\n",
    "# Import Dataset 3\n",
    "ds_3_CT = tf.keras.preprocessing.image_dataset_from_directory(r'./dataset_3_CT',\n",
    "                                                              image_size=(227, 227),\n",
    "                                                              batch_size=32,\n",
    "                                                              label_mode='categorical')\n",
    "\n",
    "# Import Dataset 4\n",
    "ds_4_Xray = tf.keras.preprocessing.image_dataset_from_directory(r'./dataset_4_X-ray',\n",
    "                                                                image_size=(227, 227),\n",
    "                                                                batch_size=32,\n",
    "                                                                label_mode='categorical')"
   ]
  },
  {
   "cell_type": "markdown",
   "metadata": {},
   "source": [
    "### 1. AlexNet\n",
    "In this model we used \"Adam Optimizer\", and used each of the four datasets separately to train and test the model.\n",
    "##### Model Training Code: "
   ]
  },
  {
   "cell_type": "markdown",
   "metadata": {},
   "source": [
    "![image](AlexNet.png \"AlexNet consists of 5 Convolutional Layers and 3 Fully Connected Layers\")"
   ]
  },
  {
   "cell_type": "markdown",
   "metadata": {},
   "source": [
    "#### 1.1. The Standard AlexNet Model With Dataset 1"
   ]
  },
  {
   "cell_type": "markdown",
   "metadata": {},
   "source": [
    "![image](./AlexNet/AlexNet_ds_1.png)"
   ]
  },
  {
   "cell_type": "markdown",
   "metadata": {},
   "source": [
    "After 50 epochs:\n",
    "<ul>\n",
    "  <li>Training Accuracy = 0.7224</li>\n",
    "  <li>Validation Accuracy = 0.4746</li>\n",
    "  <li>Testing Accuracy = 0.6010</li>\n",
    "</ul>"
   ]
  },
  {
   "cell_type": "markdown",
   "metadata": {},
   "source": [
    "#### 1.2. The Standard AlexNet Model With Dataset 2"
   ]
  },
  {
   "cell_type": "markdown",
   "metadata": {},
   "source": [
    "![image](./AlexNet/AlexNet_ds_2.png)"
   ]
  },
  {
   "cell_type": "markdown",
   "metadata": {},
   "source": [
    "After 50 epochs:\n",
    "<ul>\n",
    "  <li>Training Accuracy = 0.6931</li>\n",
    "  <li>Validation Accuracy = 0.5051</li>\n",
    "  <li>Testing Accuracy = 0.5055</li>\n",
    "</ul>"
   ]
  },
  {
   "cell_type": "markdown",
   "metadata": {},
   "source": [
    "#### 1.3. The Standard AlexNet Model With Dataset 3"
   ]
  },
  {
   "cell_type": "markdown",
   "metadata": {},
   "source": [
    "![image](./AlexNet/AlexNet_ds_3.png)"
   ]
  },
  {
   "cell_type": "markdown",
   "metadata": {},
   "source": [
    "After 50 epochs:\n",
    "<ul>\n",
    "  <li>Training Accuracy = 0.5104</li>\n",
    "  <li>Validation Accuracy = 0.4821</li>\n",
    "  <li>Testing Accuracy = 0.5040</li>\n",
    "</ul>"
   ]
  },
  {
   "cell_type": "markdown",
   "metadata": {},
   "source": [
    "#### 1.4. The Standard AlexNet Model With Dataset 4\n",
    "With this dataset, data augmentation was used."
   ]
  },
  {
   "cell_type": "markdown",
   "metadata": {},
   "source": [
    "![image](./AlexNet/AlexNet_ds_4.png)"
   ]
  },
  {
   "cell_type": "markdown",
   "metadata": {},
   "source": [
    "After 50 epochs:\n",
    "<ul>\n",
    "  <li>Training Accuracy = 0.5000</li>\n",
    "  <li>Validation Accuracy = 0.5000</li>\n",
    "</ul>"
   ]
  },
  {
   "cell_type": "markdown",
   "metadata": {},
   "source": [
    "### observation:\n",
    "&nbsp;&nbsp;&nbsp;&nbsp;&nbsp;&nbsp;AlexNet's model with \"Adam\" optimizer has showed quite poor results with all the datasets.\n",
    "\n",
    "\n",
    "------------------------"
   ]
  },
  {
   "cell_type": "markdown",
   "metadata": {},
   "source": [
    "### 2. AlexNet\n",
    "In this model we used \"SGD\" optimizer (lr=0.0001, momentum=0.9), and used each of the four datasets separately to train and test the model.\n",
    "##### Model Training Code: "
   ]
  },
  {
   "cell_type": "markdown",
   "metadata": {},
   "source": [
    "#### 2.1. The Standard AlexNet Model With Dataset 1"
   ]
  },
  {
   "cell_type": "markdown",
   "metadata": {},
   "source": [
    "![image](./AlexNet/AlexNet_SGD_ds_1.png)"
   ]
  },
  {
   "cell_type": "markdown",
   "metadata": {},
   "source": [
    "After 50 epochs:\n",
    "<ul>\n",
    "  <li>Training Accuracy = 1.0000</li>\n",
    "  <li>Validation Accuracy = 0.7034</li>\n",
    "  <li>Testing Accuracy = 0.6601</li>\n",
    "</ul>"
   ]
  },
  {
   "cell_type": "markdown",
   "metadata": {},
   "source": [
    "#### 2.2. The Standard AlexNet Model With Dataset 2"
   ]
  },
  {
   "cell_type": "markdown",
   "metadata": {},
   "source": [
    "![image](./AlexNet/AlexNet_SGD_ds_2.png)"
   ]
  },
  {
   "cell_type": "markdown",
   "metadata": {},
   "source": [
    "After 50 epochs:\n",
    "<ul>\n",
    "  <li>Training Accuracy = 1.0000</li>\n",
    "  <li>Validation Accuracy = 0.8788</li>\n",
    "  <li>Testing Accuracy = 0.8791</li>\n",
    "</ul>"
   ]
  },
  {
   "cell_type": "markdown",
   "metadata": {},
   "source": [
    "#### 2.3. The Standard AlexNet Model With Dataset 3"
   ]
  },
  {
   "cell_type": "markdown",
   "metadata": {},
   "source": [
    "![image](./AlexNet/AlexNet_SGD_ds_3.png)"
   ]
  },
  {
   "cell_type": "markdown",
   "metadata": {},
   "source": [
    "After 50 epochs:\n",
    "<ul>\n",
    "  <li>Training Accuracy = 1.0000</li>\n",
    "  <li>Validation Accuracy = 0.9305</li>\n",
    "  <li>Testing Accuracy = 0.8387</li>\n",
    "</ul>"
   ]
  },
  {
   "cell_type": "markdown",
   "metadata": {},
   "source": [
    "#### 2.4. The Standard AlexNet Model With Dataset 4\n",
    "With this dataset, data augmentation was used."
   ]
  },
  {
   "cell_type": "markdown",
   "metadata": {},
   "source": [
    "![image](./AlexNet/AlexNet_SGD_ds_4.png)"
   ]
  },
  {
   "cell_type": "markdown",
   "metadata": {},
   "source": [
    "After 50 epochs:\n",
    "<ul>\n",
    "  <li>Training Accuracy = 0.9375</li>\n",
    "  <li>Validation Accuracy = 0.9500</li>\n",
    "</ul>"
   ]
  },
  {
   "cell_type": "markdown",
   "metadata": {},
   "source": [
    "### observation:\n",
    "&nbsp;&nbsp;&nbsp;&nbsp;&nbsp;&nbsp;\"SGD\" optimizer (lr=0.0001, momentum=0.9) has improved AlexNet's performance, but no satisfactory results yet except for dataset 4 (X-ray).\n",
    "\n",
    "------------------------"
   ]
  },
  {
   "cell_type": "markdown",
   "metadata": {},
   "source": [
    "### 3. Customized AlexNet\n",
    "In this model we used \"SGD\" optimizer (lr=0.0001, momentum=0.9), and used each of the four datasets separately to train and test the model.\n",
    "###### Model Training Code: "
   ]
  },
  {
   "cell_type": "markdown",
   "metadata": {},
   "source": [
    "### Customization\n",
    "&nbsp;&nbsp;&nbsp;&nbsp;&nbsp;&nbsp;Here, a normalization layer was added at the input of the model, nine Batch Normalization layers were added to each layer, and three Dropout layers of rate 0.4 were added to the three fully connected layers."
   ]
  },
  {
   "cell_type": "markdown",
   "metadata": {},
   "source": [
    "#### 3.1. The Customized AlexNet Model With Dataset 1"
   ]
  },
  {
   "cell_type": "markdown",
   "metadata": {},
   "source": [
    "![image](./AlexNet/AlexNet_cust_ds_1.png)"
   ]
  },
  {
   "cell_type": "markdown",
   "metadata": {},
   "source": [
    "After 40 epochs:\n",
    "<ul>\n",
    "  <li>Training Accuracy = 0.9576</li>\n",
    "  <li>Validation Accuracy = 0.7203</li>\n",
    "  <li>Testing Accuracy = 0.6601</li>\n",
    "</ul>"
   ]
  },
  {
   "cell_type": "markdown",
   "metadata": {},
   "source": [
    "#### 3.2. The Customized AlexNet Model With Dataset 2"
   ]
  },
  {
   "cell_type": "markdown",
   "metadata": {},
   "source": [
    "![image](./AlexNet/AlexNet_cust_ds_2.png)"
   ]
  },
  {
   "cell_type": "markdown",
   "metadata": {},
   "source": [
    "After 50 epochs:\n",
    "<ul>\n",
    "  <li>Training Accuracy = 0.9886</li>\n",
    "  <li>Validation Accuracy = 0.8990</li>\n",
    "  <li>Testing Accuracy = 0.9001</li>\n",
    "</ul>"
   ]
  },
  {
   "cell_type": "markdown",
   "metadata": {},
   "source": [
    "#### 3.3. The Customized AlexNet Model With Dataset 3"
   ]
  },
  {
   "cell_type": "markdown",
   "metadata": {},
   "source": [
    "![image](./AlexNet/AlexNet_cust_ds_3.png)"
   ]
  },
  {
   "cell_type": "markdown",
   "metadata": {},
   "source": [
    "After 40 epochs:\n",
    "<ul>\n",
    "  <li>Training Accuracy = 0.9966</li>\n",
    "  <li>Validation Accuracy = 0.9507</li>\n",
    "  <li>Testing Accuracy = 0.9395</li>\n",
    "</ul>"
   ]
  },
  {
   "cell_type": "markdown",
   "metadata": {},
   "source": [
    "#### 3.4. The Customized AlexNet Model With Dataset 4\n",
    "With this dataset, data augmentation was used."
   ]
  },
  {
   "cell_type": "markdown",
   "metadata": {},
   "source": [
    "![image](./AlexNet/AlexNet_cust_ds_4.png)"
   ]
  },
  {
   "cell_type": "markdown",
   "metadata": {},
   "source": [
    "After 50 epochs:\n",
    "<ul>\n",
    "  <li>Training Accuracy = 0.9777</li>\n",
    "  <li>Validation Accuracy = 0.5000</li>\n",
    "</ul>"
   ]
  },
  {
   "cell_type": "markdown",
   "metadata": {},
   "source": [
    "### observation:\n",
    "&nbsp;&nbsp;&nbsp;&nbsp;&nbsp;&nbsp;This customization showed better results for datasets 2 and 3, while showed worst results for dataset 4 (X-ray). Nevertheless, the results for dataset 1 stayed nearly the same.\n",
    "\n",
    "------------------------"
   ]
  },
  {
   "cell_type": "markdown",
   "metadata": {},
   "source": [
    "### Conculosions on AlexNet and on datasets\n",
    "<ul>\n",
    "    <li>Dataset 1 is not good enough for AlexNet's model.</li>\n",
    "    <li>The Customized model demonestrated the best results.</li>\n",
    "    <li>\"SGD\" optimizer works beter than \"Adam\" optimmizer for all the datasets</li>\n",
    "    <li>A low learning is needed for the \"SGD\" optimizer (a learning rate of 0.0001 was used)</li>\n",
    "</ul>\n",
    "\n",
    "--------------------------------------------------------------------------------------------\n",
    "\n",
    "#### Please note that from now on dataset 4 will be Ignored as it is verey small (only 284 images), and it has showed relatively satisfactory results with the AlexNet model with \"SGD\" optimizer."
   ]
  },
  {
   "cell_type": "markdown",
   "metadata": {},
   "source": [
    "### 4. ResNet 50\n",
    "In this model we used \"SGD\" optimizer (lr=0.0001, momentum=0.9), and used the three CT datasets separately to train and test the model.\n",
    "###### Model Training Code: "
   ]
  },
  {
   "cell_type": "markdown",
   "metadata": {},
   "source": [
    "#### 4.1. The ResNet 50 Model With Dataset 1"
   ]
  },
  {
   "cell_type": "markdown",
   "metadata": {},
   "source": [
    "![image](./ResNet_50/Resnet_50_ds_1.png)"
   ]
  },
  {
   "cell_type": "markdown",
   "metadata": {},
   "source": [
    "After 80 epochs:\n",
    "<ul>\n",
    "  <li>Training Accuracy = 0.9576</li>\n",
    "  <li>Validation Accuracy = 0.7373</li>\n",
    "  <li>Testing Accuracy = 0.7635</li>\n",
    "</ul>"
   ]
  },
  {
   "cell_type": "markdown",
   "metadata": {},
   "source": [
    "#### 4.2. The ResNet 50 Model With Dataset 2"
   ]
  },
  {
   "cell_type": "markdown",
   "metadata": {},
   "source": [
    "![image](./ResNet_50/Resnet_50_ds_2.png)"
   ]
  },
  {
   "cell_type": "markdown",
   "metadata": {},
   "source": [
    "After 80 epochs:\n",
    "<ul>\n",
    "  <li>Training Accuracy = 0.9690</li>\n",
    "  <li>Validation Accuracy = 0.8788</li>\n",
    "  <li>Testing Accuracy = 0.9011</li>\n",
    "</ul>"
   ]
  },
  {
   "cell_type": "markdown",
   "metadata": {},
   "source": [
    "#### 4.3. The ResNet 50 Model With Dataset 3"
   ]
  },
  {
   "cell_type": "markdown",
   "metadata": {},
   "source": [
    "![image](./ResNet_50/Resnet_50_ds_3.png)"
   ]
  },
  {
   "cell_type": "markdown",
   "metadata": {},
   "source": [
    "After 80 epochs:\n",
    "<ul>\n",
    "  <li>Training Accuracy = 0.9659</li>\n",
    "  <li>Validation Accuracy = 0.9260</li>\n",
    "  <li>Testing Accuracy = 0.9395</li>\n",
    "</ul>"
   ]
  },
  {
   "cell_type": "markdown",
   "metadata": {},
   "source": [
    "### observation:\n",
    "&nbsp;&nbsp;&nbsp;&nbsp;&nbsp;&nbsp;ResNet 50 improved the results on dataset 1, while showed nearly similar results to the customized AlexNet model.\n",
    "\n",
    "------------------------"
   ]
  },
  {
   "cell_type": "markdown",
   "metadata": {},
   "source": [
    "### 5. ResNet 101\n",
    "In this model we used \"SGD\" optimizer (lr=0.0001, momentum=0.9), and used the three CT datasets separately to train and test the model.\n",
    "###### Model Training Code: "
   ]
  },
  {
   "cell_type": "markdown",
   "metadata": {},
   "source": [
    "#### 5.1. The ResNet 101 Model With Dataset 1"
   ]
  },
  {
   "cell_type": "markdown",
   "metadata": {},
   "source": [
    "![image](./ResNet_101/Resnet_101_ds_1.png)"
   ]
  },
  {
   "cell_type": "markdown",
   "metadata": {},
   "source": [
    "After 80 epochs:\n",
    "<ul>\n",
    "  <li>Training Accuracy = 0.9647</li>\n",
    "  <li>Validation Accuracy = 0.7119</li>\n",
    "  <li>Testing Accuracy = 0.7685</li>\n",
    "</ul>"
   ]
  },
  {
   "cell_type": "markdown",
   "metadata": {},
   "source": [
    "#### 5.2. The ResNet 101 Model With Dataset 2"
   ]
  },
  {
   "cell_type": "markdown",
   "metadata": {},
   "source": [
    "![image](./ResNet_101/Resnet_101_ds_2.png)"
   ]
  },
  {
   "cell_type": "markdown",
   "metadata": {},
   "source": [
    "After 80 epochs:\n",
    "<ul>\n",
    "  <li>Training Accuracy = 0.9755</li>\n",
    "  <li>Validation Accuracy = 0.8788</li>\n",
    "  <li>Testing Accuracy = 0.9121</li>\n",
    "</ul>"
   ]
  },
  {
   "cell_type": "markdown",
   "metadata": {},
   "source": [
    "#### 5.3. The ResNet 101 Model With Dataset 3"
   ]
  },
  {
   "cell_type": "markdown",
   "metadata": {},
   "source": [
    "![image](./ResNet_101/Resnet_101_ds_3.png)"
   ]
  },
  {
   "cell_type": "markdown",
   "metadata": {},
   "source": [
    "After 80 epochs:\n",
    "<ul>\n",
    "  <li>Training Accuracy = 0.9692</li>\n",
    "  <li>Validation Accuracy = 0.9148</li>\n",
    "  <li>Testing Accuracy = 0.9194</li>\n",
    "</ul>"
   ]
  },
  {
   "cell_type": "markdown",
   "metadata": {},
   "source": [
    "### observation:\n",
    "&nbsp;&nbsp;&nbsp;&nbsp;&nbsp;&nbsp;ResNet 101 showed nearly similar results to ResNet 50.\n",
    "\n",
    "------------------------"
   ]
  },
  {
   "cell_type": "code",
   "execution_count": null,
   "metadata": {},
   "outputs": [],
   "source": []
  }
 ],
 "metadata": {
  "kernelspec": {
   "display_name": "Python 3",
   "language": "python",
   "name": "python3"
  },
  "language_info": {
   "codemirror_mode": {
    "name": "ipython",
    "version": 3
   },
   "file_extension": ".py",
   "mimetype": "text/x-python",
   "name": "python",
   "nbconvert_exporter": "python",
   "pygments_lexer": "ipython3",
   "version": "3.7.4"
  }
 },
 "nbformat": 4,
 "nbformat_minor": 2
}
