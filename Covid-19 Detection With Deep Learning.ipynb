{
 "cells": [
  {
   "cell_type": "markdown",
   "metadata": {},
   "source": [
    "### <font color=green>By:</font><font color=#296EAA> Mostafa Alaa Abd-Elaal Farghly</font>\n",
    "### <font color=green>Project Repository:</font> https://github.com/Mostafa-Farghly/Covid-19-Detection-With-Deep-Learning\n",
    "-------------------------------------"
   ]
  },
  {
   "cell_type": "markdown",
   "metadata": {},
   "source": [
    "# Results of AlexNet, Resnet50, and Resnet101 CNN in Detecting Covid-19 Using CT and X-ray Images"
   ]
  },
  {
   "cell_type": "markdown",
   "metadata": {},
   "source": [
    "The Experiments were conducted using four public databases:"
   ]
  },
  {
   "cell_type": "markdown",
   "metadata": {},
   "source": [
    "<table>\n",
    "  <tr>\n",
    "      <th><center>Number</center></th>\n",
    "    <th><center>Dataset's link</center></th>\n",
    "      <th><center>Modality</center></th>\n",
    "      <th><center>Data Size (Number of Images)</center></th>\n",
    "  </tr>\n",
    "    \n",
    "  <tr>\n",
    "      <td><center>1</center></td>\n",
    "    <td><center>https://github.com/UCSD-AI4H/COVID-CT</center></td>\n",
    "    <td><center>CT</center></td>\n",
    "    <td><center>746</center></td>\n",
    "  </tr>\n",
    "  \n",
    "  <tr>\n",
    "      <td><center>2</center></td>\n",
    "    <td><center>https://github.com/RunwenHu/COVID-19</center></td>\n",
    "    <td><center>CT</center></td>\n",
    "    <td><center>802</center></td>\n",
    "  </tr>\n",
    "  \n",
    "  <tr>\n",
    "      <td><center>3</center></td>\n",
    "    <td><center>https://www.kaggle.com/plameneduardo/sarscov2-ctscan-dataset</center></td>\n",
    "    <td><center>CT</center></td>\n",
    "    <td><center>2481</center></td>\n",
    "  </tr>\n",
    "  \n",
    "  <tr>\n",
    "      <td><center>4</center></td>\n",
    "    <td><center>https://www.dropbox.com/s/7rjw6oet4za01op/CovidDataset-20200427T133042Z-001.zip?dl=0</center></td>\n",
    "    <td><center>X-ray</center></td>\n",
    "    <td><center>284</center></td>\n",
    "  </tr>\n",
    "  \n",
    "</table>"
   ]
  },
  {
   "cell_type": "markdown",
   "metadata": {},
   "source": [
    "Some or all of the datasets were separately used to train, validate, and test each of the three models (AlexNet, Resnet50, and Resnet101). Moreover, for the models trained by any of the three CT images datasets, the other two whole datasets were used to test the model.\n"
   ]
  },
  {
   "cell_type": "markdown",
   "metadata": {},
   "source": [
    "## Models and Results\n",
    "&nbsp;&nbsp;&nbsp;&nbsp;&nbsp;&nbsp;In this section, the standard model's results against the different datasets will be shown along with the results of the same model after customization if any were made."
   ]
  },
  {
   "cell_type": "markdown",
   "metadata": {},
   "source": [
    "### 1. AlexNet\n",
    "In this model we used \"Adam Optimizer\", and used each of the four datasets separately to train and test the model.\n",
    "##### Model Training Code: https://github.com/Mostafa-Farghly/Covid-19-Detection-With-Deep-Learning/blob/main/AlexNet/AlexNet.ipynb"
   ]
  },
  {
   "cell_type": "markdown",
   "metadata": {},
   "source": [
    "![image](AlexNet.png \"AlexNet consists of 5 Convolutional Layers and 3 Fully Connected Layers\")"
   ]
  },
  {
   "cell_type": "markdown",
   "metadata": {},
   "source": [
    "#### 1.1. The Standard AlexNet Model With Dataset 1"
   ]
  },
  {
   "cell_type": "markdown",
   "metadata": {},
   "source": [
    "![image](./AlexNet/AlexNet_ds_1.png)"
   ]
  },
  {
   "cell_type": "markdown",
   "metadata": {},
   "source": [
    "After 50 epochs:\n",
    "<ul>\n",
    "  <li>Training Accuracy = 0.7224</li>\n",
    "  <li>Validation Accuracy = 0.4746</li>\n",
    "  <li>Testing Accuracy = 0.6010</li>\n",
    "</ul>"
   ]
  },
  {
   "cell_type": "markdown",
   "metadata": {},
   "source": [
    "#### 1.2. The Standard AlexNet Model With Dataset 2"
   ]
  },
  {
   "cell_type": "markdown",
   "metadata": {},
   "source": [
    "![image](./AlexNet/AlexNet_ds_2.png)"
   ]
  },
  {
   "cell_type": "markdown",
   "metadata": {},
   "source": [
    "After 50 epochs:\n",
    "<ul>\n",
    "  <li>Training Accuracy = 0.6931</li>\n",
    "  <li>Validation Accuracy = 0.5051</li>\n",
    "  <li>Testing Accuracy = 0.5055</li>\n",
    "</ul>"
   ]
  },
  {
   "cell_type": "markdown",
   "metadata": {},
   "source": [
    "#### 1.3. The Standard AlexNet Model With Dataset 3"
   ]
  },
  {
   "cell_type": "markdown",
   "metadata": {},
   "source": [
    "![image](./AlexNet/AlexNet_ds_3.png)"
   ]
  },
  {
   "cell_type": "markdown",
   "metadata": {},
   "source": [
    "After 50 epochs:\n",
    "<ul>\n",
    "  <li>Training Accuracy = 0.5104</li>\n",
    "  <li>Validation Accuracy = 0.4821</li>\n",
    "  <li>Testing Accuracy = 0.5040</li>\n",
    "</ul>"
   ]
  },
  {
   "cell_type": "markdown",
   "metadata": {},
   "source": [
    "#### 1.4. The Standard AlexNet Model With Dataset 4\n",
    "With this dataset, data augmentation was used."
   ]
  },
  {
   "cell_type": "markdown",
   "metadata": {},
   "source": [
    "![image](./AlexNet/AlexNet_ds_4.png)"
   ]
  },
  {
   "cell_type": "markdown",
   "metadata": {},
   "source": [
    "After 50 epochs:\n",
    "<ul>\n",
    "  <li>Training Accuracy = 0.5000</li>\n",
    "  <li>Validation Accuracy = 0.5000</li>\n",
    "</ul>"
   ]
  },
  {
   "cell_type": "markdown",
   "metadata": {},
   "source": [
    "### observation:\n",
    "&nbsp;&nbsp;&nbsp;&nbsp;&nbsp;&nbsp;AlexNet's model with \"Adam\" optimizer has showed quite poor results with all the datasets."
   ]
  },
  {
   "cell_type": "markdown",
   "metadata": {},
   "source": [
    "### 2. AlexNet\n",
    "In this model we used \"SGD\" optimizer (lr=0.0001, momentum=0.9), and used each of the four datasets separately to train and test the model.\n",
    "##### Model Training Code: https://github.com/Mostafa-Farghly/Covid-19-Detection-With-Deep-Learning/blob/main/AlexNet/AlexNet-SGD.ipynb"
   ]
  },
  {
   "cell_type": "markdown",
   "metadata": {},
   "source": [
    "#### 2.1. The Standard AlexNet Model With Dataset 1"
   ]
  },
  {
   "cell_type": "markdown",
   "metadata": {},
   "source": [
    "![image](./AlexNet/AlexNet_SGD_ds_1.png)"
   ]
  },
  {
   "cell_type": "markdown",
   "metadata": {},
   "source": [
    "After 50 epochs:\n",
    "<ul>\n",
    "  <li>Training Accuracy = 1.0000</li>\n",
    "  <li>Validation Accuracy = 0.7034</li>\n",
    "  <li>Testing Accuracy = 0.6601</li>\n",
    "</ul>"
   ]
  },
  {
   "cell_type": "markdown",
   "metadata": {},
   "source": [
    "#### 2.2. The Standard AlexNet Model With Dataset 2"
   ]
  },
  {
   "cell_type": "markdown",
   "metadata": {},
   "source": [
    "![image](./AlexNet/AlexNet_SGD_ds_2.png)"
   ]
  },
  {
   "cell_type": "markdown",
   "metadata": {},
   "source": [
    "After 50 epochs:\n",
    "<ul>\n",
    "  <li>Training Accuracy = 1.0000</li>\n",
    "  <li>Validation Accuracy = 0.8788</li>\n",
    "  <li>Testing Accuracy = 0.8791</li>\n",
    "</ul>"
   ]
  },
  {
   "cell_type": "markdown",
   "metadata": {},
   "source": [
    "#### 2.3. The Standard AlexNet Model With Dataset 3"
   ]
  },
  {
   "cell_type": "markdown",
   "metadata": {},
   "source": [
    "![image](./AlexNet/AlexNet_SGD_ds_3.png)"
   ]
  },
  {
   "cell_type": "markdown",
   "metadata": {},
   "source": [
    "After 50 epochs:\n",
    "<ul>\n",
    "  <li>Training Accuracy = 1.0000</li>\n",
    "  <li>Validation Accuracy = 0.9305</li>\n",
    "  <li>Testing Accuracy = 0.8387</li>\n",
    "</ul>"
   ]
  },
  {
   "cell_type": "markdown",
   "metadata": {},
   "source": [
    "#### 2.4. The Standard AlexNet Model With Dataset 4\n",
    "With this dataset, data augmentation was used."
   ]
  },
  {
   "cell_type": "markdown",
   "metadata": {},
   "source": [
    "![image](./AlexNet/AlexNet_SGD_ds_4.png)"
   ]
  },
  {
   "cell_type": "markdown",
   "metadata": {},
   "source": [
    "After 50 epochs:\n",
    "<ul>\n",
    "  <li>Training Accuracy = 0.9375</li>\n",
    "  <li>Validation Accuracy = 0.9500</li>\n",
    "</ul>"
   ]
  },
  {
   "cell_type": "markdown",
   "metadata": {},
   "source": [
    "### observation:\n",
    "&nbsp;&nbsp;&nbsp;&nbsp;&nbsp;&nbsp;\"SGD\" optimizer (lr=0.0001, momentum=0.9) has improved AlexNet's performance, but no satisfactory results yet except for dataset 4 (X-ray)."
   ]
  },
  {
   "cell_type": "markdown",
   "metadata": {},
   "source": [
    "### 3. Customized AlexNet\n",
    "In this model we used \"SGD\" optimizer (lr=0.0001, momentum=0.9), and used each of the four datasets separately to train and test the model.\n",
    "###### Model Training Code: https://github.com/Mostafa-Farghly/Covid-19-Detection-With-Deep-Learning/blob/main/AlexNet/AlexNet-Customized.ipynb"
   ]
  },
  {
   "cell_type": "markdown",
   "metadata": {},
   "source": [
    "### Customization\n",
    "&nbsp;&nbsp;&nbsp;&nbsp;&nbsp;&nbsp;Here, a normalization layer was added at the input of the model, nine Batch Normalization layers were added to each layer, and three Dropout layers of rate 0.4 were added to the three fully connected layers."
   ]
  },
  {
   "cell_type": "markdown",
   "metadata": {},
   "source": [
    "#### 3.1. The Customized AlexNet Model With Dataset 1"
   ]
  },
  {
   "cell_type": "markdown",
   "metadata": {},
   "source": [
    "![image](./AlexNet/AlexNet_cust_ds_1.png)"
   ]
  },
  {
   "cell_type": "markdown",
   "metadata": {},
   "source": [
    "After 40 epochs:\n",
    "<ul>\n",
    "  <li>Training Accuracy = 0.9576</li>\n",
    "  <li>Validation Accuracy = 0.7203</li>\n",
    "  <li>Testing Accuracy = 0.6601</li>\n",
    "</ul>"
   ]
  },
  {
   "cell_type": "markdown",
   "metadata": {},
   "source": [
    "#### 3.2. The Customized AlexNet Model With Dataset 2"
   ]
  },
  {
   "cell_type": "markdown",
   "metadata": {},
   "source": [
    "![image](./AlexNet/AlexNet_cust_ds_2.png)"
   ]
  },
  {
   "cell_type": "markdown",
   "metadata": {},
   "source": [
    "After 50 epochs:\n",
    "<ul>\n",
    "  <li>Training Accuracy = 0.9886</li>\n",
    "  <li>Validation Accuracy = 0.8990</li>\n",
    "  <li>Testing Accuracy = 0.9001</li>\n",
    "</ul>"
   ]
  },
  {
   "cell_type": "markdown",
   "metadata": {},
   "source": [
    "#### 3.3. The Customized AlexNet Model With Dataset 3"
   ]
  },
  {
   "cell_type": "markdown",
   "metadata": {},
   "source": [
    "![image](./AlexNet/AlexNet_cust_ds_3.png)"
   ]
  },
  {
   "cell_type": "markdown",
   "metadata": {},
   "source": [
    "After 40 epochs:\n",
    "<ul>\n",
    "  <li>Training Accuracy = 0.9966</li>\n",
    "  <li>Validation Accuracy = 0.9507</li>\n",
    "  <li>Testing Accuracy = 0.9395</li>\n",
    "</ul>"
   ]
  },
  {
   "cell_type": "markdown",
   "metadata": {},
   "source": [
    "#### 3.4. The Customized AlexNet Model With Dataset 4\n",
    "With this dataset, data augmentation was used."
   ]
  },
  {
   "cell_type": "markdown",
   "metadata": {},
   "source": [
    "![image](./AlexNet/AlexNet_cust_ds_4.png)"
   ]
  },
  {
   "cell_type": "markdown",
   "metadata": {},
   "source": [
    "After 50 epochs:\n",
    "<ul>\n",
    "  <li>Training Accuracy = 0.9777</li>\n",
    "  <li>Validation Accuracy = 0.5000</li>\n",
    "</ul>"
   ]
  },
  {
   "cell_type": "markdown",
   "metadata": {},
   "source": [
    "### observation:\n",
    "&nbsp;&nbsp;&nbsp;&nbsp;&nbsp;&nbsp;This customization showed better results for datasets 2 and 3, while showed worst results for dataset 4 (X-ray). Nevertheless, the results for dataset 1 stayed nearly the same."
   ]
  },
  {
   "cell_type": "markdown",
   "metadata": {},
   "source": [
    "### Conculosions on AlexNet and on datasets\n",
    "<ul>\n",
    "    <li>Dataset 1 is not good enough for AlexNet's model.</li>\n",
    "    <li>The Customized model demonestrated the best results.</li>\n",
    "    <li>\"SGD\" optimizer works beter than \"Adam\" optimmizer for all the datasets</li>\n",
    "    <li>A low learning is needed for the \"SGD\" optimizer (a learning rate of 0.0001 was used)</li>\n",
    "</ul>\n",
    "\n",
    "--------------------------------------------------------------------------------------------\n",
    "\n",
    "#### Please note that from now on dataset 4 will be Ignored as it is verey small (only 284 images), and it has showed relatively satisfactory results with the AlexNet model with \"SGD\" optimizer."
   ]
  },
  {
   "cell_type": "markdown",
   "metadata": {},
   "source": [
    "### 4. ResNet 50\n",
    "In this model we used \"SGD\" optimizer (lr=0.0001, momentum=0.9), and used the three CT datasets separately to train and test the model.\n",
    "###### Model Training Code: https://github.com/Mostafa-Farghly/Covid-19-Detection-With-Deep-Learning/blob/main/ResNet_50/ResNet%2050.ipynb"
   ]
  },
  {
   "cell_type": "markdown",
   "metadata": {},
   "source": [
    "#### 4.1. The ResNet 50 Model With Dataset 1"
   ]
  },
  {
   "cell_type": "markdown",
   "metadata": {},
   "source": [
    "![image](./ResNet_50/Resnet_50_ds_1.png)"
   ]
  },
  {
   "cell_type": "markdown",
   "metadata": {},
   "source": [
    "After 80 epochs:\n",
    "<ul>\n",
    "  <li>Training Accuracy = 0.9576</li>\n",
    "  <li>Validation Accuracy = 0.7373</li>\n",
    "  <li>Testing Accuracy = 0.7635</li>\n",
    "</ul>"
   ]
  },
  {
   "cell_type": "markdown",
   "metadata": {},
   "source": [
    "#### 4.2. The ResNet 50 Model With Dataset 2"
   ]
  },
  {
   "cell_type": "markdown",
   "metadata": {},
   "source": [
    "![image](./ResNet_50/Resnet_50_ds_2.png)"
   ]
  },
  {
   "cell_type": "markdown",
   "metadata": {},
   "source": [
    "After 80 epochs:\n",
    "<ul>\n",
    "  <li>Training Accuracy = 0.9690</li>\n",
    "  <li>Validation Accuracy = 0.8788</li>\n",
    "  <li>Testing Accuracy = 0.9011</li>\n",
    "</ul>"
   ]
  },
  {
   "cell_type": "markdown",
   "metadata": {},
   "source": [
    "#### 4.3. The ResNet 50 Model With Dataset 3"
   ]
  },
  {
   "cell_type": "markdown",
   "metadata": {},
   "source": [
    "![image](./ResNet_50/Resnet_50_ds_3.png)"
   ]
  },
  {
   "cell_type": "markdown",
   "metadata": {},
   "source": [
    "After 80 epochs:\n",
    "<ul>\n",
    "  <li>Training Accuracy = 0.9659</li>\n",
    "  <li>Validation Accuracy = 0.9260</li>\n",
    "  <li>Testing Accuracy = 0.9395</li>\n",
    "</ul>"
   ]
  },
  {
   "cell_type": "markdown",
   "metadata": {},
   "source": [
    "### observation:\n",
    "&nbsp;&nbsp;&nbsp;&nbsp;&nbsp;&nbsp;ResNet 50 improved the results on dataset 1, while showed nearly similar results to the customized AlexNet model.\n",
    "\n",
    "------------------------"
   ]
  },
  {
   "cell_type": "markdown",
   "metadata": {},
   "source": [
    "### 5. ResNet 101\n",
    "In this model we used \"SGD\" optimizer (lr=0.0001, momentum=0.9), and used the three CT datasets separately to train and test the model.\n",
    "###### Model Training Code: https://github.com/Mostafa-Farghly/Covid-19-Detection-With-Deep-Learning/blob/main/ResNet_101/ResNet%20101.ipynb"
   ]
  },
  {
   "cell_type": "markdown",
   "metadata": {},
   "source": [
    "#### 5.1. The ResNet 101 Model With Dataset 1"
   ]
  },
  {
   "cell_type": "markdown",
   "metadata": {},
   "source": [
    "![image](./ResNet_101/Resnet_101_ds_1.png)"
   ]
  },
  {
   "cell_type": "markdown",
   "metadata": {},
   "source": [
    "After 80 epochs:\n",
    "<ul>\n",
    "  <li>Training Accuracy = 0.9647</li>\n",
    "  <li>Validation Accuracy = 0.7119</li>\n",
    "  <li>Testing Accuracy = 0.7685</li>\n",
    "</ul>"
   ]
  },
  {
   "cell_type": "markdown",
   "metadata": {},
   "source": [
    "#### 5.2. The ResNet 101 Model With Dataset 2"
   ]
  },
  {
   "cell_type": "markdown",
   "metadata": {},
   "source": [
    "![image](./ResNet_101/Resnet_101_ds_2.png)"
   ]
  },
  {
   "cell_type": "markdown",
   "metadata": {},
   "source": [
    "After 80 epochs:\n",
    "<ul>\n",
    "  <li>Training Accuracy = 0.9755</li>\n",
    "  <li>Validation Accuracy = 0.8788</li>\n",
    "  <li>Testing Accuracy = 0.9121</li>\n",
    "</ul>"
   ]
  },
  {
   "cell_type": "markdown",
   "metadata": {},
   "source": [
    "#### 5.3. The ResNet 101 Model With Dataset 3"
   ]
  },
  {
   "cell_type": "markdown",
   "metadata": {},
   "source": [
    "![image](./ResNet_101/Resnet_101_ds_3.png)"
   ]
  },
  {
   "cell_type": "markdown",
   "metadata": {},
   "source": [
    "After 80 epochs:\n",
    "<ul>\n",
    "  <li>Training Accuracy = 0.9692</li>\n",
    "  <li>Validation Accuracy = 0.9148</li>\n",
    "  <li>Testing Accuracy = 0.9194</li>\n",
    "</ul>"
   ]
  },
  {
   "cell_type": "markdown",
   "metadata": {},
   "source": [
    "### observation:\n",
    "&nbsp;&nbsp;&nbsp;&nbsp;&nbsp;&nbsp;ResNet 101 showed nearly similar results to ResNet 50."
   ]
  },
  {
   "cell_type": "markdown",
   "metadata": {},
   "source": [
    "## ResNet 101 Testing\n",
    "&nbsp;&nbsp;&nbsp;&nbsp;&nbsp;&nbsp;Now since ResNet 101 and ResNet 50 demonestrated the best results, we will take ResNet model through further testing with the different CT datasets."
   ]
  },
  {
   "cell_type": "markdown",
   "metadata": {},
   "source": [
    "First we will load the datasets"
   ]
  },
  {
   "cell_type": "code",
   "execution_count": 1,
   "metadata": {},
   "outputs": [
    {
     "name": "stdout",
     "output_type": "stream",
     "text": [
      "Found 746 files belonging to 2 classes.\n",
      "Found 802 files belonging to 2 classes.\n",
      "Found 2481 files belonging to 2 classes.\n"
     ]
    }
   ],
   "source": [
    "import tensorflow as tf\n",
    "\n",
    "# Import Dataset 1\n",
    "ds_1_CT = tf.keras.preprocessing.image_dataset_from_directory(r'./dataset_1_CT',\n",
    "                                                              image_size=(227, 227),\n",
    "                                                              batch_size=32,\n",
    "                                                              label_mode='categorical')\n",
    "\n",
    "# Import Dataset 2\n",
    "ds_2_CT = tf.keras.preprocessing.image_dataset_from_directory(r'./dataset_2_CT',\n",
    "                                                              image_size=(227, 227),\n",
    "                                                              batch_size=32,\n",
    "                                                              label_mode='categorical')\n",
    "\n",
    "# Import Dataset 3\n",
    "ds_3_CT = tf.keras.preprocessing.image_dataset_from_directory(r'./dataset_3_CT',\n",
    "                                                              image_size=(227, 227),\n",
    "                                                              batch_size=32,\n",
    "                                                              label_mode='categorical')"
   ]
  },
  {
   "cell_type": "markdown",
   "metadata": {},
   "source": [
    "<font color=green>Then we load the models of ResNet trained by the three CT datasets and test them.</font>"
   ]
  },
  {
   "cell_type": "markdown",
   "metadata": {},
   "source": [
    "#### 1. Evaluate ResNet 101 trained by dataset 1"
   ]
  },
  {
   "cell_type": "code",
   "execution_count": 2,
   "metadata": {},
   "outputs": [],
   "source": [
    "# Load ResNet model trained by dataset 1\n",
    "Resnet_101_ds1 = tf.keras.models.load_model('../Resnet_101/Resnet_101_dataset_1')"
   ]
  },
  {
   "cell_type": "code",
   "execution_count": 3,
   "metadata": {},
   "outputs": [
    {
     "name": "stdout",
     "output_type": "stream",
     "text": [
      "24/24 - 8s - loss: 0.3277 - accuracy: 0.8727\n",
      "ResNet 101 of dataset 1 against dataset 1, accuracy: 87.27%\n"
     ]
    }
   ],
   "source": [
    "# Evaluate against dataset 1\n",
    "loss, acc = Resnet_101_ds1.evaluate(ds_1_CT, verbose=2)\n",
    "print('ResNet 101 of dataset 1 against dataset 1, accuracy: {:5.2f}%'.format(100 * acc))"
   ]
  },
  {
   "cell_type": "code",
   "execution_count": 4,
   "metadata": {},
   "outputs": [
    {
     "name": "stdout",
     "output_type": "stream",
     "text": [
      "26/26 - 9s - loss: 0.3135 - accuracy: 0.8716\n",
      "ResNet 101 of dataset 1 against dataset 2, accuracy: 87.16%\n"
     ]
    }
   ],
   "source": [
    "# Evaluate against dataset 2\n",
    "loss, acc = Resnet_101_ds1.evaluate(ds_2_CT, verbose=2)\n",
    "print('ResNet 101 of dataset 1 against dataset 2, accuracy: {:5.2f}%'.format(100 * acc))"
   ]
  },
  {
   "cell_type": "code",
   "execution_count": 5,
   "metadata": {},
   "outputs": [
    {
     "name": "stdout",
     "output_type": "stream",
     "text": [
      "78/78 - 27s - loss: 0.8314 - accuracy: 0.5187\n",
      "ResNet 101 of dataset 1 against dataset 3, accuracy: 51.87%\n"
     ]
    }
   ],
   "source": [
    "# Evaluate against dataset 3\n",
    "loss, acc = Resnet_101_ds1.evaluate(ds_3_CT, verbose=2)\n",
    "print('ResNet 101 of dataset 1 against dataset 3, accuracy: {:5.2f}%'.format(100 * acc))"
   ]
  },
  {
   "cell_type": "markdown",
   "metadata": {},
   "source": [
    "#### 2. Evaluate ResNet 101 trained by dataset 2"
   ]
  },
  {
   "cell_type": "code",
   "execution_count": 6,
   "metadata": {},
   "outputs": [],
   "source": [
    "# Load ResNet model trained by dataset 2\n",
    "Resnet_101_ds2 = tf.keras.models.load_model('../Resnet_101/Resnet_101_dataset_2')"
   ]
  },
  {
   "cell_type": "code",
   "execution_count": 7,
   "metadata": {},
   "outputs": [
    {
     "name": "stdout",
     "output_type": "stream",
     "text": [
      "24/24 - 8s - loss: 0.2915 - accuracy: 0.8954\n",
      "ResNet 101 of dataset 2 against dataset 1, accuracy: 89.54%\n"
     ]
    }
   ],
   "source": [
    "# Evaluate against dataset 1\n",
    "loss, acc = Resnet_101_ds2.evaluate(ds_1_CT, verbose=2)\n",
    "print('ResNet 101 of dataset 2 against dataset 1, accuracy: {:5.2f}%'.format(100 * acc))"
   ]
  },
  {
   "cell_type": "code",
   "execution_count": 8,
   "metadata": {},
   "outputs": [
    {
     "name": "stdout",
     "output_type": "stream",
     "text": [
      "26/26 - 9s - loss: 0.1482 - accuracy: 0.9564\n",
      "ResNet 101 of dataset 2 against dataset 2, accuracy: 95.64%\n"
     ]
    }
   ],
   "source": [
    "# Evaluate against dataset 2\n",
    "loss, acc = Resnet_101_ds2.evaluate(ds_2_CT, verbose=2)\n",
    "print('ResNet 101 of dataset 2 against dataset 2, accuracy: {:5.2f}%'.format(100 * acc))"
   ]
  },
  {
   "cell_type": "code",
   "execution_count": 9,
   "metadata": {},
   "outputs": [
    {
     "name": "stdout",
     "output_type": "stream",
     "text": [
      "78/78 - 27s - loss: 0.9762 - accuracy: 0.4901\n",
      "ResNet 101 of dataset 2 against dataset 3, accuracy: 49.01%\n"
     ]
    }
   ],
   "source": [
    "# Evaluate against dataset 3\n",
    "loss, acc = Resnet_101_ds2.evaluate(ds_3_CT, verbose=2)\n",
    "print('ResNet 101 of dataset 2 against dataset 3, accuracy: {:5.2f}%'.format(100 * acc))"
   ]
  },
  {
   "cell_type": "markdown",
   "metadata": {},
   "source": [
    "#### 3. Evaluate ResNet 101 trained by dataset 3"
   ]
  },
  {
   "cell_type": "code",
   "execution_count": 10,
   "metadata": {},
   "outputs": [],
   "source": [
    "# Load ResNet model trained by dataset 3\n",
    "Resnet_101_ds3 = tf.keras.models.load_model('../Resnet_101/Resnet_101_dataset_3')"
   ]
  },
  {
   "cell_type": "code",
   "execution_count": 11,
   "metadata": {},
   "outputs": [
    {
     "name": "stdout",
     "output_type": "stream",
     "text": [
      "24/24 - 8s - loss: 1.5445 - accuracy: 0.5845\n",
      "ResNet 101 of dataset 3 against dataset 1, accuracy: 58.45%\n"
     ]
    }
   ],
   "source": [
    "# Evaluate against dataset 1\n",
    "loss, acc = Resnet_101_ds3.evaluate(ds_1_CT, verbose=2)\n",
    "print('ResNet 101 of dataset 3 against dataset 1, accuracy: {:5.2f}%'.format(100 * acc))"
   ]
  },
  {
   "cell_type": "code",
   "execution_count": 12,
   "metadata": {},
   "outputs": [
    {
     "name": "stdout",
     "output_type": "stream",
     "text": [
      "26/26 - 9s - loss: 1.3208 - accuracy: 0.6559\n",
      "ResNet 101 of dataset 3 against dataset 2, accuracy: 65.59%\n"
     ]
    }
   ],
   "source": [
    "# Evaluate against dataset 2\n",
    "loss, acc = Resnet_101_ds3.evaluate(ds_2_CT, verbose=2)\n",
    "print('ResNet 101 of dataset 3 against dataset 2, accuracy: {:5.2f}%'.format(100 * acc))"
   ]
  },
  {
   "cell_type": "code",
   "execution_count": 13,
   "metadata": {},
   "outputs": [
    {
     "name": "stdout",
     "output_type": "stream",
     "text": [
      "78/78 - 27s - loss: 0.1485 - accuracy: 0.9532\n",
      "ResNet 101 of dataset 3 against dataset 3, accuracy: 95.32%\n"
     ]
    }
   ],
   "source": [
    "# Evaluate against dataset 3\n",
    "loss, acc = Resnet_101_ds3.evaluate(ds_3_CT, verbose=2)\n",
    "print('ResNet 101 of dataset 3 against dataset 3, accuracy: {:5.2f}%'.format(100 * acc))"
   ]
  },
  {
   "cell_type": "markdown",
   "metadata": {},
   "source": [
    "## Customized ALexNet Testing\n",
    "&nbsp;&nbsp;&nbsp;&nbsp;&nbsp;&nbsp;Now since AlexNet demonestrated approximately equal results to the results of ResNet 101 and Resnet 50, when using datasets 2 and 3, we will have further testing on those models with the different CT datasets."
   ]
  },
  {
   "cell_type": "markdown",
   "metadata": {},
   "source": [
    "<font color=green>Then we load the models of Customized AlexNet trained by the CT datasets 1 and 2 and test them.</font>"
   ]
  },
  {
   "cell_type": "markdown",
   "metadata": {},
   "source": [
    "#### 1. Evaluate Customized AlexNet trained by dataset 2"
   ]
  },
  {
   "cell_type": "code",
   "execution_count": 14,
   "metadata": {},
   "outputs": [],
   "source": [
    "# Load Customized AlexNet model trained by dataset 2\n",
    "Cust_AlexNet_ds2 = tf.keras.models.load_model('../AlexNet/AlexNet_cust_dataset_2')"
   ]
  },
  {
   "cell_type": "code",
   "execution_count": 15,
   "metadata": {},
   "outputs": [
    {
     "name": "stdout",
     "output_type": "stream",
     "text": [
      "24/24 - 2s - loss: 0.2495 - accuracy: 0.9276\n",
      "Customized AlexNet of dataset 2 against dataset 1, accuracy: 92.76%\n"
     ]
    }
   ],
   "source": [
    "# Evaluate against dataset 1\n",
    "loss, acc = Cust_AlexNet_ds2.evaluate(ds_1_CT, verbose=2)\n",
    "print('Customized AlexNet of dataset 2 against dataset 1, accuracy: {:5.2f}%'.format(100 * acc))"
   ]
  },
  {
   "cell_type": "code",
   "execution_count": 16,
   "metadata": {},
   "outputs": [
    {
     "name": "stdout",
     "output_type": "stream",
     "text": [
      "26/26 - 3s - loss: 0.1663 - accuracy: 0.9763\n",
      "Customized AlexNet of dataset 2 against dataset 2, accuracy: 97.63%\n"
     ]
    }
   ],
   "source": [
    "# Evaluate against dataset 2\n",
    "loss, acc = Cust_AlexNet_ds2.evaluate(ds_2_CT, verbose=2)\n",
    "print('Customized AlexNet of dataset 2 against dataset 2, accuracy: {:5.2f}%'.format(100 * acc))"
   ]
  },
  {
   "cell_type": "code",
   "execution_count": 17,
   "metadata": {},
   "outputs": [
    {
     "name": "stdout",
     "output_type": "stream",
     "text": [
      "78/78 - 8s - loss: 0.9369 - accuracy: 0.4458\n",
      "Customized AlexNet of dataset 2 against dataset 3, accuracy: 44.58%\n"
     ]
    }
   ],
   "source": [
    "# Evaluate against dataset 3\n",
    "loss, acc = Cust_AlexNet_ds2.evaluate(ds_3_CT, verbose=2)\n",
    "print('Customized AlexNet of dataset 2 against dataset 3, accuracy: {:5.2f}%'.format(100 * acc))"
   ]
  },
  {
   "cell_type": "markdown",
   "metadata": {},
   "source": [
    "#### 2. Evaluate Customized AlexNet trained by dataset 3"
   ]
  },
  {
   "cell_type": "code",
   "execution_count": 18,
   "metadata": {},
   "outputs": [],
   "source": [
    "# Load Customized AlexNet model trained by dataset 3\n",
    "Cust_AlexNet_ds3 = tf.keras.models.load_model('../AlexNet/AlexNet_cust_dataset_3')"
   ]
  },
  {
   "cell_type": "code",
   "execution_count": 19,
   "metadata": {},
   "outputs": [
    {
     "name": "stdout",
     "output_type": "stream",
     "text": [
      "24/24 - 2s - loss: 0.9968 - accuracy: 0.5563\n",
      "Customized AlexNet of dataset 3 against dataset 1, accuracy: 55.63%\n"
     ]
    }
   ],
   "source": [
    "# Evaluate against dataset 1\n",
    "loss, acc = Cust_AlexNet_ds3.evaluate(ds_1_CT, verbose=2)\n",
    "print('Customized AlexNet of dataset 3 against dataset 1, accuracy: {:5.2f}%'.format(100 * acc))"
   ]
  },
  {
   "cell_type": "code",
   "execution_count": 20,
   "metadata": {},
   "outputs": [
    {
     "name": "stdout",
     "output_type": "stream",
     "text": [
      "26/26 - 3s - loss: 0.8767 - accuracy: 0.6185\n",
      "Customized AlexNet of dataset 3 against dataset 2, accuracy: 61.85%\n"
     ]
    }
   ],
   "source": [
    "# Evaluate against dataset 2\n",
    "loss, acc = Cust_AlexNet_ds3.evaluate(ds_2_CT, verbose=2)\n",
    "print('Customized AlexNet of dataset 3 against dataset 2, accuracy: {:5.2f}%'.format(100 * acc))"
   ]
  },
  {
   "cell_type": "code",
   "execution_count": 21,
   "metadata": {},
   "outputs": [
    {
     "name": "stdout",
     "output_type": "stream",
     "text": [
      "78/78 - 8s - loss: 0.1178 - accuracy: 0.9851\n",
      "Customized AlexNet of dataset 3 against dataset 3, accuracy: 98.51%\n"
     ]
    }
   ],
   "source": [
    "# Evaluate against dataset 3\n",
    "loss, acc = Cust_AlexNet_ds3.evaluate(ds_3_CT, verbose=2)\n",
    "print('Customized AlexNet of dataset 3 against dataset 3, accuracy: {:5.2f}%'.format(100 * acc))"
   ]
  },
  {
   "cell_type": "markdown",
   "metadata": {},
   "source": [
    "## Observations\n",
    "<ul>\n",
    "    <li>Testing those two models of Customized AlexNet trained by datasets 1 and 2, demonestrated beter results than the ResNet 101 model trained by the same datasets.</li>\n",
    "    <li>The conflict between the datasets 1 and 2 and dataset 3 is still the same by this model.</li>\n",
    "</ul>"
   ]
  },
  {
   "cell_type": "markdown",
   "metadata": {},
   "source": [
    "## Conclusion\n",
    "<ul>\n",
    "    <li>Customized AlexNet Trained by either dataset 2 or 3, gives the best results among (Standard AlexNet, ResNet50 and ResNet 101)\n",
    "<ul>"
   ]
  },
  {
   "cell_type": "markdown",
   "metadata": {},
   "source": [
    "------------------------------------------"
   ]
  },
  {
   "cell_type": "markdown",
   "metadata": {},
   "source": [
    "# Summary"
   ]
  },
  {
   "cell_type": "markdown",
   "metadata": {},
   "source": [
    "<ul>\n",
    "    <li>Dataset 4 (X-ray) is quite small and not good enough for training.</li>\n",
    "    <li>AlexNet works beter with \"SGD\" optimizer rather than \"Adam\" optimizer.</li>\n",
    "    <li> Customizing AlexNet by normalizing the input, adding batch normalization, and dropout layer helped in improving the results</li>\n",
    "    <li>Even though the Customized AlexNet is much simpler and has much more less learning time than both the ResNet 50 and the ResNet 101, it still demonestrated beter results for detecting Covid-19.</li>\n",
    "    <li>A conflict appears between datasets 1 and 2 and dataset 3. Nevertheless, it is quite plausible to mix all the data and observe the results when training Customized AlexNet and ResNet 101.</li>\n",
    "<ul>\n",
    "    "
   ]
  },
  {
   "cell_type": "markdown",
   "metadata": {},
   "source": [
    "### Accuracies of Customized AlexNet vs ResNet 101 (When Trained By Dataset 2)"
   ]
  },
  {
   "cell_type": "markdown",
   "metadata": {},
   "source": [
    "<table style=\"width:100%\">    \n",
    "    <tr>\n",
    "        <th></th>\n",
    "        <th><center>Customized AlexNet</center></th>\n",
    "        <th><center>ResNet 101</center></th>\n",
    "    </tr>\n",
    "    <tr>\n",
    "        <th><center>Validation Accuracy</center></th>\n",
    "        <td><center>98.86%</center></td>\n",
    "        <td><center>97.55%</center></td>\n",
    "    </tr>\n",
    "    <tr>\n",
    "        <th><center>Test Accuracy (tested by 10% of dataset 2)</center></th>\n",
    "        <td><center>90.01%</center></td>\n",
    "        <td><center>91.21%</center></td>\n",
    "    </tr>\n",
    "    <tr>\n",
    "        <th><center>Test by dataset 1 (the whole dataset)</center></th>\n",
    "        <td><center>92.76%</center></td>\n",
    "        <td><center>89.54%</center></td>\n",
    "    </tr>\n",
    "    <tr>\n",
    "        <th><center>Test by dataset 2 (the whole dataset)</center></th>\n",
    "        <td><center>97.63%</center></td>\n",
    "        <td><center>95.64%</center></td>\n",
    "    </tr>\n",
    "    <tr>\n",
    "        <th><center>Test by dataset 3 (the whole dataset)</center></th>\n",
    "        <td><center>44.58%</center></td>\n",
    "        <td><center>49.01%</center></td>\n",
    "    </tr>\n",
    "</table>"
   ]
  },
  {
   "cell_type": "markdown",
   "metadata": {},
   "source": [
    "### Accuracies of Customized AlexNet vs ResNet 101 (When Trained By Dataset 3)"
   ]
  },
  {
   "cell_type": "markdown",
   "metadata": {},
   "source": [
    "<table style=\"width:100%\">    \n",
    "    <tr>\n",
    "        <th></th>\n",
    "        <th><center>Customized AlexNet</center></th>\n",
    "        <th><center>ResNet 101</center></th>\n",
    "    </tr>\n",
    "    <tr>\n",
    "        <th><center>Validation Accuracy</center></th>\n",
    "        <td><center>95.07%</center></td>\n",
    "        <td><center>96.92%</center></td>\n",
    "    </tr>\n",
    "    <tr>\n",
    "        <th><center>Test Accuracy (tested by 10% of dataset 3)</center></th>\n",
    "        <td><center>93.95%</center></td>\n",
    "        <td><center>91.94%</center></td>\n",
    "    </tr>\n",
    "    <tr>\n",
    "        <th><center>Test by dataset 1 (the whole dataset)</center></th>\n",
    "        <td><center>55.63%</center></td>\n",
    "        <td><center>58.45%</center></td>\n",
    "    </tr>\n",
    "    <tr>\n",
    "        <th><center>Test by dataset 2 (the whole dataset)</center></th>\n",
    "        <td><center>61.85%</center></td>\n",
    "        <td><center>65.59%</center></td>\n",
    "    </tr>\n",
    "    <tr>\n",
    "        <th><center>Test by dataset 3 (the whole dataset)</center></th>\n",
    "        <td><center>98.51%</center></td>\n",
    "        <td><center>95.32%</center></td>\n",
    "    </tr>\n",
    "</table>"
   ]
  },
  {
   "cell_type": "markdown",
   "metadata": {},
   "source": [
    "---------------------------------------\n",
    "# <font color=red>Update</font>"
   ]
  },
  {
   "cell_type": "markdown",
   "metadata": {},
   "source": [
    "## ResNet 101 and Customized AlexNet Results with mixed datasets\n",
    "&nbsp;&nbsp;&nbsp;&nbsp;&nbsp;&nbsp;Now we have mixed the all three CT datasets (1, 2, and 3), and trained our best two models with them."
   ]
  },
  {
   "cell_type": "markdown",
   "metadata": {},
   "source": [
    "### 1. Customized AlexNet\n",
    "In this model we used \"SGD\" optimizer (lr=0.0001, momentum=0.9), and the three CT datasets mixed together to train and test the model (90% training and validation, 10% Testing).\n",
    "###### Model Training Code: https://github.com/Mostafa-Farghly/Covid-19-Detection-With-Deep-Learning/blob/main/AlexNet/AlexNet-CT-mix.ipynb"
   ]
  },
  {
   "cell_type": "markdown",
   "metadata": {},
   "source": [
    "![image](./AlexNet/AlexNet_CT_mix.png)"
   ]
  },
  {
   "cell_type": "markdown",
   "metadata": {},
   "source": [
    "After 50 epochs:\n",
    "<ul>\n",
    "  <li>Training Accuracy = 0.9864</li>\n",
    "  <li>Validation Accuracy = 0.9380</li>\n",
    "  <li>Testing Accuracy = 0.8967</li>\n",
    "</ul>"
   ]
  },
  {
   "cell_type": "markdown",
   "metadata": {},
   "source": [
    "### 1. ResNet 101\n",
    "In this model we used \"SGD\" optimizer (lr=0.0001, momentum=0.9), and the three CT datasets mixed together to train and test the model (90% training and validation, 10% Testing).\n",
    "###### Model Training Code: https://github.com/Mostafa-Farghly/Covid-19-Detection-With-Deep-Learning/blob/main/ResNet_101/ResNet-101-CT-mix.ipynb"
   ]
  },
  {
   "cell_type": "markdown",
   "metadata": {},
   "source": [
    "![image](./ResNet_101/Resnet_101_ct_mix.png)"
   ]
  },
  {
   "cell_type": "markdown",
   "metadata": {},
   "source": [
    "After 50 epochs:\n",
    "<ul>\n",
    "  <li>Training Accuracy = 0.9347</li>\n",
    "  <li>Validation Accuracy = 0.8597</li>\n",
    "  <li>Testing Accuracy = 0.8487</li>\n",
    "</ul>"
   ]
  },
  {
   "cell_type": "markdown",
   "metadata": {},
   "source": [
    "### Opservation:\n",
    "&nbsp;&nbsp;&nbsp;&nbsp;&nbsp;&nbsp;Agian, the customized AlexNet model outperforms the ResNet 101 model."
   ]
  }
 ],
 "metadata": {
  "kernelspec": {
   "display_name": "Python 3",
   "language": "python",
   "name": "python3"
  },
  "language_info": {
   "codemirror_mode": {
    "name": "ipython",
    "version": 3
   },
   "file_extension": ".py",
   "mimetype": "text/x-python",
   "name": "python",
   "nbconvert_exporter": "python",
   "pygments_lexer": "ipython3",
   "version": "3.7.4"
  }
 },
 "nbformat": 4,
 "nbformat_minor": 2
}
