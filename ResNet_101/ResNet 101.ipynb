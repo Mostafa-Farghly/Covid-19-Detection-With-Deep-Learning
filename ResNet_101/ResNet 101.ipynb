{
 "cells": [
  {
   "cell_type": "code",
   "execution_count": 1,
   "metadata": {},
   "outputs": [],
   "source": [
    "import tensorflow as tf\n",
    "from tensorflow import keras\n",
    "from tensorflow.keras.layers import Dense, GlobalAveragePooling2D\n",
    "from tensorflow.keras.models import Model\n",
    "from tensorflow.keras.applications.resnet import ResNet101\n",
    "from tensorflow.keras.optimizers import SGD\n",
    "import PIL"
   ]
  },
  {
   "cell_type": "markdown",
   "metadata": {},
   "source": [
    "### Building The Model"
   ]
  },
  {
   "cell_type": "code",
   "execution_count": 2,
   "metadata": {},
   "outputs": [],
   "source": [
    "# Download the architecture of ResNet101 with ImageNet weights\n",
    "base_model = ResNet101(include_top=False, weights='imagenet')\n",
    " \n",
    "# Taking the output of the last convolution block in ResNet50\n",
    "x = base_model.output\n",
    " \n",
    "# Adding a Global Average Pooling layer\n",
    "x = GlobalAveragePooling2D()(x)\n",
    " \n",
    "# Adding a fully connected layer having 1024 neurons\n",
    "x = Dense(1024, activation='relu')(x)\n",
    " \n",
    "# Adding a fully connected layer having 2 neurons which will\n",
    "# give the probability of image having either dog or cat\n",
    "predictions = Dense(2, activation='softmax')(x)\n",
    " \n",
    "# Model to be trained\n",
    "model = Model(inputs=base_model.input, outputs=predictions)\n",
    " \n",
    "# Training only top layers i.e. the layers which we have added in the end\n",
    "for layer in base_model.layers:\n",
    "    layer.trainable = False"
   ]
  },
  {
   "cell_type": "code",
   "execution_count": 3,
   "metadata": {},
   "outputs": [],
   "source": [
    "# Compiling the model\n",
    "model.compile(optimizer=SGD(lr=0.0001, momentum=0.9), loss='categorical_crossentropy', metrics = ['accuracy'])"
   ]
  },
  {
   "cell_type": "markdown",
   "metadata": {},
   "source": [
    "### Dataset 1"
   ]
  },
  {
   "cell_type": "code",
   "execution_count": 4,
   "metadata": {},
   "outputs": [
    {
     "name": "stdout",
     "output_type": "stream",
     "text": [
      "Found 425 files belonging to 2 classes.\n",
      "Found 118 files belonging to 2 classes.\n",
      "Found 203 files belonging to 2 classes.\n"
     ]
    }
   ],
   "source": [
    "train_ds = keras.preprocessing.image_dataset_from_directory( r'../datasets/ct-sub-datasets/train',\n",
    "                                                               image_size=(227, 227),\n",
    "                                                               batch_size=32,\n",
    "                                                               label_mode='categorical')\n",
    "\n",
    "val_ds = keras.preprocessing.image_dataset_from_directory( r'../datasets/ct-sub-datasets/val/',\n",
    "                                                             image_size=(227, 227),\n",
    "                                                             batch_size=32,\n",
    "                                                             label_mode='categorical')\n",
    "\n",
    "test_ds = keras.preprocessing.image_dataset_from_directory( r'../datasets/ct-sub-datasets/test/',\n",
    "                                                             image_size=(227, 227),\n",
    "                                                             batch_size=32,\n",
    "                                                             label_mode='categorical')"
   ]
  },
  {
   "cell_type": "code",
   "execution_count": 5,
   "metadata": {},
   "outputs": [
    {
     "name": "stdout",
     "output_type": "stream",
     "text": [
      "Epoch 1/80\n",
      "14/14 [==============================] - 8s 553ms/step - loss: 0.7512 - accuracy: 0.5365 - val_loss: 0.7262 - val_accuracy: 0.4831\n",
      "Epoch 2/80\n",
      "14/14 [==============================] - 5s 391ms/step - loss: 0.6476 - accuracy: 0.6259 - val_loss: 0.7202 - val_accuracy: 0.5593\n",
      "Epoch 3/80\n",
      "14/14 [==============================] - 5s 392ms/step - loss: 0.5791 - accuracy: 0.6988 - val_loss: 0.7047 - val_accuracy: 0.6271\n",
      "Epoch 4/80\n",
      "14/14 [==============================] - 5s 392ms/step - loss: 0.5456 - accuracy: 0.7365 - val_loss: 0.6987 - val_accuracy: 0.6356\n",
      "Epoch 5/80\n",
      "14/14 [==============================] - 6s 393ms/step - loss: 0.5170 - accuracy: 0.7553 - val_loss: 0.6917 - val_accuracy: 0.6271\n",
      "Epoch 6/80\n",
      "14/14 [==============================] - 6s 393ms/step - loss: 0.4986 - accuracy: 0.7671 - val_loss: 0.6911 - val_accuracy: 0.6186\n",
      "Epoch 7/80\n",
      "14/14 [==============================] - 6s 394ms/step - loss: 0.4862 - accuracy: 0.7694 - val_loss: 0.6818 - val_accuracy: 0.5932\n",
      "Epoch 8/80\n",
      "14/14 [==============================] - 6s 394ms/step - loss: 0.4659 - accuracy: 0.7929 - val_loss: 0.6763 - val_accuracy: 0.6102\n",
      "Epoch 9/80\n",
      "14/14 [==============================] - 6s 394ms/step - loss: 0.4550 - accuracy: 0.8141 - val_loss: 0.6727 - val_accuracy: 0.6186\n",
      "Epoch 10/80\n",
      "14/14 [==============================] - 6s 394ms/step - loss: 0.4411 - accuracy: 0.8165 - val_loss: 0.6662 - val_accuracy: 0.6271\n",
      "Epoch 11/80\n",
      "14/14 [==============================] - 6s 395ms/step - loss: 0.4372 - accuracy: 0.8024 - val_loss: 0.6630 - val_accuracy: 0.6441\n",
      "Epoch 12/80\n",
      "14/14 [==============================] - 6s 394ms/step - loss: 0.4270 - accuracy: 0.8118 - val_loss: 0.6569 - val_accuracy: 0.6356\n",
      "Epoch 13/80\n",
      "14/14 [==============================] - 6s 394ms/step - loss: 0.4127 - accuracy: 0.8259 - val_loss: 0.6564 - val_accuracy: 0.6525\n",
      "Epoch 14/80\n",
      "14/14 [==============================] - 6s 394ms/step - loss: 0.4116 - accuracy: 0.8235 - val_loss: 0.6442 - val_accuracy: 0.6356\n",
      "Epoch 15/80\n",
      "14/14 [==============================] - 6s 395ms/step - loss: 0.3986 - accuracy: 0.8353 - val_loss: 0.6394 - val_accuracy: 0.6356\n",
      "Epoch 16/80\n",
      "14/14 [==============================] - 6s 396ms/step - loss: 0.3882 - accuracy: 0.8306 - val_loss: 0.6473 - val_accuracy: 0.6610\n",
      "Epoch 17/80\n",
      "14/14 [==============================] - 6s 394ms/step - loss: 0.3791 - accuracy: 0.8376 - val_loss: 0.6498 - val_accuracy: 0.6780\n",
      "Epoch 18/80\n",
      "14/14 [==============================] - 6s 395ms/step - loss: 0.3708 - accuracy: 0.8376 - val_loss: 0.6397 - val_accuracy: 0.6610\n",
      "Epoch 19/80\n",
      "14/14 [==============================] - 6s 394ms/step - loss: 0.3660 - accuracy: 0.8447 - val_loss: 0.6385 - val_accuracy: 0.6610\n",
      "Epoch 20/80\n",
      "14/14 [==============================] - 6s 395ms/step - loss: 0.3743 - accuracy: 0.8424 - val_loss: 0.6397 - val_accuracy: 0.6780\n",
      "Epoch 21/80\n",
      "14/14 [==============================] - 6s 393ms/step - loss: 0.3583 - accuracy: 0.8659 - val_loss: 0.6418 - val_accuracy: 0.6780\n",
      "Epoch 22/80\n",
      "14/14 [==============================] - 6s 396ms/step - loss: 0.3460 - accuracy: 0.8565 - val_loss: 0.6309 - val_accuracy: 0.6864\n",
      "Epoch 23/80\n",
      "14/14 [==============================] - 6s 394ms/step - loss: 0.3412 - accuracy: 0.8635 - val_loss: 0.6335 - val_accuracy: 0.6864\n",
      "Epoch 24/80\n",
      "14/14 [==============================] - 6s 395ms/step - loss: 0.3351 - accuracy: 0.8612 - val_loss: 0.6365 - val_accuracy: 0.6864\n",
      "Epoch 25/80\n",
      "14/14 [==============================] - 6s 396ms/step - loss: 0.3340 - accuracy: 0.8729 - val_loss: 0.6345 - val_accuracy: 0.6949\n",
      "Epoch 26/80\n",
      "14/14 [==============================] - 6s 395ms/step - loss: 0.3258 - accuracy: 0.8612 - val_loss: 0.6302 - val_accuracy: 0.6864\n",
      "Epoch 27/80\n",
      "14/14 [==============================] - 6s 395ms/step - loss: 0.3224 - accuracy: 0.8729 - val_loss: 0.6386 - val_accuracy: 0.6864\n",
      "Epoch 28/80\n",
      "14/14 [==============================] - 6s 394ms/step - loss: 0.3195 - accuracy: 0.8776 - val_loss: 0.6317 - val_accuracy: 0.6864\n",
      "Epoch 29/80\n",
      "14/14 [==============================] - 6s 394ms/step - loss: 0.3127 - accuracy: 0.8871 - val_loss: 0.6386 - val_accuracy: 0.6864\n",
      "Epoch 30/80\n",
      "14/14 [==============================] - 6s 395ms/step - loss: 0.3107 - accuracy: 0.8729 - val_loss: 0.6221 - val_accuracy: 0.6864\n",
      "Epoch 31/80\n",
      "14/14 [==============================] - 6s 394ms/step - loss: 0.3063 - accuracy: 0.8894 - val_loss: 0.6375 - val_accuracy: 0.6949\n",
      "Epoch 32/80\n",
      "14/14 [==============================] - 6s 395ms/step - loss: 0.3022 - accuracy: 0.8871 - val_loss: 0.6237 - val_accuracy: 0.6780\n",
      "Epoch 33/80\n",
      "14/14 [==============================] - 6s 396ms/step - loss: 0.3001 - accuracy: 0.8847 - val_loss: 0.6270 - val_accuracy: 0.6780\n",
      "Epoch 34/80\n",
      "14/14 [==============================] - 6s 395ms/step - loss: 0.2956 - accuracy: 0.8941 - val_loss: 0.6187 - val_accuracy: 0.6864\n",
      "Epoch 35/80\n",
      "14/14 [==============================] - 6s 396ms/step - loss: 0.2931 - accuracy: 0.8941 - val_loss: 0.6221 - val_accuracy: 0.6864\n",
      "Epoch 36/80\n",
      "14/14 [==============================] - 6s 395ms/step - loss: 0.2885 - accuracy: 0.9059 - val_loss: 0.6187 - val_accuracy: 0.6949\n",
      "Epoch 37/80\n",
      "14/14 [==============================] - 6s 398ms/step - loss: 0.2831 - accuracy: 0.9059 - val_loss: 0.6138 - val_accuracy: 0.6864\n",
      "Epoch 38/80\n",
      "14/14 [==============================] - 6s 397ms/step - loss: 0.2803 - accuracy: 0.9082 - val_loss: 0.6166 - val_accuracy: 0.6949\n",
      "Epoch 39/80\n",
      "14/14 [==============================] - 6s 396ms/step - loss: 0.2772 - accuracy: 0.9106 - val_loss: 0.6123 - val_accuracy: 0.6864\n",
      "Epoch 40/80\n",
      "14/14 [==============================] - 6s 395ms/step - loss: 0.2753 - accuracy: 0.9129 - val_loss: 0.6181 - val_accuracy: 0.6864\n",
      "Epoch 41/80\n",
      "14/14 [==============================] - 6s 395ms/step - loss: 0.2758 - accuracy: 0.9035 - val_loss: 0.6226 - val_accuracy: 0.6864\n",
      "Epoch 42/80\n",
      "14/14 [==============================] - 6s 396ms/step - loss: 0.2695 - accuracy: 0.9129 - val_loss: 0.6087 - val_accuracy: 0.6949\n",
      "Epoch 43/80\n",
      "14/14 [==============================] - 6s 396ms/step - loss: 0.2671 - accuracy: 0.9129 - val_loss: 0.6204 - val_accuracy: 0.6780\n",
      "Epoch 44/80\n",
      "14/14 [==============================] - 6s 398ms/step - loss: 0.2617 - accuracy: 0.9153 - val_loss: 0.6066 - val_accuracy: 0.6949\n",
      "Epoch 45/80\n",
      "14/14 [==============================] - 6s 401ms/step - loss: 0.2620 - accuracy: 0.9106 - val_loss: 0.6099 - val_accuracy: 0.6949\n",
      "Epoch 46/80\n",
      "14/14 [==============================] - 6s 399ms/step - loss: 0.2578 - accuracy: 0.9247 - val_loss: 0.6075 - val_accuracy: 0.6864\n",
      "Epoch 47/80\n",
      "14/14 [==============================] - 6s 399ms/step - loss: 0.2535 - accuracy: 0.9247 - val_loss: 0.6058 - val_accuracy: 0.6949\n",
      "Epoch 48/80\n",
      "14/14 [==============================] - 6s 397ms/step - loss: 0.2522 - accuracy: 0.9224 - val_loss: 0.6115 - val_accuracy: 0.6949\n",
      "Epoch 49/80\n",
      "14/14 [==============================] - 6s 399ms/step - loss: 0.2523 - accuracy: 0.9341 - val_loss: 0.6025 - val_accuracy: 0.6949\n",
      "Epoch 50/80\n",
      "14/14 [==============================] - 6s 398ms/step - loss: 0.2469 - accuracy: 0.9247 - val_loss: 0.6041 - val_accuracy: 0.7034\n",
      "Epoch 51/80\n",
      "14/14 [==============================] - 6s 398ms/step - loss: 0.2448 - accuracy: 0.9318 - val_loss: 0.6099 - val_accuracy: 0.7034\n",
      "Epoch 52/80\n",
      "14/14 [==============================] - 6s 396ms/step - loss: 0.2414 - accuracy: 0.9247 - val_loss: 0.6059 - val_accuracy: 0.7034\n",
      "Epoch 53/80\n",
      "14/14 [==============================] - 6s 398ms/step - loss: 0.2422 - accuracy: 0.9365 - val_loss: 0.6054 - val_accuracy: 0.6949\n",
      "Epoch 54/80\n",
      "14/14 [==============================] - 6s 401ms/step - loss: 0.2369 - accuracy: 0.9271 - val_loss: 0.6088 - val_accuracy: 0.7034\n",
      "Epoch 55/80\n",
      "14/14 [==============================] - 6s 401ms/step - loss: 0.2339 - accuracy: 0.9388 - val_loss: 0.6033 - val_accuracy: 0.6949\n",
      "Epoch 56/80\n",
      "14/14 [==============================] - 6s 398ms/step - loss: 0.2323 - accuracy: 0.9459 - val_loss: 0.6069 - val_accuracy: 0.6949\n",
      "Epoch 57/80\n",
      "14/14 [==============================] - 6s 399ms/step - loss: 0.2306 - accuracy: 0.9459 - val_loss: 0.6049 - val_accuracy: 0.6949\n",
      "Epoch 58/80\n"
     ]
    },
    {
     "name": "stdout",
     "output_type": "stream",
     "text": [
      "14/14 [==============================] - 6s 396ms/step - loss: 0.2293 - accuracy: 0.9341 - val_loss: 0.6109 - val_accuracy: 0.7034\n",
      "Epoch 59/80\n",
      "14/14 [==============================] - 6s 396ms/step - loss: 0.2258 - accuracy: 0.9459 - val_loss: 0.6032 - val_accuracy: 0.7034\n",
      "Epoch 60/80\n",
      "14/14 [==============================] - 6s 397ms/step - loss: 0.2245 - accuracy: 0.9482 - val_loss: 0.6049 - val_accuracy: 0.6949\n",
      "Epoch 61/80\n",
      "14/14 [==============================] - 6s 397ms/step - loss: 0.2221 - accuracy: 0.9435 - val_loss: 0.6082 - val_accuracy: 0.7034\n",
      "Epoch 62/80\n",
      "14/14 [==============================] - 6s 397ms/step - loss: 0.2203 - accuracy: 0.9341 - val_loss: 0.6104 - val_accuracy: 0.6949\n",
      "Epoch 63/80\n",
      "14/14 [==============================] - 6s 398ms/step - loss: 0.2206 - accuracy: 0.9435 - val_loss: 0.6068 - val_accuracy: 0.6949\n",
      "Epoch 64/80\n",
      "14/14 [==============================] - 6s 396ms/step - loss: 0.2183 - accuracy: 0.9341 - val_loss: 0.6107 - val_accuracy: 0.6864\n",
      "Epoch 65/80\n",
      "14/14 [==============================] - 6s 399ms/step - loss: 0.2146 - accuracy: 0.9506 - val_loss: 0.6046 - val_accuracy: 0.6949\n",
      "Epoch 66/80\n",
      "14/14 [==============================] - 6s 397ms/step - loss: 0.2124 - accuracy: 0.9459 - val_loss: 0.6081 - val_accuracy: 0.6949\n",
      "Epoch 67/80\n",
      "14/14 [==============================] - 6s 400ms/step - loss: 0.2117 - accuracy: 0.9482 - val_loss: 0.6047 - val_accuracy: 0.7034\n",
      "Epoch 68/80\n",
      "14/14 [==============================] - 6s 398ms/step - loss: 0.2158 - accuracy: 0.9459 - val_loss: 0.6002 - val_accuracy: 0.7119\n",
      "Epoch 69/80\n",
      "14/14 [==============================] - 6s 397ms/step - loss: 0.2073 - accuracy: 0.9529 - val_loss: 0.6129 - val_accuracy: 0.6864\n",
      "Epoch 70/80\n",
      "14/14 [==============================] - 6s 395ms/step - loss: 0.2062 - accuracy: 0.9506 - val_loss: 0.6027 - val_accuracy: 0.7119\n",
      "Epoch 71/80\n",
      "14/14 [==============================] - 6s 397ms/step - loss: 0.2043 - accuracy: 0.9482 - val_loss: 0.6036 - val_accuracy: 0.7119\n",
      "Epoch 72/80\n",
      "14/14 [==============================] - 6s 396ms/step - loss: 0.2059 - accuracy: 0.9529 - val_loss: 0.6038 - val_accuracy: 0.6949\n",
      "Epoch 73/80\n",
      "14/14 [==============================] - 6s 397ms/step - loss: 0.2015 - accuracy: 0.9506 - val_loss: 0.5968 - val_accuracy: 0.7119\n",
      "Epoch 74/80\n",
      "14/14 [==============================] - 6s 399ms/step - loss: 0.1988 - accuracy: 0.9576 - val_loss: 0.6054 - val_accuracy: 0.7034\n",
      "Epoch 75/80\n",
      "14/14 [==============================] - 6s 400ms/step - loss: 0.1989 - accuracy: 0.9600 - val_loss: 0.6001 - val_accuracy: 0.7119\n",
      "Epoch 76/80\n",
      "14/14 [==============================] - 6s 398ms/step - loss: 0.1988 - accuracy: 0.9459 - val_loss: 0.5990 - val_accuracy: 0.7119\n",
      "Epoch 77/80\n",
      "14/14 [==============================] - 6s 396ms/step - loss: 0.1985 - accuracy: 0.9600 - val_loss: 0.6082 - val_accuracy: 0.6949\n",
      "Epoch 78/80\n",
      "14/14 [==============================] - 6s 396ms/step - loss: 0.1926 - accuracy: 0.9600 - val_loss: 0.6001 - val_accuracy: 0.7119\n",
      "Epoch 79/80\n",
      "14/14 [==============================] - 6s 399ms/step - loss: 0.1917 - accuracy: 0.9553 - val_loss: 0.6000 - val_accuracy: 0.7119\n",
      "Epoch 80/80\n",
      "14/14 [==============================] - 6s 400ms/step - loss: 0.1897 - accuracy: 0.9600 - val_loss: 0.6061 - val_accuracy: 0.7034\n"
     ]
    }
   ],
   "source": [
    "results = model.fit(\n",
    "    train_ds,\n",
    "    batch_size = 32,\n",
    "    epochs = 80,\n",
    "    validation_data = val_ds,\n",
    "    verbose=1,\n",
    ")"
   ]
  },
  {
   "cell_type": "code",
   "execution_count": 6,
   "metadata": {},
   "outputs": [
    {
     "data": {
      "image/png": "[encoded data removed]",
      "text/plain": [
       "<Figure size 432x288 with 1 Axes>"
      ]
     },
     "metadata": {
      "needs_background": "light"
     },
     "output_type": "display_data"
    }
   ],
   "source": [
    "results.history.keys()\n",
    "import matplotlib.pyplot as plt\n",
    "%matplotlib inline\n",
    "plt.plot(results.history['loss'][1:])\n",
    "plt.plot(results.history['val_loss'][1:])\n",
    "plt.legend(['Training', 'Validation'])\n",
    "plt.title('Training and Validation losses')\n",
    "plt.xlabel('epoch')\n",
    "plt.savefig(\"./Resnet_101_ds_1.png\")"
   ]
  },
  {
   "cell_type": "code",
   "execution_count": 7,
   "metadata": {},
   "outputs": [],
   "source": [
    "# We will try to train the last stage of ResNet50\n",
    "for layer in base_model.layers[0:143]:\n",
    "  layer.trainable = False\n",
    " \n",
    "for layer in base_model.layers[143:]:\n",
    "  layer.trainable = True"
   ]
  },
  {
   "cell_type": "code",
   "execution_count": 8,
   "metadata": {},
   "outputs": [
    {
     "name": "stdout",
     "output_type": "stream",
     "text": [
      "Epoch 1/20\n",
      "14/14 [==============================] - 6s 402ms/step - loss: 0.1888 - accuracy: 0.9576 - val_loss: 0.5961 - val_accuracy: 0.7119\n",
      "Epoch 2/20\n",
      "14/14 [==============================] - 6s 409ms/step - loss: 0.1901 - accuracy: 0.9647 - val_loss: 0.6022 - val_accuracy: 0.7119\n",
      "Epoch 3/20\n",
      "14/14 [==============================] - 6s 399ms/step - loss: 0.1861 - accuracy: 0.9576 - val_loss: 0.5999 - val_accuracy: 0.7119\n",
      "Epoch 4/20\n",
      "14/14 [==============================] - 6s 404ms/step - loss: 0.1842 - accuracy: 0.9624 - val_loss: 0.6036 - val_accuracy: 0.7034\n",
      "Epoch 5/20\n",
      "14/14 [==============================] - 6s 398ms/step - loss: 0.1829 - accuracy: 0.9600 - val_loss: 0.6062 - val_accuracy: 0.7034\n",
      "Epoch 6/20\n",
      "14/14 [==============================] - 6s 404ms/step - loss: 0.1813 - accuracy: 0.9600 - val_loss: 0.5995 - val_accuracy: 0.7119\n",
      "Epoch 7/20\n",
      "14/14 [==============================] - 6s 403ms/step - loss: 0.1800 - accuracy: 0.9624 - val_loss: 0.5996 - val_accuracy: 0.7119\n",
      "Epoch 8/20\n",
      "14/14 [==============================] - 6s 399ms/step - loss: 0.1793 - accuracy: 0.9624 - val_loss: 0.6021 - val_accuracy: 0.7119\n",
      "Epoch 9/20\n",
      "14/14 [==============================] - 6s 399ms/step - loss: 0.1779 - accuracy: 0.9600 - val_loss: 0.6006 - val_accuracy: 0.7119\n",
      "Epoch 10/20\n",
      "14/14 [==============================] - 6s 399ms/step - loss: 0.1769 - accuracy: 0.9647 - val_loss: 0.5989 - val_accuracy: 0.7119\n",
      "Epoch 11/20\n",
      "14/14 [==============================] - 6s 399ms/step - loss: 0.1751 - accuracy: 0.9624 - val_loss: 0.6014 - val_accuracy: 0.7119\n",
      "Epoch 12/20\n",
      "14/14 [==============================] - 6s 399ms/step - loss: 0.1736 - accuracy: 0.9624 - val_loss: 0.5985 - val_accuracy: 0.7119\n",
      "Epoch 13/20\n",
      "14/14 [==============================] - 6s 404ms/step - loss: 0.1726 - accuracy: 0.9624 - val_loss: 0.5994 - val_accuracy: 0.7119\n",
      "Epoch 14/20\n",
      "14/14 [==============================] - 6s 402ms/step - loss: 0.1715 - accuracy: 0.9647 - val_loss: 0.5971 - val_accuracy: 0.7119\n",
      "Epoch 15/20\n",
      "14/14 [==============================] - 6s 403ms/step - loss: 0.1722 - accuracy: 0.9624 - val_loss: 0.5936 - val_accuracy: 0.7119\n",
      "Epoch 16/20\n",
      "14/14 [==============================] - 6s 417ms/step - loss: 0.1687 - accuracy: 0.9718 - val_loss: 0.6058 - val_accuracy: 0.7034\n",
      "Epoch 17/20\n",
      "14/14 [==============================] - 6s 415ms/step - loss: 0.1677 - accuracy: 0.9694 - val_loss: 0.5980 - val_accuracy: 0.7119\n",
      "Epoch 18/20\n",
      "14/14 [==============================] - 6s 428ms/step - loss: 0.1663 - accuracy: 0.9671 - val_loss: 0.5960 - val_accuracy: 0.7119\n",
      "Epoch 19/20\n",
      "14/14 [==============================] - 6s 422ms/step - loss: 0.1658 - accuracy: 0.9694 - val_loss: 0.5989 - val_accuracy: 0.7119\n",
      "Epoch 20/20\n",
      "14/14 [==============================] - 6s 426ms/step - loss: 0.1655 - accuracy: 0.9647 - val_loss: 0.5966 - val_accuracy: 0.7119\n",
      "WARNING:tensorflow:From C:\\Users\\15014\\Anaconda3\\lib\\site-packages\\tensorflow\\python\\training\\tracking\\tracking.py:111: Model.state_updates (from tensorflow.python.keras.engine.training) is deprecated and will be removed in a future version.\n",
      "Instructions for updating:\n",
      "This property should not be used in TensorFlow 2.0, as updates are applied automatically.\n",
      "WARNING:tensorflow:From C:\\Users\\15014\\Anaconda3\\lib\\site-packages\\tensorflow\\python\\training\\tracking\\tracking.py:111: Layer.updates (from tensorflow.python.keras.engine.base_layer) is deprecated and will be removed in a future version.\n",
      "Instructions for updating:\n",
      "This property should not be used in TensorFlow 2.0, as updates are applied automatically.\n",
      "INFO:tensorflow:Assets written to: ./Resnet_101_dataset_1\\assets\n"
     ]
    }
   ],
   "source": [
    "results = model.fit(\n",
    "    train_ds,\n",
    "    batch_size = 32,\n",
    "    epochs = 20,\n",
    "    validation_data = val_ds,\n",
    "    verbose=1,\n",
    ")\n",
    "\n",
    "model.save(\"./Resnet_101_dataset_1\")"
   ]
  },
  {
   "cell_type": "code",
   "execution_count": 9,
   "metadata": {},
   "outputs": [
    {
     "name": "stdout",
     "output_type": "stream",
     "text": [
      "7/7 [==============================] - 2s 295ms/step - loss: 0.5184 - accuracy: 0.7685\n"
     ]
    },
    {
     "data": {
      "text/plain": [
       "[0.5183602571487427, 0.7684729099273682]"
      ]
     },
     "execution_count": 9,
     "metadata": {},
     "output_type": "execute_result"
    }
   ],
   "source": [
    "model.evaluate(test_ds)"
   ]
  },
  {
   "cell_type": "markdown",
   "metadata": {},
   "source": [
    "### Dataset 2"
   ]
  },
  {
   "cell_type": "code",
   "execution_count": 10,
   "metadata": {},
   "outputs": [
    {
     "name": "stdout",
     "output_type": "stream",
     "text": [
      "Found 612 files belonging to 2 classes.\n",
      "Found 99 files belonging to 2 classes.\n",
      "Found 91 files belonging to 2 classes.\n"
     ]
    }
   ],
   "source": [
    "train_ds = keras.preprocessing.image_dataset_from_directory( r'../datasets/data-try2/train',\n",
    "                                                               image_size=(227, 227),\n",
    "                                                               batch_size=32,\n",
    "                                                               label_mode='categorical')\n",
    "\n",
    "val_ds = keras.preprocessing.image_dataset_from_directory( r'../datasets/data-try2/validation/',\n",
    "                                                             image_size=(227, 227),\n",
    "                                                             batch_size=32,\n",
    "                                                             label_mode='categorical')\n",
    "\n",
    "test_ds = keras.preprocessing.image_dataset_from_directory( r'../datasets/data-try2/test/',\n",
    "                                                             image_size=(227, 227),\n",
    "                                                             batch_size=32,\n",
    "                                                             label_mode='categorical')"
   ]
  },
  {
   "cell_type": "code",
   "execution_count": 11,
   "metadata": {},
   "outputs": [],
   "source": [
    "AUTOTUNE = tf.data.experimental.AUTOTUNE\n",
    "\n",
    "train_ds = train_ds.cache().prefetch(buffer_size=AUTOTUNE)\n",
    "val_ds = val_ds.cache().prefetch(buffer_size=AUTOTUNE)"
   ]
  },
  {
   "cell_type": "code",
   "execution_count": 12,
   "metadata": {},
   "outputs": [
    {
     "name": "stdout",
     "output_type": "stream",
     "text": [
      "Epoch 1/80\n",
      "20/20 [==============================] - 7s 364ms/step - loss: 0.3133 - accuracy: 0.8611 - val_loss: 0.2714 - val_accuracy: 0.8990\n",
      "Epoch 2/80\n",
      "20/20 [==============================] - 6s 301ms/step - loss: 0.3004 - accuracy: 0.8676 - val_loss: 0.2671 - val_accuracy: 0.8889\n",
      "Epoch 3/80\n",
      "20/20 [==============================] - 6s 301ms/step - loss: 0.2883 - accuracy: 0.8725 - val_loss: 0.2635 - val_accuracy: 0.8889\n",
      "Epoch 4/80\n",
      "20/20 [==============================] - 6s 301ms/step - loss: 0.2785 - accuracy: 0.8807 - val_loss: 0.2613 - val_accuracy: 0.8889\n",
      "Epoch 5/80\n",
      "20/20 [==============================] - 6s 301ms/step - loss: 0.2704 - accuracy: 0.8905 - val_loss: 0.2597 - val_accuracy: 0.8788\n",
      "Epoch 6/80\n",
      "20/20 [==============================] - 6s 301ms/step - loss: 0.2636 - accuracy: 0.8922 - val_loss: 0.2586 - val_accuracy: 0.8788\n",
      "Epoch 7/80\n",
      "20/20 [==============================] - 6s 301ms/step - loss: 0.2578 - accuracy: 0.8971 - val_loss: 0.2577 - val_accuracy: 0.8788\n",
      "Epoch 8/80\n",
      "20/20 [==============================] - 6s 301ms/step - loss: 0.2526 - accuracy: 0.8938 - val_loss: 0.2571 - val_accuracy: 0.8788\n",
      "Epoch 9/80\n",
      "20/20 [==============================] - 6s 301ms/step - loss: 0.2480 - accuracy: 0.8971 - val_loss: 0.2565 - val_accuracy: 0.8788\n",
      "Epoch 10/80\n",
      "20/20 [==============================] - 6s 301ms/step - loss: 0.2438 - accuracy: 0.8987 - val_loss: 0.2561 - val_accuracy: 0.8788\n",
      "Epoch 11/80\n",
      "20/20 [==============================] - 6s 301ms/step - loss: 0.2400 - accuracy: 0.9036 - val_loss: 0.2557 - val_accuracy: 0.8687\n",
      "Epoch 12/80\n",
      "20/20 [==============================] - 6s 301ms/step - loss: 0.2365 - accuracy: 0.9052 - val_loss: 0.2553 - val_accuracy: 0.8687\n",
      "Epoch 13/80\n",
      "20/20 [==============================] - 6s 301ms/step - loss: 0.2332 - accuracy: 0.9069 - val_loss: 0.2549 - val_accuracy: 0.8687\n",
      "Epoch 14/80\n",
      "20/20 [==============================] - 6s 301ms/step - loss: 0.2301 - accuracy: 0.9101 - val_loss: 0.2546 - val_accuracy: 0.8687\n",
      "Epoch 15/80\n",
      "20/20 [==============================] - 6s 301ms/step - loss: 0.2272 - accuracy: 0.9134 - val_loss: 0.2541 - val_accuracy: 0.8687\n",
      "Epoch 16/80\n",
      "20/20 [==============================] - 6s 301ms/step - loss: 0.2244 - accuracy: 0.9134 - val_loss: 0.2537 - val_accuracy: 0.8687\n",
      "Epoch 17/80\n",
      "20/20 [==============================] - 6s 301ms/step - loss: 0.2218 - accuracy: 0.9134 - val_loss: 0.2533 - val_accuracy: 0.8687\n",
      "Epoch 18/80\n",
      "20/20 [==============================] - 6s 301ms/step - loss: 0.2193 - accuracy: 0.9150 - val_loss: 0.2529 - val_accuracy: 0.8687\n",
      "Epoch 19/80\n",
      "20/20 [==============================] - 6s 301ms/step - loss: 0.2169 - accuracy: 0.9199 - val_loss: 0.2525 - val_accuracy: 0.8889\n",
      "Epoch 20/80\n",
      "20/20 [==============================] - 6s 301ms/step - loss: 0.2146 - accuracy: 0.9199 - val_loss: 0.2521 - val_accuracy: 0.8889\n",
      "Epoch 21/80\n",
      "20/20 [==============================] - 6s 301ms/step - loss: 0.2124 - accuracy: 0.9216 - val_loss: 0.2516 - val_accuracy: 0.8889\n",
      "Epoch 22/80\n",
      "20/20 [==============================] - 6s 301ms/step - loss: 0.2102 - accuracy: 0.9216 - val_loss: 0.2512 - val_accuracy: 0.8889\n",
      "Epoch 23/80\n",
      "20/20 [==============================] - 6s 301ms/step - loss: 0.2082 - accuracy: 0.9248 - val_loss: 0.2508 - val_accuracy: 0.8889\n",
      "Epoch 24/80\n",
      "20/20 [==============================] - 6s 302ms/step - loss: 0.2062 - accuracy: 0.9297 - val_loss: 0.2505 - val_accuracy: 0.8889\n",
      "Epoch 25/80\n",
      "20/20 [==============================] - 6s 301ms/step - loss: 0.2043 - accuracy: 0.9314 - val_loss: 0.2501 - val_accuracy: 0.8889\n",
      "Epoch 26/80\n",
      "20/20 [==============================] - 6s 301ms/step - loss: 0.2024 - accuracy: 0.9314 - val_loss: 0.2497 - val_accuracy: 0.8889\n",
      "Epoch 27/80\n",
      "20/20 [==============================] - 6s 301ms/step - loss: 0.2005 - accuracy: 0.9330 - val_loss: 0.2494 - val_accuracy: 0.8889\n",
      "Epoch 28/80\n",
      "20/20 [==============================] - 6s 301ms/step - loss: 0.1987 - accuracy: 0.9330 - val_loss: 0.2491 - val_accuracy: 0.8889\n",
      "Epoch 29/80\n",
      "20/20 [==============================] - 6s 301ms/step - loss: 0.1970 - accuracy: 0.9346 - val_loss: 0.2487 - val_accuracy: 0.8788\n",
      "Epoch 30/80\n",
      "20/20 [==============================] - 6s 301ms/step - loss: 0.1953 - accuracy: 0.9346 - val_loss: 0.2483 - val_accuracy: 0.8788\n",
      "Epoch 31/80\n",
      "20/20 [==============================] - 6s 301ms/step - loss: 0.1937 - accuracy: 0.9346 - val_loss: 0.2480 - val_accuracy: 0.8788\n",
      "Epoch 32/80\n",
      "20/20 [==============================] - 6s 301ms/step - loss: 0.1921 - accuracy: 0.9346 - val_loss: 0.2477 - val_accuracy: 0.8788\n",
      "Epoch 33/80\n",
      "20/20 [==============================] - 6s 301ms/step - loss: 0.1905 - accuracy: 0.9379 - val_loss: 0.2473 - val_accuracy: 0.8788\n",
      "Epoch 34/80\n",
      "20/20 [==============================] - 6s 301ms/step - loss: 0.1889 - accuracy: 0.9379 - val_loss: 0.2471 - val_accuracy: 0.8788\n",
      "Epoch 35/80\n",
      "20/20 [==============================] - 6s 301ms/step - loss: 0.1874 - accuracy: 0.9379 - val_loss: 0.2467 - val_accuracy: 0.8788\n",
      "Epoch 36/80\n",
      "20/20 [==============================] - 6s 301ms/step - loss: 0.1859 - accuracy: 0.9395 - val_loss: 0.2464 - val_accuracy: 0.8788\n",
      "Epoch 37/80\n",
      "20/20 [==============================] - 6s 301ms/step - loss: 0.1844 - accuracy: 0.9412 - val_loss: 0.2461 - val_accuracy: 0.8788\n",
      "Epoch 38/80\n",
      "20/20 [==============================] - 6s 301ms/step - loss: 0.1830 - accuracy: 0.9428 - val_loss: 0.2458 - val_accuracy: 0.8788\n",
      "Epoch 39/80\n",
      "20/20 [==============================] - 6s 301ms/step - loss: 0.1816 - accuracy: 0.9444 - val_loss: 0.2455 - val_accuracy: 0.8788\n",
      "Epoch 40/80\n",
      "20/20 [==============================] - 6s 301ms/step - loss: 0.1802 - accuracy: 0.9477 - val_loss: 0.2452 - val_accuracy: 0.8889\n",
      "Epoch 41/80\n",
      "20/20 [==============================] - 6s 302ms/step - loss: 0.1788 - accuracy: 0.9493 - val_loss: 0.2449 - val_accuracy: 0.8889\n",
      "Epoch 42/80\n",
      "20/20 [==============================] - 6s 301ms/step - loss: 0.1775 - accuracy: 0.9510 - val_loss: 0.2447 - val_accuracy: 0.8889\n",
      "Epoch 43/80\n",
      "20/20 [==============================] - 6s 301ms/step - loss: 0.1761 - accuracy: 0.9510 - val_loss: 0.2444 - val_accuracy: 0.8889\n",
      "Epoch 44/80\n",
      "20/20 [==============================] - 6s 301ms/step - loss: 0.1748 - accuracy: 0.9526 - val_loss: 0.2442 - val_accuracy: 0.8889\n",
      "Epoch 45/80\n",
      "20/20 [==============================] - 6s 301ms/step - loss: 0.1735 - accuracy: 0.9526 - val_loss: 0.2439 - val_accuracy: 0.8788\n",
      "Epoch 46/80\n",
      "20/20 [==============================] - 6s 301ms/step - loss: 0.1722 - accuracy: 0.9526 - val_loss: 0.2436 - val_accuracy: 0.8788\n",
      "Epoch 47/80\n",
      "20/20 [==============================] - 6s 301ms/step - loss: 0.1710 - accuracy: 0.9542 - val_loss: 0.2433 - val_accuracy: 0.8788\n",
      "Epoch 48/80\n",
      "20/20 [==============================] - 6s 301ms/step - loss: 0.1697 - accuracy: 0.9542 - val_loss: 0.2430 - val_accuracy: 0.8788\n",
      "Epoch 49/80\n",
      "20/20 [==============================] - 6s 301ms/step - loss: 0.1685 - accuracy: 0.9542 - val_loss: 0.2427 - val_accuracy: 0.8788\n",
      "Epoch 50/80\n",
      "20/20 [==============================] - 6s 301ms/step - loss: 0.1673 - accuracy: 0.9559 - val_loss: 0.2425 - val_accuracy: 0.8788\n",
      "Epoch 51/80\n",
      "20/20 [==============================] - 6s 301ms/step - loss: 0.1661 - accuracy: 0.9559 - val_loss: 0.2422 - val_accuracy: 0.8788\n",
      "Epoch 52/80\n",
      "20/20 [==============================] - 6s 301ms/step - loss: 0.1649 - accuracy: 0.9559 - val_loss: 0.2419 - val_accuracy: 0.8788\n",
      "Epoch 53/80\n",
      "20/20 [==============================] - 6s 301ms/step - loss: 0.1637 - accuracy: 0.9559 - val_loss: 0.2416 - val_accuracy: 0.8788\n",
      "Epoch 54/80\n",
      "20/20 [==============================] - 6s 301ms/step - loss: 0.1626 - accuracy: 0.9559 - val_loss: 0.2414 - val_accuracy: 0.8788\n",
      "Epoch 55/80\n",
      "20/20 [==============================] - 6s 301ms/step - loss: 0.1614 - accuracy: 0.9559 - val_loss: 0.2411 - val_accuracy: 0.8788\n",
      "Epoch 56/80\n",
      "20/20 [==============================] - 6s 301ms/step - loss: 0.1603 - accuracy: 0.9559 - val_loss: 0.2409 - val_accuracy: 0.8788\n",
      "Epoch 57/80\n",
      "20/20 [==============================] - 6s 301ms/step - loss: 0.1592 - accuracy: 0.9559 - val_loss: 0.2406 - val_accuracy: 0.8788\n",
      "Epoch 58/80\n"
     ]
    },
    {
     "name": "stdout",
     "output_type": "stream",
     "text": [
      "20/20 [==============================] - 6s 301ms/step - loss: 0.1581 - accuracy: 0.9559 - val_loss: 0.2403 - val_accuracy: 0.8889\n",
      "Epoch 59/80\n",
      "20/20 [==============================] - 6s 301ms/step - loss: 0.1571 - accuracy: 0.9559 - val_loss: 0.2401 - val_accuracy: 0.8889\n",
      "Epoch 60/80\n",
      "20/20 [==============================] - 6s 301ms/step - loss: 0.1560 - accuracy: 0.9559 - val_loss: 0.2398 - val_accuracy: 0.8889\n",
      "Epoch 61/80\n",
      "20/20 [==============================] - 6s 301ms/step - loss: 0.1550 - accuracy: 0.9575 - val_loss: 0.2395 - val_accuracy: 0.8889\n",
      "Epoch 62/80\n",
      "20/20 [==============================] - 6s 301ms/step - loss: 0.1539 - accuracy: 0.9608 - val_loss: 0.2393 - val_accuracy: 0.8889\n",
      "Epoch 63/80\n",
      "20/20 [==============================] - 6s 301ms/step - loss: 0.1529 - accuracy: 0.9608 - val_loss: 0.2390 - val_accuracy: 0.8889\n",
      "Epoch 64/80\n",
      "20/20 [==============================] - 6s 301ms/step - loss: 0.1519 - accuracy: 0.9608 - val_loss: 0.2388 - val_accuracy: 0.8889\n",
      "Epoch 65/80\n",
      "20/20 [==============================] - 6s 301ms/step - loss: 0.1509 - accuracy: 0.9608 - val_loss: 0.2386 - val_accuracy: 0.8889\n",
      "Epoch 66/80\n",
      "20/20 [==============================] - 6s 301ms/step - loss: 0.1499 - accuracy: 0.9608 - val_loss: 0.2384 - val_accuracy: 0.8889\n",
      "Epoch 67/80\n",
      "20/20 [==============================] - 6s 301ms/step - loss: 0.1489 - accuracy: 0.9624 - val_loss: 0.2382 - val_accuracy: 0.8889\n",
      "Epoch 68/80\n",
      "20/20 [==============================] - 6s 301ms/step - loss: 0.1480 - accuracy: 0.9624 - val_loss: 0.2380 - val_accuracy: 0.8889\n",
      "Epoch 69/80\n",
      "20/20 [==============================] - 6s 301ms/step - loss: 0.1470 - accuracy: 0.9641 - val_loss: 0.2378 - val_accuracy: 0.8889\n",
      "Epoch 70/80\n",
      "20/20 [==============================] - 6s 301ms/step - loss: 0.1461 - accuracy: 0.9641 - val_loss: 0.2376 - val_accuracy: 0.8889\n",
      "Epoch 71/80\n",
      "20/20 [==============================] - 6s 301ms/step - loss: 0.1451 - accuracy: 0.9641 - val_loss: 0.2374 - val_accuracy: 0.8889\n",
      "Epoch 72/80\n",
      "20/20 [==============================] - 6s 301ms/step - loss: 0.1442 - accuracy: 0.9641 - val_loss: 0.2372 - val_accuracy: 0.8889\n",
      "Epoch 73/80\n",
      "20/20 [==============================] - 6s 301ms/step - loss: 0.1433 - accuracy: 0.9641 - val_loss: 0.2370 - val_accuracy: 0.8889\n",
      "Epoch 74/80\n",
      "20/20 [==============================] - 6s 301ms/step - loss: 0.1424 - accuracy: 0.9641 - val_loss: 0.2368 - val_accuracy: 0.8889\n",
      "Epoch 75/80\n",
      "20/20 [==============================] - 6s 301ms/step - loss: 0.1415 - accuracy: 0.9641 - val_loss: 0.2367 - val_accuracy: 0.8889\n",
      "Epoch 76/80\n",
      "20/20 [==============================] - 6s 301ms/step - loss: 0.1406 - accuracy: 0.9641 - val_loss: 0.2365 - val_accuracy: 0.8889\n",
      "Epoch 77/80\n",
      "20/20 [==============================] - 6s 301ms/step - loss: 0.1397 - accuracy: 0.9641 - val_loss: 0.2364 - val_accuracy: 0.8889\n",
      "Epoch 78/80\n",
      "20/20 [==============================] - 6s 301ms/step - loss: 0.1388 - accuracy: 0.9641 - val_loss: 0.2363 - val_accuracy: 0.8889\n",
      "Epoch 79/80\n",
      "20/20 [==============================] - 6s 302ms/step - loss: 0.1380 - accuracy: 0.9641 - val_loss: 0.2361 - val_accuracy: 0.8889\n",
      "Epoch 80/80\n",
      "20/20 [==============================] - 6s 302ms/step - loss: 0.1371 - accuracy: 0.9641 - val_loss: 0.2360 - val_accuracy: 0.8788\n"
     ]
    }
   ],
   "source": [
    "results = model.fit(\n",
    "    train_ds,\n",
    "    batch_size = 32,\n",
    "    epochs = 80,\n",
    "    validation_data = val_ds,\n",
    "    verbose=1,\n",
    ")"
   ]
  },
  {
   "cell_type": "code",
   "execution_count": 13,
   "metadata": {},
   "outputs": [
    {
     "data": {
      "image/png": "[encoded data removed]",
      "text/plain": [
       "<Figure size 432x288 with 1 Axes>"
      ]
     },
     "metadata": {
      "needs_background": "light"
     },
     "output_type": "display_data"
    }
   ],
   "source": [
    "results.history.keys()\n",
    "import matplotlib.pyplot as plt\n",
    "%matplotlib inline\n",
    "plt.plot(results.history['loss'][1:])\n",
    "plt.plot(results.history['val_loss'][1:])\n",
    "plt.legend(['Training', 'Validation'])\n",
    "plt.title('Training and Validation losses')\n",
    "plt.xlabel('epoch')\n",
    "plt.savefig(\"./Resnet_101_ds_2.png\")"
   ]
  },
  {
   "cell_type": "code",
   "execution_count": 14,
   "metadata": {},
   "outputs": [],
   "source": [
    "# We will try to train the last stage of ResNet50\n",
    "for layer in base_model.layers[0:143]:\n",
    "  layer.trainable = False\n",
    " \n",
    "for layer in base_model.layers[143:]:\n",
    "  layer.trainable = True"
   ]
  },
  {
   "cell_type": "code",
   "execution_count": 15,
   "metadata": {},
   "outputs": [
    {
     "name": "stdout",
     "output_type": "stream",
     "text": [
      "Epoch 1/20\n",
      "20/20 [==============================] - 6s 305ms/step - loss: 0.1363 - accuracy: 0.9657 - val_loss: 0.2358 - val_accuracy: 0.8788\n",
      "Epoch 2/20\n",
      "20/20 [==============================] - 6s 303ms/step - loss: 0.1354 - accuracy: 0.9657 - val_loss: 0.2356 - val_accuracy: 0.8788\n",
      "Epoch 3/20\n",
      "20/20 [==============================] - 6s 302ms/step - loss: 0.1346 - accuracy: 0.9657 - val_loss: 0.2355 - val_accuracy: 0.8788\n",
      "Epoch 4/20\n",
      "20/20 [==============================] - 6s 303ms/step - loss: 0.1338 - accuracy: 0.9673 - val_loss: 0.2354 - val_accuracy: 0.8788\n",
      "Epoch 5/20\n",
      "20/20 [==============================] - 6s 302ms/step - loss: 0.1330 - accuracy: 0.9673 - val_loss: 0.2352 - val_accuracy: 0.8788\n",
      "Epoch 6/20\n",
      "20/20 [==============================] - 6s 301ms/step - loss: 0.1322 - accuracy: 0.9690 - val_loss: 0.2351 - val_accuracy: 0.8788\n",
      "Epoch 7/20\n",
      "20/20 [==============================] - 6s 301ms/step - loss: 0.1314 - accuracy: 0.9706 - val_loss: 0.2350 - val_accuracy: 0.8788\n",
      "Epoch 8/20\n",
      "20/20 [==============================] - 6s 302ms/step - loss: 0.1306 - accuracy: 0.9706 - val_loss: 0.2348 - val_accuracy: 0.8788\n",
      "Epoch 9/20\n",
      "20/20 [==============================] - 6s 304ms/step - loss: 0.1298 - accuracy: 0.9706 - val_loss: 0.2347 - val_accuracy: 0.8788\n",
      "Epoch 10/20\n",
      "20/20 [==============================] - 6s 303ms/step - loss: 0.1290 - accuracy: 0.9706 - val_loss: 0.2346 - val_accuracy: 0.8788\n",
      "Epoch 11/20\n",
      "20/20 [==============================] - 6s 303ms/step - loss: 0.1282 - accuracy: 0.9706 - val_loss: 0.2345 - val_accuracy: 0.8788\n",
      "Epoch 12/20\n",
      "20/20 [==============================] - 6s 303ms/step - loss: 0.1275 - accuracy: 0.9706 - val_loss: 0.2343 - val_accuracy: 0.8788\n",
      "Epoch 13/20\n",
      "20/20 [==============================] - 6s 303ms/step - loss: 0.1267 - accuracy: 0.9722 - val_loss: 0.2342 - val_accuracy: 0.8788\n",
      "Epoch 14/20\n",
      "20/20 [==============================] - 6s 304ms/step - loss: 0.1260 - accuracy: 0.9722 - val_loss: 0.2340 - val_accuracy: 0.8788\n",
      "Epoch 15/20\n",
      "20/20 [==============================] - 6s 303ms/step - loss: 0.1252 - accuracy: 0.9722 - val_loss: 0.2339 - val_accuracy: 0.8788\n",
      "Epoch 16/20\n",
      "20/20 [==============================] - 6s 302ms/step - loss: 0.1245 - accuracy: 0.9722 - val_loss: 0.2338 - val_accuracy: 0.8788\n",
      "Epoch 17/20\n",
      "20/20 [==============================] - 6s 302ms/step - loss: 0.1238 - accuracy: 0.9722 - val_loss: 0.2336 - val_accuracy: 0.8788\n",
      "Epoch 18/20\n",
      "20/20 [==============================] - 6s 302ms/step - loss: 0.1231 - accuracy: 0.9722 - val_loss: 0.2334 - val_accuracy: 0.8788\n",
      "Epoch 19/20\n",
      "20/20 [==============================] - 6s 302ms/step - loss: 0.1224 - accuracy: 0.9739 - val_loss: 0.2333 - val_accuracy: 0.8788\n",
      "Epoch 20/20\n",
      "20/20 [==============================] - 6s 302ms/step - loss: 0.1217 - accuracy: 0.9755 - val_loss: 0.2331 - val_accuracy: 0.8788\n",
      "INFO:tensorflow:Assets written to: ./Resnet_101_dataset_2\\assets\n"
     ]
    }
   ],
   "source": [
    "results = model.fit(\n",
    "    train_ds,\n",
    "    batch_size = 32,\n",
    "    epochs = 20,\n",
    "    validation_data = val_ds,\n",
    "    verbose=1,\n",
    ")\n",
    "\n",
    "model.save(\"./Resnet_101_dataset_2\")"
   ]
  },
  {
   "cell_type": "code",
   "execution_count": 16,
   "metadata": {},
   "outputs": [
    {
     "name": "stdout",
     "output_type": "stream",
     "text": [
      "3/3 [==============================] - 1s 388ms/step - loss: 0.2414 - accuracy: 0.9121\n"
     ]
    },
    {
     "data": {
      "text/plain": [
       "[0.24142414331436157, 0.9120879173278809]"
      ]
     },
     "execution_count": 16,
     "metadata": {},
     "output_type": "execute_result"
    }
   ],
   "source": [
    "model.evaluate(test_ds)"
   ]
  },
  {
   "cell_type": "markdown",
   "metadata": {},
   "source": [
    "### Dataset 3"
   ]
  },
  {
   "cell_type": "code",
   "execution_count": 17,
   "metadata": {},
   "outputs": [
    {
     "name": "stdout",
     "output_type": "stream",
     "text": [
      "Found 2233 files belonging to 2 classes.\n",
      "Using 1787 files for training.\n",
      "Found 2233 files belonging to 2 classes.\n",
      "Using 446 files for validation.\n",
      "Found 248 files belonging to 2 classes.\n"
     ]
    }
   ],
   "source": [
    "train_ds = keras.preprocessing.image_dataset_from_directory( r'../datasets/kaggle-large-ct/train/',\n",
    "                                                               image_size=(227, 227),\n",
    "                                                               validation_split=0.2,\n",
    "                                                               subset=\"training\",\n",
    "                                                               seed=123,\n",
    "                                                               batch_size=32,\n",
    "                                                               label_mode='categorical')\n",
    "\n",
    "val_ds = keras.preprocessing.image_dataset_from_directory( r'../datasets/kaggle-large-ct/train/',\n",
    "                                                             image_size=(227, 227),\n",
    "                                                             validation_split=0.2,\n",
    "                                                             subset=\"validation\",\n",
    "                                                             seed=123,\n",
    "                                                             batch_size=32,\n",
    "                                                             label_mode='categorical')\n",
    "\n",
    "test_ds = keras.preprocessing.image_dataset_from_directory( r'../datasets/kaggle-large-ct/test/',\n",
    "                                                             image_size=(227, 227),\n",
    "                                                             batch_size=32,\n",
    "                                                             label_mode='categorical')"
   ]
  },
  {
   "cell_type": "code",
   "execution_count": 18,
   "metadata": {},
   "outputs": [
    {
     "name": "stdout",
     "output_type": "stream",
     "text": [
      "Epoch 1/80\n",
      "56/56 [==============================] - 26s 458ms/step - loss: 0.7604 - accuracy: 0.5876 - val_loss: 0.5236 - val_accuracy: 0.7309\n",
      "Epoch 2/80\n",
      "56/56 [==============================] - 25s 450ms/step - loss: 0.5123 - accuracy: 0.7443 - val_loss: 0.4742 - val_accuracy: 0.7646\n",
      "Epoch 3/80\n",
      "56/56 [==============================] - 25s 453ms/step - loss: 0.4545 - accuracy: 0.7745 - val_loss: 0.4144 - val_accuracy: 0.7982\n",
      "Epoch 4/80\n",
      "56/56 [==============================] - 25s 455ms/step - loss: 0.4205 - accuracy: 0.8008 - val_loss: 0.3858 - val_accuracy: 0.8296\n",
      "Epoch 5/80\n",
      "56/56 [==============================] - 25s 454ms/step - loss: 0.3965 - accuracy: 0.8125 - val_loss: 0.3708 - val_accuracy: 0.8408\n",
      "Epoch 6/80\n",
      "56/56 [==============================] - 26s 458ms/step - loss: 0.3798 - accuracy: 0.8232 - val_loss: 0.3571 - val_accuracy: 0.8453\n",
      "Epoch 7/80\n",
      "56/56 [==============================] - 25s 452ms/step - loss: 0.3640 - accuracy: 0.8344 - val_loss: 0.3517 - val_accuracy: 0.8543\n",
      "Epoch 8/80\n",
      "56/56 [==============================] - 25s 447ms/step - loss: 0.3507 - accuracy: 0.8422 - val_loss: 0.3379 - val_accuracy: 0.8565\n",
      "Epoch 9/80\n",
      "56/56 [==============================] - 25s 447ms/step - loss: 0.3399 - accuracy: 0.8573 - val_loss: 0.3302 - val_accuracy: 0.8632\n",
      "Epoch 10/80\n",
      "56/56 [==============================] - 25s 446ms/step - loss: 0.3298 - accuracy: 0.8601 - val_loss: 0.3244 - val_accuracy: 0.8677\n",
      "Epoch 11/80\n",
      "56/56 [==============================] - 25s 447ms/step - loss: 0.3212 - accuracy: 0.8635 - val_loss: 0.3178 - val_accuracy: 0.8700\n",
      "Epoch 12/80\n",
      "56/56 [==============================] - 25s 446ms/step - loss: 0.3112 - accuracy: 0.8730 - val_loss: 0.3163 - val_accuracy: 0.8767\n",
      "Epoch 13/80\n",
      "56/56 [==============================] - 25s 448ms/step - loss: 0.3038 - accuracy: 0.8735 - val_loss: 0.3160 - val_accuracy: 0.8789\n",
      "Epoch 14/80\n",
      "56/56 [==============================] - 25s 453ms/step - loss: 0.2980 - accuracy: 0.8769 - val_loss: 0.3154 - val_accuracy: 0.8812\n",
      "Epoch 15/80\n",
      "56/56 [==============================] - 25s 450ms/step - loss: 0.2914 - accuracy: 0.8786 - val_loss: 0.2993 - val_accuracy: 0.8744\n",
      "Epoch 16/80\n",
      "56/56 [==============================] - 25s 448ms/step - loss: 0.2865 - accuracy: 0.8814 - val_loss: 0.3018 - val_accuracy: 0.8789\n",
      "Epoch 17/80\n",
      "56/56 [==============================] - 25s 452ms/step - loss: 0.2790 - accuracy: 0.8864 - val_loss: 0.2945 - val_accuracy: 0.8834\n",
      "Epoch 18/80\n",
      "56/56 [==============================] - 25s 452ms/step - loss: 0.2752 - accuracy: 0.8898 - val_loss: 0.3019 - val_accuracy: 0.8834\n",
      "Epoch 19/80\n",
      "56/56 [==============================] - 25s 451ms/step - loss: 0.2710 - accuracy: 0.8870 - val_loss: 0.2858 - val_accuracy: 0.8857\n",
      "Epoch 20/80\n",
      "56/56 [==============================] - 25s 450ms/step - loss: 0.2655 - accuracy: 0.8920 - val_loss: 0.2866 - val_accuracy: 0.8812\n",
      "Epoch 21/80\n",
      "56/56 [==============================] - 25s 447ms/step - loss: 0.2648 - accuracy: 0.8937 - val_loss: 0.2820 - val_accuracy: 0.8834\n",
      "Epoch 22/80\n",
      "56/56 [==============================] - 25s 449ms/step - loss: 0.2594 - accuracy: 0.8914 - val_loss: 0.2791 - val_accuracy: 0.8857\n",
      "Epoch 23/80\n",
      "56/56 [==============================] - 25s 450ms/step - loss: 0.2544 - accuracy: 0.8937 - val_loss: 0.2754 - val_accuracy: 0.8834\n",
      "Epoch 24/80\n",
      "56/56 [==============================] - 25s 450ms/step - loss: 0.2532 - accuracy: 0.8970 - val_loss: 0.2725 - val_accuracy: 0.8879\n",
      "Epoch 25/80\n",
      "56/56 [==============================] - 25s 449ms/step - loss: 0.2469 - accuracy: 0.9032 - val_loss: 0.2728 - val_accuracy: 0.8901\n",
      "Epoch 26/80\n",
      "56/56 [==============================] - 25s 447ms/step - loss: 0.2418 - accuracy: 0.9021 - val_loss: 0.2675 - val_accuracy: 0.8901\n",
      "Epoch 27/80\n",
      "56/56 [==============================] - 25s 448ms/step - loss: 0.2402 - accuracy: 0.9065 - val_loss: 0.2691 - val_accuracy: 0.8946\n",
      "Epoch 28/80\n",
      "56/56 [==============================] - 25s 447ms/step - loss: 0.2358 - accuracy: 0.9082 - val_loss: 0.2746 - val_accuracy: 0.8834\n",
      "Epoch 29/80\n",
      "56/56 [==============================] - 25s 448ms/step - loss: 0.2330 - accuracy: 0.9065 - val_loss: 0.2632 - val_accuracy: 0.8969\n",
      "Epoch 30/80\n",
      "56/56 [==============================] - 25s 454ms/step - loss: 0.2297 - accuracy: 0.9099 - val_loss: 0.2630 - val_accuracy: 0.8946\n",
      "Epoch 31/80\n",
      "56/56 [==============================] - 26s 458ms/step - loss: 0.2267 - accuracy: 0.9099 - val_loss: 0.2641 - val_accuracy: 0.8924\n",
      "Epoch 32/80\n",
      "56/56 [==============================] - 25s 451ms/step - loss: 0.2266 - accuracy: 0.9116 - val_loss: 0.2562 - val_accuracy: 0.8969\n",
      "Epoch 33/80\n",
      "56/56 [==============================] - 25s 450ms/step - loss: 0.2231 - accuracy: 0.9127 - val_loss: 0.2545 - val_accuracy: 0.9013\n",
      "Epoch 34/80\n",
      "56/56 [==============================] - 25s 443ms/step - loss: 0.2198 - accuracy: 0.9099 - val_loss: 0.2523 - val_accuracy: 0.9013\n",
      "Epoch 35/80\n",
      "56/56 [==============================] - 25s 445ms/step - loss: 0.2194 - accuracy: 0.9138 - val_loss: 0.2534 - val_accuracy: 0.8946\n",
      "Epoch 36/80\n",
      "56/56 [==============================] - 25s 444ms/step - loss: 0.2156 - accuracy: 0.9166 - val_loss: 0.2530 - val_accuracy: 0.8969\n",
      "Epoch 37/80\n",
      "56/56 [==============================] - 25s 444ms/step - loss: 0.2127 - accuracy: 0.9177 - val_loss: 0.2488 - val_accuracy: 0.9013\n",
      "Epoch 38/80\n",
      "56/56 [==============================] - 25s 448ms/step - loss: 0.2095 - accuracy: 0.9189 - val_loss: 0.2491 - val_accuracy: 0.8991\n",
      "Epoch 39/80\n",
      "56/56 [==============================] - 25s 445ms/step - loss: 0.2078 - accuracy: 0.9222 - val_loss: 0.2481 - val_accuracy: 0.8991\n",
      "Epoch 40/80\n",
      "56/56 [==============================] - 25s 442ms/step - loss: 0.2053 - accuracy: 0.9205 - val_loss: 0.2440 - val_accuracy: 0.9081\n",
      "Epoch 41/80\n",
      "56/56 [==============================] - 25s 443ms/step - loss: 0.2023 - accuracy: 0.9222 - val_loss: 0.2438 - val_accuracy: 0.9036\n",
      "Epoch 42/80\n",
      "56/56 [==============================] - 25s 443ms/step - loss: 0.2014 - accuracy: 0.9256 - val_loss: 0.2495 - val_accuracy: 0.8991\n",
      "Epoch 43/80\n",
      "56/56 [==============================] - 25s 444ms/step - loss: 0.2000 - accuracy: 0.9328 - val_loss: 0.2396 - val_accuracy: 0.9081\n",
      "Epoch 44/80\n",
      "56/56 [==============================] - 25s 441ms/step - loss: 0.1982 - accuracy: 0.9256 - val_loss: 0.2410 - val_accuracy: 0.9013\n",
      "Epoch 45/80\n",
      "56/56 [==============================] - 25s 441ms/step - loss: 0.1946 - accuracy: 0.9323 - val_loss: 0.2389 - val_accuracy: 0.9058\n",
      "Epoch 46/80\n",
      "56/56 [==============================] - 25s 440ms/step - loss: 0.1931 - accuracy: 0.9284 - val_loss: 0.2394 - val_accuracy: 0.8991\n",
      "Epoch 47/80\n",
      "56/56 [==============================] - 25s 445ms/step - loss: 0.1903 - accuracy: 0.9334 - val_loss: 0.2534 - val_accuracy: 0.8924\n",
      "Epoch 48/80\n",
      "56/56 [==============================] - 25s 443ms/step - loss: 0.1896 - accuracy: 0.9340 - val_loss: 0.2340 - val_accuracy: 0.9126\n",
      "Epoch 49/80\n",
      "56/56 [==============================] - 25s 442ms/step - loss: 0.1901 - accuracy: 0.9317 - val_loss: 0.2326 - val_accuracy: 0.9126\n",
      "Epoch 50/80\n",
      "56/56 [==============================] - 25s 442ms/step - loss: 0.1869 - accuracy: 0.9323 - val_loss: 0.2345 - val_accuracy: 0.9036\n",
      "Epoch 51/80\n",
      "56/56 [==============================] - 25s 441ms/step - loss: 0.1846 - accuracy: 0.9356 - val_loss: 0.2318 - val_accuracy: 0.9103\n",
      "Epoch 52/80\n",
      "56/56 [==============================] - 25s 445ms/step - loss: 0.1840 - accuracy: 0.9351 - val_loss: 0.2323 - val_accuracy: 0.9036\n",
      "Epoch 53/80\n",
      "56/56 [==============================] - 25s 446ms/step - loss: 0.1809 - accuracy: 0.9384 - val_loss: 0.2329 - val_accuracy: 0.8991\n",
      "Epoch 54/80\n",
      "56/56 [==============================] - 25s 453ms/step - loss: 0.1792 - accuracy: 0.9407 - val_loss: 0.2286 - val_accuracy: 0.9081\n",
      "Epoch 55/80\n",
      "56/56 [==============================] - 25s 451ms/step - loss: 0.1773 - accuracy: 0.9418 - val_loss: 0.2348 - val_accuracy: 0.9013\n",
      "Epoch 56/80\n",
      "56/56 [==============================] - 25s 443ms/step - loss: 0.1761 - accuracy: 0.9418 - val_loss: 0.2254 - val_accuracy: 0.9103\n",
      "Epoch 57/80\n",
      "56/56 [==============================] - 25s 442ms/step - loss: 0.1760 - accuracy: 0.9373 - val_loss: 0.2248 - val_accuracy: 0.9103\n"
     ]
    },
    {
     "name": "stdout",
     "output_type": "stream",
     "text": [
      "Epoch 58/80\n",
      "56/56 [==============================] - 25s 440ms/step - loss: 0.1750 - accuracy: 0.9418 - val_loss: 0.2271 - val_accuracy: 0.9058\n",
      "Epoch 59/80\n",
      "56/56 [==============================] - 25s 441ms/step - loss: 0.1717 - accuracy: 0.9435 - val_loss: 0.2259 - val_accuracy: 0.9058\n",
      "Epoch 60/80\n",
      "56/56 [==============================] - 25s 443ms/step - loss: 0.1720 - accuracy: 0.9429 - val_loss: 0.2213 - val_accuracy: 0.9148\n",
      "Epoch 61/80\n",
      "56/56 [==============================] - 25s 441ms/step - loss: 0.1711 - accuracy: 0.9373 - val_loss: 0.2252 - val_accuracy: 0.9058\n",
      "Epoch 62/80\n",
      "56/56 [==============================] - 25s 442ms/step - loss: 0.1675 - accuracy: 0.9468 - val_loss: 0.2204 - val_accuracy: 0.9081\n",
      "Epoch 63/80\n",
      "56/56 [==============================] - 25s 442ms/step - loss: 0.1679 - accuracy: 0.9474 - val_loss: 0.2199 - val_accuracy: 0.9081\n",
      "Epoch 64/80\n",
      "56/56 [==============================] - 25s 441ms/step - loss: 0.1656 - accuracy: 0.9452 - val_loss: 0.2181 - val_accuracy: 0.9126\n",
      "Epoch 65/80\n",
      "56/56 [==============================] - 25s 441ms/step - loss: 0.1660 - accuracy: 0.9452 - val_loss: 0.2165 - val_accuracy: 0.9170\n",
      "Epoch 66/80\n",
      "56/56 [==============================] - 25s 441ms/step - loss: 0.1672 - accuracy: 0.9480 - val_loss: 0.2182 - val_accuracy: 0.9103\n",
      "Epoch 67/80\n",
      "56/56 [==============================] - 25s 443ms/step - loss: 0.1609 - accuracy: 0.9474 - val_loss: 0.2305 - val_accuracy: 0.9081\n",
      "Epoch 68/80\n",
      "56/56 [==============================] - 25s 442ms/step - loss: 0.1615 - accuracy: 0.9480 - val_loss: 0.2145 - val_accuracy: 0.9148\n",
      "Epoch 69/80\n",
      "56/56 [==============================] - 25s 440ms/step - loss: 0.1623 - accuracy: 0.9446 - val_loss: 0.2176 - val_accuracy: 0.9081\n",
      "Epoch 70/80\n",
      "56/56 [==============================] - 25s 441ms/step - loss: 0.1584 - accuracy: 0.9502 - val_loss: 0.2222 - val_accuracy: 0.9148\n",
      "Epoch 71/80\n",
      "56/56 [==============================] - 25s 440ms/step - loss: 0.1553 - accuracy: 0.9508 - val_loss: 0.2145 - val_accuracy: 0.9058\n",
      "Epoch 72/80\n",
      "56/56 [==============================] - 25s 440ms/step - loss: 0.1547 - accuracy: 0.9485 - val_loss: 0.2126 - val_accuracy: 0.9103\n",
      "Epoch 73/80\n",
      "56/56 [==============================] - 25s 441ms/step - loss: 0.1567 - accuracy: 0.9519 - val_loss: 0.2143 - val_accuracy: 0.9081\n",
      "Epoch 74/80\n",
      "56/56 [==============================] - 25s 440ms/step - loss: 0.1553 - accuracy: 0.9541 - val_loss: 0.2121 - val_accuracy: 0.9081\n",
      "Epoch 75/80\n",
      "56/56 [==============================] - 25s 444ms/step - loss: 0.1523 - accuracy: 0.9519 - val_loss: 0.2112 - val_accuracy: 0.9081\n",
      "Epoch 76/80\n",
      "56/56 [==============================] - 25s 442ms/step - loss: 0.1507 - accuracy: 0.9524 - val_loss: 0.2120 - val_accuracy: 0.9081\n",
      "Epoch 77/80\n",
      "56/56 [==============================] - 25s 441ms/step - loss: 0.1485 - accuracy: 0.9547 - val_loss: 0.2086 - val_accuracy: 0.9126\n",
      "Epoch 78/80\n",
      "56/56 [==============================] - 25s 444ms/step - loss: 0.1497 - accuracy: 0.9558 - val_loss: 0.2176 - val_accuracy: 0.9148\n",
      "Epoch 79/80\n",
      "56/56 [==============================] - 25s 443ms/step - loss: 0.1455 - accuracy: 0.9547 - val_loss: 0.2119 - val_accuracy: 0.9126\n",
      "Epoch 80/80\n",
      "56/56 [==============================] - 25s 446ms/step - loss: 0.1453 - accuracy: 0.9580 - val_loss: 0.2087 - val_accuracy: 0.9081\n"
     ]
    }
   ],
   "source": [
    "results = model.fit(\n",
    "    train_ds,\n",
    "    batch_size = 32,\n",
    "    epochs = 80,\n",
    "    validation_data = val_ds,\n",
    "    verbose=1,\n",
    ")"
   ]
  },
  {
   "cell_type": "code",
   "execution_count": 19,
   "metadata": {},
   "outputs": [
    {
     "data": {
      "image/png": "[encoded data removed]",
      "text/plain": [
       "<Figure size 432x288 with 1 Axes>"
      ]
     },
     "metadata": {
      "needs_background": "light"
     },
     "output_type": "display_data"
    }
   ],
   "source": [
    "results.history.keys()\n",
    "import matplotlib.pyplot as plt\n",
    "%matplotlib inline\n",
    "plt.plot(results.history['loss'][1:])\n",
    "plt.plot(results.history['val_loss'][1:])\n",
    "plt.legend(['Training', 'Validation'])\n",
    "plt.title('Training and Validation losses')\n",
    "plt.xlabel('epoch')\n",
    "plt.savefig(\"./Resnet_101_ds_3.png\")"
   ]
  },
  {
   "cell_type": "code",
   "execution_count": 20,
   "metadata": {},
   "outputs": [],
   "source": [
    "# We will try to train the last stage of ResNet50\n",
    "for layer in base_model.layers[0:143]:\n",
    "  layer.trainable = False\n",
    " \n",
    "for layer in base_model.layers[143:]:\n",
    "  layer.trainable = True"
   ]
  },
  {
   "cell_type": "code",
   "execution_count": 21,
   "metadata": {},
   "outputs": [
    {
     "name": "stdout",
     "output_type": "stream",
     "text": [
      "Epoch 1/20\n",
      "56/56 [==============================] - 25s 442ms/step - loss: 0.1440 - accuracy: 0.9552 - val_loss: 0.2072 - val_accuracy: 0.9081\n",
      "Epoch 2/20\n",
      "56/56 [==============================] - 25s 442ms/step - loss: 0.1457 - accuracy: 0.9580 - val_loss: 0.2055 - val_accuracy: 0.9126\n",
      "Epoch 3/20\n",
      "56/56 [==============================] - 25s 441ms/step - loss: 0.1440 - accuracy: 0.9597 - val_loss: 0.2116 - val_accuracy: 0.9170\n",
      "Epoch 4/20\n",
      "56/56 [==============================] - 25s 443ms/step - loss: 0.1410 - accuracy: 0.9603 - val_loss: 0.2061 - val_accuracy: 0.9126\n",
      "Epoch 5/20\n",
      "56/56 [==============================] - 25s 443ms/step - loss: 0.1408 - accuracy: 0.9569 - val_loss: 0.2087 - val_accuracy: 0.9148\n",
      "Epoch 6/20\n",
      "56/56 [==============================] - 25s 442ms/step - loss: 0.1389 - accuracy: 0.9564 - val_loss: 0.2082 - val_accuracy: 0.9148\n",
      "Epoch 7/20\n",
      "56/56 [==============================] - 25s 442ms/step - loss: 0.1376 - accuracy: 0.9597 - val_loss: 0.2081 - val_accuracy: 0.9148\n",
      "Epoch 8/20\n",
      "56/56 [==============================] - 25s 448ms/step - loss: 0.1373 - accuracy: 0.9631 - val_loss: 0.2053 - val_accuracy: 0.9170\n",
      "Epoch 9/20\n",
      "56/56 [==============================] - 25s 440ms/step - loss: 0.1369 - accuracy: 0.9631 - val_loss: 0.2021 - val_accuracy: 0.9170\n",
      "Epoch 10/20\n",
      "56/56 [==============================] - 26s 461ms/step - loss: 0.1365 - accuracy: 0.9625 - val_loss: 0.2155 - val_accuracy: 0.9170\n",
      "Epoch 11/20\n",
      "56/56 [==============================] - 26s 460ms/step - loss: 0.1341 - accuracy: 0.9631 - val_loss: 0.2047 - val_accuracy: 0.9170\n",
      "Epoch 12/20\n",
      "56/56 [==============================] - 26s 458ms/step - loss: 0.1349 - accuracy: 0.9625 - val_loss: 0.2036 - val_accuracy: 0.9170\n",
      "Epoch 13/20\n",
      "56/56 [==============================] - 26s 461ms/step - loss: 0.1338 - accuracy: 0.9597 - val_loss: 0.2053 - val_accuracy: 0.9170\n",
      "Epoch 14/20\n",
      "56/56 [==============================] - 25s 444ms/step - loss: 0.1315 - accuracy: 0.9664 - val_loss: 0.1995 - val_accuracy: 0.9193\n",
      "Epoch 15/20\n",
      "56/56 [==============================] - 25s 443ms/step - loss: 0.1333 - accuracy: 0.9647 - val_loss: 0.1979 - val_accuracy: 0.9170\n",
      "Epoch 16/20\n",
      "56/56 [==============================] - 25s 444ms/step - loss: 0.1323 - accuracy: 0.9608 - val_loss: 0.2025 - val_accuracy: 0.9170\n",
      "Epoch 17/20\n",
      "56/56 [==============================] - 25s 440ms/step - loss: 0.1286 - accuracy: 0.9647 - val_loss: 0.2018 - val_accuracy: 0.9170\n",
      "Epoch 18/20\n",
      "56/56 [==============================] - 25s 448ms/step - loss: 0.1283 - accuracy: 0.9653 - val_loss: 0.2015 - val_accuracy: 0.9170\n",
      "Epoch 19/20\n",
      "56/56 [==============================] - 25s 454ms/step - loss: 0.1275 - accuracy: 0.9642 - val_loss: 0.2035 - val_accuracy: 0.9215\n",
      "Epoch 20/20\n",
      "56/56 [==============================] - 25s 445ms/step - loss: 0.1254 - accuracy: 0.9692 - val_loss: 0.2010 - val_accuracy: 0.9148\n",
      "INFO:tensorflow:Assets written to: ./Resnet_101_dataset_3\\assets\n"
     ]
    }
   ],
   "source": [
    "results = model.fit(\n",
    "    train_ds,\n",
    "    batch_size = 32,\n",
    "    epochs = 20,\n",
    "    validation_data = val_ds,\n",
    "    verbose=1,\n",
    ")\n",
    "\n",
    "model.save(\"./Resnet_101_dataset_3\")"
   ]
  },
  {
   "cell_type": "code",
   "execution_count": 22,
   "metadata": {},
   "outputs": [
    {
     "name": "stdout",
     "output_type": "stream",
     "text": [
      "8/8 [==============================] - 3s 319ms/step - loss: 0.2275 - accuracy: 0.9194\n"
     ]
    },
    {
     "data": {
      "text/plain": [
       "[0.22754022479057312, 0.9193548560142517]"
      ]
     },
     "execution_count": 22,
     "metadata": {},
     "output_type": "execute_result"
    }
   ],
   "source": [
    "model.evaluate(test_ds)"
   ]
  }
 ],
 "metadata": {
  "kernelspec": {
   "display_name": "Python 3",
   "language": "python",
   "name": "python3"
  },
  "language_info": {
   "codemirror_mode": {
    "name": "ipython",
    "version": 3
   },
   "file_extension": ".py",
   "mimetype": "text/x-python",
   "name": "python",
   "nbconvert_exporter": "python",
   "pygments_lexer": "ipython3",
   "version": "3.7.4"
  }
 },
 "nbformat": 4,
 "nbformat_minor": 2
}
