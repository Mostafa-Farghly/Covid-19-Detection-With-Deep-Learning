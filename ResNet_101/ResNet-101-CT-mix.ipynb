{
 "cells": [
  {
   "cell_type": "code",
   "execution_count": 1,
   "metadata": {},
   "outputs": [],
   "source": [
    "import tensorflow as tf\n",
    "from tensorflow import keras\n",
    "from tensorflow.keras.layers import Dense, GlobalAveragePooling2D\n",
    "from tensorflow.keras.models import Model\n",
    "from tensorflow.keras.applications.resnet import ResNet101\n",
    "from tensorflow.keras.optimizers import SGD\n",
    "import PIL"
   ]
  },
  {
   "cell_type": "markdown",
   "metadata": {},
   "source": [
    "### Building The Model"
   ]
  },
  {
   "cell_type": "code",
   "execution_count": 2,
   "metadata": {},
   "outputs": [],
   "source": [
    "# Download the architecture of ResNet101 with ImageNet weights\n",
    "base_model = ResNet101(include_top=False, weights='imagenet')\n",
    " \n",
    "# Taking the output of the last convolution block in ResNet50\n",
    "x = base_model.output\n",
    " \n",
    "# Adding a Global Average Pooling layer\n",
    "x = GlobalAveragePooling2D()(x)\n",
    " \n",
    "# Adding a fully connected layer having 1024 neurons\n",
    "x = Dense(1024, activation='relu')(x)\n",
    " \n",
    "# Adding a fully connected layer having 2 neurons which will\n",
    "# give the probability of image having either dog or cat\n",
    "predictions = Dense(2, activation='softmax')(x)\n",
    " \n",
    "# Model to be trained\n",
    "model = Model(inputs=base_model.input, outputs=predictions)\n",
    " \n",
    "# Training only top layers i.e. the layers which we have added in the end\n",
    "for layer in base_model.layers:\n",
    "    layer.trainable = False"
   ]
  },
  {
   "cell_type": "code",
   "execution_count": 3,
   "metadata": {},
   "outputs": [],
   "source": [
    "# Compiling the model\n",
    "model.compile(optimizer=SGD(lr=0.0001, momentum=0.9), loss='categorical_crossentropy', metrics = ['accuracy'])"
   ]
  },
  {
   "cell_type": "code",
   "execution_count": 4,
   "metadata": {},
   "outputs": [
    {
     "name": "stdout",
     "output_type": "stream",
     "text": [
      "Found 3388 files belonging to 2 classes.\n",
      "Using 2711 files for training.\n",
      "Found 3388 files belonging to 2 classes.\n",
      "Using 677 files for validation.\n",
      "Found 542 files belonging to 2 classes.\n"
     ]
    }
   ],
   "source": [
    "train_ds = keras.preprocessing.image_dataset_from_directory( r'../datasets/CT_mix/train/',\n",
    "                                                               image_size=(227, 227),\n",
    "                                                               validation_split=0.2,\n",
    "                                                               subset=\"training\",\n",
    "                                                               seed=123,\n",
    "                                                               batch_size=32,\n",
    "                                                               label_mode='categorical')\n",
    "\n",
    "val_ds = keras.preprocessing.image_dataset_from_directory( r'../datasets/CT_mix/train/',\n",
    "                                                             image_size=(227, 227),\n",
    "                                                             validation_split=0.2,\n",
    "                                                             subset=\"validation\",\n",
    "                                                             seed=123,\n",
    "                                                             batch_size=32,\n",
    "                                                             label_mode='categorical')\n",
    "\n",
    "test_ds = keras.preprocessing.image_dataset_from_directory( r'../datasets/CT_mix/test/',\n",
    "                                                             image_size=(227, 227),\n",
    "                                                             batch_size=32,\n",
    "                                                             label_mode='categorical')"
   ]
  },
  {
   "cell_type": "code",
   "execution_count": 5,
   "metadata": {},
   "outputs": [
    {
     "name": "stdout",
     "output_type": "stream",
     "text": [
      "Epoch 1/50\n",
      "85/85 [==============================] - 41s 483ms/step - loss: 0.6452 - accuracy: 0.6197 - val_loss: 0.5811 - val_accuracy: 0.7061\n",
      "Epoch 2/50\n",
      "85/85 [==============================] - 39s 456ms/step - loss: 0.5431 - accuracy: 0.7348 - val_loss: 0.5350 - val_accuracy: 0.7371\n",
      "Epoch 3/50\n",
      "85/85 [==============================] - 39s 458ms/step - loss: 0.5021 - accuracy: 0.7658 - val_loss: 0.5070 - val_accuracy: 0.7489\n",
      "Epoch 4/50\n",
      "85/85 [==============================] - 39s 459ms/step - loss: 0.4761 - accuracy: 0.7827 - val_loss: 0.4969 - val_accuracy: 0.7637\n",
      "Epoch 5/50\n",
      "85/85 [==============================] - 39s 463ms/step - loss: 0.4567 - accuracy: 0.7997 - val_loss: 0.4861 - val_accuracy: 0.7637\n",
      "Epoch 6/50\n",
      "85/85 [==============================] - 39s 464ms/step - loss: 0.4401 - accuracy: 0.8122 - val_loss: 0.4573 - val_accuracy: 0.7888\n",
      "Epoch 7/50\n",
      "85/85 [==============================] - 39s 464ms/step - loss: 0.4280 - accuracy: 0.8189 - val_loss: 0.4666 - val_accuracy: 0.7755\n",
      "Epoch 8/50\n",
      "85/85 [==============================] - 39s 464ms/step - loss: 0.4198 - accuracy: 0.8248 - val_loss: 0.4376 - val_accuracy: 0.7976\n",
      "Epoch 9/50\n",
      "85/85 [==============================] - 39s 465ms/step - loss: 0.4056 - accuracy: 0.8359 - val_loss: 0.4294 - val_accuracy: 0.8021\n",
      "Epoch 10/50\n",
      "85/85 [==============================] - 40s 467ms/step - loss: 0.3972 - accuracy: 0.8454 - val_loss: 0.4406 - val_accuracy: 0.7947\n",
      "Epoch 11/50\n",
      "85/85 [==============================] - 39s 465ms/step - loss: 0.3876 - accuracy: 0.8458 - val_loss: 0.4395 - val_accuracy: 0.7903\n",
      "Epoch 12/50\n",
      "85/85 [==============================] - 39s 464ms/step - loss: 0.3820 - accuracy: 0.8528 - val_loss: 0.4144 - val_accuracy: 0.8109\n",
      "Epoch 13/50\n",
      "85/85 [==============================] - 40s 465ms/step - loss: 0.3718 - accuracy: 0.8565 - val_loss: 0.4131 - val_accuracy: 0.8109\n",
      "Epoch 14/50\n",
      "85/85 [==============================] - 39s 464ms/step - loss: 0.3663 - accuracy: 0.8565 - val_loss: 0.4145 - val_accuracy: 0.8050\n",
      "Epoch 15/50\n",
      "85/85 [==============================] - 39s 464ms/step - loss: 0.3602 - accuracy: 0.8654 - val_loss: 0.4136 - val_accuracy: 0.8109\n",
      "Epoch 16/50\n",
      "85/85 [==============================] - 40s 466ms/step - loss: 0.3537 - accuracy: 0.8665 - val_loss: 0.4149 - val_accuracy: 0.8080\n",
      "Epoch 17/50\n",
      "85/85 [==============================] - 39s 465ms/step - loss: 0.3489 - accuracy: 0.8713 - val_loss: 0.4355 - val_accuracy: 0.7843\n",
      "Epoch 18/50\n",
      "85/85 [==============================] - 40s 465ms/step - loss: 0.3457 - accuracy: 0.8676 - val_loss: 0.4023 - val_accuracy: 0.8109\n",
      "Epoch 19/50\n",
      "85/85 [==============================] - 40s 466ms/step - loss: 0.3368 - accuracy: 0.8727 - val_loss: 0.3922 - val_accuracy: 0.8213\n",
      "Epoch 20/50\n",
      "85/85 [==============================] - 40s 465ms/step - loss: 0.3336 - accuracy: 0.8764 - val_loss: 0.3814 - val_accuracy: 0.8301\n",
      "Epoch 21/50\n",
      "85/85 [==============================] - 40s 467ms/step - loss: 0.3260 - accuracy: 0.8823 - val_loss: 0.3939 - val_accuracy: 0.8168\n",
      "Epoch 22/50\n",
      "85/85 [==============================] - 40s 467ms/step - loss: 0.3231 - accuracy: 0.8816 - val_loss: 0.3759 - val_accuracy: 0.8331\n",
      "Epoch 23/50\n",
      "85/85 [==============================] - 39s 465ms/step - loss: 0.3181 - accuracy: 0.8834 - val_loss: 0.3758 - val_accuracy: 0.8346\n",
      "Epoch 24/50\n",
      "85/85 [==============================] - 40s 467ms/step - loss: 0.3139 - accuracy: 0.8860 - val_loss: 0.3751 - val_accuracy: 0.8331\n",
      "Epoch 25/50\n",
      "85/85 [==============================] - 40s 465ms/step - loss: 0.3122 - accuracy: 0.8868 - val_loss: 0.3854 - val_accuracy: 0.8183\n",
      "Epoch 26/50\n",
      "85/85 [==============================] - 40s 466ms/step - loss: 0.3114 - accuracy: 0.8868 - val_loss: 0.3982 - val_accuracy: 0.8095\n",
      "Epoch 27/50\n",
      "85/85 [==============================] - 40s 467ms/step - loss: 0.3021 - accuracy: 0.8882 - val_loss: 0.3686 - val_accuracy: 0.8331\n",
      "Epoch 28/50\n",
      "85/85 [==============================] - 40s 465ms/step - loss: 0.2985 - accuracy: 0.8890 - val_loss: 0.3631 - val_accuracy: 0.8419\n",
      "Epoch 29/50\n",
      "85/85 [==============================] - 40s 468ms/step - loss: 0.2948 - accuracy: 0.8919 - val_loss: 0.3821 - val_accuracy: 0.8139\n",
      "Epoch 30/50\n",
      "85/85 [==============================] - 40s 468ms/step - loss: 0.2940 - accuracy: 0.8875 - val_loss: 0.3671 - val_accuracy: 0.8316\n",
      "Epoch 31/50\n",
      "85/85 [==============================] - 40s 466ms/step - loss: 0.2904 - accuracy: 0.8941 - val_loss: 0.3622 - val_accuracy: 0.8360\n",
      "Epoch 32/50\n",
      "85/85 [==============================] - 40s 467ms/step - loss: 0.2853 - accuracy: 0.8975 - val_loss: 0.3560 - val_accuracy: 0.8405\n",
      "Epoch 33/50\n",
      "85/85 [==============================] - 40s 465ms/step - loss: 0.2840 - accuracy: 0.8949 - val_loss: 0.3464 - val_accuracy: 0.8434\n",
      "Epoch 34/50\n",
      "85/85 [==============================] - 40s 466ms/step - loss: 0.2801 - accuracy: 0.9015 - val_loss: 0.3448 - val_accuracy: 0.8464\n",
      "Epoch 35/50\n",
      "85/85 [==============================] - 40s 472ms/step - loss: 0.2764 - accuracy: 0.9019 - val_loss: 0.3529 - val_accuracy: 0.8375\n",
      "Epoch 36/50\n",
      "85/85 [==============================] - 41s 478ms/step - loss: 0.2728 - accuracy: 0.9048 - val_loss: 0.3517 - val_accuracy: 0.8419\n",
      "Epoch 37/50\n",
      "85/85 [==============================] - 40s 475ms/step - loss: 0.2714 - accuracy: 0.9023 - val_loss: 0.3447 - val_accuracy: 0.8449\n",
      "Epoch 38/50\n",
      "85/85 [==============================] - 40s 472ms/step - loss: 0.2675 - accuracy: 0.9045 - val_loss: 0.3502 - val_accuracy: 0.8360\n",
      "Epoch 39/50\n",
      "85/85 [==============================] - 40s 466ms/step - loss: 0.2658 - accuracy: 0.9048 - val_loss: 0.3484 - val_accuracy: 0.8405\n",
      "Epoch 40/50\n",
      "85/85 [==============================] - 40s 466ms/step - loss: 0.2630 - accuracy: 0.9056 - val_loss: 0.3379 - val_accuracy: 0.8493\n",
      "Epoch 41/50\n",
      "85/85 [==============================] - 39s 465ms/step - loss: 0.2617 - accuracy: 0.9093 - val_loss: 0.3457 - val_accuracy: 0.8405\n",
      "Epoch 42/50\n",
      "85/85 [==============================] - 39s 464ms/step - loss: 0.2578 - accuracy: 0.9141 - val_loss: 0.3534 - val_accuracy: 0.8390\n",
      "Epoch 43/50\n",
      "85/85 [==============================] - 39s 465ms/step - loss: 0.2540 - accuracy: 0.9100 - val_loss: 0.3341 - val_accuracy: 0.8479\n",
      "Epoch 44/50\n",
      "85/85 [==============================] - 40s 465ms/step - loss: 0.2531 - accuracy: 0.9082 - val_loss: 0.3292 - val_accuracy: 0.8552\n",
      "Epoch 45/50\n",
      "85/85 [==============================] - 40s 467ms/step - loss: 0.2486 - accuracy: 0.9159 - val_loss: 0.3310 - val_accuracy: 0.8493\n",
      "Epoch 46/50\n",
      "85/85 [==============================] - 40s 465ms/step - loss: 0.2489 - accuracy: 0.9118 - val_loss: 0.3322 - val_accuracy: 0.8449\n",
      "Epoch 47/50\n",
      "85/85 [==============================] - 40s 465ms/step - loss: 0.2459 - accuracy: 0.9148 - val_loss: 0.3424 - val_accuracy: 0.8419\n",
      "Epoch 48/50\n",
      "85/85 [==============================] - 39s 464ms/step - loss: 0.2434 - accuracy: 0.9166 - val_loss: 0.3223 - val_accuracy: 0.8597\n",
      "Epoch 49/50\n",
      "85/85 [==============================] - 39s 464ms/step - loss: 0.2407 - accuracy: 0.9181 - val_loss: 0.3327 - val_accuracy: 0.8449\n",
      "Epoch 50/50\n",
      "85/85 [==============================] - 40s 465ms/step - loss: 0.2381 - accuracy: 0.9185 - val_loss: 0.3247 - val_accuracy: 0.8508\n"
     ]
    }
   ],
   "source": [
    "results = model.fit(\n",
    "    train_ds,\n",
    "    batch_size = 32,\n",
    "    epochs = 50,\n",
    "    validation_data = val_ds,\n",
    "    verbose=1,\n",
    ")"
   ]
  },
  {
   "cell_type": "code",
   "execution_count": 6,
   "metadata": {},
   "outputs": [
    {
     "data": {
      "image/png": "[encoded data removed]",
      "text/plain": [
       "<Figure size 432x288 with 1 Axes>"
      ]
     },
     "metadata": {
      "needs_background": "light"
     },
     "output_type": "display_data"
    }
   ],
   "source": [
    "results.history.keys()\n",
    "import matplotlib.pyplot as plt\n",
    "%matplotlib inline\n",
    "plt.plot(results.history['loss'][1:])\n",
    "plt.plot(results.history['val_loss'][1:])\n",
    "plt.legend(['Training', 'Validation'])\n",
    "plt.title('Training and Validation losses')\n",
    "plt.xlabel('epoch')\n",
    "plt.savefig(\"./Resnet_101_ct_mix.png\")"
   ]
  },
  {
   "cell_type": "code",
   "execution_count": 7,
   "metadata": {},
   "outputs": [],
   "source": [
    "# We will try to train the last stage of ResNet101\n",
    "for layer in base_model.layers[0:143]:\n",
    "  layer.trainable = False\n",
    " \n",
    "for layer in base_model.layers[143:]:\n",
    "  layer.trainable = True"
   ]
  },
  {
   "cell_type": "code",
   "execution_count": 8,
   "metadata": {},
   "outputs": [
    {
     "name": "stdout",
     "output_type": "stream",
     "text": [
      "Epoch 1/15\n",
      "85/85 [==============================] - 39s 463ms/step - loss: 0.2361 - accuracy: 0.9185 - val_loss: 0.3284 - val_accuracy: 0.8464\n",
      "Epoch 2/15\n",
      "85/85 [==============================] - 40s 465ms/step - loss: 0.2348 - accuracy: 0.9214 - val_loss: 0.3249 - val_accuracy: 0.8508\n",
      "Epoch 3/15\n",
      "85/85 [==============================] - 39s 464ms/step - loss: 0.2322 - accuracy: 0.9200 - val_loss: 0.3190 - val_accuracy: 0.8567\n",
      "Epoch 4/15\n",
      "85/85 [==============================] - 40s 465ms/step - loss: 0.2294 - accuracy: 0.9233 - val_loss: 0.3328 - val_accuracy: 0.8479\n",
      "Epoch 5/15\n",
      "85/85 [==============================] - 40s 465ms/step - loss: 0.2267 - accuracy: 0.9240 - val_loss: 0.3171 - val_accuracy: 0.8552\n",
      "Epoch 6/15\n",
      "85/85 [==============================] - 40s 467ms/step - loss: 0.2258 - accuracy: 0.9284 - val_loss: 0.3105 - val_accuracy: 0.8597\n",
      "Epoch 7/15\n",
      "85/85 [==============================] - 40s 472ms/step - loss: 0.2240 - accuracy: 0.9270 - val_loss: 0.3086 - val_accuracy: 0.8626\n",
      "Epoch 8/15\n",
      "85/85 [==============================] - 40s 470ms/step - loss: 0.2222 - accuracy: 0.9284 - val_loss: 0.3292 - val_accuracy: 0.8493\n",
      "Epoch 9/15\n",
      "85/85 [==============================] - 40s 470ms/step - loss: 0.2211 - accuracy: 0.9262 - val_loss: 0.3132 - val_accuracy: 0.8597\n",
      "Epoch 10/15\n",
      "85/85 [==============================] - 40s 474ms/step - loss: 0.2183 - accuracy: 0.9262 - val_loss: 0.3090 - val_accuracy: 0.8626\n",
      "Epoch 11/15\n",
      "85/85 [==============================] - 40s 470ms/step - loss: 0.2164 - accuracy: 0.9314 - val_loss: 0.3112 - val_accuracy: 0.8597\n",
      "Epoch 12/15\n",
      "85/85 [==============================] - 40s 471ms/step - loss: 0.2151 - accuracy: 0.9321 - val_loss: 0.3105 - val_accuracy: 0.8597\n",
      "Epoch 13/15\n",
      "85/85 [==============================] - 40s 470ms/step - loss: 0.2128 - accuracy: 0.9299 - val_loss: 0.3020 - val_accuracy: 0.8700\n",
      "Epoch 14/15\n",
      "85/85 [==============================] - 40s 471ms/step - loss: 0.2118 - accuracy: 0.9295 - val_loss: 0.3021 - val_accuracy: 0.8685\n",
      "Epoch 15/15\n",
      "85/85 [==============================] - 40s 469ms/step - loss: 0.2092 - accuracy: 0.9347 - val_loss: 0.3057 - val_accuracy: 0.8597\n",
      "WARNING:tensorflow:From C:\\Users\\15014\\Anaconda3\\lib\\site-packages\\tensorflow\\python\\training\\tracking\\tracking.py:111: Model.state_updates (from tensorflow.python.keras.engine.training) is deprecated and will be removed in a future version.\n",
      "Instructions for updating:\n",
      "This property should not be used in TensorFlow 2.0, as updates are applied automatically.\n",
      "WARNING:tensorflow:From C:\\Users\\15014\\Anaconda3\\lib\\site-packages\\tensorflow\\python\\training\\tracking\\tracking.py:111: Layer.updates (from tensorflow.python.keras.engine.base_layer) is deprecated and will be removed in a future version.\n",
      "Instructions for updating:\n",
      "This property should not be used in TensorFlow 2.0, as updates are applied automatically.\n",
      "INFO:tensorflow:Assets written to: ./Resnet_101_ct_mix\\assets\n"
     ]
    }
   ],
   "source": [
    "results = model.fit(\n",
    "    train_ds,\n",
    "    batch_size = 32,\n",
    "    epochs = 15,\n",
    "    validation_data = val_ds,\n",
    "    verbose=1,\n",
    ")\n",
    "\n",
    "model.save(\"./Resnet_101_ct_mix\")"
   ]
  },
  {
   "cell_type": "code",
   "execution_count": 9,
   "metadata": {},
   "outputs": [
    {
     "name": "stdout",
     "output_type": "stream",
     "text": [
      "17/17 [==============================] - 6s 355ms/step - loss: 0.3763 - accuracy: 0.8487\n"
     ]
    },
    {
     "data": {
      "text/plain": [
       "[0.376295804977417, 0.8487085103988647]"
      ]
     },
     "execution_count": 9,
     "metadata": {},
     "output_type": "execute_result"
    }
   ],
   "source": [
    "model.evaluate(test_ds)"
   ]
  }
 ],
 "metadata": {
  "kernelspec": {
   "display_name": "Python 3",
   "language": "python",
   "name": "python3"
  },
  "language_info": {
   "codemirror_mode": {
    "name": "ipython",
    "version": 3
   },
   "file_extension": ".py",
   "mimetype": "text/x-python",
   "name": "python",
   "nbconvert_exporter": "python",
   "pygments_lexer": "ipython3",
   "version": "3.7.4"
  }
 },
 "nbformat": 4,
 "nbformat_minor": 2
}
