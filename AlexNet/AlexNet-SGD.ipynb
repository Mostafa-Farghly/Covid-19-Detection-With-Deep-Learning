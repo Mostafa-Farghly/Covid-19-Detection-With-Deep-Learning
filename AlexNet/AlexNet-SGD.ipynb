{
 "cells": [
  {
   "cell_type": "code",
   "execution_count": 1,
   "metadata": {},
   "outputs": [],
   "source": [
    "import tensorflow as tf\n",
    "from tensorflow import keras\n",
    "from tensorflow.keras import layers\n",
    "from tensorflow.keras.optimizers import SGD\n",
    "import PIL"
   ]
  },
  {
   "cell_type": "markdown",
   "metadata": {},
   "source": [
    "### Building AlexNet's Model"
   ]
  },
  {
   "cell_type": "code",
   "execution_count": 2,
   "metadata": {},
   "outputs": [],
   "source": [
    "num_classes = 2\n",
    "\n",
    "model = tf.keras.Sequential([\n",
    "    \n",
    "    layers.Conv2D(96, 11, strides=4),\n",
    "    layers.Activation('relu'),\n",
    "    layers.MaxPooling2D(3, strides=2),\n",
    "    \n",
    "    layers.Conv2D(256, 5, padding='same'),\n",
    "    layers.Activation('relu'),\n",
    "    layers.MaxPooling2D(3, strides=2),\n",
    "    \n",
    "    layers.Conv2D(384, 3, padding='same'),\n",
    "    layers.Activation('relu'),\n",
    "    \n",
    "    layers.Conv2D(384, 3, padding='same'),\n",
    "    layers.Activation('relu'),\n",
    "    \n",
    "    layers.Conv2D(256, 3, padding='same'),\n",
    "    layers.Activation('relu'),\n",
    "    layers.MaxPooling2D(3, strides=2),\n",
    "    \n",
    "    layers.Flatten(),\n",
    "    \n",
    "    layers.Dense(9216),\n",
    "    layers.Activation('relu'),\n",
    "    \n",
    "    layers.Dense(4096),\n",
    "    layers.Activation('relu'),\n",
    "    \n",
    "    layers.Dense(4096),\n",
    "    layers.Activation('relu'),\n",
    "    \n",
    "    layers.Dense(num_classes),\n",
    "    layers.Activation('softmax')\n",
    "])"
   ]
  },
  {
   "cell_type": "code",
   "execution_count": 3,
   "metadata": {},
   "outputs": [],
   "source": [
    "model.compile(loss=keras.losses.categorical_crossentropy, optimizer=SGD(lr=0.0001, momentum=0.9), metrics=['accuracy'])"
   ]
  },
  {
   "cell_type": "markdown",
   "metadata": {},
   "source": [
    "### Dataset 1"
   ]
  },
  {
   "cell_type": "code",
   "execution_count": 4,
   "metadata": {},
   "outputs": [
    {
     "name": "stdout",
     "output_type": "stream",
     "text": [
      "Found 425 files belonging to 2 classes.\n",
      "Found 118 files belonging to 2 classes.\n",
      "Found 203 files belonging to 2 classes.\n"
     ]
    }
   ],
   "source": [
    "train_ds = keras.preprocessing.image_dataset_from_directory( r'../datasets/ct-sub-datasets/train',\n",
    "                                                               image_size=(227, 227),\n",
    "                                                               batch_size=32,\n",
    "                                                               label_mode='categorical')\n",
    "\n",
    "val_ds = keras.preprocessing.image_dataset_from_directory( r'../datasets/ct-sub-datasets/val/',\n",
    "                                                             image_size=(227, 227),\n",
    "                                                             batch_size=32,\n",
    "                                                             label_mode='categorical')\n",
    "\n",
    "test_ds = keras.preprocessing.image_dataset_from_directory( r'../datasets/ct-sub-datasets/test/',\n",
    "                                                             image_size=(227, 227),\n",
    "                                                             batch_size=32,\n",
    "                                                             label_mode='categorical')"
   ]
  },
  {
   "cell_type": "code",
   "execution_count": 5,
   "metadata": {},
   "outputs": [
    {
     "name": "stdout",
     "output_type": "stream",
     "text": [
      "Epoch 1/50\n",
      "14/14 [==============================] - 3s 219ms/step - loss: 2.6304 - accuracy: 0.5271 - val_loss: 0.7588 - val_accuracy: 0.5085\n",
      "Epoch 2/50\n",
      "14/14 [==============================] - 2s 172ms/step - loss: 0.7659 - accuracy: 0.5671 - val_loss: 0.8538 - val_accuracy: 0.4915\n",
      "Epoch 3/50\n",
      "14/14 [==============================] - 2s 172ms/step - loss: 0.6200 - accuracy: 0.6494 - val_loss: 0.7996 - val_accuracy: 0.4831\n",
      "Epoch 4/50\n",
      "14/14 [==============================] - 2s 172ms/step - loss: 0.6503 - accuracy: 0.5741 - val_loss: 0.8904 - val_accuracy: 0.4831\n",
      "Epoch 5/50\n",
      "14/14 [==============================] - 2s 175ms/step - loss: 0.6241 - accuracy: 0.6612 - val_loss: 0.8639 - val_accuracy: 0.4831\n",
      "Epoch 6/50\n",
      "14/14 [==============================] - 2s 177ms/step - loss: 0.5572 - accuracy: 0.7012 - val_loss: 0.8756 - val_accuracy: 0.4831\n",
      "Epoch 7/50\n",
      "14/14 [==============================] - 2s 173ms/step - loss: 0.5232 - accuracy: 0.7318 - val_loss: 1.2098 - val_accuracy: 0.4915\n",
      "Epoch 8/50\n",
      "14/14 [==============================] - 2s 173ms/step - loss: 0.5668 - accuracy: 0.7129 - val_loss: 0.8026 - val_accuracy: 0.5763\n",
      "Epoch 9/50\n",
      "14/14 [==============================] - 2s 173ms/step - loss: 0.5636 - accuracy: 0.6918 - val_loss: 0.6933 - val_accuracy: 0.6186\n",
      "Epoch 10/50\n",
      "14/14 [==============================] - 2s 173ms/step - loss: 0.4993 - accuracy: 0.7435 - val_loss: 0.8073 - val_accuracy: 0.6186\n",
      "Epoch 11/50\n",
      "14/14 [==============================] - 2s 172ms/step - loss: 0.4761 - accuracy: 0.7576 - val_loss: 0.7400 - val_accuracy: 0.6017\n",
      "Epoch 12/50\n",
      "14/14 [==============================] - 2s 173ms/step - loss: 0.4727 - accuracy: 0.7788 - val_loss: 0.7587 - val_accuracy: 0.6610\n",
      "Epoch 13/50\n",
      "14/14 [==============================] - 2s 172ms/step - loss: 0.4679 - accuracy: 0.7741 - val_loss: 0.7526 - val_accuracy: 0.6017\n",
      "Epoch 14/50\n",
      "14/14 [==============================] - 2s 172ms/step - loss: 0.4246 - accuracy: 0.8188 - val_loss: 0.8196 - val_accuracy: 0.5932\n",
      "Epoch 15/50\n",
      "14/14 [==============================] - 2s 174ms/step - loss: 0.4283 - accuracy: 0.7788 - val_loss: 0.8259 - val_accuracy: 0.5763\n",
      "Epoch 16/50\n",
      "14/14 [==============================] - 2s 173ms/step - loss: 0.4538 - accuracy: 0.7788 - val_loss: 0.8226 - val_accuracy: 0.5847\n",
      "Epoch 17/50\n",
      "14/14 [==============================] - 2s 173ms/step - loss: 0.4727 - accuracy: 0.7553 - val_loss: 0.7166 - val_accuracy: 0.6525\n",
      "Epoch 18/50\n",
      "14/14 [==============================] - 2s 172ms/step - loss: 0.3222 - accuracy: 0.8565 - val_loss: 0.6883 - val_accuracy: 0.6695\n",
      "Epoch 19/50\n",
      "14/14 [==============================] - 2s 174ms/step - loss: 0.3421 - accuracy: 0.8376 - val_loss: 0.6770 - val_accuracy: 0.6441\n",
      "Epoch 20/50\n",
      "14/14 [==============================] - 2s 172ms/step - loss: 0.2798 - accuracy: 0.8847 - val_loss: 0.6916 - val_accuracy: 0.6695\n",
      "Epoch 21/50\n",
      "14/14 [==============================] - 2s 177ms/step - loss: 0.2430 - accuracy: 0.9153 - val_loss: 0.7639 - val_accuracy: 0.6864\n",
      "Epoch 22/50\n",
      "14/14 [==============================] - 2s 175ms/step - loss: 0.1565 - accuracy: 0.9506 - val_loss: 0.7778 - val_accuracy: 0.7119\n",
      "Epoch 23/50\n",
      "14/14 [==============================] - 2s 173ms/step - loss: 0.1397 - accuracy: 0.9624 - val_loss: 0.8702 - val_accuracy: 0.6780\n",
      "Epoch 24/50\n",
      "14/14 [==============================] - 2s 171ms/step - loss: 0.1034 - accuracy: 0.9765 - val_loss: 1.0647 - val_accuracy: 0.6441\n",
      "Epoch 25/50\n",
      "14/14 [==============================] - 2s 173ms/step - loss: 0.1116 - accuracy: 0.9765 - val_loss: 1.0845 - val_accuracy: 0.6102\n",
      "Epoch 26/50\n",
      "14/14 [==============================] - 2s 178ms/step - loss: 0.1032 - accuracy: 0.9788 - val_loss: 1.0022 - val_accuracy: 0.6610\n",
      "Epoch 27/50\n",
      "14/14 [==============================] - 2s 172ms/step - loss: 0.0751 - accuracy: 0.9882 - val_loss: 0.8882 - val_accuracy: 0.7034\n",
      "Epoch 28/50\n",
      "14/14 [==============================] - 2s 173ms/step - loss: 0.0537 - accuracy: 0.9953 - val_loss: 0.8854 - val_accuracy: 0.6610\n",
      "Epoch 29/50\n",
      "14/14 [==============================] - 2s 173ms/step - loss: 0.1797 - accuracy: 0.9176 - val_loss: 1.1407 - val_accuracy: 0.6610\n",
      "Epoch 30/50\n",
      "14/14 [==============================] - 2s 171ms/step - loss: 0.0774 - accuracy: 0.9882 - val_loss: 1.1065 - val_accuracy: 0.6441\n",
      "Epoch 31/50\n",
      "14/14 [==============================] - 2s 174ms/step - loss: 0.0482 - accuracy: 0.9882 - val_loss: 0.9589 - val_accuracy: 0.6864\n",
      "Epoch 32/50\n",
      "14/14 [==============================] - 2s 172ms/step - loss: 0.0665 - accuracy: 0.9788 - val_loss: 0.9216 - val_accuracy: 0.7034\n",
      "Epoch 33/50\n",
      "14/14 [==============================] - 2s 172ms/step - loss: 0.0768 - accuracy: 0.9812 - val_loss: 0.8657 - val_accuracy: 0.6949\n",
      "Epoch 34/50\n",
      "14/14 [==============================] - 2s 174ms/step - loss: 0.0350 - accuracy: 0.9976 - val_loss: 0.9292 - val_accuracy: 0.6864\n",
      "Epoch 35/50\n",
      "14/14 [==============================] - 2s 176ms/step - loss: 0.0440 - accuracy: 0.9906 - val_loss: 1.1734 - val_accuracy: 0.6695\n",
      "Epoch 36/50\n",
      "14/14 [==============================] - 2s 173ms/step - loss: 0.0180 - accuracy: 1.0000 - val_loss: 1.0026 - val_accuracy: 0.7034\n",
      "Epoch 37/50\n",
      "14/14 [==============================] - 2s 172ms/step - loss: 0.0133 - accuracy: 1.0000 - val_loss: 1.0518 - val_accuracy: 0.7119\n",
      "Epoch 38/50\n",
      "14/14 [==============================] - 2s 172ms/step - loss: 0.0063 - accuracy: 1.0000 - val_loss: 1.0869 - val_accuracy: 0.6864\n",
      "Epoch 39/50\n",
      "14/14 [==============================] - 2s 173ms/step - loss: 0.0056 - accuracy: 1.0000 - val_loss: 1.1389 - val_accuracy: 0.7119\n",
      "Epoch 40/50\n",
      "14/14 [==============================] - 2s 173ms/step - loss: 0.0041 - accuracy: 1.0000 - val_loss: 1.1382 - val_accuracy: 0.7034\n",
      "Epoch 41/50\n",
      "14/14 [==============================] - 2s 172ms/step - loss: 0.0034 - accuracy: 1.0000 - val_loss: 1.1601 - val_accuracy: 0.7034\n",
      "Epoch 42/50\n",
      "14/14 [==============================] - 2s 173ms/step - loss: 0.0032 - accuracy: 1.0000 - val_loss: 1.1649 - val_accuracy: 0.7034\n",
      "Epoch 43/50\n",
      "14/14 [==============================] - 2s 174ms/step - loss: 0.0030 - accuracy: 1.0000 - val_loss: 1.1623 - val_accuracy: 0.7119\n",
      "Epoch 44/50\n",
      "14/14 [==============================] - 2s 174ms/step - loss: 0.0027 - accuracy: 1.0000 - val_loss: 1.2061 - val_accuracy: 0.7034\n",
      "Epoch 45/50\n",
      "14/14 [==============================] - 2s 178ms/step - loss: 0.0026 - accuracy: 1.0000 - val_loss: 1.1849 - val_accuracy: 0.7119\n",
      "Epoch 46/50\n",
      "14/14 [==============================] - 2s 175ms/step - loss: 0.0025 - accuracy: 1.0000 - val_loss: 1.2529 - val_accuracy: 0.7034\n",
      "Epoch 47/50\n",
      "14/14 [==============================] - 2s 173ms/step - loss: 0.0024 - accuracy: 1.0000 - val_loss: 1.2215 - val_accuracy: 0.7034\n",
      "Epoch 48/50\n",
      "14/14 [==============================] - 2s 174ms/step - loss: 0.0022 - accuracy: 1.0000 - val_loss: 1.2493 - val_accuracy: 0.6949\n",
      "Epoch 49/50\n",
      "14/14 [==============================] - 2s 173ms/step - loss: 0.0021 - accuracy: 1.0000 - val_loss: 1.2298 - val_accuracy: 0.7034\n",
      "Epoch 50/50\n",
      "14/14 [==============================] - 2s 174ms/step - loss: 0.0020 - accuracy: 1.0000 - val_loss: 1.2470 - val_accuracy: 0.7034\n",
      "WARNING:tensorflow:From C:\\Users\\15014\\Anaconda3\\lib\\site-packages\\tensorflow\\python\\training\\tracking\\tracking.py:111: Model.state_updates (from tensorflow.python.keras.engine.training) is deprecated and will be removed in a future version.\n",
      "Instructions for updating:\n",
      "This property should not be used in TensorFlow 2.0, as updates are applied automatically.\n",
      "WARNING:tensorflow:From C:\\Users\\15014\\Anaconda3\\lib\\site-packages\\tensorflow\\python\\training\\tracking\\tracking.py:111: Layer.updates (from tensorflow.python.keras.engine.base_layer) is deprecated and will be removed in a future version.\n",
      "Instructions for updating:\n",
      "This property should not be used in TensorFlow 2.0, as updates are applied automatically.\n",
      "INFO:tensorflow:Assets written to: ./AlexNet_SGD_dataset_1\\assets\n"
     ]
    }
   ],
   "source": [
    "results = model.fit(\n",
    "    train_ds,\n",
    "    batch_size = 32,\n",
    "    epochs = 50,\n",
    "    validation_data = val_ds,\n",
    "    verbose=1,\n",
    ")\n",
    "\n",
    "model.save(\"./AlexNet_SGD_dataset_1\")"
   ]
  },
  {
   "cell_type": "code",
   "execution_count": 6,
   "metadata": {},
   "outputs": [
    {
     "data": {
      "image/png": "[encoded data removed]",
      "text/plain": [
       "<Figure size 432x288 with 1 Axes>"
      ]
     },
     "metadata": {
      "needs_background": "light"
     },
     "output_type": "display_data"
    }
   ],
   "source": [
    "results.history.keys()\n",
    "import matplotlib.pyplot as plt\n",
    "%matplotlib inline\n",
    "plt.plot(results.history['loss'][1:])\n",
    "plt.plot(results.history['val_loss'][1:])\n",
    "plt.legend(['Training', 'Validation'])\n",
    "plt.title('Training and Validation losses')\n",
    "plt.xlabel('epoch')\n",
    "plt.savefig(\"../project/AlexNet_SGD_ds_1.png\")"
   ]
  },
  {
   "cell_type": "code",
   "execution_count": 7,
   "metadata": {},
   "outputs": [
    {
     "name": "stdout",
     "output_type": "stream",
     "text": [
      "7/7 [==============================] - 0s 52ms/step - loss: 1.5759 - accuracy: 0.6601\n"
     ]
    },
    {
     "data": {
      "text/plain": [
       "[1.5758881568908691, 0.6600984930992126]"
      ]
     },
     "execution_count": 7,
     "metadata": {},
     "output_type": "execute_result"
    }
   ],
   "source": [
    "model.evaluate(test_ds)"
   ]
  },
  {
   "cell_type": "markdown",
   "metadata": {},
   "source": [
    "### Dataset 2"
   ]
  },
  {
   "cell_type": "code",
   "execution_count": 8,
   "metadata": {},
   "outputs": [
    {
     "name": "stdout",
     "output_type": "stream",
     "text": [
      "Found 612 files belonging to 2 classes.\n",
      "Found 99 files belonging to 2 classes.\n",
      "Found 91 files belonging to 2 classes.\n"
     ]
    }
   ],
   "source": [
    "train_ds = keras.preprocessing.image_dataset_from_directory( r'../datasets/data-try2/train',\n",
    "                                                               image_size=(227, 227),\n",
    "                                                               batch_size=32,\n",
    "                                                               label_mode='categorical')\n",
    "\n",
    "val_ds = keras.preprocessing.image_dataset_from_directory( r'../datasets/data-try2/validation/',\n",
    "                                                             image_size=(227, 227),\n",
    "                                                             batch_size=32,\n",
    "                                                             label_mode='categorical')\n",
    "\n",
    "test_ds = keras.preprocessing.image_dataset_from_directory( r'../datasets/data-try2/test/',\n",
    "                                                             image_size=(227, 227),\n",
    "                                                             batch_size=32,\n",
    "                                                             label_mode='categorical')"
   ]
  },
  {
   "cell_type": "code",
   "execution_count": 9,
   "metadata": {},
   "outputs": [],
   "source": [
    "AUTOTUNE = tf.data.experimental.AUTOTUNE\n",
    "\n",
    "train_ds = train_ds.cache().prefetch(buffer_size=AUTOTUNE)\n",
    "val_ds = val_ds.cache().prefetch(buffer_size=AUTOTUNE)"
   ]
  },
  {
   "cell_type": "code",
   "execution_count": 10,
   "metadata": {},
   "outputs": [
    {
     "name": "stdout",
     "output_type": "stream",
     "text": [
      "Epoch 1/50\n",
      "20/20 [==============================] - 3s 174ms/step - loss: 0.7271 - accuracy: 0.7582 - val_loss: 0.4827 - val_accuracy: 0.6869\n",
      "Epoch 2/50\n",
      "20/20 [==============================] - 2s 99ms/step - loss: 0.5395 - accuracy: 0.7304 - val_loss: 0.5231 - val_accuracy: 0.7071\n",
      "Epoch 3/50\n",
      "20/20 [==============================] - 2s 99ms/step - loss: 0.4460 - accuracy: 0.7794 - val_loss: 0.4325 - val_accuracy: 0.7677\n",
      "Epoch 4/50\n",
      "20/20 [==============================] - 2s 99ms/step - loss: 0.4094 - accuracy: 0.8007 - val_loss: 0.4094 - val_accuracy: 0.8182\n",
      "Epoch 5/50\n",
      "20/20 [==============================] - 2s 99ms/step - loss: 0.3449 - accuracy: 0.8366 - val_loss: 0.5175 - val_accuracy: 0.7677\n",
      "Epoch 6/50\n",
      "20/20 [==============================] - 2s 99ms/step - loss: 0.2364 - accuracy: 0.9085 - val_loss: 0.3449 - val_accuracy: 0.8485\n",
      "Epoch 7/50\n",
      "20/20 [==============================] - 2s 100ms/step - loss: 0.1771 - accuracy: 0.9281 - val_loss: 0.5928 - val_accuracy: 0.7576\n",
      "Epoch 8/50\n",
      "20/20 [==============================] - 2s 99ms/step - loss: 0.1491 - accuracy: 0.9461 - val_loss: 0.4241 - val_accuracy: 0.7980\n",
      "Epoch 9/50\n",
      "20/20 [==============================] - 2s 99ms/step - loss: 0.1328 - accuracy: 0.9641 - val_loss: 0.5793 - val_accuracy: 0.7475\n",
      "Epoch 10/50\n",
      "20/20 [==============================] - 2s 99ms/step - loss: 0.1323 - accuracy: 0.9575 - val_loss: 0.6245 - val_accuracy: 0.7475\n",
      "Epoch 11/50\n",
      "20/20 [==============================] - 2s 100ms/step - loss: 0.1349 - accuracy: 0.9592 - val_loss: 0.3947 - val_accuracy: 0.8182\n",
      "Epoch 12/50\n",
      "20/20 [==============================] - 2s 100ms/step - loss: 0.1416 - accuracy: 0.9510 - val_loss: 0.5201 - val_accuracy: 0.7879\n",
      "Epoch 13/50\n",
      "20/20 [==============================] - 2s 99ms/step - loss: 0.1583 - accuracy: 0.9297 - val_loss: 0.6348 - val_accuracy: 0.7677\n",
      "Epoch 14/50\n",
      "20/20 [==============================] - 2s 99ms/step - loss: 0.1898 - accuracy: 0.9134 - val_loss: 0.4205 - val_accuracy: 0.8283\n",
      "Epoch 15/50\n",
      "20/20 [==============================] - 2s 99ms/step - loss: 0.1374 - accuracy: 0.9461 - val_loss: 0.6095 - val_accuracy: 0.7374\n",
      "Epoch 16/50\n",
      "20/20 [==============================] - 2s 99ms/step - loss: 0.1545 - accuracy: 0.9265 - val_loss: 0.3759 - val_accuracy: 0.8182\n",
      "Epoch 17/50\n",
      "20/20 [==============================] - 2s 99ms/step - loss: 0.2024 - accuracy: 0.9036 - val_loss: 0.5663 - val_accuracy: 0.7576\n",
      "Epoch 18/50\n",
      "20/20 [==============================] - 2s 99ms/step - loss: 0.1647 - accuracy: 0.9314 - val_loss: 0.3779 - val_accuracy: 0.8485\n",
      "Epoch 19/50\n",
      "20/20 [==============================] - 2s 100ms/step - loss: 0.2365 - accuracy: 0.8987 - val_loss: 0.3772 - val_accuracy: 0.8485\n",
      "Epoch 20/50\n",
      "20/20 [==============================] - 2s 99ms/step - loss: 0.1434 - accuracy: 0.9493 - val_loss: 0.4839 - val_accuracy: 0.8182\n",
      "Epoch 21/50\n",
      "20/20 [==============================] - 2s 99ms/step - loss: 0.2697 - accuracy: 0.8791 - val_loss: 0.4093 - val_accuracy: 0.8384\n",
      "Epoch 22/50\n",
      "20/20 [==============================] - 2s 99ms/step - loss: 0.2091 - accuracy: 0.9052 - val_loss: 0.9013 - val_accuracy: 0.7273\n",
      "Epoch 23/50\n",
      "20/20 [==============================] - 2s 99ms/step - loss: 0.3274 - accuracy: 0.8431 - val_loss: 0.7468 - val_accuracy: 0.7273\n",
      "Epoch 24/50\n",
      "20/20 [==============================] - 2s 99ms/step - loss: 0.2709 - accuracy: 0.8742 - val_loss: 0.4288 - val_accuracy: 0.7879\n",
      "Epoch 25/50\n",
      "20/20 [==============================] - 2s 99ms/step - loss: 0.1073 - accuracy: 0.9592 - val_loss: 0.2937 - val_accuracy: 0.8990\n",
      "Epoch 26/50\n",
      "20/20 [==============================] - 2s 100ms/step - loss: 0.0226 - accuracy: 0.9984 - val_loss: 0.3329 - val_accuracy: 0.8889\n",
      "Epoch 27/50\n",
      "20/20 [==============================] - 2s 99ms/step - loss: 0.0100 - accuracy: 1.0000 - val_loss: 0.3380 - val_accuracy: 0.9091\n",
      "Epoch 28/50\n",
      "20/20 [==============================] - 2s 100ms/step - loss: 0.0067 - accuracy: 1.0000 - val_loss: 0.3566 - val_accuracy: 0.8788\n",
      "Epoch 29/50\n",
      "20/20 [==============================] - 2s 100ms/step - loss: 0.0050 - accuracy: 1.0000 - val_loss: 0.3571 - val_accuracy: 0.8990\n",
      "Epoch 30/50\n",
      "20/20 [==============================] - 2s 100ms/step - loss: 0.0040 - accuracy: 1.0000 - val_loss: 0.3638 - val_accuracy: 0.8889\n",
      "Epoch 31/50\n",
      "20/20 [==============================] - 2s 100ms/step - loss: 0.0034 - accuracy: 1.0000 - val_loss: 0.3667 - val_accuracy: 0.8889\n",
      "Epoch 32/50\n",
      "20/20 [==============================] - 2s 100ms/step - loss: 0.0030 - accuracy: 1.0000 - val_loss: 0.3707 - val_accuracy: 0.8889\n",
      "Epoch 33/50\n",
      "20/20 [==============================] - 2s 100ms/step - loss: 0.0026 - accuracy: 1.0000 - val_loss: 0.3744 - val_accuracy: 0.8889\n",
      "Epoch 34/50\n",
      "20/20 [==============================] - 2s 100ms/step - loss: 0.0024 - accuracy: 1.0000 - val_loss: 0.3777 - val_accuracy: 0.8889\n",
      "Epoch 35/50\n",
      "20/20 [==============================] - 2s 100ms/step - loss: 0.0022 - accuracy: 1.0000 - val_loss: 0.3806 - val_accuracy: 0.8889\n",
      "Epoch 36/50\n",
      "20/20 [==============================] - 2s 99ms/step - loss: 0.0020 - accuracy: 1.0000 - val_loss: 0.3836 - val_accuracy: 0.8889\n",
      "Epoch 37/50\n",
      "20/20 [==============================] - 2s 99ms/step - loss: 0.0019 - accuracy: 1.0000 - val_loss: 0.3860 - val_accuracy: 0.8889\n",
      "Epoch 38/50\n",
      "20/20 [==============================] - 2s 99ms/step - loss: 0.0017 - accuracy: 1.0000 - val_loss: 0.3881 - val_accuracy: 0.8889\n",
      "Epoch 39/50\n",
      "20/20 [==============================] - 2s 100ms/step - loss: 0.0016 - accuracy: 1.0000 - val_loss: 0.3903 - val_accuracy: 0.8889\n",
      "Epoch 40/50\n",
      "20/20 [==============================] - 2s 99ms/step - loss: 0.0015 - accuracy: 1.0000 - val_loss: 0.3922 - val_accuracy: 0.8889\n",
      "Epoch 41/50\n",
      "20/20 [==============================] - 2s 99ms/step - loss: 0.0014 - accuracy: 1.0000 - val_loss: 0.3944 - val_accuracy: 0.8889\n",
      "Epoch 42/50\n",
      "20/20 [==============================] - 2s 100ms/step - loss: 0.0014 - accuracy: 1.0000 - val_loss: 0.3962 - val_accuracy: 0.8889\n",
      "Epoch 43/50\n",
      "20/20 [==============================] - 2s 100ms/step - loss: 0.0013 - accuracy: 1.0000 - val_loss: 0.3982 - val_accuracy: 0.8889\n",
      "Epoch 44/50\n",
      "20/20 [==============================] - 2s 99ms/step - loss: 0.0012 - accuracy: 1.0000 - val_loss: 0.4000 - val_accuracy: 0.8889\n",
      "Epoch 45/50\n",
      "20/20 [==============================] - 2s 99ms/step - loss: 0.0012 - accuracy: 1.0000 - val_loss: 0.4017 - val_accuracy: 0.8889\n",
      "Epoch 46/50\n",
      "20/20 [==============================] - 2s 99ms/step - loss: 0.0011 - accuracy: 1.0000 - val_loss: 0.4034 - val_accuracy: 0.8788\n",
      "Epoch 47/50\n",
      "20/20 [==============================] - 2s 99ms/step - loss: 0.0011 - accuracy: 1.0000 - val_loss: 0.4049 - val_accuracy: 0.8889\n",
      "Epoch 48/50\n",
      "20/20 [==============================] - 2s 100ms/step - loss: 0.0010 - accuracy: 1.0000 - val_loss: 0.4066 - val_accuracy: 0.8788\n",
      "Epoch 49/50\n",
      "20/20 [==============================] - 2s 99ms/step - loss: 9.8473e-04 - accuracy: 1.0000 - val_loss: 0.4082 - val_accuracy: 0.8788\n",
      "Epoch 50/50\n",
      "20/20 [==============================] - 2s 99ms/step - loss: 9.4751e-04 - accuracy: 1.0000 - val_loss: 0.4098 - val_accuracy: 0.8788\n",
      "INFO:tensorflow:Assets written to: ./AlexNet_SGD_dataset_2\\assets\n"
     ]
    }
   ],
   "source": [
    "results = model.fit(\n",
    "    train_ds,\n",
    "    batch_size = 32,\n",
    "    epochs = 50,\n",
    "    validation_data = val_ds,\n",
    "    verbose=1,\n",
    ")\n",
    "\n",
    "model.save(\"./AlexNet_SGD_dataset_2\")"
   ]
  },
  {
   "cell_type": "code",
   "execution_count": 11,
   "metadata": {},
   "outputs": [
    {
     "data": {
      "image/png": "[encoded data removed]",
      "text/plain": [
       "<Figure size 432x288 with 1 Axes>"
      ]
     },
     "metadata": {
      "needs_background": "light"
     },
     "output_type": "display_data"
    }
   ],
   "source": [
    "results.history.keys()\n",
    "import matplotlib.pyplot as plt\n",
    "%matplotlib inline\n",
    "plt.plot(results.history['loss'][1:])\n",
    "plt.plot(results.history['val_loss'][1:])\n",
    "plt.legend(['Training', 'Validation'])\n",
    "plt.title('Training and Validation losses')\n",
    "plt.xlabel('epoch')\n",
    "plt.savefig(\"../project/AlexNet_SGD_ds_2.png\")"
   ]
  },
  {
   "cell_type": "code",
   "execution_count": 12,
   "metadata": {},
   "outputs": [
    {
     "name": "stdout",
     "output_type": "stream",
     "text": [
      "3/3 [==============================] - 0s 99ms/step - loss: 0.4346 - accuracy: 0.8791\n"
     ]
    },
    {
     "data": {
      "text/plain": [
       "[0.43457502126693726, 0.8791208863258362]"
      ]
     },
     "execution_count": 12,
     "metadata": {},
     "output_type": "execute_result"
    }
   ],
   "source": [
    "model.evaluate(test_ds)"
   ]
  },
  {
   "cell_type": "markdown",
   "metadata": {},
   "source": [
    "### Dataset 3"
   ]
  },
  {
   "cell_type": "code",
   "execution_count": 13,
   "metadata": {},
   "outputs": [
    {
     "name": "stdout",
     "output_type": "stream",
     "text": [
      "Found 2233 files belonging to 2 classes.\n",
      "Using 1787 files for training.\n",
      "Found 2233 files belonging to 2 classes.\n",
      "Using 446 files for validation.\n",
      "Found 248 files belonging to 2 classes.\n"
     ]
    }
   ],
   "source": [
    "train_ds = keras.preprocessing.image_dataset_from_directory( r'../datasets/kaggle-large-ct/train/',\n",
    "                                                               image_size=(227, 227),\n",
    "                                                               validation_split=0.2,\n",
    "                                                               subset=\"training\",\n",
    "                                                               seed=123,\n",
    "                                                               batch_size=32,\n",
    "                                                               label_mode='categorical')\n",
    "\n",
    "val_ds = keras.preprocessing.image_dataset_from_directory( r'../datasets/kaggle-large-ct/train/',\n",
    "                                                             image_size=(227, 227),\n",
    "                                                             validation_split=0.2,\n",
    "                                                             subset=\"validation\",\n",
    "                                                             seed=123,\n",
    "                                                             batch_size=32,\n",
    "                                                             label_mode='categorical')\n",
    "\n",
    "test_ds = keras.preprocessing.image_dataset_from_directory( r'../datasets/kaggle-large-ct/test/',\n",
    "                                                             image_size=(227, 227),\n",
    "                                                             batch_size=32,\n",
    "                                                             label_mode='categorical')"
   ]
  },
  {
   "cell_type": "code",
   "execution_count": 14,
   "metadata": {},
   "outputs": [
    {
     "name": "stdout",
     "output_type": "stream",
     "text": [
      "Epoch 1/50\n",
      "56/56 [==============================] - 12s 210ms/step - loss: 0.6512 - accuracy: 0.7112 - val_loss: 0.3705 - val_accuracy: 0.8363\n",
      "Epoch 2/50\n",
      "56/56 [==============================] - 11s 197ms/step - loss: 0.3218 - accuracy: 0.8663 - val_loss: 0.3504 - val_accuracy: 0.8386\n",
      "Epoch 3/50\n",
      "56/56 [==============================] - 11s 198ms/step - loss: 0.2474 - accuracy: 0.9054 - val_loss: 0.2419 - val_accuracy: 0.9058\n",
      "Epoch 4/50\n",
      "56/56 [==============================] - 11s 198ms/step - loss: 0.1869 - accuracy: 0.9250 - val_loss: 0.2382 - val_accuracy: 0.9013\n",
      "Epoch 5/50\n",
      "56/56 [==============================] - 11s 199ms/step - loss: 0.1384 - accuracy: 0.9502 - val_loss: 0.2196 - val_accuracy: 0.9126\n",
      "Epoch 6/50\n",
      "56/56 [==============================] - 11s 200ms/step - loss: 0.0779 - accuracy: 0.9787 - val_loss: 0.3085 - val_accuracy: 0.8879\n",
      "Epoch 7/50\n",
      "56/56 [==============================] - 11s 198ms/step - loss: 0.0502 - accuracy: 0.9899 - val_loss: 0.1923 - val_accuracy: 0.9260\n",
      "Epoch 8/50\n",
      "56/56 [==============================] - 11s 197ms/step - loss: 0.0292 - accuracy: 0.9961 - val_loss: 0.2076 - val_accuracy: 0.9238\n",
      "Epoch 9/50\n",
      "56/56 [==============================] - 11s 200ms/step - loss: 0.0169 - accuracy: 0.9989 - val_loss: 0.2629 - val_accuracy: 0.9058\n",
      "Epoch 10/50\n",
      "56/56 [==============================] - 11s 201ms/step - loss: 0.0551 - accuracy: 0.9815 - val_loss: 0.3047 - val_accuracy: 0.8901\n",
      "Epoch 11/50\n",
      "56/56 [==============================] - 11s 199ms/step - loss: 0.0257 - accuracy: 0.9955 - val_loss: 0.1963 - val_accuracy: 0.9260\n",
      "Epoch 12/50\n",
      "56/56 [==============================] - 11s 200ms/step - loss: 0.0097 - accuracy: 1.0000 - val_loss: 0.2144 - val_accuracy: 0.9283\n",
      "Epoch 13/50\n",
      "56/56 [==============================] - 11s 200ms/step - loss: 0.0052 - accuracy: 1.0000 - val_loss: 0.2010 - val_accuracy: 0.9305\n",
      "Epoch 14/50\n",
      "56/56 [==============================] - 11s 198ms/step - loss: 0.0032 - accuracy: 1.0000 - val_loss: 0.2047 - val_accuracy: 0.9327\n",
      "Epoch 15/50\n",
      "56/56 [==============================] - 11s 198ms/step - loss: 0.0026 - accuracy: 1.0000 - val_loss: 0.2097 - val_accuracy: 0.9305\n",
      "Epoch 16/50\n",
      "56/56 [==============================] - 11s 199ms/step - loss: 0.0022 - accuracy: 1.0000 - val_loss: 0.2113 - val_accuracy: 0.9327\n",
      "Epoch 17/50\n",
      "56/56 [==============================] - 11s 198ms/step - loss: 0.0020 - accuracy: 1.0000 - val_loss: 0.2124 - val_accuracy: 0.9283\n",
      "Epoch 18/50\n",
      "56/56 [==============================] - 11s 198ms/step - loss: 0.0018 - accuracy: 1.0000 - val_loss: 0.2137 - val_accuracy: 0.9327\n",
      "Epoch 19/50\n",
      "56/56 [==============================] - 11s 200ms/step - loss: 0.0016 - accuracy: 1.0000 - val_loss: 0.2152 - val_accuracy: 0.9305\n",
      "Epoch 20/50\n",
      "56/56 [==============================] - 11s 200ms/step - loss: 0.0015 - accuracy: 1.0000 - val_loss: 0.2166 - val_accuracy: 0.9283\n",
      "Epoch 21/50\n",
      "56/56 [==============================] - 11s 204ms/step - loss: 0.0014 - accuracy: 1.0000 - val_loss: 0.2174 - val_accuracy: 0.9305\n",
      "Epoch 22/50\n",
      "56/56 [==============================] - 11s 202ms/step - loss: 0.0013 - accuracy: 1.0000 - val_loss: 0.2187 - val_accuracy: 0.9305\n",
      "Epoch 23/50\n",
      "56/56 [==============================] - 11s 201ms/step - loss: 0.0012 - accuracy: 1.0000 - val_loss: 0.2214 - val_accuracy: 0.9305\n",
      "Epoch 24/50\n",
      "56/56 [==============================] - 11s 199ms/step - loss: 0.0011 - accuracy: 1.0000 - val_loss: 0.2212 - val_accuracy: 0.9327\n",
      "Epoch 25/50\n",
      "56/56 [==============================] - 11s 199ms/step - loss: 0.0011 - accuracy: 1.0000 - val_loss: 0.2216 - val_accuracy: 0.9305\n",
      "Epoch 26/50\n",
      "56/56 [==============================] - 11s 200ms/step - loss: 9.9129e-04 - accuracy: 1.0000 - val_loss: 0.2237 - val_accuracy: 0.9283\n",
      "Epoch 27/50\n",
      "56/56 [==============================] - 11s 199ms/step - loss: 9.4219e-04 - accuracy: 1.0000 - val_loss: 0.2240 - val_accuracy: 0.9327\n",
      "Epoch 28/50\n",
      "56/56 [==============================] - 11s 199ms/step - loss: 9.0065e-04 - accuracy: 1.0000 - val_loss: 0.2258 - val_accuracy: 0.9305\n",
      "Epoch 29/50\n",
      "56/56 [==============================] - 11s 199ms/step - loss: 8.4253e-04 - accuracy: 1.0000 - val_loss: 0.2253 - val_accuracy: 0.9327\n",
      "Epoch 30/50\n",
      "56/56 [==============================] - 11s 198ms/step - loss: 8.0565e-04 - accuracy: 1.0000 - val_loss: 0.2266 - val_accuracy: 0.9327\n",
      "Epoch 31/50\n",
      "56/56 [==============================] - 11s 200ms/step - loss: 7.6873e-04 - accuracy: 1.0000 - val_loss: 0.2265 - val_accuracy: 0.9305\n",
      "Epoch 32/50\n",
      "56/56 [==============================] - 11s 199ms/step - loss: 7.4441e-04 - accuracy: 1.0000 - val_loss: 0.2278 - val_accuracy: 0.9283\n",
      "Epoch 33/50\n",
      "56/56 [==============================] - 11s 199ms/step - loss: 7.1395e-04 - accuracy: 1.0000 - val_loss: 0.2278 - val_accuracy: 0.9305\n",
      "Epoch 34/50\n",
      "56/56 [==============================] - 11s 199ms/step - loss: 6.8559e-04 - accuracy: 1.0000 - val_loss: 0.2295 - val_accuracy: 0.9283\n",
      "Epoch 35/50\n",
      "56/56 [==============================] - 11s 198ms/step - loss: 6.6828e-04 - accuracy: 1.0000 - val_loss: 0.2289 - val_accuracy: 0.9327\n",
      "Epoch 36/50\n",
      "56/56 [==============================] - 11s 198ms/step - loss: 6.4146e-04 - accuracy: 1.0000 - val_loss: 0.2302 - val_accuracy: 0.9327\n",
      "Epoch 37/50\n",
      "56/56 [==============================] - 11s 199ms/step - loss: 6.2169e-04 - accuracy: 1.0000 - val_loss: 0.2316 - val_accuracy: 0.9327\n",
      "Epoch 38/50\n",
      "56/56 [==============================] - 11s 198ms/step - loss: 5.9094e-04 - accuracy: 1.0000 - val_loss: 0.2308 - val_accuracy: 0.9327\n",
      "Epoch 39/50\n",
      "56/56 [==============================] - 11s 198ms/step - loss: 5.7821e-04 - accuracy: 1.0000 - val_loss: 0.2323 - val_accuracy: 0.9327\n",
      "Epoch 40/50\n",
      "56/56 [==============================] - 11s 198ms/step - loss: 5.6039e-04 - accuracy: 1.0000 - val_loss: 0.2330 - val_accuracy: 0.9283\n",
      "Epoch 41/50\n",
      "56/56 [==============================] - 11s 198ms/step - loss: 5.4254e-04 - accuracy: 1.0000 - val_loss: 0.2332 - val_accuracy: 0.9327\n",
      "Epoch 42/50\n",
      "56/56 [==============================] - 11s 198ms/step - loss: 5.2327e-04 - accuracy: 1.0000 - val_loss: 0.2338 - val_accuracy: 0.9327\n",
      "Epoch 43/50\n",
      "56/56 [==============================] - 11s 199ms/step - loss: 5.1025e-04 - accuracy: 1.0000 - val_loss: 0.2350 - val_accuracy: 0.9327\n",
      "Epoch 44/50\n",
      "56/56 [==============================] - 12s 212ms/step - loss: 4.9261e-04 - accuracy: 1.0000 - val_loss: 0.2345 - val_accuracy: 0.9327\n",
      "Epoch 45/50\n",
      "56/56 [==============================] - 12s 213ms/step - loss: 4.8330e-04 - accuracy: 1.0000 - val_loss: 0.2347 - val_accuracy: 0.9283\n",
      "Epoch 46/50\n",
      "56/56 [==============================] - 11s 203ms/step - loss: 4.7396e-04 - accuracy: 1.0000 - val_loss: 0.2358 - val_accuracy: 0.9327\n",
      "Epoch 47/50\n",
      "56/56 [==============================] - 11s 202ms/step - loss: 4.5457e-04 - accuracy: 1.0000 - val_loss: 0.2367 - val_accuracy: 0.9327\n",
      "Epoch 48/50\n",
      "56/56 [==============================] - 11s 202ms/step - loss: 4.4602e-04 - accuracy: 1.0000 - val_loss: 0.2365 - val_accuracy: 0.9283\n",
      "Epoch 49/50\n",
      "56/56 [==============================] - 11s 199ms/step - loss: 4.3988e-04 - accuracy: 1.0000 - val_loss: 0.2374 - val_accuracy: 0.9350\n",
      "Epoch 50/50\n",
      "56/56 [==============================] - 11s 200ms/step - loss: 4.2285e-04 - accuracy: 1.0000 - val_loss: 0.2376 - val_accuracy: 0.9305\n",
      "INFO:tensorflow:Assets written to: ./AlexNet_SGD_dataset_3\\assets\n"
     ]
    }
   ],
   "source": [
    "results = model.fit(\n",
    "    train_ds,\n",
    "    batch_size = 32,\n",
    "    epochs = 50,\n",
    "    validation_data = val_ds,\n",
    "    verbose=1,\n",
    ")\n",
    "\n",
    "model.save(\"./AlexNet_SGD_dataset_3\")"
   ]
  },
  {
   "cell_type": "code",
   "execution_count": 15,
   "metadata": {},
   "outputs": [
    {
     "data": {
      "image/png": "[encoded data removed]",
      "text/plain": [
       "<Figure size 432x288 with 1 Axes>"
      ]
     },
     "metadata": {
      "needs_background": "light"
     },
     "output_type": "display_data"
    }
   ],
   "source": [
    "results.history.keys()\n",
    "import matplotlib.pyplot as plt\n",
    "%matplotlib inline\n",
    "plt.plot(results.history['loss'][1:])\n",
    "plt.plot(results.history['val_loss'][1:])\n",
    "plt.legend(['Training', 'Validation'])\n",
    "plt.title('Training and Validation losses')\n",
    "plt.xlabel('epoch')\n",
    "plt.savefig(\"../project/AlexNet_SGD_ds_3.png\")"
   ]
  },
  {
   "cell_type": "code",
   "execution_count": 16,
   "metadata": {},
   "outputs": [
    {
     "name": "stdout",
     "output_type": "stream",
     "text": [
      "8/8 [==============================] - 0s 57ms/step - loss: 0.7531 - accuracy: 0.8387\n"
     ]
    },
    {
     "data": {
      "text/plain": [
       "[0.7530869245529175, 0.8387096524238586]"
      ]
     },
     "execution_count": 16,
     "metadata": {},
     "output_type": "execute_result"
    }
   ],
   "source": [
    "model.evaluate(test_ds)"
   ]
  },
  {
   "cell_type": "markdown",
   "metadata": {},
   "source": [
    "### Dataset 4"
   ]
  },
  {
   "cell_type": "code",
   "execution_count": 17,
   "metadata": {},
   "outputs": [
    {
     "name": "stdout",
     "output_type": "stream",
     "text": [
      "Found 224 images belonging to 2 classes.\n",
      "Found 60 images belonging to 2 classes.\n"
     ]
    }
   ],
   "source": [
    "from keras.preprocessing.image import ImageDataGenerator\n",
    "\n",
    "training_datagen = ImageDataGenerator(rescale=1./255, shear_range=0.2, zoom_range=0.2, horizontal_flip=True)\n",
    "\n",
    "test_datagen = ImageDataGenerator(rescale=1./255)\n",
    "\n",
    "train_ds = training_datagen.flow_from_directory(r'../datasets/CovidDataset/Train',\n",
    "                                                target_size=(227, 227),\n",
    "                                                class_mode='categorical')\n",
    "\n",
    "val_ds = test_datagen.flow_from_directory(r'../datasets/CovidDataset/Val/',\n",
    "                                          target_size=(227, 227),\n",
    "                                          class_mode='categorical')"
   ]
  },
  {
   "cell_type": "code",
   "execution_count": 18,
   "metadata": {},
   "outputs": [
    {
     "name": "stdout",
     "output_type": "stream",
     "text": [
      "Epoch 1/50\n",
      "7/7 [==============================] - 9s 1s/step - loss: 0.6930 - accuracy: 0.4911 - val_loss: 0.6917 - val_accuracy: 0.4833\n",
      "Epoch 2/50\n",
      "7/7 [==============================] - 8s 1s/step - loss: 0.6926 - accuracy: 0.4777 - val_loss: 0.6911 - val_accuracy: 0.5333\n",
      "Epoch 3/50\n",
      "7/7 [==============================] - 8s 1s/step - loss: 0.6915 - accuracy: 0.5357 - val_loss: 0.6904 - val_accuracy: 0.5500\n",
      "Epoch 4/50\n",
      "7/7 [==============================] - 8s 1s/step - loss: 0.6913 - accuracy: 0.5625 - val_loss: 0.6897 - val_accuracy: 0.6000\n",
      "Epoch 5/50\n",
      "7/7 [==============================] - 8s 1s/step - loss: 0.6908 - accuracy: 0.6071 - val_loss: 0.6889 - val_accuracy: 0.7000\n",
      "Epoch 6/50\n",
      "7/7 [==============================] - 8s 1s/step - loss: 0.6898 - accuracy: 0.7143 - val_loss: 0.6882 - val_accuracy: 0.8000\n",
      "Epoch 7/50\n",
      "7/7 [==============================] - 8s 1s/step - loss: 0.6892 - accuracy: 0.7098 - val_loss: 0.6874 - val_accuracy: 0.8167\n",
      "Epoch 8/50\n",
      "7/7 [==============================] - 8s 1s/step - loss: 0.6882 - accuracy: 0.8304 - val_loss: 0.6866 - val_accuracy: 0.8667\n",
      "Epoch 9/50\n",
      "7/7 [==============================] - 8s 1s/step - loss: 0.6876 - accuracy: 0.8304 - val_loss: 0.6859 - val_accuracy: 0.9000\n",
      "Epoch 10/50\n",
      "7/7 [==============================] - 8s 1s/step - loss: 0.6868 - accuracy: 0.8571 - val_loss: 0.6852 - val_accuracy: 0.9333\n",
      "Epoch 11/50\n",
      "7/7 [==============================] - 8s 1s/step - loss: 0.6860 - accuracy: 0.9018 - val_loss: 0.6844 - val_accuracy: 0.9500\n",
      "Epoch 12/50\n",
      "7/7 [==============================] - 8s 1s/step - loss: 0.6856 - accuracy: 0.8929 - val_loss: 0.6837 - val_accuracy: 0.9500\n",
      "Epoch 13/50\n",
      "7/7 [==============================] - 8s 1s/step - loss: 0.6851 - accuracy: 0.8884 - val_loss: 0.6829 - val_accuracy: 0.9500\n",
      "Epoch 14/50\n",
      "7/7 [==============================] - 8s 1s/step - loss: 0.6841 - accuracy: 0.9107 - val_loss: 0.6822 - val_accuracy: 0.9667\n",
      "Epoch 15/50\n",
      "7/7 [==============================] - 8s 1s/step - loss: 0.6831 - accuracy: 0.9062 - val_loss: 0.6814 - val_accuracy: 0.9667\n",
      "Epoch 16/50\n",
      "7/7 [==============================] - 8s 1s/step - loss: 0.6822 - accuracy: 0.9420 - val_loss: 0.6807 - val_accuracy: 0.9667\n",
      "Epoch 17/50\n",
      "7/7 [==============================] - 7s 1s/step - loss: 0.6819 - accuracy: 0.9241 - val_loss: 0.6799 - val_accuracy: 0.9667\n",
      "Epoch 18/50\n",
      "7/7 [==============================] - 8s 1s/step - loss: 0.6813 - accuracy: 0.9241 - val_loss: 0.6792 - val_accuracy: 0.9667\n",
      "Epoch 19/50\n",
      "7/7 [==============================] - 7s 1s/step - loss: 0.6809 - accuracy: 0.9241 - val_loss: 0.6785 - val_accuracy: 0.9667\n",
      "Epoch 20/50\n",
      "7/7 [==============================] - 8s 1s/step - loss: 0.6805 - accuracy: 0.9062 - val_loss: 0.6777 - val_accuracy: 0.9667\n",
      "Epoch 21/50\n",
      "7/7 [==============================] - 8s 1s/step - loss: 0.6789 - accuracy: 0.9241 - val_loss: 0.6770 - val_accuracy: 0.9667\n",
      "Epoch 22/50\n",
      "7/7 [==============================] - 8s 1s/step - loss: 0.6782 - accuracy: 0.9286 - val_loss: 0.6762 - val_accuracy: 0.9667\n",
      "Epoch 23/50\n",
      "7/7 [==============================] - 8s 1s/step - loss: 0.6778 - accuracy: 0.9420 - val_loss: 0.6754 - val_accuracy: 0.9667\n",
      "Epoch 24/50\n",
      "7/7 [==============================] - 8s 1s/step - loss: 0.6780 - accuracy: 0.9107 - val_loss: 0.6746 - val_accuracy: 0.9667\n",
      "Epoch 25/50\n",
      "7/7 [==============================] - 8s 1s/step - loss: 0.6765 - accuracy: 0.9196 - val_loss: 0.6738 - val_accuracy: 0.9500\n",
      "Epoch 26/50\n",
      "7/7 [==============================] - 8s 1s/step - loss: 0.6753 - accuracy: 0.9375 - val_loss: 0.6730 - val_accuracy: 0.9500\n",
      "Epoch 27/50\n",
      "7/7 [==============================] - 8s 1s/step - loss: 0.6745 - accuracy: 0.9107 - val_loss: 0.6721 - val_accuracy: 0.9500\n",
      "Epoch 28/50\n",
      "7/7 [==============================] - 8s 1s/step - loss: 0.6727 - accuracy: 0.9375 - val_loss: 0.6713 - val_accuracy: 0.9500\n",
      "Epoch 29/50\n",
      "7/7 [==============================] - 8s 1s/step - loss: 0.6739 - accuracy: 0.9018 - val_loss: 0.6704 - val_accuracy: 0.9500\n",
      "Epoch 30/50\n",
      "7/7 [==============================] - 8s 1s/step - loss: 0.6721 - accuracy: 0.9420 - val_loss: 0.6695 - val_accuracy: 0.9500\n",
      "Epoch 31/50\n",
      "7/7 [==============================] - 7s 1s/step - loss: 0.6724 - accuracy: 0.9196 - val_loss: 0.6686 - val_accuracy: 0.9500\n",
      "Epoch 32/50\n",
      "7/7 [==============================] - 8s 1s/step - loss: 0.6715 - accuracy: 0.9107 - val_loss: 0.6677 - val_accuracy: 0.9500\n",
      "Epoch 33/50\n",
      "7/7 [==============================] - 7s 1s/step - loss: 0.6699 - accuracy: 0.9330 - val_loss: 0.6668 - val_accuracy: 0.9500\n",
      "Epoch 34/50\n",
      "7/7 [==============================] - 8s 1s/step - loss: 0.6689 - accuracy: 0.9107 - val_loss: 0.6659 - val_accuracy: 0.9500\n",
      "Epoch 35/50\n",
      "7/7 [==============================] - 8s 1s/step - loss: 0.6674 - accuracy: 0.9464 - val_loss: 0.6648 - val_accuracy: 0.9500\n",
      "Epoch 36/50\n",
      "7/7 [==============================] - 7s 1s/step - loss: 0.6680 - accuracy: 0.9152 - val_loss: 0.6639 - val_accuracy: 0.9500\n",
      "Epoch 37/50\n",
      "7/7 [==============================] - 7s 1s/step - loss: 0.6657 - accuracy: 0.9464 - val_loss: 0.6629 - val_accuracy: 0.9500\n",
      "Epoch 38/50\n",
      "7/7 [==============================] - 8s 1s/step - loss: 0.6644 - accuracy: 0.9464 - val_loss: 0.6618 - val_accuracy: 0.9500\n",
      "Epoch 39/50\n",
      "7/7 [==============================] - 8s 1s/step - loss: 0.6652 - accuracy: 0.9286 - val_loss: 0.6607 - val_accuracy: 0.9500\n",
      "Epoch 40/50\n",
      "7/7 [==============================] - 7s 1s/step - loss: 0.6630 - accuracy: 0.9509 - val_loss: 0.6596 - val_accuracy: 0.9500\n",
      "Epoch 41/50\n",
      "7/7 [==============================] - 8s 1s/step - loss: 0.6621 - accuracy: 0.9330 - val_loss: 0.6585 - val_accuracy: 0.9500\n",
      "Epoch 42/50\n",
      "7/7 [==============================] - 8s 1s/step - loss: 0.6628 - accuracy: 0.9107 - val_loss: 0.6574 - val_accuracy: 0.9500\n",
      "Epoch 43/50\n",
      "7/7 [==============================] - 8s 1s/step - loss: 0.6614 - accuracy: 0.9241 - val_loss: 0.6562 - val_accuracy: 0.9500\n",
      "Epoch 44/50\n",
      "7/7 [==============================] - 8s 1s/step - loss: 0.6595 - accuracy: 0.9464 - val_loss: 0.6550 - val_accuracy: 0.9500\n",
      "Epoch 45/50\n",
      "7/7 [==============================] - 8s 1s/step - loss: 0.6581 - accuracy: 0.9286 - val_loss: 0.6538 - val_accuracy: 0.9500\n",
      "Epoch 46/50\n",
      "7/7 [==============================] - 8s 1s/step - loss: 0.6553 - accuracy: 0.9420 - val_loss: 0.6525 - val_accuracy: 0.9500\n",
      "Epoch 47/50\n",
      "7/7 [==============================] - 8s 1s/step - loss: 0.6551 - accuracy: 0.9420 - val_loss: 0.6512 - val_accuracy: 0.9500\n",
      "Epoch 48/50\n",
      "7/7 [==============================] - 8s 1s/step - loss: 0.6544 - accuracy: 0.9286 - val_loss: 0.6499 - val_accuracy: 0.9500\n",
      "Epoch 49/50\n",
      "7/7 [==============================] - 8s 1s/step - loss: 0.6545 - accuracy: 0.9375 - val_loss: 0.6485 - val_accuracy: 0.9500\n",
      "Epoch 50/50\n",
      "7/7 [==============================] - 8s 1s/step - loss: 0.6508 - accuracy: 0.9375 - val_loss: 0.6471 - val_accuracy: 0.9500\n",
      "INFO:tensorflow:Assets written to: ./AlexNet_SGD_dataset_4\\assets\n"
     ]
    }
   ],
   "source": [
    "results = model.fit(\n",
    "    train_ds,\n",
    "    batch_size = 32,\n",
    "    epochs = 50,\n",
    "    validation_data = val_ds,\n",
    "    verbose=1,\n",
    ")\n",
    "\n",
    "model.save(\"./AlexNet_SGD_dataset_4\")"
   ]
  },
  {
   "cell_type": "code",
   "execution_count": 19,
   "metadata": {},
   "outputs": [
    {
     "data": {
      "image/png": "[encoded data removed]",
      "text/plain": [
       "<Figure size 432x288 with 1 Axes>"
      ]
     },
     "metadata": {
      "needs_background": "light"
     },
     "output_type": "display_data"
    }
   ],
   "source": [
    "results.history.keys()\n",
    "import matplotlib.pyplot as plt\n",
    "%matplotlib inline\n",
    "plt.plot(results.history['loss'][1:])\n",
    "plt.plot(results.history['val_loss'][1:])\n",
    "plt.legend(['Training', 'Validation'])\n",
    "plt.title('Training and Validation losses')\n",
    "plt.xlabel('epoch')\n",
    "plt.savefig(\"../project/AlexNet_SGD_ds_4.png\")"
   ]
  }
 ],
 "metadata": {
  "kernelspec": {
   "display_name": "Python 3",
   "language": "python",
   "name": "python3"
  },
  "language_info": {
   "codemirror_mode": {
    "name": "ipython",
    "version": 3
   },
   "file_extension": ".py",
   "mimetype": "text/x-python",
   "name": "python",
   "nbconvert_exporter": "python",
   "pygments_lexer": "ipython3",
   "version": "3.7.4"
  }
 },
 "nbformat": 4,
 "nbformat_minor": 2
}
