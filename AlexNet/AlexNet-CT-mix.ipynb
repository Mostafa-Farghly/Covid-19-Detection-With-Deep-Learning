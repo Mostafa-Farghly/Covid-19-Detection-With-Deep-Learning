{
 "cells": [
  {
   "cell_type": "code",
   "execution_count": 1,
   "metadata": {},
   "outputs": [],
   "source": [
    "import tensorflow as tf\n",
    "from tensorflow import keras\n",
    "from tensorflow.keras import layers\n",
    "from tensorflow.keras.optimizers import SGD\n",
    "import PIL"
   ]
  },
  {
   "cell_type": "markdown",
   "metadata": {},
   "source": [
    "### Building AlexNet's Customized Model"
   ]
  },
  {
   "cell_type": "code",
   "execution_count": 2,
   "metadata": {},
   "outputs": [],
   "source": [
    "num_classes = 2\n",
    "\n",
    "model = tf.keras.Sequential([\n",
    "    layers.experimental.preprocessing.Rescaling(1./255),\n",
    "    \n",
    "    layers.Conv2D(96, 11, strides=4),\n",
    "    layers.BatchNormalization(),\n",
    "    layers.Activation('relu'),\n",
    "    layers.MaxPooling2D(3, strides=2),\n",
    "    \n",
    "    layers.Conv2D(256, 5, padding='same'),\n",
    "    layers.BatchNormalization(),\n",
    "    layers.Activation('relu'),\n",
    "    layers.MaxPooling2D(3, strides=2),\n",
    "    \n",
    "    layers.Conv2D(384, 3, padding='same'),\n",
    "    layers.BatchNormalization(),\n",
    "    layers.Activation('relu'),\n",
    "    \n",
    "    layers.Conv2D(384, 3, padding='same'),\n",
    "    layers.BatchNormalization(),\n",
    "    layers.Activation('relu'),\n",
    "    \n",
    "    layers.Conv2D(256, 3, padding='same'),\n",
    "    layers.BatchNormalization(),\n",
    "    layers.Activation('relu'),\n",
    "    layers.MaxPooling2D(3, strides=2),\n",
    "    \n",
    "    layers.Flatten(),\n",
    "    \n",
    "    layers.Dense(9216),\n",
    "    layers.BatchNormalization(),\n",
    "    layers.Activation('relu'),\n",
    "    layers.Dropout(0.4),\n",
    "    \n",
    "    layers.Dense(4096),\n",
    "    layers.BatchNormalization(),\n",
    "    layers.Activation('relu'),\n",
    "    layers.Dropout(0.4),\n",
    "    \n",
    "    layers.Dense(4096),\n",
    "    layers.BatchNormalization(),\n",
    "    layers.Activation('relu'),\n",
    "    layers.Dropout(0.4),\n",
    "    \n",
    "    layers.Dense(num_classes),\n",
    "    layers.BatchNormalization(),\n",
    "    layers.Activation('softmax')\n",
    "])"
   ]
  },
  {
   "cell_type": "code",
   "execution_count": 3,
   "metadata": {},
   "outputs": [],
   "source": [
    "model.compile(loss=keras.losses.categorical_crossentropy, optimizer=SGD(lr=0.0001, momentum=0.9), metrics=['accuracy'])"
   ]
  },
  {
   "cell_type": "code",
   "execution_count": 4,
   "metadata": {},
   "outputs": [
    {
     "name": "stdout",
     "output_type": "stream",
     "text": [
      "Found 3388 files belonging to 2 classes.\n",
      "Using 2711 files for training.\n",
      "Found 3388 files belonging to 2 classes.\n",
      "Using 677 files for validation.\n",
      "Found 542 files belonging to 2 classes.\n"
     ]
    }
   ],
   "source": [
    "train_ds = keras.preprocessing.image_dataset_from_directory( r'../datasets/CT_mix/train/',\n",
    "                                                               image_size=(227, 227),\n",
    "                                                               validation_split=0.2,\n",
    "                                                               subset=\"training\",\n",
    "                                                               seed=123,\n",
    "                                                               batch_size=32,\n",
    "                                                               label_mode='categorical')\n",
    "\n",
    "val_ds = keras.preprocessing.image_dataset_from_directory( r'../datasets/CT_mix/train/',\n",
    "                                                             image_size=(227, 227),\n",
    "                                                             validation_split=0.2,\n",
    "                                                             subset=\"validation\",\n",
    "                                                             seed=123,\n",
    "                                                             batch_size=32,\n",
    "                                                             label_mode='categorical')\n",
    "\n",
    "test_ds = keras.preprocessing.image_dataset_from_directory( r'../datasets/CT_mix/test/',\n",
    "                                                             image_size=(227, 227),\n",
    "                                                             batch_size=32,\n",
    "                                                             label_mode='categorical')"
   ]
  },
  {
   "cell_type": "code",
   "execution_count": 5,
   "metadata": {},
   "outputs": [
    {
     "name": "stdout",
     "output_type": "stream",
     "text": [
      "Epoch 1/50\n",
      "85/85 [==============================] - 32s 376ms/step - loss: 0.8034 - accuracy: 0.5633 - val_loss: 0.8452 - val_accuracy: 0.4978\n",
      "Epoch 2/50\n",
      "85/85 [==============================] - 19s 228ms/step - loss: 0.6177 - accuracy: 0.6761 - val_loss: 0.8896 - val_accuracy: 0.4978\n",
      "Epoch 3/50\n",
      "85/85 [==============================] - 19s 226ms/step - loss: 0.5822 - accuracy: 0.7008 - val_loss: 0.7631 - val_accuracy: 0.5111\n",
      "Epoch 4/50\n",
      "85/85 [==============================] - 19s 226ms/step - loss: 0.5397 - accuracy: 0.7374 - val_loss: 0.6215 - val_accuracy: 0.6632\n",
      "Epoch 5/50\n",
      "85/85 [==============================] - 19s 229ms/step - loss: 0.5167 - accuracy: 0.7554 - val_loss: 0.5267 - val_accuracy: 0.7474\n",
      "Epoch 6/50\n",
      "85/85 [==============================] - 19s 226ms/step - loss: 0.4794 - accuracy: 0.7743 - val_loss: 0.4581 - val_accuracy: 0.8139\n",
      "Epoch 7/50\n",
      "85/85 [==============================] - 19s 226ms/step - loss: 0.4491 - accuracy: 0.8034 - val_loss: 0.4184 - val_accuracy: 0.8419\n",
      "Epoch 8/50\n",
      "85/85 [==============================] - 19s 228ms/step - loss: 0.4295 - accuracy: 0.8159 - val_loss: 0.4067 - val_accuracy: 0.8360\n",
      "Epoch 9/50\n",
      "85/85 [==============================] - 19s 228ms/step - loss: 0.4080 - accuracy: 0.8274 - val_loss: 0.3960 - val_accuracy: 0.8464\n",
      "Epoch 10/50\n",
      "85/85 [==============================] - 19s 229ms/step - loss: 0.3919 - accuracy: 0.8418 - val_loss: 0.3893 - val_accuracy: 0.8375\n",
      "Epoch 11/50\n",
      "85/85 [==============================] - 19s 226ms/step - loss: 0.3700 - accuracy: 0.8410 - val_loss: 0.3666 - val_accuracy: 0.8626\n",
      "Epoch 12/50\n",
      "85/85 [==============================] - 19s 227ms/step - loss: 0.3512 - accuracy: 0.8713 - val_loss: 0.3584 - val_accuracy: 0.8744\n",
      "Epoch 13/50\n",
      "85/85 [==============================] - 19s 226ms/step - loss: 0.3415 - accuracy: 0.8738 - val_loss: 0.3451 - val_accuracy: 0.8789\n",
      "Epoch 14/50\n",
      "85/85 [==============================] - 19s 227ms/step - loss: 0.3348 - accuracy: 0.8720 - val_loss: 0.3397 - val_accuracy: 0.8744\n",
      "Epoch 15/50\n",
      "85/85 [==============================] - 19s 229ms/step - loss: 0.3310 - accuracy: 0.8775 - val_loss: 0.3438 - val_accuracy: 0.8700\n",
      "Epoch 16/50\n",
      "85/85 [==============================] - 19s 227ms/step - loss: 0.2993 - accuracy: 0.9067 - val_loss: 0.3182 - val_accuracy: 0.8863\n",
      "Epoch 17/50\n",
      "85/85 [==============================] - 19s 227ms/step - loss: 0.3022 - accuracy: 0.9023 - val_loss: 0.3155 - val_accuracy: 0.8936\n",
      "Epoch 18/50\n",
      "85/85 [==============================] - 19s 228ms/step - loss: 0.2941 - accuracy: 0.9104 - val_loss: 0.3610 - val_accuracy: 0.8508\n",
      "Epoch 19/50\n",
      "85/85 [==============================] - 19s 227ms/step - loss: 0.2757 - accuracy: 0.9148 - val_loss: 0.3054 - val_accuracy: 0.8877\n",
      "Epoch 20/50\n",
      "85/85 [==============================] - 19s 228ms/step - loss: 0.2744 - accuracy: 0.9214 - val_loss: 0.3204 - val_accuracy: 0.8804\n",
      "Epoch 21/50\n",
      "85/85 [==============================] - 19s 228ms/step - loss: 0.2587 - accuracy: 0.9292 - val_loss: 0.2951 - val_accuracy: 0.9025\n",
      "Epoch 22/50\n",
      "85/85 [==============================] - 19s 227ms/step - loss: 0.2557 - accuracy: 0.9377 - val_loss: 0.2782 - val_accuracy: 0.9158\n",
      "Epoch 23/50\n",
      "85/85 [==============================] - 19s 227ms/step - loss: 0.2593 - accuracy: 0.9266 - val_loss: 0.2960 - val_accuracy: 0.9025\n",
      "Epoch 24/50\n",
      "85/85 [==============================] - 19s 227ms/step - loss: 0.2438 - accuracy: 0.9406 - val_loss: 0.2838 - val_accuracy: 0.9129\n",
      "Epoch 25/50\n",
      "85/85 [==============================] - 19s 228ms/step - loss: 0.2395 - accuracy: 0.9439 - val_loss: 0.2704 - val_accuracy: 0.9143\n",
      "Epoch 26/50\n",
      "85/85 [==============================] - 19s 227ms/step - loss: 0.2325 - accuracy: 0.9465 - val_loss: 0.2848 - val_accuracy: 0.8996\n",
      "Epoch 27/50\n",
      "85/85 [==============================] - 19s 228ms/step - loss: 0.2268 - accuracy: 0.9454 - val_loss: 0.2876 - val_accuracy: 0.9099\n",
      "Epoch 28/50\n",
      "85/85 [==============================] - 19s 228ms/step - loss: 0.2181 - accuracy: 0.9591 - val_loss: 0.2557 - val_accuracy: 0.9261\n",
      "Epoch 29/50\n",
      "85/85 [==============================] - 20s 230ms/step - loss: 0.2175 - accuracy: 0.9609 - val_loss: 0.2668 - val_accuracy: 0.9173\n",
      "Epoch 30/50\n",
      "85/85 [==============================] - 19s 228ms/step - loss: 0.2109 - accuracy: 0.9587 - val_loss: 0.2654 - val_accuracy: 0.9217\n",
      "Epoch 31/50\n",
      "85/85 [==============================] - 19s 229ms/step - loss: 0.2041 - accuracy: 0.9675 - val_loss: 0.2751 - val_accuracy: 0.9055\n",
      "Epoch 32/50\n",
      "85/85 [==============================] - 19s 228ms/step - loss: 0.2005 - accuracy: 0.9639 - val_loss: 0.2545 - val_accuracy: 0.9247\n",
      "Epoch 33/50\n",
      "85/85 [==============================] - 19s 228ms/step - loss: 0.1918 - accuracy: 0.9705 - val_loss: 0.2620 - val_accuracy: 0.9202\n",
      "Epoch 34/50\n",
      "85/85 [==============================] - 19s 229ms/step - loss: 0.1880 - accuracy: 0.9720 - val_loss: 0.2619 - val_accuracy: 0.9365\n",
      "Epoch 35/50\n",
      "85/85 [==============================] - 19s 229ms/step - loss: 0.1926 - accuracy: 0.9683 - val_loss: 0.2580 - val_accuracy: 0.9158\n",
      "Epoch 36/50\n",
      "85/85 [==============================] - 19s 228ms/step - loss: 0.1896 - accuracy: 0.9694 - val_loss: 0.2574 - val_accuracy: 0.9202\n",
      "Epoch 37/50\n",
      "85/85 [==============================] - 19s 229ms/step - loss: 0.1790 - accuracy: 0.9779 - val_loss: 0.2647 - val_accuracy: 0.9129\n",
      "Epoch 38/50\n",
      "85/85 [==============================] - 19s 229ms/step - loss: 0.1720 - accuracy: 0.9816 - val_loss: 0.2428 - val_accuracy: 0.9335\n",
      "Epoch 39/50\n",
      "85/85 [==============================] - 19s 228ms/step - loss: 0.1784 - accuracy: 0.9771 - val_loss: 0.2450 - val_accuracy: 0.9276\n",
      "Epoch 40/50\n",
      "85/85 [==============================] - 19s 229ms/step - loss: 0.1712 - accuracy: 0.9786 - val_loss: 0.2310 - val_accuracy: 0.9335\n",
      "Epoch 41/50\n",
      "85/85 [==============================] - 20s 230ms/step - loss: 0.1717 - accuracy: 0.9797 - val_loss: 0.2226 - val_accuracy: 0.9468\n",
      "Epoch 42/50\n",
      "85/85 [==============================] - 20s 230ms/step - loss: 0.1659 - accuracy: 0.9805 - val_loss: 0.2379 - val_accuracy: 0.9350\n",
      "Epoch 43/50\n",
      "85/85 [==============================] - 20s 232ms/step - loss: 0.1634 - accuracy: 0.9834 - val_loss: 0.2278 - val_accuracy: 0.9365\n",
      "Epoch 44/50\n",
      "85/85 [==============================] - 20s 233ms/step - loss: 0.1612 - accuracy: 0.9849 - val_loss: 0.2243 - val_accuracy: 0.9394\n",
      "Epoch 45/50\n",
      "85/85 [==============================] - 20s 232ms/step - loss: 0.1569 - accuracy: 0.9838 - val_loss: 0.2484 - val_accuracy: 0.9247\n",
      "Epoch 46/50\n",
      "85/85 [==============================] - 20s 231ms/step - loss: 0.1592 - accuracy: 0.9819 - val_loss: 0.2207 - val_accuracy: 0.9365\n",
      "Epoch 47/50\n",
      "85/85 [==============================] - 20s 231ms/step - loss: 0.1541 - accuracy: 0.9808 - val_loss: 0.2176 - val_accuracy: 0.9350\n",
      "Epoch 48/50\n",
      "85/85 [==============================] - 20s 229ms/step - loss: 0.1428 - accuracy: 0.9926 - val_loss: 0.2218 - val_accuracy: 0.9335\n",
      "Epoch 49/50\n",
      "85/85 [==============================] - 20s 230ms/step - loss: 0.1500 - accuracy: 0.9886 - val_loss: 0.2143 - val_accuracy: 0.9365\n",
      "Epoch 50/50\n",
      "85/85 [==============================] - 20s 231ms/step - loss: 0.1491 - accuracy: 0.9864 - val_loss: 0.2363 - val_accuracy: 0.9380\n",
      "WARNING:tensorflow:From C:\\Users\\15014\\Anaconda3\\lib\\site-packages\\tensorflow\\python\\training\\tracking\\tracking.py:111: Model.state_updates (from tensorflow.python.keras.engine.training) is deprecated and will be removed in a future version.\n",
      "Instructions for updating:\n",
      "This property should not be used in TensorFlow 2.0, as updates are applied automatically.\n",
      "WARNING:tensorflow:From C:\\Users\\15014\\Anaconda3\\lib\\site-packages\\tensorflow\\python\\training\\tracking\\tracking.py:111: Layer.updates (from tensorflow.python.keras.engine.base_layer) is deprecated and will be removed in a future version.\n",
      "Instructions for updating:\n",
      "This property should not be used in TensorFlow 2.0, as updates are applied automatically.\n",
      "INFO:tensorflow:Assets written to: ./AlexNet_ct_mix\\assets\n"
     ]
    }
   ],
   "source": [
    "results = model.fit(\n",
    "    train_ds,\n",
    "    batch_size = 32,\n",
    "    epochs = 50,\n",
    "    validation_data = val_ds,\n",
    "    verbose=1,\n",
    ")\n",
    "\n",
    "model.save(\"./AlexNet_ct_mix\")"
   ]
  },
  {
   "cell_type": "code",
   "execution_count": 6,
   "metadata": {},
   "outputs": [
    {
     "data": {
      "image/png": "[encoded data removed]",
      "text/plain": [
       "<Figure size 432x288 with 1 Axes>"
      ]
     },
     "metadata": {
      "needs_background": "light"
     },
     "output_type": "display_data"
    }
   ],
   "source": [
    "results.history.keys()\n",
    "import matplotlib.pyplot as plt\n",
    "%matplotlib inline\n",
    "plt.plot(results.history['loss'][1:])\n",
    "plt.plot(results.history['val_loss'][1:])\n",
    "plt.legend(['Training', 'Validation'])\n",
    "plt.title('Training and Validation losses')\n",
    "plt.xlabel('epoch')\n",
    "plt.savefig(\"../project/AlexNet_ct_mix.png\")"
   ]
  },
  {
   "cell_type": "code",
   "execution_count": 7,
   "metadata": {},
   "outputs": [
    {
     "name": "stdout",
     "output_type": "stream",
     "text": [
      "17/17 [==============================] - 3s 170ms/step - loss: 0.2830 - accuracy: 0.8967\n"
     ]
    },
    {
     "data": {
      "text/plain": [
       "[0.2829737067222595, 0.8966789841651917]"
      ]
     },
     "execution_count": 7,
     "metadata": {},
     "output_type": "execute_result"
    }
   ],
   "source": [
    "model.evaluate(test_ds)"
   ]
  }
 ],
 "metadata": {
  "kernelspec": {
   "display_name": "Python 3",
   "language": "python",
   "name": "python3"
  },
  "language_info": {
   "codemirror_mode": {
    "name": "ipython",
    "version": 3
   },
   "file_extension": ".py",
   "mimetype": "text/x-python",
   "name": "python",
   "nbconvert_exporter": "python",
   "pygments_lexer": "ipython3",
   "version": "3.7.4"
  }
 },
 "nbformat": 4,
 "nbformat_minor": 2
}
