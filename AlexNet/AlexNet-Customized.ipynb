{
 "cells": [
  {
   "cell_type": "code",
   "execution_count": 1,
   "metadata": {},
   "outputs": [],
   "source": [
    "import tensorflow as tf\n",
    "from tensorflow import keras\n",
    "from tensorflow.keras import layers\n",
    "from tensorflow.keras.optimizers import SGD\n",
    "import PIL"
   ]
  },
  {
   "cell_type": "markdown",
   "metadata": {},
   "source": [
    "### Building AlexNet's Customized Model"
   ]
  },
  {
   "cell_type": "code",
   "execution_count": 2,
   "metadata": {},
   "outputs": [],
   "source": [
    "num_classes = 2\n",
    "\n",
    "model = tf.keras.Sequential([\n",
    "    layers.experimental.preprocessing.Rescaling(1./255),\n",
    "    \n",
    "    layers.Conv2D(96, 11, strides=4),\n",
    "    layers.BatchNormalization(),\n",
    "    layers.Activation('relu'),\n",
    "    layers.MaxPooling2D(3, strides=2),\n",
    "    \n",
    "    layers.Conv2D(256, 5, padding='same'),\n",
    "    layers.BatchNormalization(),\n",
    "    layers.Activation('relu'),\n",
    "    layers.MaxPooling2D(3, strides=2),\n",
    "    \n",
    "    layers.Conv2D(384, 3, padding='same'),\n",
    "    layers.BatchNormalization(),\n",
    "    layers.Activation('relu'),\n",
    "    \n",
    "    layers.Conv2D(384, 3, padding='same'),\n",
    "    layers.BatchNormalization(),\n",
    "    layers.Activation('relu'),\n",
    "    \n",
    "    layers.Conv2D(256, 3, padding='same'),\n",
    "    layers.BatchNormalization(),\n",
    "    layers.Activation('relu'),\n",
    "    layers.MaxPooling2D(3, strides=2),\n",
    "    \n",
    "    layers.Flatten(),\n",
    "    \n",
    "    layers.Dense(9216),\n",
    "    layers.BatchNormalization(),\n",
    "    layers.Activation('relu'),\n",
    "    layers.Dropout(0.4),\n",
    "    \n",
    "    layers.Dense(4096),\n",
    "    layers.BatchNormalization(),\n",
    "    layers.Activation('relu'),\n",
    "    layers.Dropout(0.4),\n",
    "    \n",
    "    layers.Dense(4096),\n",
    "    layers.BatchNormalization(),\n",
    "    layers.Activation('relu'),\n",
    "    layers.Dropout(0.4),\n",
    "    \n",
    "    layers.Dense(num_classes),\n",
    "    layers.BatchNormalization(),\n",
    "    layers.Activation('softmax')\n",
    "])"
   ]
  },
  {
   "cell_type": "code",
   "execution_count": 3,
   "metadata": {},
   "outputs": [],
   "source": [
    "model.compile(loss=keras.losses.categorical_crossentropy, optimizer=SGD(lr=0.0001, momentum=0.9), metrics=['accuracy'])"
   ]
  },
  {
   "cell_type": "markdown",
   "metadata": {},
   "source": [
    "### Dataset 1"
   ]
  },
  {
   "cell_type": "code",
   "execution_count": 4,
   "metadata": {},
   "outputs": [
    {
     "name": "stdout",
     "output_type": "stream",
     "text": [
      "Found 425 files belonging to 2 classes.\n",
      "Found 118 files belonging to 2 classes.\n",
      "Found 203 files belonging to 2 classes.\n"
     ]
    }
   ],
   "source": [
    "train_ds = keras.preprocessing.image_dataset_from_directory( r'../datasets/ct-sub-datasets/train',\n",
    "                                                               image_size=(227, 227),\n",
    "                                                               batch_size=32,\n",
    "                                                               label_mode='categorical')\n",
    "\n",
    "val_ds = keras.preprocessing.image_dataset_from_directory( r'../datasets/ct-sub-datasets/val/',\n",
    "                                                             image_size=(227, 227),\n",
    "                                                             batch_size=32,\n",
    "                                                             label_mode='categorical')\n",
    "\n",
    "test_ds = keras.preprocessing.image_dataset_from_directory( r'../datasets/ct-sub-datasets/test/',\n",
    "                                                             image_size=(227, 227),\n",
    "                                                             batch_size=32,\n",
    "                                                             label_mode='categorical')"
   ]
  },
  {
   "cell_type": "code",
   "execution_count": 5,
   "metadata": {},
   "outputs": [
    {
     "name": "stdout",
     "output_type": "stream",
     "text": [
      "Epoch 1/40\n",
      "14/14 [==============================] - 3s 233ms/step - loss: 0.9521 - accuracy: 0.4965 - val_loss: 0.6948 - val_accuracy: 0.4915\n",
      "Epoch 2/40\n",
      "14/14 [==============================] - 3s 183ms/step - loss: 0.7721 - accuracy: 0.5694 - val_loss: 0.6942 - val_accuracy: 0.4915\n",
      "Epoch 3/40\n",
      "14/14 [==============================] - 3s 184ms/step - loss: 0.7182 - accuracy: 0.5929 - val_loss: 0.6959 - val_accuracy: 0.4915\n",
      "Epoch 4/40\n",
      "14/14 [==============================] - 3s 183ms/step - loss: 0.6620 - accuracy: 0.6518 - val_loss: 0.6992 - val_accuracy: 0.4915\n",
      "Epoch 5/40\n",
      "14/14 [==============================] - 3s 185ms/step - loss: 0.5890 - accuracy: 0.6871 - val_loss: 0.7076 - val_accuracy: 0.4915\n",
      "Epoch 6/40\n",
      "14/14 [==============================] - 3s 183ms/step - loss: 0.5151 - accuracy: 0.7435 - val_loss: 0.7145 - val_accuracy: 0.4915\n",
      "Epoch 7/40\n",
      "14/14 [==============================] - 3s 185ms/step - loss: 0.5573 - accuracy: 0.7294 - val_loss: 0.7232 - val_accuracy: 0.4915\n",
      "Epoch 8/40\n",
      "14/14 [==============================] - 3s 186ms/step - loss: 0.5108 - accuracy: 0.7341 - val_loss: 0.7290 - val_accuracy: 0.4915\n",
      "Epoch 9/40\n",
      "14/14 [==============================] - 3s 189ms/step - loss: 0.5387 - accuracy: 0.7365 - val_loss: 0.7428 - val_accuracy: 0.4915\n",
      "Epoch 10/40\n",
      "14/14 [==============================] - 3s 187ms/step - loss: 0.4995 - accuracy: 0.7600 - val_loss: 0.7421 - val_accuracy: 0.4915\n",
      "Epoch 11/40\n",
      "14/14 [==============================] - 3s 185ms/step - loss: 0.4819 - accuracy: 0.7671 - val_loss: 0.7674 - val_accuracy: 0.4915\n",
      "Epoch 12/40\n",
      "14/14 [==============================] - 3s 185ms/step - loss: 0.4354 - accuracy: 0.8047 - val_loss: 0.7921 - val_accuracy: 0.4915\n",
      "Epoch 13/40\n",
      "14/14 [==============================] - 3s 188ms/step - loss: 0.4273 - accuracy: 0.8306 - val_loss: 0.8209 - val_accuracy: 0.4915\n",
      "Epoch 14/40\n",
      "14/14 [==============================] - 3s 193ms/step - loss: 0.4129 - accuracy: 0.8188 - val_loss: 0.8430 - val_accuracy: 0.4915\n",
      "Epoch 15/40\n",
      "14/14 [==============================] - 3s 189ms/step - loss: 0.3805 - accuracy: 0.8471 - val_loss: 0.8611 - val_accuracy: 0.4915\n",
      "Epoch 16/40\n",
      "14/14 [==============================] - 3s 185ms/step - loss: 0.4123 - accuracy: 0.8118 - val_loss: 0.8601 - val_accuracy: 0.4915\n",
      "Epoch 17/40\n",
      "14/14 [==============================] - 3s 184ms/step - loss: 0.3974 - accuracy: 0.8329 - val_loss: 0.8960 - val_accuracy: 0.4915\n",
      "Epoch 18/40\n",
      "14/14 [==============================] - 3s 189ms/step - loss: 0.3682 - accuracy: 0.8471 - val_loss: 0.9017 - val_accuracy: 0.4831\n",
      "Epoch 19/40\n",
      "14/14 [==============================] - 3s 195ms/step - loss: 0.3759 - accuracy: 0.8541 - val_loss: 0.8958 - val_accuracy: 0.4915\n",
      "Epoch 20/40\n",
      "14/14 [==============================] - 3s 190ms/step - loss: 0.3988 - accuracy: 0.8165 - val_loss: 0.8837 - val_accuracy: 0.4915\n",
      "Epoch 21/40\n",
      "14/14 [==============================] - 3s 190ms/step - loss: 0.3649 - accuracy: 0.8659 - val_loss: 0.8394 - val_accuracy: 0.4915\n",
      "Epoch 22/40\n",
      "14/14 [==============================] - 3s 187ms/step - loss: 0.3449 - accuracy: 0.8635 - val_loss: 0.8123 - val_accuracy: 0.5000\n",
      "Epoch 23/40\n",
      "14/14 [==============================] - 3s 189ms/step - loss: 0.3630 - accuracy: 0.8612 - val_loss: 0.7757 - val_accuracy: 0.5508\n",
      "Epoch 24/40\n",
      "14/14 [==============================] - 3s 194ms/step - loss: 0.3266 - accuracy: 0.9035 - val_loss: 0.7562 - val_accuracy: 0.5593\n",
      "Epoch 25/40\n",
      "14/14 [==============================] - 3s 191ms/step - loss: 0.3407 - accuracy: 0.8824 - val_loss: 0.7183 - val_accuracy: 0.5847\n",
      "Epoch 26/40\n",
      "14/14 [==============================] - 3s 192ms/step - loss: 0.3129 - accuracy: 0.8941 - val_loss: 0.6497 - val_accuracy: 0.6441\n",
      "Epoch 27/40\n",
      "14/14 [==============================] - 3s 188ms/step - loss: 0.2998 - accuracy: 0.9059 - val_loss: 0.5951 - val_accuracy: 0.6610\n",
      "Epoch 28/40\n",
      "14/14 [==============================] - 3s 190ms/step - loss: 0.3056 - accuracy: 0.9059 - val_loss: 0.5940 - val_accuracy: 0.6780\n",
      "Epoch 29/40\n",
      "14/14 [==============================] - 3s 190ms/step - loss: 0.3029 - accuracy: 0.9106 - val_loss: 0.5889 - val_accuracy: 0.6864\n",
      "Epoch 30/40\n",
      "14/14 [==============================] - 3s 191ms/step - loss: 0.2772 - accuracy: 0.9247 - val_loss: 0.5483 - val_accuracy: 0.7203\n",
      "Epoch 31/40\n",
      "14/14 [==============================] - 3s 191ms/step - loss: 0.2966 - accuracy: 0.8941 - val_loss: 0.5287 - val_accuracy: 0.7712\n",
      "Epoch 32/40\n",
      "14/14 [==============================] - 3s 192ms/step - loss: 0.2866 - accuracy: 0.9153 - val_loss: 0.5069 - val_accuracy: 0.7627\n",
      "Epoch 33/40\n",
      "14/14 [==============================] - 3s 192ms/step - loss: 0.2995 - accuracy: 0.9035 - val_loss: 0.5146 - val_accuracy: 0.7203\n",
      "Epoch 34/40\n",
      "14/14 [==============================] - 3s 192ms/step - loss: 0.2772 - accuracy: 0.9247 - val_loss: 0.5117 - val_accuracy: 0.7542\n",
      "Epoch 35/40\n",
      "14/14 [==============================] - 3s 191ms/step - loss: 0.2570 - accuracy: 0.9388 - val_loss: 0.5064 - val_accuracy: 0.7542\n",
      "Epoch 36/40\n",
      "14/14 [==============================] - 3s 193ms/step - loss: 0.2521 - accuracy: 0.9435 - val_loss: 0.4981 - val_accuracy: 0.7627\n",
      "Epoch 37/40\n",
      "14/14 [==============================] - 3s 194ms/step - loss: 0.2658 - accuracy: 0.9341 - val_loss: 0.4932 - val_accuracy: 0.7288\n",
      "Epoch 38/40\n",
      "14/14 [==============================] - 3s 190ms/step - loss: 0.2625 - accuracy: 0.9388 - val_loss: 0.4971 - val_accuracy: 0.7288\n",
      "Epoch 39/40\n",
      "14/14 [==============================] - 3s 194ms/step - loss: 0.2540 - accuracy: 0.9482 - val_loss: 0.5047 - val_accuracy: 0.7373\n",
      "Epoch 40/40\n",
      "14/14 [==============================] - 3s 193ms/step - loss: 0.2432 - accuracy: 0.9576 - val_loss: 0.5104 - val_accuracy: 0.7203\n",
      "WARNING:tensorflow:From C:\\Users\\15014\\Anaconda3\\lib\\site-packages\\tensorflow\\python\\training\\tracking\\tracking.py:111: Model.state_updates (from tensorflow.python.keras.engine.training) is deprecated and will be removed in a future version.\n",
      "Instructions for updating:\n",
      "This property should not be used in TensorFlow 2.0, as updates are applied automatically.\n",
      "WARNING:tensorflow:From C:\\Users\\15014\\Anaconda3\\lib\\site-packages\\tensorflow\\python\\training\\tracking\\tracking.py:111: Layer.updates (from tensorflow.python.keras.engine.base_layer) is deprecated and will be removed in a future version.\n",
      "Instructions for updating:\n",
      "This property should not be used in TensorFlow 2.0, as updates are applied automatically.\n",
      "INFO:tensorflow:Assets written to: ./AlexNet_cust_dataset_1\\assets\n"
     ]
    }
   ],
   "source": [
    "results = model.fit(\n",
    "    train_ds,\n",
    "    batch_size = 32,\n",
    "    epochs = 40,\n",
    "    validation_data = val_ds,\n",
    "    verbose=1,\n",
    ")\n",
    "\n",
    "model.save(\"./AlexNet_cust_dataset_1\")"
   ]
  },
  {
   "cell_type": "code",
   "execution_count": 6,
   "metadata": {},
   "outputs": [
    {
     "data": {
      "image/png": "[encoded data removed]",
      "text/plain": [
       "<Figure size 432x288 with 1 Axes>"
      ]
     },
     "metadata": {
      "needs_background": "light"
     },
     "output_type": "display_data"
    }
   ],
   "source": [
    "results.history.keys()\n",
    "import matplotlib.pyplot as plt\n",
    "%matplotlib inline\n",
    "plt.plot(results.history['loss'][1:])\n",
    "plt.plot(results.history['val_loss'][1:])\n",
    "plt.legend(['Training', 'Validation'])\n",
    "plt.title('Training and Validation losses')\n",
    "plt.xlabel('epoch')\n",
    "plt.savefig(\"../project/AlexNet_cust_ds_1.png\")"
   ]
  },
  {
   "cell_type": "code",
   "execution_count": 7,
   "metadata": {},
   "outputs": [
    {
     "name": "stdout",
     "output_type": "stream",
     "text": [
      "7/7 [==============================] - 0s 56ms/step - loss: 0.5850 - accuracy: 0.6601\n"
     ]
    },
    {
     "data": {
      "text/plain": [
       "[0.5850065350532532, 0.6600984930992126]"
      ]
     },
     "execution_count": 7,
     "metadata": {},
     "output_type": "execute_result"
    }
   ],
   "source": [
    "model.evaluate(test_ds)"
   ]
  },
  {
   "cell_type": "markdown",
   "metadata": {},
   "source": [
    "### Dataset 2"
   ]
  },
  {
   "cell_type": "code",
   "execution_count": 8,
   "metadata": {},
   "outputs": [
    {
     "name": "stdout",
     "output_type": "stream",
     "text": [
      "Found 612 files belonging to 2 classes.\n",
      "Found 99 files belonging to 2 classes.\n",
      "Found 91 files belonging to 2 classes.\n"
     ]
    }
   ],
   "source": [
    "train_ds = keras.preprocessing.image_dataset_from_directory( r'../datasets/data-try2/train',\n",
    "                                                               image_size=(227, 227),\n",
    "                                                               batch_size=32,\n",
    "                                                               label_mode='categorical')\n",
    "\n",
    "val_ds = keras.preprocessing.image_dataset_from_directory( r'../datasets/data-try2/validation/',\n",
    "                                                             image_size=(227, 227),\n",
    "                                                             batch_size=32,\n",
    "                                                             label_mode='categorical')\n",
    "\n",
    "test_ds = keras.preprocessing.image_dataset_from_directory( r'../datasets/data-try2/test/',\n",
    "                                                             image_size=(227, 227),\n",
    "                                                             batch_size=32,\n",
    "                                                             label_mode='categorical')"
   ]
  },
  {
   "cell_type": "code",
   "execution_count": 9,
   "metadata": {},
   "outputs": [],
   "source": [
    "AUTOTUNE = tf.data.experimental.AUTOTUNE\n",
    "\n",
    "train_ds = train_ds.cache().prefetch(buffer_size=AUTOTUNE)\n",
    "val_ds = val_ds.cache().prefetch(buffer_size=AUTOTUNE)"
   ]
  },
  {
   "cell_type": "code",
   "execution_count": 10,
   "metadata": {},
   "outputs": [
    {
     "name": "stdout",
     "output_type": "stream",
     "text": [
      "Epoch 1/50\n",
      "20/20 [==============================] - 4s 181ms/step - loss: 0.4874 - accuracy: 0.7810 - val_loss: 0.4256 - val_accuracy: 0.7980\n",
      "Epoch 2/50\n",
      "20/20 [==============================] - 2s 110ms/step - loss: 0.4538 - accuracy: 0.7941 - val_loss: 0.4452 - val_accuracy: 0.8384\n",
      "Epoch 3/50\n",
      "20/20 [==============================] - 2s 110ms/step - loss: 0.4473 - accuracy: 0.7908 - val_loss: 0.4384 - val_accuracy: 0.8182\n",
      "Epoch 4/50\n",
      "20/20 [==============================] - 2s 111ms/step - loss: 0.3907 - accuracy: 0.8350 - val_loss: 0.3969 - val_accuracy: 0.8485\n",
      "Epoch 5/50\n",
      "20/20 [==============================] - 2s 111ms/step - loss: 0.3745 - accuracy: 0.8562 - val_loss: 0.3777 - val_accuracy: 0.8384\n",
      "Epoch 6/50\n",
      "20/20 [==============================] - 2s 111ms/step - loss: 0.3659 - accuracy: 0.8529 - val_loss: 0.3849 - val_accuracy: 0.8283\n",
      "Epoch 7/50\n",
      "20/20 [==============================] - 2s 110ms/step - loss: 0.3322 - accuracy: 0.8824 - val_loss: 0.3794 - val_accuracy: 0.8485\n",
      "Epoch 8/50\n",
      "20/20 [==============================] - 2s 110ms/step - loss: 0.3406 - accuracy: 0.8742 - val_loss: 0.3672 - val_accuracy: 0.8586\n",
      "Epoch 9/50\n",
      "20/20 [==============================] - 2s 111ms/step - loss: 0.3217 - accuracy: 0.8791 - val_loss: 0.3696 - val_accuracy: 0.8182\n",
      "Epoch 10/50\n",
      "20/20 [==============================] - 2s 110ms/step - loss: 0.3136 - accuracy: 0.8987 - val_loss: 0.3723 - val_accuracy: 0.8384\n",
      "Epoch 11/50\n",
      "20/20 [==============================] - 2s 111ms/step - loss: 0.3045 - accuracy: 0.8987 - val_loss: 0.3651 - val_accuracy: 0.8485\n",
      "Epoch 12/50\n",
      "20/20 [==============================] - 2s 111ms/step - loss: 0.2834 - accuracy: 0.9167 - val_loss: 0.3592 - val_accuracy: 0.8485\n",
      "Epoch 13/50\n",
      "20/20 [==============================] - 2s 112ms/step - loss: 0.2856 - accuracy: 0.9150 - val_loss: 0.3472 - val_accuracy: 0.8788\n",
      "Epoch 14/50\n",
      "20/20 [==============================] - 2s 111ms/step - loss: 0.2695 - accuracy: 0.9330 - val_loss: 0.3355 - val_accuracy: 0.8586\n",
      "Epoch 15/50\n",
      "20/20 [==============================] - 2s 111ms/step - loss: 0.2703 - accuracy: 0.9265 - val_loss: 0.3487 - val_accuracy: 0.8687\n",
      "Epoch 16/50\n",
      "20/20 [==============================] - 2s 111ms/step - loss: 0.2696 - accuracy: 0.9412 - val_loss: 0.3635 - val_accuracy: 0.8182\n",
      "Epoch 17/50\n",
      "20/20 [==============================] - 2s 111ms/step - loss: 0.2521 - accuracy: 0.9428 - val_loss: 0.3464 - val_accuracy: 0.8485\n",
      "Epoch 18/50\n",
      "20/20 [==============================] - 2s 111ms/step - loss: 0.2458 - accuracy: 0.9526 - val_loss: 0.3532 - val_accuracy: 0.8586\n",
      "Epoch 19/50\n",
      "20/20 [==============================] - 2s 111ms/step - loss: 0.2410 - accuracy: 0.9624 - val_loss: 0.3436 - val_accuracy: 0.8687\n",
      "Epoch 20/50\n",
      "20/20 [==============================] - 2s 111ms/step - loss: 0.2415 - accuracy: 0.9592 - val_loss: 0.3379 - val_accuracy: 0.8687\n",
      "Epoch 21/50\n",
      "20/20 [==============================] - 2s 111ms/step - loss: 0.2302 - accuracy: 0.9575 - val_loss: 0.3512 - val_accuracy: 0.8283\n",
      "Epoch 22/50\n",
      "20/20 [==============================] - 2s 112ms/step - loss: 0.2442 - accuracy: 0.9510 - val_loss: 0.3600 - val_accuracy: 0.8485\n",
      "Epoch 23/50\n",
      "20/20 [==============================] - 2s 111ms/step - loss: 0.2347 - accuracy: 0.9575 - val_loss: 0.3627 - val_accuracy: 0.8485\n",
      "Epoch 24/50\n",
      "20/20 [==============================] - 2s 111ms/step - loss: 0.2443 - accuracy: 0.9493 - val_loss: 0.3280 - val_accuracy: 0.8687\n",
      "Epoch 25/50\n",
      "20/20 [==============================] - 2s 111ms/step - loss: 0.2310 - accuracy: 0.9641 - val_loss: 0.3219 - val_accuracy: 0.8889\n",
      "Epoch 26/50\n",
      "20/20 [==============================] - 2s 111ms/step - loss: 0.2204 - accuracy: 0.9592 - val_loss: 0.3291 - val_accuracy: 0.8788\n",
      "Epoch 27/50\n",
      "20/20 [==============================] - 2s 111ms/step - loss: 0.2163 - accuracy: 0.9624 - val_loss: 0.3217 - val_accuracy: 0.8687\n",
      "Epoch 28/50\n",
      "20/20 [==============================] - 2s 111ms/step - loss: 0.2121 - accuracy: 0.9722 - val_loss: 0.3185 - val_accuracy: 0.8889\n",
      "Epoch 29/50\n",
      "20/20 [==============================] - 2s 111ms/step - loss: 0.2057 - accuracy: 0.9820 - val_loss: 0.3144 - val_accuracy: 0.8889\n",
      "Epoch 30/50\n",
      "20/20 [==============================] - 2s 111ms/step - loss: 0.2035 - accuracy: 0.9804 - val_loss: 0.3171 - val_accuracy: 0.8889\n",
      "Epoch 31/50\n",
      "20/20 [==============================] - 2s 111ms/step - loss: 0.2100 - accuracy: 0.9624 - val_loss: 0.3210 - val_accuracy: 0.8990\n",
      "Epoch 32/50\n",
      "20/20 [==============================] - 2s 111ms/step - loss: 0.2024 - accuracy: 0.9869 - val_loss: 0.3124 - val_accuracy: 0.8990\n",
      "Epoch 33/50\n",
      "20/20 [==============================] - 2s 111ms/step - loss: 0.1993 - accuracy: 0.9820 - val_loss: 0.3070 - val_accuracy: 0.8889\n",
      "Epoch 34/50\n",
      "20/20 [==============================] - 2s 112ms/step - loss: 0.1981 - accuracy: 0.9804 - val_loss: 0.3089 - val_accuracy: 0.8889\n",
      "Epoch 35/50\n",
      "20/20 [==============================] - 2s 112ms/step - loss: 0.1959 - accuracy: 0.9869 - val_loss: 0.3132 - val_accuracy: 0.8889\n",
      "Epoch 36/50\n",
      "20/20 [==============================] - 2s 112ms/step - loss: 0.1923 - accuracy: 0.9886 - val_loss: 0.3242 - val_accuracy: 0.8788\n",
      "Epoch 37/50\n",
      "20/20 [==============================] - 2s 112ms/step - loss: 0.1930 - accuracy: 0.9820 - val_loss: 0.3044 - val_accuracy: 0.8889\n",
      "Epoch 38/50\n",
      "20/20 [==============================] - 2s 112ms/step - loss: 0.1907 - accuracy: 0.9804 - val_loss: 0.2968 - val_accuracy: 0.9091\n",
      "Epoch 39/50\n",
      "20/20 [==============================] - 2s 112ms/step - loss: 0.1924 - accuracy: 0.9788 - val_loss: 0.3002 - val_accuracy: 0.9192\n",
      "Epoch 40/50\n",
      "20/20 [==============================] - 2s 112ms/step - loss: 0.1824 - accuracy: 0.9820 - val_loss: 0.3003 - val_accuracy: 0.9091\n",
      "Epoch 41/50\n",
      "20/20 [==============================] - 2s 112ms/step - loss: 0.1866 - accuracy: 0.9820 - val_loss: 0.3140 - val_accuracy: 0.8889\n",
      "Epoch 42/50\n",
      "20/20 [==============================] - 2s 112ms/step - loss: 0.1788 - accuracy: 0.9935 - val_loss: 0.3078 - val_accuracy: 0.8889\n",
      "Epoch 43/50\n",
      "20/20 [==============================] - 2s 112ms/step - loss: 0.1814 - accuracy: 0.9886 - val_loss: 0.2975 - val_accuracy: 0.8990\n",
      "Epoch 44/50\n",
      "20/20 [==============================] - 2s 111ms/step - loss: 0.1798 - accuracy: 0.9869 - val_loss: 0.3104 - val_accuracy: 0.8990\n",
      "Epoch 45/50\n",
      "20/20 [==============================] - 2s 111ms/step - loss: 0.1757 - accuracy: 0.9935 - val_loss: 0.3130 - val_accuracy: 0.8687\n",
      "Epoch 46/50\n",
      "20/20 [==============================] - 2s 111ms/step - loss: 0.1799 - accuracy: 0.9886 - val_loss: 0.3033 - val_accuracy: 0.8990\n",
      "Epoch 47/50\n",
      "20/20 [==============================] - 2s 111ms/step - loss: 0.1715 - accuracy: 0.9918 - val_loss: 0.3085 - val_accuracy: 0.8889\n",
      "Epoch 48/50\n",
      "20/20 [==============================] - 2s 111ms/step - loss: 0.1733 - accuracy: 0.9951 - val_loss: 0.3117 - val_accuracy: 0.8990\n",
      "Epoch 49/50\n",
      "20/20 [==============================] - 2s 111ms/step - loss: 0.1796 - accuracy: 0.9869 - val_loss: 0.3130 - val_accuracy: 0.8889\n",
      "Epoch 50/50\n",
      "20/20 [==============================] - 2s 112ms/step - loss: 0.1727 - accuracy: 0.9886 - val_loss: 0.2997 - val_accuracy: 0.8990\n",
      "INFO:tensorflow:Assets written to: ./AlexNet_cust_dataset_2\\assets\n"
     ]
    }
   ],
   "source": [
    "results = model.fit(\n",
    "    train_ds,\n",
    "    batch_size = 32,\n",
    "    epochs = 50,\n",
    "    validation_data = val_ds,\n",
    "    verbose=1,\n",
    ")\n",
    "\n",
    "model.save(\"./AlexNet_cust_dataset_2\")"
   ]
  },
  {
   "cell_type": "code",
   "execution_count": 11,
   "metadata": {},
   "outputs": [
    {
     "data": {
      "image/png": "[encoded data removed]",
      "text/plain": [
       "<Figure size 432x288 with 1 Axes>"
      ]
     },
     "metadata": {
      "needs_background": "light"
     },
     "output_type": "display_data"
    }
   ],
   "source": [
    "results.history.keys()\n",
    "import matplotlib.pyplot as plt\n",
    "%matplotlib inline\n",
    "plt.plot(results.history['loss'][1:])\n",
    "plt.plot(results.history['val_loss'][1:])\n",
    "plt.legend(['Training', 'Validation'])\n",
    "plt.title('Training and Validation losses')\n",
    "plt.xlabel('epoch')\n",
    "plt.savefig(\"../project/AlexNet_cust_ds_2.png\")"
   ]
  },
  {
   "cell_type": "code",
   "execution_count": 12,
   "metadata": {},
   "outputs": [
    {
     "name": "stdout",
     "output_type": "stream",
     "text": [
      "3/3 [==============================] - 0s 106ms/step - loss: 0.2867 - accuracy: 0.9011\n"
     ]
    },
    {
     "data": {
      "text/plain": [
       "[0.28669559955596924, 0.901098906993866]"
      ]
     },
     "execution_count": 12,
     "metadata": {},
     "output_type": "execute_result"
    }
   ],
   "source": [
    "model.evaluate(test_ds)"
   ]
  },
  {
   "cell_type": "markdown",
   "metadata": {},
   "source": [
    "### Dataset 3"
   ]
  },
  {
   "cell_type": "code",
   "execution_count": 13,
   "metadata": {},
   "outputs": [
    {
     "name": "stdout",
     "output_type": "stream",
     "text": [
      "Found 2233 files belonging to 2 classes.\n",
      "Using 1787 files for training.\n",
      "Found 2233 files belonging to 2 classes.\n",
      "Using 446 files for validation.\n",
      "Found 248 files belonging to 2 classes.\n"
     ]
    }
   ],
   "source": [
    "train_ds = keras.preprocessing.image_dataset_from_directory( r'../datasets/kaggle-large-ct/train/',\n",
    "                                                               image_size=(227, 227),\n",
    "                                                               validation_split=0.2,\n",
    "                                                               subset=\"training\",\n",
    "                                                               seed=123,\n",
    "                                                               batch_size=32,\n",
    "                                                               label_mode='categorical')\n",
    "\n",
    "val_ds = keras.preprocessing.image_dataset_from_directory( r'../datasets/kaggle-large-ct/train/',\n",
    "                                                             image_size=(227, 227),\n",
    "                                                             validation_split=0.2,\n",
    "                                                             subset=\"validation\",\n",
    "                                                             seed=123,\n",
    "                                                             batch_size=32,\n",
    "                                                             label_mode='categorical')\n",
    "\n",
    "test_ds = keras.preprocessing.image_dataset_from_directory( r'../datasets/kaggle-large-ct/test/',\n",
    "                                                             image_size=(227, 227),\n",
    "                                                             batch_size=32,\n",
    "                                                             label_mode='categorical')"
   ]
  },
  {
   "cell_type": "code",
   "execution_count": 14,
   "metadata": {},
   "outputs": [
    {
     "name": "stdout",
     "output_type": "stream",
     "text": [
      "Epoch 1/40\n",
      "56/56 [==============================] - 13s 236ms/step - loss: 0.6718 - accuracy: 0.6637 - val_loss: 0.5624 - val_accuracy: 0.6951\n",
      "Epoch 2/40\n",
      "56/56 [==============================] - 13s 230ms/step - loss: 0.4462 - accuracy: 0.7963 - val_loss: 0.6201 - val_accuracy: 0.6435\n",
      "Epoch 3/40\n",
      "56/56 [==============================] - 13s 228ms/step - loss: 0.3810 - accuracy: 0.8428 - val_loss: 0.5827 - val_accuracy: 0.6682\n",
      "Epoch 4/40\n",
      "56/56 [==============================] - 12s 223ms/step - loss: 0.3288 - accuracy: 0.8797 - val_loss: 0.4423 - val_accuracy: 0.7623\n",
      "Epoch 5/40\n",
      "56/56 [==============================] - 13s 229ms/step - loss: 0.3033 - accuracy: 0.8948 - val_loss: 0.3743 - val_accuracy: 0.8520\n",
      "Epoch 6/40\n",
      "56/56 [==============================] - 13s 229ms/step - loss: 0.2957 - accuracy: 0.8982 - val_loss: 0.3062 - val_accuracy: 0.8991\n",
      "Epoch 7/40\n",
      "56/56 [==============================] - 13s 226ms/step - loss: 0.2668 - accuracy: 0.9077 - val_loss: 0.3029 - val_accuracy: 0.9126\n",
      "Epoch 8/40\n",
      "56/56 [==============================] - 13s 224ms/step - loss: 0.2590 - accuracy: 0.9177 - val_loss: 0.3155 - val_accuracy: 0.9013\n",
      "Epoch 9/40\n",
      "56/56 [==============================] - 13s 227ms/step - loss: 0.2502 - accuracy: 0.9328 - val_loss: 0.3616 - val_accuracy: 0.8475\n",
      "Epoch 10/40\n",
      "56/56 [==============================] - 13s 225ms/step - loss: 0.2376 - accuracy: 0.9418 - val_loss: 0.2724 - val_accuracy: 0.9148\n",
      "Epoch 11/40\n",
      "56/56 [==============================] - 12s 221ms/step - loss: 0.2249 - accuracy: 0.9524 - val_loss: 0.3268 - val_accuracy: 0.8789\n",
      "Epoch 12/40\n",
      "56/56 [==============================] - 13s 225ms/step - loss: 0.2150 - accuracy: 0.9541 - val_loss: 0.2520 - val_accuracy: 0.9327\n",
      "Epoch 13/40\n",
      "56/56 [==============================] - 12s 214ms/step - loss: 0.2077 - accuracy: 0.9631 - val_loss: 0.2550 - val_accuracy: 0.9305\n",
      "Epoch 14/40\n",
      "56/56 [==============================] - 12s 212ms/step - loss: 0.2000 - accuracy: 0.9659 - val_loss: 0.2649 - val_accuracy: 0.9327\n",
      "Epoch 15/40\n",
      "56/56 [==============================] - 12s 213ms/step - loss: 0.1973 - accuracy: 0.9664 - val_loss: 0.2567 - val_accuracy: 0.9507\n",
      "Epoch 16/40\n",
      "56/56 [==============================] - 12s 212ms/step - loss: 0.1850 - accuracy: 0.9782 - val_loss: 0.2463 - val_accuracy: 0.9395\n",
      "Epoch 17/40\n",
      "56/56 [==============================] - 12s 213ms/step - loss: 0.1908 - accuracy: 0.9681 - val_loss: 0.3135 - val_accuracy: 0.8767\n",
      "Epoch 18/40\n",
      "56/56 [==============================] - 12s 217ms/step - loss: 0.1835 - accuracy: 0.9765 - val_loss: 0.2526 - val_accuracy: 0.9260\n",
      "Epoch 19/40\n",
      "56/56 [==============================] - 12s 220ms/step - loss: 0.1870 - accuracy: 0.9720 - val_loss: 0.2256 - val_accuracy: 0.9417\n",
      "Epoch 20/40\n",
      "56/56 [==============================] - 12s 216ms/step - loss: 0.1756 - accuracy: 0.9793 - val_loss: 0.2241 - val_accuracy: 0.9529\n",
      "Epoch 21/40\n",
      "56/56 [==============================] - 12s 214ms/step - loss: 0.1749 - accuracy: 0.9799 - val_loss: 0.2215 - val_accuracy: 0.9529\n",
      "Epoch 22/40\n",
      "56/56 [==============================] - 12s 218ms/step - loss: 0.1700 - accuracy: 0.9793 - val_loss: 0.2157 - val_accuracy: 0.9529\n",
      "Epoch 23/40\n",
      "56/56 [==============================] - 12s 218ms/step - loss: 0.1683 - accuracy: 0.9843 - val_loss: 0.2195 - val_accuracy: 0.9439\n",
      "Epoch 24/40\n",
      "56/56 [==============================] - 12s 215ms/step - loss: 0.1671 - accuracy: 0.9821 - val_loss: 0.2392 - val_accuracy: 0.9327\n",
      "Epoch 25/40\n",
      "56/56 [==============================] - 12s 216ms/step - loss: 0.1597 - accuracy: 0.9871 - val_loss: 0.2187 - val_accuracy: 0.9507\n",
      "Epoch 26/40\n",
      "56/56 [==============================] - 12s 216ms/step - loss: 0.1615 - accuracy: 0.9871 - val_loss: 0.2191 - val_accuracy: 0.9462\n",
      "Epoch 27/40\n",
      "56/56 [==============================] - 12s 217ms/step - loss: 0.1540 - accuracy: 0.9855 - val_loss: 0.2089 - val_accuracy: 0.9507\n",
      "Epoch 28/40\n",
      "56/56 [==============================] - 12s 214ms/step - loss: 0.1491 - accuracy: 0.9927 - val_loss: 0.2150 - val_accuracy: 0.9529\n",
      "Epoch 29/40\n",
      "56/56 [==============================] - 12s 210ms/step - loss: 0.1500 - accuracy: 0.9866 - val_loss: 0.2123 - val_accuracy: 0.9507\n",
      "Epoch 30/40\n",
      "56/56 [==============================] - 12s 211ms/step - loss: 0.1499 - accuracy: 0.9888 - val_loss: 0.2110 - val_accuracy: 0.9552\n",
      "Epoch 31/40\n",
      "56/56 [==============================] - 12s 212ms/step - loss: 0.1474 - accuracy: 0.9882 - val_loss: 0.2084 - val_accuracy: 0.9552\n",
      "Epoch 32/40\n",
      "56/56 [==============================] - 12s 211ms/step - loss: 0.1455 - accuracy: 0.9899 - val_loss: 0.2052 - val_accuracy: 0.9529\n",
      "Epoch 33/40\n",
      "56/56 [==============================] - 12s 212ms/step - loss: 0.1404 - accuracy: 0.9938 - val_loss: 0.2125 - val_accuracy: 0.9552\n",
      "Epoch 34/40\n",
      "56/56 [==============================] - 12s 212ms/step - loss: 0.1382 - accuracy: 0.9950 - val_loss: 0.2056 - val_accuracy: 0.9507\n",
      "Epoch 35/40\n",
      "56/56 [==============================] - 12s 211ms/step - loss: 0.1432 - accuracy: 0.9922 - val_loss: 0.2148 - val_accuracy: 0.9552\n",
      "Epoch 36/40\n",
      "56/56 [==============================] - 12s 211ms/step - loss: 0.1383 - accuracy: 0.9927 - val_loss: 0.2119 - val_accuracy: 0.9507\n",
      "Epoch 37/40\n",
      "56/56 [==============================] - 12s 213ms/step - loss: 0.1356 - accuracy: 0.9944 - val_loss: 0.1963 - val_accuracy: 0.9484\n",
      "Epoch 38/40\n",
      "56/56 [==============================] - 12s 214ms/step - loss: 0.1354 - accuracy: 0.9955 - val_loss: 0.2123 - val_accuracy: 0.9439\n",
      "Epoch 39/40\n",
      "56/56 [==============================] - 12s 213ms/step - loss: 0.1421 - accuracy: 0.9905 - val_loss: 0.1980 - val_accuracy: 0.9574\n",
      "Epoch 40/40\n",
      "56/56 [==============================] - 12s 214ms/step - loss: 0.1284 - accuracy: 0.9966 - val_loss: 0.1913 - val_accuracy: 0.9507\n",
      "INFO:tensorflow:Assets written to: ./AlexNet_cust_dataset_3\\assets\n"
     ]
    }
   ],
   "source": [
    "results = model.fit(\n",
    "    train_ds,\n",
    "    batch_size = 32,\n",
    "    epochs = 40,\n",
    "    validation_data = val_ds,\n",
    "    verbose=1,\n",
    ")\n",
    "\n",
    "model.save(\"./AlexNet_cust_dataset_3\")"
   ]
  },
  {
   "cell_type": "code",
   "execution_count": 15,
   "metadata": {},
   "outputs": [
    {
     "data": {
      "image/png": "[encoded data removed]",
      "text/plain": [
       "<Figure size 432x288 with 1 Axes>"
      ]
     },
     "metadata": {
      "needs_background": "light"
     },
     "output_type": "display_data"
    }
   ],
   "source": [
    "results.history.keys()\n",
    "import matplotlib.pyplot as plt\n",
    "%matplotlib inline\n",
    "plt.plot(results.history['loss'][1:])\n",
    "plt.plot(results.history['val_loss'][1:])\n",
    "plt.legend(['Training', 'Validation'])\n",
    "plt.title('Training and Validation losses')\n",
    "plt.xlabel('epoch')\n",
    "plt.savefig(\"../project/AlexNet_cust_ds_3.png\")"
   ]
  },
  {
   "cell_type": "code",
   "execution_count": 16,
   "metadata": {},
   "outputs": [
    {
     "name": "stdout",
     "output_type": "stream",
     "text": [
      "8/8 [==============================] - 0s 61ms/step - loss: 0.2436 - accuracy: 0.9395\n"
     ]
    },
    {
     "data": {
      "text/plain": [
       "[0.24357029795646667, 0.9395161271095276]"
      ]
     },
     "execution_count": 16,
     "metadata": {},
     "output_type": "execute_result"
    }
   ],
   "source": [
    "model.evaluate(test_ds)"
   ]
  },
  {
   "cell_type": "markdown",
   "metadata": {},
   "source": [
    "### Dataset 4"
   ]
  },
  {
   "cell_type": "code",
   "execution_count": 17,
   "metadata": {},
   "outputs": [
    {
     "name": "stdout",
     "output_type": "stream",
     "text": [
      "Found 224 images belonging to 2 classes.\n",
      "Found 60 images belonging to 2 classes.\n"
     ]
    }
   ],
   "source": [
    "from keras.preprocessing.image import ImageDataGenerator\n",
    "\n",
    "training_datagen = ImageDataGenerator(rescale=1./255, shear_range=0.2, zoom_range=0.2, horizontal_flip=True)\n",
    "\n",
    "test_datagen = ImageDataGenerator(rescale=1./255)\n",
    "\n",
    "train_ds = training_datagen.flow_from_directory(r'../datasets/CovidDataset/Train',\n",
    "                                                target_size=(227, 227),\n",
    "                                                class_mode='categorical')\n",
    "\n",
    "val_ds = test_datagen.flow_from_directory(r'../datasets/CovidDataset/Val/',\n",
    "                                          target_size=(227, 227),\n",
    "                                          class_mode='categorical')"
   ]
  },
  {
   "cell_type": "code",
   "execution_count": 18,
   "metadata": {},
   "outputs": [
    {
     "name": "stdout",
     "output_type": "stream",
     "text": [
      "Epoch 1/40\n",
      "7/7 [==============================] - 9s 1s/step - loss: 0.3876 - accuracy: 0.8080 - val_loss: 0.7301 - val_accuracy: 0.5000\n",
      "Epoch 2/40\n",
      "7/7 [==============================] - 8s 1s/step - loss: 0.3182 - accuracy: 0.8795 - val_loss: 0.8804 - val_accuracy: 0.5000\n",
      "Epoch 3/40\n",
      "7/7 [==============================] - 8s 1s/step - loss: 0.2796 - accuracy: 0.9107 - val_loss: 0.8110 - val_accuracy: 0.5000\n",
      "Epoch 4/40\n",
      "7/7 [==============================] - 8s 1s/step - loss: 0.2415 - accuracy: 0.9330 - val_loss: 0.6964 - val_accuracy: 0.5000\n",
      "Epoch 5/40\n",
      "7/7 [==============================] - 8s 1s/step - loss: 0.2413 - accuracy: 0.9152 - val_loss: 0.7613 - val_accuracy: 0.5000\n",
      "Epoch 6/40\n",
      "7/7 [==============================] - 8s 1s/step - loss: 0.1991 - accuracy: 0.9509 - val_loss: 0.8300 - val_accuracy: 0.5000\n",
      "Epoch 7/40\n",
      "7/7 [==============================] - 8s 1s/step - loss: 0.2068 - accuracy: 0.9598 - val_loss: 0.8437 - val_accuracy: 0.5000\n",
      "Epoch 8/40\n",
      "7/7 [==============================] - 8s 1s/step - loss: 0.1777 - accuracy: 0.9732 - val_loss: 0.9154 - val_accuracy: 0.5000\n",
      "Epoch 9/40\n",
      "7/7 [==============================] - 8s 1s/step - loss: 0.1795 - accuracy: 0.9598 - val_loss: 0.9636 - val_accuracy: 0.5000\n",
      "Epoch 10/40\n",
      "7/7 [==============================] - 8s 1s/step - loss: 0.1962 - accuracy: 0.9598 - val_loss: 0.9079 - val_accuracy: 0.5000\n",
      "Epoch 11/40\n",
      "7/7 [==============================] - 8s 1s/step - loss: 0.1935 - accuracy: 0.9732 - val_loss: 0.8847 - val_accuracy: 0.5000\n",
      "Epoch 12/40\n",
      "7/7 [==============================] - 8s 1s/step - loss: 0.1714 - accuracy: 0.9688 - val_loss: 0.8921 - val_accuracy: 0.5000\n",
      "Epoch 13/40\n",
      "7/7 [==============================] - 8s 1s/step - loss: 0.1586 - accuracy: 0.9688 - val_loss: 0.8877 - val_accuracy: 0.5000\n",
      "Epoch 14/40\n",
      "7/7 [==============================] - 8s 1s/step - loss: 0.1627 - accuracy: 0.9732 - val_loss: 0.9114 - val_accuracy: 0.5000\n",
      "Epoch 15/40\n",
      "7/7 [==============================] - 8s 1s/step - loss: 0.1621 - accuracy: 0.9777 - val_loss: 1.0170 - val_accuracy: 0.5000\n",
      "Epoch 16/40\n",
      "7/7 [==============================] - 8s 1s/step - loss: 0.1640 - accuracy: 0.9598 - val_loss: 1.1172 - val_accuracy: 0.5000\n",
      "Epoch 17/40\n",
      "7/7 [==============================] - 8s 1s/step - loss: 0.1573 - accuracy: 0.9598 - val_loss: 1.1846 - val_accuracy: 0.5000\n",
      "Epoch 18/40\n",
      "7/7 [==============================] - 8s 1s/step - loss: 0.1704 - accuracy: 0.9732 - val_loss: 1.2121 - val_accuracy: 0.5000\n",
      "Epoch 19/40\n",
      "7/7 [==============================] - 8s 1s/step - loss: 0.1623 - accuracy: 0.9732 - val_loss: 1.2155 - val_accuracy: 0.5000\n",
      "Epoch 20/40\n",
      "7/7 [==============================] - 8s 1s/step - loss: 0.1688 - accuracy: 0.9732 - val_loss: 1.2321 - val_accuracy: 0.5000\n",
      "Epoch 21/40\n",
      "7/7 [==============================] - 8s 1s/step - loss: 0.1561 - accuracy: 0.9777 - val_loss: 1.2383 - val_accuracy: 0.5000\n",
      "Epoch 22/40\n",
      "7/7 [==============================] - 8s 1s/step - loss: 0.1660 - accuracy: 0.9777 - val_loss: 1.2016 - val_accuracy: 0.5000\n",
      "Epoch 23/40\n",
      "7/7 [==============================] - 8s 1s/step - loss: 0.1622 - accuracy: 0.9643 - val_loss: 1.1601 - val_accuracy: 0.5000\n",
      "Epoch 24/40\n",
      "7/7 [==============================] - 8s 1s/step - loss: 0.1561 - accuracy: 0.9688 - val_loss: 1.1302 - val_accuracy: 0.5000\n",
      "Epoch 25/40\n",
      "7/7 [==============================] - 8s 1s/step - loss: 0.1562 - accuracy: 0.9732 - val_loss: 1.1060 - val_accuracy: 0.5000\n",
      "Epoch 26/40\n",
      "7/7 [==============================] - 8s 1s/step - loss: 0.1505 - accuracy: 0.9821 - val_loss: 1.1190 - val_accuracy: 0.5000\n",
      "Epoch 27/40\n",
      "7/7 [==============================] - 8s 1s/step - loss: 0.1470 - accuracy: 0.9911 - val_loss: 1.1887 - val_accuracy: 0.5000\n",
      "Epoch 28/40\n",
      "7/7 [==============================] - 8s 1s/step - loss: 0.1454 - accuracy: 0.9821 - val_loss: 1.2039 - val_accuracy: 0.5000\n",
      "Epoch 29/40\n",
      "7/7 [==============================] - 7s 1s/step - loss: 0.1498 - accuracy: 0.9688 - val_loss: 1.1906 - val_accuracy: 0.5000\n",
      "Epoch 30/40\n",
      "7/7 [==============================] - 8s 1s/step - loss: 0.1571 - accuracy: 0.9688 - val_loss: 1.1547 - val_accuracy: 0.5000\n",
      "Epoch 31/40\n",
      "7/7 [==============================] - 8s 1s/step - loss: 0.1313 - accuracy: 0.9866 - val_loss: 1.1130 - val_accuracy: 0.5000\n",
      "Epoch 32/40\n",
      "7/7 [==============================] - 8s 1s/step - loss: 0.1367 - accuracy: 0.9821 - val_loss: 1.0474 - val_accuracy: 0.5000\n",
      "Epoch 33/40\n",
      "7/7 [==============================] - 8s 1s/step - loss: 0.1421 - accuracy: 0.9777 - val_loss: 0.9661 - val_accuracy: 0.5000\n",
      "Epoch 34/40\n",
      "7/7 [==============================] - 8s 1s/step - loss: 0.1692 - accuracy: 0.9554 - val_loss: 0.8963 - val_accuracy: 0.5000\n",
      "Epoch 35/40\n",
      "7/7 [==============================] - 8s 1s/step - loss: 0.1290 - accuracy: 0.9866 - val_loss: 0.8837 - val_accuracy: 0.5000\n",
      "Epoch 36/40\n",
      "7/7 [==============================] - 8s 1s/step - loss: 0.1338 - accuracy: 0.9821 - val_loss: 0.9085 - val_accuracy: 0.5000\n",
      "Epoch 37/40\n",
      "7/7 [==============================] - 8s 1s/step - loss: 0.1323 - accuracy: 0.9821 - val_loss: 0.9410 - val_accuracy: 0.5000\n",
      "Epoch 38/40\n",
      "7/7 [==============================] - 8s 1s/step - loss: 0.1404 - accuracy: 0.9777 - val_loss: 0.9596 - val_accuracy: 0.5000\n",
      "Epoch 39/40\n",
      "7/7 [==============================] - 8s 1s/step - loss: 0.1374 - accuracy: 0.9866 - val_loss: 0.9405 - val_accuracy: 0.5000\n",
      "Epoch 40/40\n",
      "7/7 [==============================] - 8s 1s/step - loss: 0.1340 - accuracy: 0.9777 - val_loss: 0.8686 - val_accuracy: 0.5000\n",
      "INFO:tensorflow:Assets written to: ./AlexNet_cust_dataset_4\\assets\n"
     ]
    }
   ],
   "source": [
    "results = model.fit(\n",
    "    train_ds,\n",
    "    batch_size = 32,\n",
    "    epochs = 40,\n",
    "    validation_data = val_ds,\n",
    "    verbose=1,\n",
    ")\n",
    "\n",
    "model.save(\"./AlexNet_cust_dataset_4\")"
   ]
  },
  {
   "cell_type": "code",
   "execution_count": 19,
   "metadata": {},
   "outputs": [
    {
     "data": {
      "image/png": "[encoded data removed]",
      "text/plain": [
       "<Figure size 432x288 with 1 Axes>"
      ]
     },
     "metadata": {
      "needs_background": "light"
     },
     "output_type": "display_data"
    }
   ],
   "source": [
    "results.history.keys()\n",
    "import matplotlib.pyplot as plt\n",
    "%matplotlib inline\n",
    "plt.plot(results.history['loss'][1:])\n",
    "plt.plot(results.history['val_loss'][1:])\n",
    "plt.legend(['Training', 'Validation'])\n",
    "plt.title('Training and Validation losses')\n",
    "plt.xlabel('epoch')\n",
    "plt.savefig(\"../project/AlexNet_cust_ds_4.png\")"
   ]
  }
 ],
 "metadata": {
  "kernelspec": {
   "display_name": "Python 3",
   "language": "python",
   "name": "python3"
  },
  "language_info": {
   "codemirror_mode": {
    "name": "ipython",
    "version": 3
   },
   "file_extension": ".py",
   "mimetype": "text/x-python",
   "name": "python",
   "nbconvert_exporter": "python",
   "pygments_lexer": "ipython3",
   "version": "3.7.4"
  }
 },
 "nbformat": 4,
 "nbformat_minor": 2
}
