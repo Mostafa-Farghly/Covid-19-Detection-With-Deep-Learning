{
 "cells": [
  {
   "cell_type": "code",
   "execution_count": 1,
   "metadata": {},
   "outputs": [],
   "source": [
    "import tensorflow as tf\n",
    "from tensorflow import keras\n",
    "from tensorflow.keras import layers\n",
    "import PIL"
   ]
  },
  {
   "cell_type": "markdown",
   "metadata": {},
   "source": [
    "### Building AlexNet's Model"
   ]
  },
  {
   "cell_type": "code",
   "execution_count": 2,
   "metadata": {},
   "outputs": [],
   "source": [
    "num_classes = 2\n",
    "\n",
    "model = tf.keras.Sequential([\n",
    "    \n",
    "    layers.Conv2D(96, 11, strides=4),\n",
    "    layers.Activation('relu'),\n",
    "    layers.MaxPooling2D(3, strides=2),\n",
    "    \n",
    "    layers.Conv2D(256, 5, padding='same'),\n",
    "    layers.Activation('relu'),\n",
    "    layers.MaxPooling2D(3, strides=2),\n",
    "    \n",
    "    layers.Conv2D(384, 3, padding='same'),\n",
    "    layers.Activation('relu'),\n",
    "    \n",
    "    layers.Conv2D(384, 3, padding='same'),\n",
    "    layers.Activation('relu'),\n",
    "    \n",
    "    layers.Conv2D(256, 3, padding='same'),\n",
    "    layers.Activation('relu'),\n",
    "    layers.MaxPooling2D(3, strides=2),\n",
    "    \n",
    "    layers.Flatten(),\n",
    "    \n",
    "    layers.Dense(9216),\n",
    "    layers.Activation('relu'),\n",
    "    \n",
    "    layers.Dense(4096),\n",
    "    layers.Activation('relu'),\n",
    "    \n",
    "    layers.Dense(4096),\n",
    "    layers.Activation('relu'),\n",
    "    \n",
    "    layers.Dense(num_classes),\n",
    "    layers.Activation('softmax')\n",
    "])"
   ]
  },
  {
   "cell_type": "code",
   "execution_count": 3,
   "metadata": {},
   "outputs": [],
   "source": [
    "model.compile(loss=keras.losses.categorical_crossentropy, optimizer='adam', metrics=['accuracy'])"
   ]
  },
  {
   "cell_type": "markdown",
   "metadata": {},
   "source": [
    "### Dataset 1"
   ]
  },
  {
   "cell_type": "code",
   "execution_count": 4,
   "metadata": {},
   "outputs": [
    {
     "name": "stdout",
     "output_type": "stream",
     "text": [
      "Found 425 files belonging to 2 classes.\n",
      "Found 118 files belonging to 2 classes.\n",
      "Found 203 files belonging to 2 classes.\n"
     ]
    }
   ],
   "source": [
    "train_ds = keras.preprocessing.image_dataset_from_directory( r'../datasets/ct-sub-datasets/train',\n",
    "                                                               image_size=(227, 227),\n",
    "                                                               batch_size=32,\n",
    "                                                               label_mode='categorical')\n",
    "\n",
    "val_ds = keras.preprocessing.image_dataset_from_directory( r'../datasets/ct-sub-datasets/val/',\n",
    "                                                             image_size=(227, 227),\n",
    "                                                             batch_size=32,\n",
    "                                                             label_mode='categorical')\n",
    "\n",
    "test_ds = keras.preprocessing.image_dataset_from_directory( r'../datasets/ct-sub-datasets/test/',\n",
    "                                                             image_size=(227, 227),\n",
    "                                                             batch_size=32,\n",
    "                                                             label_mode='categorical')"
   ]
  },
  {
   "cell_type": "code",
   "execution_count": 5,
   "metadata": {},
   "outputs": [
    {
     "name": "stdout",
     "output_type": "stream",
     "text": [
      "Epoch 1/50\n",
      "14/14 [==============================] - 3s 223ms/step - loss: 5448.1299 - accuracy: 0.5035 - val_loss: 0.7177 - val_accuracy: 0.5085\n",
      "Epoch 2/50\n",
      "14/14 [==============================] - 3s 182ms/step - loss: 0.6788 - accuracy: 0.5012 - val_loss: 0.9719 - val_accuracy: 0.4661\n",
      "Epoch 3/50\n",
      "14/14 [==============================] - 3s 181ms/step - loss: 0.6221 - accuracy: 0.6212 - val_loss: 0.8537 - val_accuracy: 0.4661\n",
      "Epoch 4/50\n",
      "14/14 [==============================] - 3s 181ms/step - loss: 0.6326 - accuracy: 0.6353 - val_loss: 0.6827 - val_accuracy: 0.5339\n",
      "Epoch 5/50\n",
      "14/14 [==============================] - 3s 181ms/step - loss: 0.6059 - accuracy: 0.6282 - val_loss: 0.7764 - val_accuracy: 0.4576\n",
      "Epoch 6/50\n",
      "14/14 [==============================] - 3s 183ms/step - loss: 0.5854 - accuracy: 0.6353 - val_loss: 0.7100 - val_accuracy: 0.5000\n",
      "Epoch 7/50\n",
      "14/14 [==============================] - 3s 185ms/step - loss: 0.5764 - accuracy: 0.6612 - val_loss: 3.4272 - val_accuracy: 0.4068\n",
      "Epoch 8/50\n",
      "14/14 [==============================] - 3s 181ms/step - loss: 0.9171 - accuracy: 0.5082 - val_loss: 0.6979 - val_accuracy: 0.4576\n",
      "Epoch 9/50\n",
      "14/14 [==============================] - 3s 182ms/step - loss: 0.6301 - accuracy: 0.5765 - val_loss: 0.6769 - val_accuracy: 0.5085\n",
      "Epoch 10/50\n",
      "14/14 [==============================] - 3s 182ms/step - loss: 0.6387 - accuracy: 0.6094 - val_loss: 0.7118 - val_accuracy: 0.4831\n",
      "Epoch 11/50\n",
      "14/14 [==============================] - 3s 183ms/step - loss: 0.6050 - accuracy: 0.6188 - val_loss: 0.7662 - val_accuracy: 0.4915\n",
      "Epoch 12/50\n",
      "14/14 [==============================] - 3s 182ms/step - loss: 0.5625 - accuracy: 0.6612 - val_loss: 0.8989 - val_accuracy: 0.4915\n",
      "Epoch 13/50\n",
      "14/14 [==============================] - 3s 182ms/step - loss: 0.5407 - accuracy: 0.6871 - val_loss: 0.9532 - val_accuracy: 0.4915\n",
      "Epoch 14/50\n",
      "14/14 [==============================] - 3s 181ms/step - loss: 0.5123 - accuracy: 0.6871 - val_loss: 1.1478 - val_accuracy: 0.4915\n",
      "Epoch 15/50\n",
      "14/14 [==============================] - 3s 181ms/step - loss: 0.5797 - accuracy: 0.6565 - val_loss: 0.8398 - val_accuracy: 0.4915\n",
      "Epoch 16/50\n",
      "14/14 [==============================] - 3s 183ms/step - loss: 0.5657 - accuracy: 0.6635 - val_loss: 0.7487 - val_accuracy: 0.4915\n",
      "Epoch 17/50\n",
      "14/14 [==============================] - 3s 183ms/step - loss: 0.5299 - accuracy: 0.6871 - val_loss: 1.3184 - val_accuracy: 0.4915\n",
      "Epoch 18/50\n",
      "14/14 [==============================] - 3s 193ms/step - loss: 0.5609 - accuracy: 0.6800 - val_loss: 0.8072 - val_accuracy: 0.4831\n",
      "Epoch 19/50\n",
      "14/14 [==============================] - 3s 187ms/step - loss: 0.5532 - accuracy: 0.6659 - val_loss: 1.0094 - val_accuracy: 0.4831\n",
      "Epoch 20/50\n",
      "14/14 [==============================] - 3s 182ms/step - loss: 0.5084 - accuracy: 0.6918 - val_loss: 1.0131 - val_accuracy: 0.5000\n",
      "Epoch 21/50\n",
      "14/14 [==============================] - 3s 182ms/step - loss: 0.4724 - accuracy: 0.7082 - val_loss: 1.3326 - val_accuracy: 0.5000\n",
      "Epoch 22/50\n",
      "14/14 [==============================] - 3s 180ms/step - loss: 0.4522 - accuracy: 0.7153 - val_loss: 1.3059 - val_accuracy: 0.5254\n",
      "Epoch 23/50\n",
      "14/14 [==============================] - 3s 180ms/step - loss: 0.4389 - accuracy: 0.7200 - val_loss: 1.6534 - val_accuracy: 0.5085\n",
      "Epoch 24/50\n",
      "14/14 [==============================] - 3s 182ms/step - loss: 0.6288 - accuracy: 0.7012 - val_loss: 0.8661 - val_accuracy: 0.4831\n",
      "Epoch 25/50\n",
      "14/14 [==============================] - 3s 180ms/step - loss: 0.5203 - accuracy: 0.6894 - val_loss: 0.9663 - val_accuracy: 0.4831\n",
      "Epoch 26/50\n",
      "14/14 [==============================] - 3s 180ms/step - loss: 0.4774 - accuracy: 0.6941 - val_loss: 1.1573 - val_accuracy: 0.5000\n",
      "Epoch 27/50\n",
      "14/14 [==============================] - 3s 182ms/step - loss: 0.5132 - accuracy: 0.6918 - val_loss: 0.9778 - val_accuracy: 0.4915\n",
      "Epoch 28/50\n",
      "14/14 [==============================] - 3s 180ms/step - loss: 0.5144 - accuracy: 0.6894 - val_loss: 1.0223 - val_accuracy: 0.4746\n",
      "Epoch 29/50\n",
      "14/14 [==============================] - 3s 180ms/step - loss: 0.4941 - accuracy: 0.6965 - val_loss: 1.8152 - val_accuracy: 0.4661\n",
      "Epoch 30/50\n",
      "14/14 [==============================] - 3s 180ms/step - loss: 0.4869 - accuracy: 0.6659 - val_loss: 1.6176 - val_accuracy: 0.4831\n",
      "Epoch 31/50\n",
      "14/14 [==============================] - 3s 180ms/step - loss: 0.4566 - accuracy: 0.7082 - val_loss: 1.9514 - val_accuracy: 0.4746\n",
      "Epoch 32/50\n",
      "14/14 [==============================] - 3s 180ms/step - loss: 0.5376 - accuracy: 0.7012 - val_loss: 1.1945 - val_accuracy: 0.4746\n",
      "Epoch 33/50\n",
      "14/14 [==============================] - 3s 180ms/step - loss: 0.4884 - accuracy: 0.7106 - val_loss: 1.5810 - val_accuracy: 0.4661\n",
      "Epoch 34/50\n",
      "14/14 [==============================] - 3s 180ms/step - loss: 0.5497 - accuracy: 0.7153 - val_loss: 1.0596 - val_accuracy: 0.4746\n",
      "Epoch 35/50\n",
      "14/14 [==============================] - 3s 180ms/step - loss: 0.4712 - accuracy: 0.7106 - val_loss: 2.0148 - val_accuracy: 0.4746\n",
      "Epoch 36/50\n",
      "14/14 [==============================] - 3s 181ms/step - loss: 0.4785 - accuracy: 0.7129 - val_loss: 2.6672 - val_accuracy: 0.4576\n",
      "Epoch 37/50\n",
      "14/14 [==============================] - 3s 180ms/step - loss: 0.4769 - accuracy: 0.7082 - val_loss: 1.7545 - val_accuracy: 0.4831\n",
      "Epoch 38/50\n",
      "14/14 [==============================] - 3s 182ms/step - loss: 0.4475 - accuracy: 0.7153 - val_loss: 2.3897 - val_accuracy: 0.4831\n",
      "Epoch 39/50\n",
      "14/14 [==============================] - 3s 181ms/step - loss: 0.4532 - accuracy: 0.7176 - val_loss: 3.2298 - val_accuracy: 0.4746\n",
      "Epoch 40/50\n",
      "14/14 [==============================] - 3s 180ms/step - loss: 0.4317 - accuracy: 0.7224 - val_loss: 4.3840 - val_accuracy: 0.4746\n",
      "Epoch 41/50\n",
      "14/14 [==============================] - 3s 179ms/step - loss: 0.4274 - accuracy: 0.7224 - val_loss: 5.0689 - val_accuracy: 0.4746\n",
      "Epoch 42/50\n",
      "14/14 [==============================] - 3s 180ms/step - loss: 0.4284 - accuracy: 0.7224 - val_loss: 5.6976 - val_accuracy: 0.4746\n",
      "Epoch 43/50\n",
      "14/14 [==============================] - 3s 180ms/step - loss: 0.4275 - accuracy: 0.7224 - val_loss: 6.2722 - val_accuracy: 0.4746\n",
      "Epoch 44/50\n",
      "14/14 [==============================] - 3s 179ms/step - loss: 0.4256 - accuracy: 0.7224 - val_loss: 6.8983 - val_accuracy: 0.4746\n",
      "Epoch 45/50\n",
      "14/14 [==============================] - 3s 180ms/step - loss: 0.4252 - accuracy: 0.7224 - val_loss: 7.3024 - val_accuracy: 0.4746\n",
      "Epoch 46/50\n",
      "14/14 [==============================] - 3s 180ms/step - loss: 0.4252 - accuracy: 0.7224 - val_loss: 7.7423 - val_accuracy: 0.4746\n",
      "Epoch 47/50\n",
      "14/14 [==============================] - 3s 180ms/step - loss: 0.4248 - accuracy: 0.7224 - val_loss: 8.1307 - val_accuracy: 0.4746\n",
      "Epoch 48/50\n",
      "14/14 [==============================] - 3s 181ms/step - loss: 0.4255 - accuracy: 0.7224 - val_loss: 8.4086 - val_accuracy: 0.4746\n",
      "Epoch 49/50\n",
      "14/14 [==============================] - 3s 182ms/step - loss: 0.4271 - accuracy: 0.7224 - val_loss: 8.5656 - val_accuracy: 0.4746\n",
      "Epoch 50/50\n",
      "14/14 [==============================] - 3s 180ms/step - loss: 0.4249 - accuracy: 0.7224 - val_loss: 9.5419 - val_accuracy: 0.4746\n",
      "WARNING:tensorflow:From C:\\Users\\15014\\Anaconda3\\lib\\site-packages\\tensorflow\\python\\training\\tracking\\tracking.py:111: Model.state_updates (from tensorflow.python.keras.engine.training) is deprecated and will be removed in a future version.\n",
      "Instructions for updating:\n",
      "This property should not be used in TensorFlow 2.0, as updates are applied automatically.\n",
      "WARNING:tensorflow:From C:\\Users\\15014\\Anaconda3\\lib\\site-packages\\tensorflow\\python\\training\\tracking\\tracking.py:111: Layer.updates (from tensorflow.python.keras.engine.base_layer) is deprecated and will be removed in a future version.\n",
      "Instructions for updating:\n",
      "This property should not be used in TensorFlow 2.0, as updates are applied automatically.\n",
      "INFO:tensorflow:Assets written to: ./AlexNet_dataset_1\\assets\n"
     ]
    }
   ],
   "source": [
    "results = model.fit(\n",
    "    train_ds,\n",
    "    batch_size = 32,\n",
    "    epochs = 50,\n",
    "    validation_data = val_ds,\n",
    "    verbose=1,\n",
    ")\n",
    "\n",
    "model.save(\"./AlexNet_dataset_1\")"
   ]
  },
  {
   "cell_type": "code",
   "execution_count": 6,
   "metadata": {},
   "outputs": [
    {
     "data": {
      "image/png": "[encoded data removed]",
      "text/plain": [
       "<Figure size 432x288 with 1 Axes>"
      ]
     },
     "metadata": {
      "needs_background": "light"
     },
     "output_type": "display_data"
    }
   ],
   "source": [
    "results.history.keys()\n",
    "import matplotlib.pyplot as plt\n",
    "%matplotlib inline\n",
    "plt.plot(results.history['loss'][1:])\n",
    "plt.plot(results.history['val_loss'][1:])\n",
    "plt.legend(['Training', 'Validation'])\n",
    "plt.title('Training and Validation losses')\n",
    "plt.xlabel('epoch')\n",
    "plt.savefig(\"../project/AlexNet_ds_1.png\")"
   ]
  },
  {
   "cell_type": "code",
   "execution_count": 7,
   "metadata": {},
   "outputs": [
    {
     "name": "stdout",
     "output_type": "stream",
     "text": [
      "7/7 [==============================] - 0s 52ms/step - loss: 6.2419 - accuracy: 0.6010\n"
     ]
    },
    {
     "data": {
      "text/plain": [
       "[6.2419209480285645, 0.6009852290153503]"
      ]
     },
     "execution_count": 7,
     "metadata": {},
     "output_type": "execute_result"
    }
   ],
   "source": [
    "model.evaluate(test_ds)"
   ]
  },
  {
   "cell_type": "markdown",
   "metadata": {},
   "source": [
    "### Dataset 2"
   ]
  },
  {
   "cell_type": "code",
   "execution_count": 8,
   "metadata": {},
   "outputs": [
    {
     "name": "stdout",
     "output_type": "stream",
     "text": [
      "Found 612 files belonging to 2 classes.\n",
      "Found 99 files belonging to 2 classes.\n",
      "Found 91 files belonging to 2 classes.\n"
     ]
    }
   ],
   "source": [
    "train_ds = keras.preprocessing.image_dataset_from_directory( r'../datasets/data-try2/train',\n",
    "                                                               image_size=(227, 227),\n",
    "                                                               batch_size=32,\n",
    "                                                               label_mode='categorical')\n",
    "\n",
    "val_ds = keras.preprocessing.image_dataset_from_directory( r'../datasets/data-try2/validation/',\n",
    "                                                             image_size=(227, 227),\n",
    "                                                             batch_size=32,\n",
    "                                                             label_mode='categorical')\n",
    "\n",
    "test_ds = keras.preprocessing.image_dataset_from_directory( r'../datasets/data-try2/test/',\n",
    "                                                             image_size=(227, 227),\n",
    "                                                             batch_size=32,\n",
    "                                                             label_mode='categorical')"
   ]
  },
  {
   "cell_type": "code",
   "execution_count": 9,
   "metadata": {},
   "outputs": [],
   "source": [
    "AUTOTUNE = tf.data.experimental.AUTOTUNE\n",
    "\n",
    "train_ds = train_ds.cache().prefetch(buffer_size=AUTOTUNE)\n",
    "val_ds = val_ds.cache().prefetch(buffer_size=AUTOTUNE)"
   ]
  },
  {
   "cell_type": "code",
   "execution_count": 10,
   "metadata": {},
   "outputs": [
    {
     "name": "stdout",
     "output_type": "stream",
     "text": [
      "Epoch 1/50\n",
      "20/20 [==============================] - 3s 170ms/step - loss: 1.6279 - accuracy: 0.5229 - val_loss: 0.6954 - val_accuracy: 0.4646\n",
      "Epoch 2/50\n",
      "20/20 [==============================] - 2s 105ms/step - loss: 0.6923 - accuracy: 0.5703 - val_loss: 1.6324 - val_accuracy: 0.5354\n",
      "Epoch 3/50\n",
      "20/20 [==============================] - 2s 105ms/step - loss: 0.7365 - accuracy: 0.6029 - val_loss: 0.8001 - val_accuracy: 0.6162\n",
      "Epoch 4/50\n",
      "20/20 [==============================] - 2s 105ms/step - loss: 0.7390 - accuracy: 0.5980 - val_loss: 0.6933 - val_accuracy: 0.5253\n",
      "Epoch 5/50\n",
      "20/20 [==============================] - 2s 105ms/step - loss: 0.6806 - accuracy: 0.5082 - val_loss: 1.1307 - val_accuracy: 0.5051\n",
      "Epoch 6/50\n",
      "20/20 [==============================] - 2s 105ms/step - loss: 0.7309 - accuracy: 0.5049 - val_loss: 0.6938 - val_accuracy: 0.4949\n",
      "Epoch 7/50\n",
      "20/20 [==============================] - 2s 105ms/step - loss: 0.6939 - accuracy: 0.4951 - val_loss: 0.6932 - val_accuracy: 0.4949\n",
      "Epoch 8/50\n",
      "20/20 [==============================] - 2s 105ms/step - loss: 0.6932 - accuracy: 0.4935 - val_loss: 0.6931 - val_accuracy: 0.5051\n",
      "Epoch 9/50\n",
      "20/20 [==============================] - 2s 105ms/step - loss: 0.6931 - accuracy: 0.5049 - val_loss: 0.6931 - val_accuracy: 0.5051\n",
      "Epoch 10/50\n",
      "20/20 [==============================] - 2s 105ms/step - loss: 0.6931 - accuracy: 0.5049 - val_loss: 0.6928 - val_accuracy: 0.5051\n",
      "Epoch 11/50\n",
      "20/20 [==============================] - 2s 105ms/step - loss: 0.6923 - accuracy: 0.5425 - val_loss: 0.6852 - val_accuracy: 0.5859\n",
      "Epoch 12/50\n",
      "20/20 [==============================] - 2s 105ms/step - loss: 0.6940 - accuracy: 0.5229 - val_loss: 0.6932 - val_accuracy: 0.5051\n",
      "Epoch 13/50\n",
      "20/20 [==============================] - 2s 105ms/step - loss: 0.6932 - accuracy: 0.5049 - val_loss: 0.6931 - val_accuracy: 0.5051\n",
      "Epoch 14/50\n",
      "20/20 [==============================] - 2s 105ms/step - loss: 0.6931 - accuracy: 0.5049 - val_loss: 0.6930 - val_accuracy: 0.5051\n",
      "Epoch 15/50\n",
      "20/20 [==============================] - 2s 105ms/step - loss: 0.6819 - accuracy: 0.5359 - val_loss: 0.6247 - val_accuracy: 0.5657\n",
      "Epoch 16/50\n",
      "20/20 [==============================] - 2s 105ms/step - loss: 0.6649 - accuracy: 0.5523 - val_loss: 8.8712 - val_accuracy: 0.5253\n",
      "Epoch 17/50\n",
      "20/20 [==============================] - 2s 105ms/step - loss: 0.9080 - accuracy: 0.5000 - val_loss: 0.6792 - val_accuracy: 0.5657\n",
      "Epoch 18/50\n",
      "20/20 [==============================] - 2s 105ms/step - loss: 0.7205 - accuracy: 0.5343 - val_loss: 0.7314 - val_accuracy: 0.5051\n",
      "Epoch 19/50\n",
      "20/20 [==============================] - 2s 105ms/step - loss: 0.6946 - accuracy: 0.5049 - val_loss: 0.6934 - val_accuracy: 0.5051\n",
      "Epoch 20/50\n",
      "20/20 [==============================] - 2s 105ms/step - loss: 0.6932 - accuracy: 0.5049 - val_loss: 0.6931 - val_accuracy: 0.5051\n",
      "Epoch 21/50\n",
      "20/20 [==============================] - 2s 105ms/step - loss: 0.6931 - accuracy: 0.5049 - val_loss: 0.6931 - val_accuracy: 0.5051\n",
      "Epoch 22/50\n",
      "20/20 [==============================] - 2s 105ms/step - loss: 0.6931 - accuracy: 0.5049 - val_loss: 0.6931 - val_accuracy: 0.5051\n",
      "Epoch 23/50\n",
      "20/20 [==============================] - 2s 105ms/step - loss: 0.6931 - accuracy: 0.5049 - val_loss: 0.6931 - val_accuracy: 0.5051\n",
      "Epoch 24/50\n",
      "20/20 [==============================] - 2s 105ms/step - loss: 0.6931 - accuracy: 0.5049 - val_loss: 0.6931 - val_accuracy: 0.5051\n",
      "Epoch 25/50\n",
      "20/20 [==============================] - 2s 104ms/step - loss: 0.6931 - accuracy: 0.5049 - val_loss: 0.6931 - val_accuracy: 0.5051\n",
      "Epoch 26/50\n",
      "20/20 [==============================] - 2s 105ms/step - loss: 0.6931 - accuracy: 0.5049 - val_loss: 0.6931 - val_accuracy: 0.5051\n",
      "Epoch 27/50\n",
      "20/20 [==============================] - 2s 105ms/step - loss: 0.6931 - accuracy: 0.5049 - val_loss: 0.6931 - val_accuracy: 0.5051\n",
      "Epoch 28/50\n",
      "20/20 [==============================] - 2s 105ms/step - loss: 0.6931 - accuracy: 0.5049 - val_loss: 0.6931 - val_accuracy: 0.5051\n",
      "Epoch 29/50\n",
      "20/20 [==============================] - 2s 105ms/step - loss: 0.6931 - accuracy: 0.5049 - val_loss: 0.6931 - val_accuracy: 0.5051\n",
      "Epoch 30/50\n",
      "20/20 [==============================] - 2s 105ms/step - loss: 0.6931 - accuracy: 0.5049 - val_loss: 0.6931 - val_accuracy: 0.5051\n",
      "Epoch 31/50\n",
      "20/20 [==============================] - 2s 105ms/step - loss: 0.6931 - accuracy: 0.5049 - val_loss: 0.6931 - val_accuracy: 0.5051\n",
      "Epoch 32/50\n",
      "20/20 [==============================] - 2s 105ms/step - loss: 0.6931 - accuracy: 0.5049 - val_loss: 0.6931 - val_accuracy: 0.5051\n",
      "Epoch 33/50\n",
      "20/20 [==============================] - 2s 105ms/step - loss: 0.6931 - accuracy: 0.5049 - val_loss: 0.6931 - val_accuracy: 0.5051\n",
      "Epoch 34/50\n",
      "20/20 [==============================] - 2s 105ms/step - loss: 0.6931 - accuracy: 0.5049 - val_loss: 0.6931 - val_accuracy: 0.5051\n",
      "Epoch 35/50\n",
      "20/20 [==============================] - 2s 105ms/step - loss: 0.6931 - accuracy: 0.5049 - val_loss: 0.6931 - val_accuracy: 0.5051\n",
      "Epoch 36/50\n",
      "20/20 [==============================] - 2s 105ms/step - loss: 0.6931 - accuracy: 0.5049 - val_loss: 0.6931 - val_accuracy: 0.5051\n",
      "Epoch 37/50\n",
      "20/20 [==============================] - 2s 105ms/step - loss: 0.6931 - accuracy: 0.5049 - val_loss: 0.6931 - val_accuracy: 0.5051\n",
      "Epoch 38/50\n",
      "20/20 [==============================] - 2s 105ms/step - loss: 0.6931 - accuracy: 0.5049 - val_loss: 0.6931 - val_accuracy: 0.5051\n",
      "Epoch 39/50\n",
      "20/20 [==============================] - 2s 105ms/step - loss: 0.6931 - accuracy: 0.5049 - val_loss: 0.6931 - val_accuracy: 0.5051\n",
      "Epoch 40/50\n",
      "20/20 [==============================] - 2s 105ms/step - loss: 0.6931 - accuracy: 0.5049 - val_loss: 0.6931 - val_accuracy: 0.5051\n",
      "Epoch 41/50\n",
      "20/20 [==============================] - 2s 105ms/step - loss: 0.6931 - accuracy: 0.5049 - val_loss: 0.6931 - val_accuracy: 0.5051\n",
      "Epoch 42/50\n",
      "20/20 [==============================] - 2s 105ms/step - loss: 0.6931 - accuracy: 0.5049 - val_loss: 0.6931 - val_accuracy: 0.5051\n",
      "Epoch 43/50\n",
      "20/20 [==============================] - 2s 105ms/step - loss: 0.6931 - accuracy: 0.5049 - val_loss: 0.6931 - val_accuracy: 0.5051\n",
      "Epoch 44/50\n",
      "20/20 [==============================] - 2s 105ms/step - loss: 0.6931 - accuracy: 0.5049 - val_loss: 0.6931 - val_accuracy: 0.5051\n",
      "Epoch 45/50\n",
      "20/20 [==============================] - 2s 105ms/step - loss: 0.6931 - accuracy: 0.5049 - val_loss: 0.6931 - val_accuracy: 0.5051\n",
      "Epoch 46/50\n",
      "20/20 [==============================] - 2s 105ms/step - loss: 0.6931 - accuracy: 0.5049 - val_loss: 0.6931 - val_accuracy: 0.5051\n",
      "Epoch 47/50\n",
      "20/20 [==============================] - 2s 105ms/step - loss: 0.6931 - accuracy: 0.5049 - val_loss: 0.6931 - val_accuracy: 0.5051\n",
      "Epoch 48/50\n",
      "20/20 [==============================] - 2s 105ms/step - loss: 0.6931 - accuracy: 0.5049 - val_loss: 0.6931 - val_accuracy: 0.5051\n",
      "Epoch 49/50\n",
      "20/20 [==============================] - 2s 105ms/step - loss: 0.6931 - accuracy: 0.5049 - val_loss: 0.6931 - val_accuracy: 0.5051\n",
      "Epoch 50/50\n",
      "20/20 [==============================] - 2s 105ms/step - loss: 0.6931 - accuracy: 0.5049 - val_loss: 0.6931 - val_accuracy: 0.5051\n",
      "INFO:tensorflow:Assets written to: ./AlexNet_dataset_2\\assets\n"
     ]
    }
   ],
   "source": [
    "results = model.fit(\n",
    "    train_ds,\n",
    "    batch_size = 32,\n",
    "    epochs = 50,\n",
    "    validation_data = val_ds,\n",
    "    verbose=1,\n",
    ")\n",
    "\n",
    "model.save(\"./AlexNet_dataset_2\")"
   ]
  },
  {
   "cell_type": "code",
   "execution_count": 11,
   "metadata": {},
   "outputs": [
    {
     "data": {
      "image/png": "[encoded data removed]",
      "text/plain": [
       "<Figure size 432x288 with 1 Axes>"
      ]
     },
     "metadata": {
      "needs_background": "light"
     },
     "output_type": "display_data"
    }
   ],
   "source": [
    "results.history.keys()\n",
    "import matplotlib.pyplot as plt\n",
    "%matplotlib inline\n",
    "plt.plot(results.history['loss'][1:])\n",
    "plt.plot(results.history['val_loss'][1:])\n",
    "plt.legend(['Training', 'Validation'])\n",
    "plt.title('Training and Validation losses')\n",
    "plt.xlabel('epoch')\n",
    "plt.savefig(\"../project/AlexNet_ds_2.png\")"
   ]
  },
  {
   "cell_type": "code",
   "execution_count": 12,
   "metadata": {},
   "outputs": [
    {
     "name": "stdout",
     "output_type": "stream",
     "text": [
      "3/3 [==============================] - 0s 103ms/step - loss: 0.6931 - accuracy: 0.5055\n"
     ]
    },
    {
     "data": {
      "text/plain": [
       "[0.6930893063545227, 0.5054945349693298]"
      ]
     },
     "execution_count": 12,
     "metadata": {},
     "output_type": "execute_result"
    }
   ],
   "source": [
    "model.evaluate(test_ds)"
   ]
  },
  {
   "cell_type": "markdown",
   "metadata": {},
   "source": [
    "### Dataset 3"
   ]
  },
  {
   "cell_type": "code",
   "execution_count": 13,
   "metadata": {},
   "outputs": [
    {
     "name": "stdout",
     "output_type": "stream",
     "text": [
      "Found 2233 files belonging to 2 classes.\n",
      "Using 1787 files for training.\n",
      "Found 2233 files belonging to 2 classes.\n",
      "Using 446 files for validation.\n",
      "Found 248 files belonging to 2 classes.\n"
     ]
    }
   ],
   "source": [
    "train_ds = keras.preprocessing.image_dataset_from_directory( r'../datasets/kaggle-large-ct/train/',\n",
    "                                                               image_size=(227, 227),\n",
    "                                                               validation_split=0.2,\n",
    "                                                               subset=\"training\",\n",
    "                                                               seed=123,\n",
    "                                                               batch_size=32,\n",
    "                                                               label_mode='categorical')\n",
    "\n",
    "val_ds = keras.preprocessing.image_dataset_from_directory( r'../datasets/kaggle-large-ct/train/',\n",
    "                                                             image_size=(227, 227),\n",
    "                                                             validation_split=0.2,\n",
    "                                                             subset=\"validation\",\n",
    "                                                             seed=123,\n",
    "                                                             batch_size=32,\n",
    "                                                             label_mode='categorical')\n",
    "\n",
    "test_ds = keras.preprocessing.image_dataset_from_directory( r'../datasets/kaggle-large-ct/test/',\n",
    "                                                             image_size=(227, 227),\n",
    "                                                             batch_size=32,\n",
    "                                                             label_mode='categorical')"
   ]
  },
  {
   "cell_type": "code",
   "execution_count": 14,
   "metadata": {},
   "outputs": [
    {
     "name": "stdout",
     "output_type": "stream",
     "text": [
      "Epoch 1/50\n",
      "56/56 [==============================] - 14s 242ms/step - loss: 0.6931 - accuracy: 0.5104 - val_loss: 0.6938 - val_accuracy: 0.4821\n",
      "Epoch 2/50\n",
      "56/56 [==============================] - 11s 204ms/step - loss: 0.6932 - accuracy: 0.5104 - val_loss: 0.6936 - val_accuracy: 0.4821\n",
      "Epoch 3/50\n",
      "56/56 [==============================] - 11s 203ms/step - loss: 0.6931 - accuracy: 0.5104 - val_loss: 0.6941 - val_accuracy: 0.4821\n",
      "Epoch 4/50\n",
      "56/56 [==============================] - 11s 205ms/step - loss: 0.6931 - accuracy: 0.5104 - val_loss: 0.6941 - val_accuracy: 0.4821\n",
      "Epoch 5/50\n",
      "56/56 [==============================] - 11s 203ms/step - loss: 0.6930 - accuracy: 0.5104 - val_loss: 0.6942 - val_accuracy: 0.4821\n",
      "Epoch 6/50\n",
      "56/56 [==============================] - 11s 204ms/step - loss: 0.6930 - accuracy: 0.5104 - val_loss: 0.6939 - val_accuracy: 0.4821\n",
      "Epoch 7/50\n",
      "56/56 [==============================] - 12s 207ms/step - loss: 0.6932 - accuracy: 0.5104 - val_loss: 0.6937 - val_accuracy: 0.4821\n",
      "Epoch 8/50\n",
      "56/56 [==============================] - 12s 206ms/step - loss: 0.6931 - accuracy: 0.5104 - val_loss: 0.6940 - val_accuracy: 0.4821\n",
      "Epoch 9/50\n",
      "56/56 [==============================] - 11s 205ms/step - loss: 0.6931 - accuracy: 0.5104 - val_loss: 0.6940 - val_accuracy: 0.4821\n",
      "Epoch 10/50\n",
      "56/56 [==============================] - 12s 205ms/step - loss: 0.6931 - accuracy: 0.5104 - val_loss: 0.6943 - val_accuracy: 0.4821\n",
      "Epoch 11/50\n",
      "56/56 [==============================] - 11s 205ms/step - loss: 0.6931 - accuracy: 0.5104 - val_loss: 0.6939 - val_accuracy: 0.4821\n",
      "Epoch 12/50\n",
      "56/56 [==============================] - 11s 205ms/step - loss: 0.6930 - accuracy: 0.5104 - val_loss: 0.6937 - val_accuracy: 0.4821\n",
      "Epoch 13/50\n",
      "56/56 [==============================] - 12s 208ms/step - loss: 0.6930 - accuracy: 0.5104 - val_loss: 0.6939 - val_accuracy: 0.4821\n",
      "Epoch 14/50\n",
      "56/56 [==============================] - 11s 205ms/step - loss: 0.6930 - accuracy: 0.5104 - val_loss: 0.6941 - val_accuracy: 0.4821\n",
      "Epoch 15/50\n",
      "56/56 [==============================] - 11s 205ms/step - loss: 0.6930 - accuracy: 0.5104 - val_loss: 0.6940 - val_accuracy: 0.4821\n",
      "Epoch 16/50\n",
      "56/56 [==============================] - 12s 208ms/step - loss: 0.6931 - accuracy: 0.5104 - val_loss: 0.6937 - val_accuracy: 0.4821\n",
      "Epoch 17/50\n",
      "56/56 [==============================] - 12s 207ms/step - loss: 0.6930 - accuracy: 0.5104 - val_loss: 0.6939 - val_accuracy: 0.4821\n",
      "Epoch 18/50\n",
      "56/56 [==============================] - 12s 208ms/step - loss: 0.6931 - accuracy: 0.5104 - val_loss: 0.6940 - val_accuracy: 0.4821\n",
      "Epoch 19/50\n",
      "56/56 [==============================] - 12s 210ms/step - loss: 0.6931 - accuracy: 0.5104 - val_loss: 0.6942 - val_accuracy: 0.4821\n",
      "Epoch 20/50\n",
      "56/56 [==============================] - 12s 212ms/step - loss: 0.6930 - accuracy: 0.5104 - val_loss: 0.6938 - val_accuracy: 0.4821\n",
      "Epoch 21/50\n",
      "56/56 [==============================] - 12s 210ms/step - loss: 0.6931 - accuracy: 0.5104 - val_loss: 0.6941 - val_accuracy: 0.4821\n",
      "Epoch 22/50\n",
      "56/56 [==============================] - 12s 210ms/step - loss: 0.6931 - accuracy: 0.5104 - val_loss: 0.6939 - val_accuracy: 0.4821\n",
      "Epoch 23/50\n",
      "56/56 [==============================] - 12s 211ms/step - loss: 0.6930 - accuracy: 0.5104 - val_loss: 0.6940 - val_accuracy: 0.4821\n",
      "Epoch 24/50\n",
      "56/56 [==============================] - 12s 211ms/step - loss: 0.6930 - accuracy: 0.5104 - val_loss: 0.6939 - val_accuracy: 0.4821\n",
      "Epoch 25/50\n",
      "56/56 [==============================] - 12s 209ms/step - loss: 0.6930 - accuracy: 0.5104 - val_loss: 0.6940 - val_accuracy: 0.4821\n",
      "Epoch 26/50\n",
      "56/56 [==============================] - 12s 208ms/step - loss: 0.6930 - accuracy: 0.5104 - val_loss: 0.6940 - val_accuracy: 0.4821\n",
      "Epoch 27/50\n",
      "56/56 [==============================] - 12s 205ms/step - loss: 0.6930 - accuracy: 0.5104 - val_loss: 0.6941 - val_accuracy: 0.4821\n",
      "Epoch 28/50\n",
      "56/56 [==============================] - 12s 207ms/step - loss: 0.6930 - accuracy: 0.5104 - val_loss: 0.6940 - val_accuracy: 0.4821\n",
      "Epoch 29/50\n",
      "56/56 [==============================] - 12s 206ms/step - loss: 0.6930 - accuracy: 0.5104 - val_loss: 0.6942 - val_accuracy: 0.4821\n",
      "Epoch 30/50\n",
      "56/56 [==============================] - 11s 204ms/step - loss: 0.6930 - accuracy: 0.5104 - val_loss: 0.6940 - val_accuracy: 0.4821\n",
      "Epoch 31/50\n",
      "56/56 [==============================] - 11s 204ms/step - loss: 0.6930 - accuracy: 0.5104 - val_loss: 0.6938 - val_accuracy: 0.4821\n",
      "Epoch 32/50\n",
      "56/56 [==============================] - 12s 206ms/step - loss: 0.6930 - accuracy: 0.5104 - val_loss: 0.6940 - val_accuracy: 0.4821\n",
      "Epoch 33/50\n",
      "56/56 [==============================] - 11s 204ms/step - loss: 0.6931 - accuracy: 0.5104 - val_loss: 0.6940 - val_accuracy: 0.4821\n",
      "Epoch 34/50\n",
      "56/56 [==============================] - 11s 205ms/step - loss: 0.6930 - accuracy: 0.5104 - val_loss: 0.6941 - val_accuracy: 0.4821\n",
      "Epoch 35/50\n",
      "56/56 [==============================] - 12s 206ms/step - loss: 0.6931 - accuracy: 0.5104 - val_loss: 0.6942 - val_accuracy: 0.4821\n",
      "Epoch 36/50\n",
      "56/56 [==============================] - 11s 205ms/step - loss: 0.6930 - accuracy: 0.5104 - val_loss: 0.6939 - val_accuracy: 0.4821\n",
      "Epoch 37/50\n",
      "56/56 [==============================] - 11s 204ms/step - loss: 0.6930 - accuracy: 0.5104 - val_loss: 0.6941 - val_accuracy: 0.4821\n",
      "Epoch 38/50\n",
      "56/56 [==============================] - 11s 205ms/step - loss: 0.6930 - accuracy: 0.5104 - val_loss: 0.6940 - val_accuracy: 0.4821\n",
      "Epoch 39/50\n",
      "56/56 [==============================] - 12s 206ms/step - loss: 0.6930 - accuracy: 0.5104 - val_loss: 0.6941 - val_accuracy: 0.4821\n",
      "Epoch 40/50\n",
      "56/56 [==============================] - 11s 204ms/step - loss: 0.6930 - accuracy: 0.5104 - val_loss: 0.6941 - val_accuracy: 0.4821\n",
      "Epoch 41/50\n",
      "56/56 [==============================] - 11s 204ms/step - loss: 0.6930 - accuracy: 0.5104 - val_loss: 0.6939 - val_accuracy: 0.4821\n",
      "Epoch 42/50\n",
      "56/56 [==============================] - 11s 204ms/step - loss: 0.6930 - accuracy: 0.5104 - val_loss: 0.6940 - val_accuracy: 0.4821\n",
      "Epoch 43/50\n",
      "56/56 [==============================] - 11s 203ms/step - loss: 0.6930 - accuracy: 0.5104 - val_loss: 0.6941 - val_accuracy: 0.4821\n",
      "Epoch 44/50\n",
      "56/56 [==============================] - 11s 204ms/step - loss: 0.6930 - accuracy: 0.5104 - val_loss: 0.6941 - val_accuracy: 0.4821\n",
      "Epoch 45/50\n",
      "56/56 [==============================] - 11s 204ms/step - loss: 0.6930 - accuracy: 0.5104 - val_loss: 0.6940 - val_accuracy: 0.4821\n",
      "Epoch 46/50\n",
      "56/56 [==============================] - 11s 204ms/step - loss: 0.6930 - accuracy: 0.5104 - val_loss: 0.6940 - val_accuracy: 0.4821\n",
      "Epoch 47/50\n",
      "56/56 [==============================] - 11s 205ms/step - loss: 0.6930 - accuracy: 0.5104 - val_loss: 0.6940 - val_accuracy: 0.4821\n",
      "Epoch 48/50\n",
      "56/56 [==============================] - 11s 204ms/step - loss: 0.6931 - accuracy: 0.5104 - val_loss: 0.6941 - val_accuracy: 0.4821\n",
      "Epoch 49/50\n",
      "56/56 [==============================] - 11s 205ms/step - loss: 0.6931 - accuracy: 0.5104 - val_loss: 0.6941 - val_accuracy: 0.4821\n",
      "Epoch 50/50\n",
      "56/56 [==============================] - 12s 206ms/step - loss: 0.6930 - accuracy: 0.5104 - val_loss: 0.6940 - val_accuracy: 0.4821\n",
      "INFO:tensorflow:Assets written to: ./AlexNet_dataset_3\\assets\n"
     ]
    }
   ],
   "source": [
    "results = model.fit(\n",
    "    train_ds,\n",
    "    batch_size = 32,\n",
    "    epochs = 50,\n",
    "    validation_data = val_ds,\n",
    "    verbose=1,\n",
    ")\n",
    "\n",
    "model.save(\"./AlexNet_dataset_3\")"
   ]
  },
  {
   "cell_type": "code",
   "execution_count": 15,
   "metadata": {},
   "outputs": [
    {
     "data": {
      "image/png": "[encoded data removed]",
      "text/plain": [
       "<Figure size 432x288 with 1 Axes>"
      ]
     },
     "metadata": {
      "needs_background": "light"
     },
     "output_type": "display_data"
    }
   ],
   "source": [
    "results.history.keys()\n",
    "import matplotlib.pyplot as plt\n",
    "%matplotlib inline\n",
    "plt.plot(results.history['loss'][1:])\n",
    "plt.plot(results.history['val_loss'][1:])\n",
    "plt.legend(['Training', 'Validation'])\n",
    "plt.title('Training and Validation losses')\n",
    "plt.xlabel('epoch')\n",
    "plt.savefig(\"../project/AlexNet_ds_3.png\")"
   ]
  },
  {
   "cell_type": "code",
   "execution_count": 16,
   "metadata": {},
   "outputs": [
    {
     "name": "stdout",
     "output_type": "stream",
     "text": [
      "8/8 [==============================] - 0s 56ms/step - loss: 0.6932 - accuracy: 0.5040\n"
     ]
    },
    {
     "data": {
      "text/plain": [
       "[0.6931655406951904, 0.5040322542190552]"
      ]
     },
     "execution_count": 16,
     "metadata": {},
     "output_type": "execute_result"
    }
   ],
   "source": [
    "model.evaluate(test_ds)"
   ]
  },
  {
   "cell_type": "markdown",
   "metadata": {},
   "source": [
    "### Dataset 4"
   ]
  },
  {
   "cell_type": "code",
   "execution_count": 18,
   "metadata": {},
   "outputs": [
    {
     "name": "stdout",
     "output_type": "stream",
     "text": [
      "Found 224 images belonging to 2 classes.\n",
      "Found 60 images belonging to 2 classes.\n"
     ]
    }
   ],
   "source": [
    "from keras.preprocessing.image import ImageDataGenerator\n",
    "\n",
    "training_datagen = ImageDataGenerator(rescale=1./255, shear_range=0.2, zoom_range=0.2, horizontal_flip=True)\n",
    "\n",
    "test_datagen = ImageDataGenerator(rescale=1./255)\n",
    "\n",
    "train_ds = training_datagen.flow_from_directory(r'../datasets/CovidDataset/Train',\n",
    "                                                target_size=(227, 227),\n",
    "                                                class_mode='categorical')\n",
    "\n",
    "val_ds = test_datagen.flow_from_directory(r'../datasets/CovidDataset/Val/',\n",
    "                                          target_size=(227, 227),\n",
    "                                          class_mode='categorical')"
   ]
  },
  {
   "cell_type": "code",
   "execution_count": 19,
   "metadata": {},
   "outputs": [
    {
     "name": "stdout",
     "output_type": "stream",
     "text": [
      "Epoch 1/50\n",
      "7/7 [==============================] - 9s 1s/step - loss: 0.6933 - accuracy: 0.5000 - val_loss: 0.6933 - val_accuracy: 0.5000\n",
      "Epoch 2/50\n",
      "7/7 [==============================] - 8s 1s/step - loss: 0.6933 - accuracy: 0.5000 - val_loss: 0.6933 - val_accuracy: 0.5000\n",
      "Epoch 3/50\n",
      "7/7 [==============================] - 8s 1s/step - loss: 0.6934 - accuracy: 0.5000 - val_loss: 0.6933 - val_accuracy: 0.5000\n",
      "Epoch 4/50\n",
      "7/7 [==============================] - 7s 1s/step - loss: 0.6933 - accuracy: 0.5000 - val_loss: 0.6932 - val_accuracy: 0.5000\n",
      "Epoch 5/50\n",
      "7/7 [==============================] - 7s 999ms/step - loss: 0.6933 - accuracy: 0.5000 - val_loss: 0.6932 - val_accuracy: 0.5000\n",
      "Epoch 6/50\n",
      "7/7 [==============================] - 7s 1s/step - loss: 0.6933 - accuracy: 0.5000 - val_loss: 0.6932 - val_accuracy: 0.5000\n",
      "Epoch 7/50\n",
      "7/7 [==============================] - 7s 1s/step - loss: 0.6933 - accuracy: 0.5000 - val_loss: 0.6932 - val_accuracy: 0.5000\n",
      "Epoch 8/50\n",
      "7/7 [==============================] - 7s 1s/step - loss: 0.6932 - accuracy: 0.5000 - val_loss: 0.6932 - val_accuracy: 0.5000\n",
      "Epoch 9/50\n",
      "7/7 [==============================] - 7s 1s/step - loss: 0.6932 - accuracy: 0.5000 - val_loss: 0.6932 - val_accuracy: 0.5000\n",
      "Epoch 10/50\n",
      "7/7 [==============================] - 7s 982ms/step - loss: 0.6932 - accuracy: 0.5000 - val_loss: 0.6932 - val_accuracy: 0.5000\n",
      "Epoch 11/50\n",
      "7/7 [==============================] - 7s 1s/step - loss: 0.6933 - accuracy: 0.5000 - val_loss: 0.6932 - val_accuracy: 0.5000\n",
      "Epoch 12/50\n",
      "7/7 [==============================] - 7s 1s/step - loss: 0.6932 - accuracy: 0.5000 - val_loss: 0.6932 - val_accuracy: 0.5000\n",
      "Epoch 13/50\n",
      "7/7 [==============================] - 7s 1s/step - loss: 0.6932 - accuracy: 0.5000 - val_loss: 0.6932 - val_accuracy: 0.5000\n",
      "Epoch 14/50\n",
      "7/7 [==============================] - 7s 1s/step - loss: 0.6933 - accuracy: 0.5000 - val_loss: 0.6932 - val_accuracy: 0.5000\n",
      "Epoch 15/50\n",
      "7/7 [==============================] - 7s 1s/step - loss: 0.6932 - accuracy: 0.5000 - val_loss: 0.6932 - val_accuracy: 0.5000\n",
      "Epoch 16/50\n",
      "7/7 [==============================] - 8s 1s/step - loss: 0.6932 - accuracy: 0.5000 - val_loss: 0.6932 - val_accuracy: 0.5000\n",
      "Epoch 17/50\n",
      "7/7 [==============================] - 8s 1s/step - loss: 0.6932 - accuracy: 0.5000 - val_loss: 0.6932 - val_accuracy: 0.5000\n",
      "Epoch 18/50\n",
      "7/7 [==============================] - 7s 1s/step - loss: 0.6932 - accuracy: 0.5000 - val_loss: 0.6932 - val_accuracy: 0.5000\n",
      "Epoch 19/50\n",
      "7/7 [==============================] - 7s 1s/step - loss: 0.6932 - accuracy: 0.5000 - val_loss: 0.6932 - val_accuracy: 0.5000\n",
      "Epoch 20/50\n",
      "7/7 [==============================] - 7s 1s/step - loss: 0.6932 - accuracy: 0.5000 - val_loss: 0.6932 - val_accuracy: 0.5000\n",
      "Epoch 21/50\n",
      "7/7 [==============================] - 7s 1s/step - loss: 0.6932 - accuracy: 0.5000 - val_loss: 0.6932 - val_accuracy: 0.5000\n",
      "Epoch 22/50\n",
      "7/7 [==============================] - 7s 1s/step - loss: 0.6932 - accuracy: 0.5000 - val_loss: 0.6932 - val_accuracy: 0.5000\n",
      "Epoch 23/50\n",
      "7/7 [==============================] - 7s 1s/step - loss: 0.6932 - accuracy: 0.5000 - val_loss: 0.6932 - val_accuracy: 0.5000\n",
      "Epoch 24/50\n",
      "7/7 [==============================] - 8s 1s/step - loss: 0.6932 - accuracy: 0.5000 - val_loss: 0.6932 - val_accuracy: 0.5000\n",
      "Epoch 25/50\n",
      "7/7 [==============================] - 7s 1s/step - loss: 0.6932 - accuracy: 0.5000 - val_loss: 0.6932 - val_accuracy: 0.5000\n",
      "Epoch 26/50\n",
      "7/7 [==============================] - 7s 1s/step - loss: 0.6932 - accuracy: 0.5000 - val_loss: 0.6932 - val_accuracy: 0.5000\n",
      "Epoch 27/50\n",
      "7/7 [==============================] - 7s 1s/step - loss: 0.6932 - accuracy: 0.5000 - val_loss: 0.6932 - val_accuracy: 0.5000\n",
      "Epoch 28/50\n",
      "7/7 [==============================] - 7s 1s/step - loss: 0.6932 - accuracy: 0.5000 - val_loss: 0.6932 - val_accuracy: 0.5000\n",
      "Epoch 29/50\n",
      "7/7 [==============================] - 8s 1s/step - loss: 0.6933 - accuracy: 0.5000 - val_loss: 0.6931 - val_accuracy: 0.5000\n",
      "Epoch 30/50\n",
      "7/7 [==============================] - 7s 1s/step - loss: 0.6932 - accuracy: 0.5000 - val_loss: 0.6931 - val_accuracy: 0.5000\n",
      "Epoch 31/50\n",
      "7/7 [==============================] - 8s 1s/step - loss: 0.6932 - accuracy: 0.5000 - val_loss: 0.6931 - val_accuracy: 0.5000\n",
      "Epoch 32/50\n",
      "7/7 [==============================] - 8s 1s/step - loss: 0.6932 - accuracy: 0.5000 - val_loss: 0.6931 - val_accuracy: 0.5000\n",
      "Epoch 33/50\n",
      "7/7 [==============================] - 8s 1s/step - loss: 0.6932 - accuracy: 0.5000 - val_loss: 0.6931 - val_accuracy: 0.5000\n",
      "Epoch 34/50\n",
      "7/7 [==============================] - 8s 1s/step - loss: 0.6932 - accuracy: 0.5000 - val_loss: 0.6932 - val_accuracy: 0.5000\n",
      "Epoch 35/50\n",
      "7/7 [==============================] - 8s 1s/step - loss: 0.6932 - accuracy: 0.5000 - val_loss: 0.6931 - val_accuracy: 0.5000\n",
      "Epoch 36/50\n",
      "7/7 [==============================] - 8s 1s/step - loss: 0.6932 - accuracy: 0.5000 - val_loss: 0.6931 - val_accuracy: 0.5000\n",
      "Epoch 37/50\n",
      "7/7 [==============================] - 8s 1s/step - loss: 0.6932 - accuracy: 0.5000 - val_loss: 0.6931 - val_accuracy: 0.5000\n",
      "Epoch 38/50\n",
      "7/7 [==============================] - 8s 1s/step - loss: 0.6932 - accuracy: 0.5000 - val_loss: 0.6931 - val_accuracy: 0.5000\n",
      "Epoch 39/50\n",
      "7/7 [==============================] - 8s 1s/step - loss: 0.6932 - accuracy: 0.4732 - val_loss: 0.6931 - val_accuracy: 0.5000\n",
      "Epoch 40/50\n",
      "7/7 [==============================] - 8s 1s/step - loss: 0.6932 - accuracy: 0.5000 - val_loss: 0.6931 - val_accuracy: 0.5000\n",
      "Epoch 41/50\n",
      "7/7 [==============================] - 8s 1s/step - loss: 0.6932 - accuracy: 0.5000 - val_loss: 0.6931 - val_accuracy: 0.5000\n",
      "Epoch 42/50\n",
      "7/7 [==============================] - 8s 1s/step - loss: 0.6932 - accuracy: 0.5000 - val_loss: 0.6931 - val_accuracy: 0.5000\n",
      "Epoch 43/50\n",
      "7/7 [==============================] - 8s 1s/step - loss: 0.6932 - accuracy: 0.5000 - val_loss: 0.6931 - val_accuracy: 0.5000\n",
      "Epoch 44/50\n",
      "7/7 [==============================] - 8s 1s/step - loss: 0.6932 - accuracy: 0.5000 - val_loss: 0.6931 - val_accuracy: 0.5000\n",
      "Epoch 45/50\n",
      "7/7 [==============================] - 8s 1s/step - loss: 0.6932 - accuracy: 0.5000 - val_loss: 0.6931 - val_accuracy: 0.5000\n",
      "Epoch 46/50\n",
      "7/7 [==============================] - 8s 1s/step - loss: 0.6932 - accuracy: 0.4643 - val_loss: 0.6931 - val_accuracy: 0.5000\n",
      "Epoch 47/50\n",
      "7/7 [==============================] - 8s 1s/step - loss: 0.6932 - accuracy: 0.4821 - val_loss: 0.6931 - val_accuracy: 0.5000\n",
      "Epoch 48/50\n",
      "7/7 [==============================] - 8s 1s/step - loss: 0.6932 - accuracy: 0.5000 - val_loss: 0.6931 - val_accuracy: 0.5000\n",
      "Epoch 49/50\n",
      "7/7 [==============================] - 8s 1s/step - loss: 0.6932 - accuracy: 0.5000 - val_loss: 0.6931 - val_accuracy: 0.5000\n",
      "Epoch 50/50\n",
      "7/7 [==============================] - 8s 1s/step - loss: 0.6932 - accuracy: 0.5000 - val_loss: 0.6931 - val_accuracy: 0.5000\n",
      "INFO:tensorflow:Assets written to: ./AlexNet_dataset_4\\assets\n"
     ]
    }
   ],
   "source": [
    "results = model.fit(\n",
    "    train_ds,\n",
    "    batch_size = 32,\n",
    "    epochs = 50,\n",
    "    validation_data = val_ds,\n",
    "    verbose=1,\n",
    ")\n",
    "\n",
    "model.save(\"./AlexNet_dataset_4\")"
   ]
  },
  {
   "cell_type": "code",
   "execution_count": 20,
   "metadata": {},
   "outputs": [
    {
     "data": {
      "image/png": "[encoded data removed]",
      "text/plain": [
       "<Figure size 432x288 with 1 Axes>"
      ]
     },
     "metadata": {
      "needs_background": "light"
     },
     "output_type": "display_data"
    }
   ],
   "source": [
    "results.history.keys()\n",
    "import matplotlib.pyplot as plt\n",
    "%matplotlib inline\n",
    "plt.plot(results.history['loss'][1:])\n",
    "plt.plot(results.history['val_loss'][1:])\n",
    "plt.legend(['Training', 'Validation'])\n",
    "plt.title('Training and Validation losses')\n",
    "plt.xlabel('epoch')\n",
    "plt.savefig(\"../project/AlexNet_ds_4.png\")"
   ]
  },
  {
   "cell_type": "code",
   "execution_count": null,
   "metadata": {},
   "outputs": [],
   "source": []
  }
 ],
 "metadata": {
  "kernelspec": {
   "display_name": "Python 3",
   "language": "python",
   "name": "python3"
  },
  "language_info": {
   "codemirror_mode": {
    "name": "ipython",
    "version": 3
   },
   "file_extension": ".py",
   "mimetype": "text/x-python",
   "name": "python",
   "nbconvert_exporter": "python",
   "pygments_lexer": "ipython3",
   "version": "3.7.4"
  }
 },
 "nbformat": 4,
 "nbformat_minor": 2
}
