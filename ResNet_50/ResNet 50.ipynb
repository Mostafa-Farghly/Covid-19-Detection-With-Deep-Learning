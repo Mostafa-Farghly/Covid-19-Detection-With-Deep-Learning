{
 "cells": [
  {
   "cell_type": "code",
   "execution_count": 1,
   "metadata": {},
   "outputs": [],
   "source": [
    "import tensorflow as tf\n",
    "from tensorflow import keras\n",
    "from tensorflow.keras.layers import Dense, GlobalAveragePooling2D\n",
    "from tensorflow.keras.models import Model\n",
    "from tensorflow.keras.applications.resnet50 import ResNet50\n",
    "from tensorflow.keras.optimizers import SGD\n",
    "import PIL"
   ]
  },
  {
   "cell_type": "markdown",
   "metadata": {},
   "source": [
    "### Building The Model"
   ]
  },
  {
   "cell_type": "code",
   "execution_count": 2,
   "metadata": {},
   "outputs": [],
   "source": [
    "# Download the architecture of ResNet50 with ImageNet weights\n",
    "base_model = ResNet50(include_top=False, weights='imagenet')\n",
    " \n",
    "# Taking the output of the last convolution block in ResNet50\n",
    "x = base_model.output\n",
    " \n",
    "# Adding a Global Average Pooling layer\n",
    "x = GlobalAveragePooling2D()(x)\n",
    " \n",
    "# Adding a fully connected layer having 1024 neurons\n",
    "x = Dense(1024, activation='relu')(x)\n",
    " \n",
    "# Adding a fully connected layer having 2 neurons which will\n",
    "# give the probability of image having either dog or cat\n",
    "predictions = Dense(2, activation='softmax')(x)\n",
    " \n",
    "# Model to be trained\n",
    "model = Model(inputs=base_model.input, outputs=predictions)\n",
    " \n",
    "# Training only top layers i.e. the layers which we have added in the end\n",
    "for layer in base_model.layers:\n",
    "    layer.trainable = False"
   ]
  },
  {
   "cell_type": "code",
   "execution_count": 3,
   "metadata": {},
   "outputs": [],
   "source": [
    "# Compiling the model\n",
    "model.compile(optimizer=SGD(lr=0.0001, momentum=0.9), loss='categorical_crossentropy', metrics = ['accuracy'])"
   ]
  },
  {
   "cell_type": "markdown",
   "metadata": {},
   "source": [
    "### Dataset 1"
   ]
  },
  {
   "cell_type": "code",
   "execution_count": 4,
   "metadata": {},
   "outputs": [
    {
     "name": "stdout",
     "output_type": "stream",
     "text": [
      "Found 425 files belonging to 2 classes.\n",
      "Found 118 files belonging to 2 classes.\n",
      "Found 203 files belonging to 2 classes.\n"
     ]
    }
   ],
   "source": [
    "train_ds = keras.preprocessing.image_dataset_from_directory( r'../datasets/ct-sub-datasets/train',\n",
    "                                                               image_size=(227, 227),\n",
    "                                                               batch_size=32,\n",
    "                                                               label_mode='categorical')\n",
    "\n",
    "val_ds = keras.preprocessing.image_dataset_from_directory( r'../datasets/ct-sub-datasets/val/',\n",
    "                                                             image_size=(227, 227),\n",
    "                                                             batch_size=32,\n",
    "                                                             label_mode='categorical')\n",
    "\n",
    "test_ds = keras.preprocessing.image_dataset_from_directory( r'../datasets/ct-sub-datasets/test/',\n",
    "                                                             image_size=(227, 227),\n",
    "                                                             batch_size=32,\n",
    "                                                             label_mode='categorical')"
   ]
  },
  {
   "cell_type": "code",
   "execution_count": 5,
   "metadata": {},
   "outputs": [
    {
     "name": "stdout",
     "output_type": "stream",
     "text": [
      "Epoch 1/80\n",
      "14/14 [==============================] - 6s 406ms/step - loss: 0.7136 - accuracy: 0.5435 - val_loss: 0.6384 - val_accuracy: 0.6186\n",
      "Epoch 2/80\n",
      "14/14 [==============================] - 4s 266ms/step - loss: 0.6388 - accuracy: 0.6565 - val_loss: 0.6417 - val_accuracy: 0.6356\n",
      "Epoch 3/80\n",
      "14/14 [==============================] - 4s 265ms/step - loss: 0.5903 - accuracy: 0.6800 - val_loss: 0.6517 - val_accuracy: 0.6356\n",
      "Epoch 4/80\n",
      "14/14 [==============================] - 4s 265ms/step - loss: 0.5585 - accuracy: 0.7318 - val_loss: 0.6525 - val_accuracy: 0.5763\n",
      "Epoch 5/80\n",
      "14/14 [==============================] - 4s 265ms/step - loss: 0.5243 - accuracy: 0.7694 - val_loss: 0.6549 - val_accuracy: 0.5678\n",
      "Epoch 6/80\n",
      "14/14 [==============================] - 4s 265ms/step - loss: 0.5094 - accuracy: 0.7600 - val_loss: 0.6529 - val_accuracy: 0.5932\n",
      "Epoch 7/80\n",
      "14/14 [==============================] - 4s 265ms/step - loss: 0.4885 - accuracy: 0.7835 - val_loss: 0.6532 - val_accuracy: 0.5763\n",
      "Epoch 8/80\n",
      "14/14 [==============================] - 4s 265ms/step - loss: 0.4714 - accuracy: 0.7929 - val_loss: 0.6504 - val_accuracy: 0.5763\n",
      "Epoch 9/80\n",
      "14/14 [==============================] - 4s 265ms/step - loss: 0.4574 - accuracy: 0.8071 - val_loss: 0.6464 - val_accuracy: 0.5847\n",
      "Epoch 10/80\n",
      "14/14 [==============================] - 4s 267ms/step - loss: 0.4492 - accuracy: 0.8118 - val_loss: 0.6470 - val_accuracy: 0.5763\n",
      "Epoch 11/80\n",
      "14/14 [==============================] - 4s 267ms/step - loss: 0.4356 - accuracy: 0.8165 - val_loss: 0.6465 - val_accuracy: 0.5932\n",
      "Epoch 12/80\n",
      "14/14 [==============================] - 4s 265ms/step - loss: 0.4277 - accuracy: 0.8235 - val_loss: 0.6393 - val_accuracy: 0.6186\n",
      "Epoch 13/80\n",
      "14/14 [==============================] - 4s 265ms/step - loss: 0.4191 - accuracy: 0.8235 - val_loss: 0.6444 - val_accuracy: 0.6102\n",
      "Epoch 14/80\n",
      "14/14 [==============================] - 4s 265ms/step - loss: 0.4080 - accuracy: 0.8282 - val_loss: 0.6391 - val_accuracy: 0.6102\n",
      "Epoch 15/80\n",
      "14/14 [==============================] - 4s 266ms/step - loss: 0.4015 - accuracy: 0.8376 - val_loss: 0.6401 - val_accuracy: 0.6186\n",
      "Epoch 16/80\n",
      "14/14 [==============================] - 4s 265ms/step - loss: 0.3997 - accuracy: 0.8400 - val_loss: 0.6338 - val_accuracy: 0.6271\n",
      "Epoch 17/80\n",
      "14/14 [==============================] - 4s 265ms/step - loss: 0.3937 - accuracy: 0.8447 - val_loss: 0.6323 - val_accuracy: 0.6271\n",
      "Epoch 18/80\n",
      "14/14 [==============================] - 4s 265ms/step - loss: 0.3825 - accuracy: 0.8424 - val_loss: 0.6301 - val_accuracy: 0.6356\n",
      "Epoch 19/80\n",
      "14/14 [==============================] - 4s 263ms/step - loss: 0.3763 - accuracy: 0.8565 - val_loss: 0.6257 - val_accuracy: 0.6356\n",
      "Epoch 20/80\n",
      "14/14 [==============================] - 4s 265ms/step - loss: 0.3675 - accuracy: 0.8588 - val_loss: 0.6248 - val_accuracy: 0.6441\n",
      "Epoch 21/80\n",
      "14/14 [==============================] - 4s 265ms/step - loss: 0.3625 - accuracy: 0.8635 - val_loss: 0.6243 - val_accuracy: 0.6441\n",
      "Epoch 22/80\n",
      "14/14 [==============================] - 4s 265ms/step - loss: 0.3585 - accuracy: 0.8635 - val_loss: 0.6200 - val_accuracy: 0.6441\n",
      "Epoch 23/80\n",
      "14/14 [==============================] - 4s 264ms/step - loss: 0.3513 - accuracy: 0.8659 - val_loss: 0.6257 - val_accuracy: 0.6441\n",
      "Epoch 24/80\n",
      "14/14 [==============================] - 4s 265ms/step - loss: 0.3474 - accuracy: 0.8682 - val_loss: 0.6153 - val_accuracy: 0.6525\n",
      "Epoch 25/80\n",
      "14/14 [==============================] - 4s 266ms/step - loss: 0.3469 - accuracy: 0.8706 - val_loss: 0.6173 - val_accuracy: 0.6525\n",
      "Epoch 26/80\n",
      "14/14 [==============================] - 4s 264ms/step - loss: 0.3456 - accuracy: 0.8847 - val_loss: 0.6119 - val_accuracy: 0.6525\n",
      "Epoch 27/80\n",
      "14/14 [==============================] - 4s 264ms/step - loss: 0.3395 - accuracy: 0.8729 - val_loss: 0.6161 - val_accuracy: 0.6441\n",
      "Epoch 28/80\n",
      "14/14 [==============================] - 4s 266ms/step - loss: 0.3290 - accuracy: 0.8918 - val_loss: 0.6039 - val_accuracy: 0.6695\n",
      "Epoch 29/80\n",
      "14/14 [==============================] - 4s 264ms/step - loss: 0.3253 - accuracy: 0.8988 - val_loss: 0.6088 - val_accuracy: 0.6610\n",
      "Epoch 30/80\n",
      "14/14 [==============================] - 4s 264ms/step - loss: 0.3206 - accuracy: 0.9035 - val_loss: 0.6064 - val_accuracy: 0.6610\n",
      "Epoch 31/80\n",
      "14/14 [==============================] - 4s 264ms/step - loss: 0.3200 - accuracy: 0.9012 - val_loss: 0.5991 - val_accuracy: 0.6525\n",
      "Epoch 32/80\n",
      "14/14 [==============================] - 4s 264ms/step - loss: 0.3135 - accuracy: 0.9082 - val_loss: 0.6019 - val_accuracy: 0.6525\n",
      "Epoch 33/80\n",
      "14/14 [==============================] - 4s 264ms/step - loss: 0.3122 - accuracy: 0.9012 - val_loss: 0.6026 - val_accuracy: 0.6525\n",
      "Epoch 34/80\n",
      "14/14 [==============================] - 4s 265ms/step - loss: 0.3078 - accuracy: 0.9082 - val_loss: 0.6077 - val_accuracy: 0.6780\n",
      "Epoch 35/80\n",
      "14/14 [==============================] - 4s 265ms/step - loss: 0.3032 - accuracy: 0.9059 - val_loss: 0.5972 - val_accuracy: 0.6780\n",
      "Epoch 36/80\n",
      "14/14 [==============================] - 4s 264ms/step - loss: 0.3002 - accuracy: 0.9129 - val_loss: 0.6014 - val_accuracy: 0.6864\n",
      "Epoch 37/80\n",
      "14/14 [==============================] - 4s 265ms/step - loss: 0.2965 - accuracy: 0.9082 - val_loss: 0.5999 - val_accuracy: 0.6864\n",
      "Epoch 38/80\n",
      "14/14 [==============================] - 4s 266ms/step - loss: 0.2953 - accuracy: 0.9129 - val_loss: 0.5873 - val_accuracy: 0.6780\n",
      "Epoch 39/80\n",
      "14/14 [==============================] - 4s 265ms/step - loss: 0.2913 - accuracy: 0.9129 - val_loss: 0.5895 - val_accuracy: 0.6949\n",
      "Epoch 40/80\n",
      "14/14 [==============================] - 4s 267ms/step - loss: 0.2879 - accuracy: 0.9200 - val_loss: 0.5900 - val_accuracy: 0.7034\n",
      "Epoch 41/80\n",
      "14/14 [==============================] - 4s 265ms/step - loss: 0.2844 - accuracy: 0.9153 - val_loss: 0.5850 - val_accuracy: 0.6695\n",
      "Epoch 42/80\n",
      "14/14 [==============================] - 4s 264ms/step - loss: 0.2820 - accuracy: 0.9153 - val_loss: 0.5915 - val_accuracy: 0.6949\n",
      "Epoch 43/80\n",
      "14/14 [==============================] - 4s 264ms/step - loss: 0.2792 - accuracy: 0.9200 - val_loss: 0.5837 - val_accuracy: 0.7034\n",
      "Epoch 44/80\n",
      "14/14 [==============================] - 4s 264ms/step - loss: 0.2806 - accuracy: 0.9129 - val_loss: 0.5864 - val_accuracy: 0.7034\n",
      "Epoch 45/80\n",
      "14/14 [==============================] - 4s 265ms/step - loss: 0.2742 - accuracy: 0.9200 - val_loss: 0.5829 - val_accuracy: 0.7034\n",
      "Epoch 46/80\n",
      "14/14 [==============================] - 4s 264ms/step - loss: 0.2716 - accuracy: 0.9200 - val_loss: 0.5785 - val_accuracy: 0.7034\n",
      "Epoch 47/80\n",
      "14/14 [==============================] - 4s 266ms/step - loss: 0.2704 - accuracy: 0.9200 - val_loss: 0.5804 - val_accuracy: 0.7034\n",
      "Epoch 48/80\n",
      "14/14 [==============================] - 4s 266ms/step - loss: 0.2673 - accuracy: 0.9224 - val_loss: 0.5757 - val_accuracy: 0.7034\n",
      "Epoch 49/80\n",
      "14/14 [==============================] - 4s 266ms/step - loss: 0.2638 - accuracy: 0.9224 - val_loss: 0.5833 - val_accuracy: 0.7034\n",
      "Epoch 50/80\n",
      "14/14 [==============================] - 4s 265ms/step - loss: 0.2617 - accuracy: 0.9224 - val_loss: 0.5819 - val_accuracy: 0.7034\n",
      "Epoch 51/80\n",
      "14/14 [==============================] - 4s 271ms/step - loss: 0.2592 - accuracy: 0.9294 - val_loss: 0.5766 - val_accuracy: 0.7034\n",
      "Epoch 52/80\n",
      "14/14 [==============================] - 4s 273ms/step - loss: 0.2574 - accuracy: 0.9294 - val_loss: 0.5745 - val_accuracy: 0.7034\n",
      "Epoch 53/80\n",
      "14/14 [==============================] - 4s 265ms/step - loss: 0.2546 - accuracy: 0.9318 - val_loss: 0.5828 - val_accuracy: 0.7119\n",
      "Epoch 54/80\n",
      "14/14 [==============================] - 4s 266ms/step - loss: 0.2526 - accuracy: 0.9294 - val_loss: 0.5792 - val_accuracy: 0.7034\n",
      "Epoch 55/80\n",
      "14/14 [==============================] - 4s 267ms/step - loss: 0.2531 - accuracy: 0.9271 - val_loss: 0.5734 - val_accuracy: 0.7034\n",
      "Epoch 56/80\n",
      "14/14 [==============================] - 4s 266ms/step - loss: 0.2500 - accuracy: 0.9318 - val_loss: 0.5741 - val_accuracy: 0.7034\n",
      "Epoch 57/80\n",
      "14/14 [==============================] - 4s 266ms/step - loss: 0.2474 - accuracy: 0.9294 - val_loss: 0.5816 - val_accuracy: 0.7034\n",
      "Epoch 58/80\n"
     ]
    },
    {
     "name": "stdout",
     "output_type": "stream",
     "text": [
      "14/14 [==============================] - 4s 265ms/step - loss: 0.2445 - accuracy: 0.9318 - val_loss: 0.5769 - val_accuracy: 0.7034\n",
      "Epoch 59/80\n",
      "14/14 [==============================] - 4s 266ms/step - loss: 0.2419 - accuracy: 0.9412 - val_loss: 0.5769 - val_accuracy: 0.7034\n",
      "Epoch 60/80\n",
      "14/14 [==============================] - 4s 267ms/step - loss: 0.2396 - accuracy: 0.9388 - val_loss: 0.5714 - val_accuracy: 0.7034\n",
      "Epoch 61/80\n",
      "14/14 [==============================] - 4s 266ms/step - loss: 0.2395 - accuracy: 0.9365 - val_loss: 0.5715 - val_accuracy: 0.6949\n",
      "Epoch 62/80\n",
      "14/14 [==============================] - 4s 267ms/step - loss: 0.2376 - accuracy: 0.9341 - val_loss: 0.5753 - val_accuracy: 0.7034\n",
      "Epoch 63/80\n",
      "14/14 [==============================] - 4s 266ms/step - loss: 0.2341 - accuracy: 0.9412 - val_loss: 0.5794 - val_accuracy: 0.7034\n",
      "Epoch 64/80\n",
      "14/14 [==============================] - 4s 270ms/step - loss: 0.2329 - accuracy: 0.9412 - val_loss: 0.5748 - val_accuracy: 0.7034\n",
      "Epoch 65/80\n",
      "14/14 [==============================] - 4s 266ms/step - loss: 0.2315 - accuracy: 0.9388 - val_loss: 0.5691 - val_accuracy: 0.7034\n",
      "Epoch 66/80\n",
      "14/14 [==============================] - 4s 269ms/step - loss: 0.2284 - accuracy: 0.9435 - val_loss: 0.5775 - val_accuracy: 0.7034\n",
      "Epoch 67/80\n",
      "14/14 [==============================] - 4s 266ms/step - loss: 0.2272 - accuracy: 0.9459 - val_loss: 0.5697 - val_accuracy: 0.6949\n",
      "Epoch 68/80\n",
      "14/14 [==============================] - 4s 267ms/step - loss: 0.2281 - accuracy: 0.9412 - val_loss: 0.5707 - val_accuracy: 0.6949\n",
      "Epoch 69/80\n",
      "14/14 [==============================] - 4s 266ms/step - loss: 0.2239 - accuracy: 0.9435 - val_loss: 0.5671 - val_accuracy: 0.7203\n",
      "Epoch 70/80\n",
      "14/14 [==============================] - 4s 269ms/step - loss: 0.2251 - accuracy: 0.9388 - val_loss: 0.5721 - val_accuracy: 0.7034\n",
      "Epoch 71/80\n",
      "14/14 [==============================] - 4s 267ms/step - loss: 0.2203 - accuracy: 0.9459 - val_loss: 0.5672 - val_accuracy: 0.7203\n",
      "Epoch 72/80\n",
      "14/14 [==============================] - 4s 267ms/step - loss: 0.2195 - accuracy: 0.9482 - val_loss: 0.5694 - val_accuracy: 0.7034\n",
      "Epoch 73/80\n",
      "14/14 [==============================] - 4s 268ms/step - loss: 0.2175 - accuracy: 0.9506 - val_loss: 0.5721 - val_accuracy: 0.7034\n",
      "Epoch 74/80\n",
      "14/14 [==============================] - 4s 267ms/step - loss: 0.2198 - accuracy: 0.9435 - val_loss: 0.5694 - val_accuracy: 0.7034\n",
      "Epoch 75/80\n",
      "14/14 [==============================] - 4s 268ms/step - loss: 0.2149 - accuracy: 0.9482 - val_loss: 0.5670 - val_accuracy: 0.7034\n",
      "Epoch 76/80\n",
      "14/14 [==============================] - 4s 266ms/step - loss: 0.2126 - accuracy: 0.9482 - val_loss: 0.5722 - val_accuracy: 0.7034\n",
      "Epoch 77/80\n",
      "14/14 [==============================] - 4s 268ms/step - loss: 0.2116 - accuracy: 0.9459 - val_loss: 0.5634 - val_accuracy: 0.7034\n",
      "Epoch 78/80\n",
      "14/14 [==============================] - 4s 266ms/step - loss: 0.2107 - accuracy: 0.9482 - val_loss: 0.5650 - val_accuracy: 0.7119\n",
      "Epoch 79/80\n",
      "14/14 [==============================] - 4s 268ms/step - loss: 0.2089 - accuracy: 0.9482 - val_loss: 0.5640 - val_accuracy: 0.7203\n",
      "Epoch 80/80\n",
      "14/14 [==============================] - 4s 272ms/step - loss: 0.2083 - accuracy: 0.9482 - val_loss: 0.5623 - val_accuracy: 0.7203\n",
      "WARNING:tensorflow:From C:\\Users\\15014\\Anaconda3\\lib\\site-packages\\tensorflow\\python\\training\\tracking\\tracking.py:111: Model.state_updates (from tensorflow.python.keras.engine.training) is deprecated and will be removed in a future version.\n",
      "Instructions for updating:\n",
      "This property should not be used in TensorFlow 2.0, as updates are applied automatically.\n",
      "WARNING:tensorflow:From C:\\Users\\15014\\Anaconda3\\lib\\site-packages\\tensorflow\\python\\training\\tracking\\tracking.py:111: Layer.updates (from tensorflow.python.keras.engine.base_layer) is deprecated and will be removed in a future version.\n",
      "Instructions for updating:\n",
      "This property should not be used in TensorFlow 2.0, as updates are applied automatically.\n",
      "INFO:tensorflow:Assets written to: ./Resnet_50_dataset_1\\assets\n"
     ]
    }
   ],
   "source": [
    "results = model.fit(\n",
    "    train_ds,\n",
    "    batch_size = 32,\n",
    "    epochs = 80,\n",
    "    validation_data = val_ds,\n",
    "    verbose=1,\n",
    ")\n",
    "\n",
    "model.save(\"./Resnet_50_dataset_1\")"
   ]
  },
  {
   "cell_type": "code",
   "execution_count": 6,
   "metadata": {},
   "outputs": [
    {
     "data": {
      "image/png": "[encoded data removed]",
      "text/plain": [
       "<Figure size 432x288 with 1 Axes>"
      ]
     },
     "metadata": {
      "needs_background": "light"
     },
     "output_type": "display_data"
    }
   ],
   "source": [
    "results.history.keys()\n",
    "import matplotlib.pyplot as plt\n",
    "%matplotlib inline\n",
    "plt.plot(results.history['loss'][1:])\n",
    "plt.plot(results.history['val_loss'][1:])\n",
    "plt.legend(['Training', 'Validation'])\n",
    "plt.title('Training and Validation losses')\n",
    "plt.xlabel('epoch')\n",
    "plt.savefig(\"../project/Resnet_50_ds_1.png\")"
   ]
  },
  {
   "cell_type": "code",
   "execution_count": 7,
   "metadata": {},
   "outputs": [],
   "source": [
    "# We will try to train the last stage of ResNet50\n",
    "for layer in base_model.layers[0:143]:\n",
    "  layer.trainable = False\n",
    " \n",
    "for layer in base_model.layers[143:]:\n",
    "  layer.trainable = True"
   ]
  },
  {
   "cell_type": "code",
   "execution_count": 8,
   "metadata": {},
   "outputs": [
    {
     "name": "stdout",
     "output_type": "stream",
     "text": [
      "Epoch 1/20\n",
      "14/14 [==============================] - 4s 274ms/step - loss: 0.2089 - accuracy: 0.9435 - val_loss: 0.5672 - val_accuracy: 0.7034\n",
      "Epoch 2/20\n",
      "14/14 [==============================] - 4s 268ms/step - loss: 0.2036 - accuracy: 0.9529 - val_loss: 0.5602 - val_accuracy: 0.7203\n",
      "Epoch 3/20\n",
      "14/14 [==============================] - 4s 268ms/step - loss: 0.2028 - accuracy: 0.9506 - val_loss: 0.5674 - val_accuracy: 0.7119\n",
      "Epoch 4/20\n",
      "14/14 [==============================] - 4s 267ms/step - loss: 0.2018 - accuracy: 0.9459 - val_loss: 0.5608 - val_accuracy: 0.7203\n",
      "Epoch 5/20\n",
      "14/14 [==============================] - 4s 268ms/step - loss: 0.2010 - accuracy: 0.9506 - val_loss: 0.5619 - val_accuracy: 0.7203\n",
      "Epoch 6/20\n",
      "14/14 [==============================] - 4s 268ms/step - loss: 0.1985 - accuracy: 0.9576 - val_loss: 0.5577 - val_accuracy: 0.7203\n",
      "Epoch 7/20\n",
      "14/14 [==============================] - 4s 268ms/step - loss: 0.2032 - accuracy: 0.9459 - val_loss: 0.5573 - val_accuracy: 0.7203\n",
      "Epoch 8/20\n",
      "14/14 [==============================] - 4s 270ms/step - loss: 0.1974 - accuracy: 0.9576 - val_loss: 0.5560 - val_accuracy: 0.7203\n",
      "Epoch 9/20\n",
      "14/14 [==============================] - 4s 269ms/step - loss: 0.1955 - accuracy: 0.9600 - val_loss: 0.5657 - val_accuracy: 0.7119\n",
      "Epoch 10/20\n",
      "14/14 [==============================] - 4s 274ms/step - loss: 0.1946 - accuracy: 0.9529 - val_loss: 0.5545 - val_accuracy: 0.7203\n",
      "Epoch 11/20\n",
      "14/14 [==============================] - 4s 270ms/step - loss: 0.1955 - accuracy: 0.9529 - val_loss: 0.5672 - val_accuracy: 0.7203\n",
      "Epoch 12/20\n",
      "14/14 [==============================] - 4s 269ms/step - loss: 0.1910 - accuracy: 0.9600 - val_loss: 0.5518 - val_accuracy: 0.7203\n",
      "Epoch 13/20\n",
      "14/14 [==============================] - 4s 270ms/step - loss: 0.1902 - accuracy: 0.9553 - val_loss: 0.5648 - val_accuracy: 0.7203\n",
      "Epoch 14/20\n",
      "14/14 [==============================] - 4s 269ms/step - loss: 0.1886 - accuracy: 0.9553 - val_loss: 0.5533 - val_accuracy: 0.7288\n",
      "Epoch 15/20\n",
      "14/14 [==============================] - 4s 270ms/step - loss: 0.1880 - accuracy: 0.9600 - val_loss: 0.5598 - val_accuracy: 0.7373\n",
      "Epoch 16/20\n",
      "14/14 [==============================] - 4s 269ms/step - loss: 0.1906 - accuracy: 0.9529 - val_loss: 0.5595 - val_accuracy: 0.7203\n",
      "Epoch 17/20\n",
      "14/14 [==============================] - 4s 269ms/step - loss: 0.1886 - accuracy: 0.9600 - val_loss: 0.5543 - val_accuracy: 0.7203\n",
      "Epoch 18/20\n",
      "14/14 [==============================] - 4s 269ms/step - loss: 0.1872 - accuracy: 0.9529 - val_loss: 0.5639 - val_accuracy: 0.7373\n",
      "Epoch 19/20\n",
      "14/14 [==============================] - 4s 269ms/step - loss: 0.1836 - accuracy: 0.9600 - val_loss: 0.5544 - val_accuracy: 0.7288\n",
      "Epoch 20/20\n",
      "14/14 [==============================] - 4s 269ms/step - loss: 0.1841 - accuracy: 0.9576 - val_loss: 0.5641 - val_accuracy: 0.7373\n"
     ]
    }
   ],
   "source": [
    "results = model.fit(\n",
    "    train_ds,\n",
    "    batch_size = 32,\n",
    "    epochs = 20,\n",
    "    validation_data = val_ds,\n",
    "    verbose=1,\n",
    ")"
   ]
  },
  {
   "cell_type": "code",
   "execution_count": 9,
   "metadata": {},
   "outputs": [
    {
     "name": "stdout",
     "output_type": "stream",
     "text": [
      "7/7 [==============================] - 1s 205ms/step - loss: 0.5562 - accuracy: 0.7635\n"
     ]
    },
    {
     "data": {
      "text/plain": [
       "[0.5562496781349182, 0.7635468244552612]"
      ]
     },
     "execution_count": 9,
     "metadata": {},
     "output_type": "execute_result"
    }
   ],
   "source": [
    "model.evaluate(test_ds)"
   ]
  },
  {
   "cell_type": "markdown",
   "metadata": {},
   "source": [
    "### Dataset 2"
   ]
  },
  {
   "cell_type": "code",
   "execution_count": 10,
   "metadata": {},
   "outputs": [
    {
     "name": "stdout",
     "output_type": "stream",
     "text": [
      "Found 612 files belonging to 2 classes.\n",
      "Found 99 files belonging to 2 classes.\n",
      "Found 91 files belonging to 2 classes.\n"
     ]
    }
   ],
   "source": [
    "train_ds = keras.preprocessing.image_dataset_from_directory( r'../datasets/data-try2/train',\n",
    "                                                               image_size=(227, 227),\n",
    "                                                               batch_size=32,\n",
    "                                                               label_mode='categorical')\n",
    "\n",
    "val_ds = keras.preprocessing.image_dataset_from_directory( r'../datasets/data-try2/validation/',\n",
    "                                                             image_size=(227, 227),\n",
    "                                                             batch_size=32,\n",
    "                                                             label_mode='categorical')\n",
    "\n",
    "test_ds = keras.preprocessing.image_dataset_from_directory( r'../datasets/data-try2/test/',\n",
    "                                                             image_size=(227, 227),\n",
    "                                                             batch_size=32,\n",
    "                                                             label_mode='categorical')"
   ]
  },
  {
   "cell_type": "code",
   "execution_count": 11,
   "metadata": {},
   "outputs": [],
   "source": [
    "AUTOTUNE = tf.data.experimental.AUTOTUNE\n",
    "\n",
    "train_ds = train_ds.cache().prefetch(buffer_size=AUTOTUNE)\n",
    "val_ds = val_ds.cache().prefetch(buffer_size=AUTOTUNE)"
   ]
  },
  {
   "cell_type": "code",
   "execution_count": 12,
   "metadata": {},
   "outputs": [
    {
     "name": "stdout",
     "output_type": "stream",
     "text": [
      "Epoch 1/80\n",
      "20/20 [==============================] - 5s 266ms/step - loss: 0.3605 - accuracy: 0.8382 - val_loss: 0.3039 - val_accuracy: 0.8485\n",
      "Epoch 2/80\n",
      "20/20 [==============================] - 4s 182ms/step - loss: 0.3518 - accuracy: 0.8497 - val_loss: 0.2955 - val_accuracy: 0.8687\n",
      "Epoch 3/80\n",
      "20/20 [==============================] - 4s 182ms/step - loss: 0.3272 - accuracy: 0.8578 - val_loss: 0.2910 - val_accuracy: 0.8788\n",
      "Epoch 4/80\n",
      "20/20 [==============================] - 4s 182ms/step - loss: 0.3131 - accuracy: 0.8627 - val_loss: 0.2882 - val_accuracy: 0.8788\n",
      "Epoch 5/80\n",
      "20/20 [==============================] - 4s 182ms/step - loss: 0.3019 - accuracy: 0.8758 - val_loss: 0.2863 - val_accuracy: 0.8788\n",
      "Epoch 6/80\n",
      "20/20 [==============================] - 4s 182ms/step - loss: 0.2926 - accuracy: 0.8791 - val_loss: 0.2850 - val_accuracy: 0.8788\n",
      "Epoch 7/80\n",
      "20/20 [==============================] - 4s 182ms/step - loss: 0.2850 - accuracy: 0.8824 - val_loss: 0.2840 - val_accuracy: 0.8788\n",
      "Epoch 8/80\n",
      "20/20 [==============================] - 4s 182ms/step - loss: 0.2784 - accuracy: 0.8922 - val_loss: 0.2831 - val_accuracy: 0.8788\n",
      "Epoch 9/80\n",
      "20/20 [==============================] - 4s 182ms/step - loss: 0.2726 - accuracy: 0.8922 - val_loss: 0.2823 - val_accuracy: 0.8788\n",
      "Epoch 10/80\n",
      "20/20 [==============================] - 4s 182ms/step - loss: 0.2676 - accuracy: 0.8954 - val_loss: 0.2815 - val_accuracy: 0.8788\n",
      "Epoch 11/80\n",
      "20/20 [==============================] - 4s 182ms/step - loss: 0.2630 - accuracy: 0.9003 - val_loss: 0.2807 - val_accuracy: 0.8889\n",
      "Epoch 12/80\n",
      "20/20 [==============================] - 4s 182ms/step - loss: 0.2589 - accuracy: 0.9020 - val_loss: 0.2799 - val_accuracy: 0.8788\n",
      "Epoch 13/80\n",
      "20/20 [==============================] - 4s 182ms/step - loss: 0.2551 - accuracy: 0.9036 - val_loss: 0.2790 - val_accuracy: 0.8788\n",
      "Epoch 14/80\n",
      "20/20 [==============================] - 4s 182ms/step - loss: 0.2515 - accuracy: 0.9036 - val_loss: 0.2783 - val_accuracy: 0.8788\n",
      "Epoch 15/80\n",
      "20/20 [==============================] - 4s 182ms/step - loss: 0.2482 - accuracy: 0.9052 - val_loss: 0.2776 - val_accuracy: 0.8788\n",
      "Epoch 16/80\n",
      "20/20 [==============================] - 4s 182ms/step - loss: 0.2451 - accuracy: 0.9069 - val_loss: 0.2769 - val_accuracy: 0.8687\n",
      "Epoch 17/80\n",
      "20/20 [==============================] - 4s 182ms/step - loss: 0.2422 - accuracy: 0.9069 - val_loss: 0.2762 - val_accuracy: 0.8687\n",
      "Epoch 18/80\n",
      "20/20 [==============================] - 4s 182ms/step - loss: 0.2394 - accuracy: 0.9118 - val_loss: 0.2757 - val_accuracy: 0.8687\n",
      "Epoch 19/80\n",
      "20/20 [==============================] - 4s 182ms/step - loss: 0.2367 - accuracy: 0.9134 - val_loss: 0.2752 - val_accuracy: 0.8687\n",
      "Epoch 20/80\n",
      "20/20 [==============================] - 4s 182ms/step - loss: 0.2341 - accuracy: 0.9167 - val_loss: 0.2747 - val_accuracy: 0.8687\n",
      "Epoch 21/80\n",
      "20/20 [==============================] - 4s 182ms/step - loss: 0.2316 - accuracy: 0.9183 - val_loss: 0.2743 - val_accuracy: 0.8687\n",
      "Epoch 22/80\n",
      "20/20 [==============================] - 4s 182ms/step - loss: 0.2292 - accuracy: 0.9199 - val_loss: 0.2739 - val_accuracy: 0.8687\n",
      "Epoch 23/80\n",
      "20/20 [==============================] - 4s 182ms/step - loss: 0.2270 - accuracy: 0.9199 - val_loss: 0.2735 - val_accuracy: 0.8687\n",
      "Epoch 24/80\n",
      "20/20 [==============================] - 4s 182ms/step - loss: 0.2247 - accuracy: 0.9199 - val_loss: 0.2731 - val_accuracy: 0.8687\n",
      "Epoch 25/80\n",
      "20/20 [==============================] - 4s 182ms/step - loss: 0.2226 - accuracy: 0.9199 - val_loss: 0.2728 - val_accuracy: 0.8687\n",
      "Epoch 26/80\n",
      "20/20 [==============================] - 4s 182ms/step - loss: 0.2205 - accuracy: 0.9216 - val_loss: 0.2724 - val_accuracy: 0.8687\n",
      "Epoch 27/80\n",
      "20/20 [==============================] - 4s 182ms/step - loss: 0.2185 - accuracy: 0.9265 - val_loss: 0.2721 - val_accuracy: 0.8687\n",
      "Epoch 28/80\n",
      "20/20 [==============================] - 4s 182ms/step - loss: 0.2165 - accuracy: 0.9281 - val_loss: 0.2717 - val_accuracy: 0.8687\n",
      "Epoch 29/80\n",
      "20/20 [==============================] - 4s 182ms/step - loss: 0.2146 - accuracy: 0.9297 - val_loss: 0.2714 - val_accuracy: 0.8586\n",
      "Epoch 30/80\n",
      "20/20 [==============================] - 4s 182ms/step - loss: 0.2127 - accuracy: 0.9297 - val_loss: 0.2711 - val_accuracy: 0.8586\n",
      "Epoch 31/80\n",
      "20/20 [==============================] - 4s 182ms/step - loss: 0.2109 - accuracy: 0.9330 - val_loss: 0.2708 - val_accuracy: 0.8586\n",
      "Epoch 32/80\n",
      "20/20 [==============================] - 4s 182ms/step - loss: 0.2091 - accuracy: 0.9330 - val_loss: 0.2705 - val_accuracy: 0.8586\n",
      "Epoch 33/80\n",
      "20/20 [==============================] - 4s 182ms/step - loss: 0.2074 - accuracy: 0.9330 - val_loss: 0.2702 - val_accuracy: 0.8586\n",
      "Epoch 34/80\n",
      "20/20 [==============================] - 4s 182ms/step - loss: 0.2057 - accuracy: 0.9330 - val_loss: 0.2699 - val_accuracy: 0.8586\n",
      "Epoch 35/80\n",
      "20/20 [==============================] - 4s 182ms/step - loss: 0.2040 - accuracy: 0.9346 - val_loss: 0.2696 - val_accuracy: 0.8586\n",
      "Epoch 36/80\n",
      "20/20 [==============================] - 4s 182ms/step - loss: 0.2024 - accuracy: 0.9346 - val_loss: 0.2694 - val_accuracy: 0.8586\n",
      "Epoch 37/80\n",
      "20/20 [==============================] - 4s 182ms/step - loss: 0.2008 - accuracy: 0.9346 - val_loss: 0.2691 - val_accuracy: 0.8586\n",
      "Epoch 38/80\n",
      "20/20 [==============================] - 4s 182ms/step - loss: 0.1993 - accuracy: 0.9363 - val_loss: 0.2689 - val_accuracy: 0.8586\n",
      "Epoch 39/80\n",
      "20/20 [==============================] - 4s 182ms/step - loss: 0.1977 - accuracy: 0.9395 - val_loss: 0.2686 - val_accuracy: 0.8586\n",
      "Epoch 40/80\n",
      "20/20 [==============================] - 4s 182ms/step - loss: 0.1962 - accuracy: 0.9395 - val_loss: 0.2684 - val_accuracy: 0.8586\n",
      "Epoch 41/80\n",
      "20/20 [==============================] - 4s 182ms/step - loss: 0.1947 - accuracy: 0.9395 - val_loss: 0.2681 - val_accuracy: 0.8586\n",
      "Epoch 42/80\n",
      "20/20 [==============================] - 4s 182ms/step - loss: 0.1933 - accuracy: 0.9395 - val_loss: 0.2679 - val_accuracy: 0.8586\n",
      "Epoch 43/80\n",
      "20/20 [==============================] - 4s 182ms/step - loss: 0.1919 - accuracy: 0.9395 - val_loss: 0.2677 - val_accuracy: 0.8586\n",
      "Epoch 44/80\n",
      "20/20 [==============================] - 4s 182ms/step - loss: 0.1905 - accuracy: 0.9412 - val_loss: 0.2675 - val_accuracy: 0.8586\n",
      "Epoch 45/80\n",
      "20/20 [==============================] - 4s 182ms/step - loss: 0.1891 - accuracy: 0.9428 - val_loss: 0.2674 - val_accuracy: 0.8687\n",
      "Epoch 46/80\n",
      "20/20 [==============================] - 4s 182ms/step - loss: 0.1877 - accuracy: 0.9444 - val_loss: 0.2672 - val_accuracy: 0.8687\n",
      "Epoch 47/80\n",
      "20/20 [==============================] - 4s 182ms/step - loss: 0.1863 - accuracy: 0.9444 - val_loss: 0.2670 - val_accuracy: 0.8687\n",
      "Epoch 48/80\n",
      "20/20 [==============================] - 4s 182ms/step - loss: 0.1850 - accuracy: 0.9444 - val_loss: 0.2668 - val_accuracy: 0.8687\n",
      "Epoch 49/80\n",
      "20/20 [==============================] - 4s 182ms/step - loss: 0.1837 - accuracy: 0.9444 - val_loss: 0.2666 - val_accuracy: 0.8687\n",
      "Epoch 50/80\n",
      "20/20 [==============================] - 4s 182ms/step - loss: 0.1824 - accuracy: 0.9444 - val_loss: 0.2665 - val_accuracy: 0.8687\n",
      "Epoch 51/80\n",
      "20/20 [==============================] - 4s 182ms/step - loss: 0.1811 - accuracy: 0.9444 - val_loss: 0.2662 - val_accuracy: 0.8687\n",
      "Epoch 52/80\n",
      "20/20 [==============================] - 4s 182ms/step - loss: 0.1799 - accuracy: 0.9444 - val_loss: 0.2660 - val_accuracy: 0.8687\n",
      "Epoch 53/80\n",
      "20/20 [==============================] - 4s 182ms/step - loss: 0.1786 - accuracy: 0.9444 - val_loss: 0.2658 - val_accuracy: 0.8687\n",
      "Epoch 54/80\n",
      "20/20 [==============================] - 4s 182ms/step - loss: 0.1774 - accuracy: 0.9444 - val_loss: 0.2657 - val_accuracy: 0.8687\n",
      "Epoch 55/80\n",
      "20/20 [==============================] - 4s 182ms/step - loss: 0.1762 - accuracy: 0.9444 - val_loss: 0.2655 - val_accuracy: 0.8687\n",
      "Epoch 56/80\n",
      "20/20 [==============================] - 4s 182ms/step - loss: 0.1750 - accuracy: 0.9477 - val_loss: 0.2654 - val_accuracy: 0.8687\n",
      "Epoch 57/80\n",
      "20/20 [==============================] - 4s 182ms/step - loss: 0.1738 - accuracy: 0.9477 - val_loss: 0.2652 - val_accuracy: 0.8788\n",
      "Epoch 58/80\n"
     ]
    },
    {
     "name": "stdout",
     "output_type": "stream",
     "text": [
      "20/20 [==============================] - 4s 182ms/step - loss: 0.1727 - accuracy: 0.9477 - val_loss: 0.2651 - val_accuracy: 0.8788\n",
      "Epoch 59/80\n",
      "20/20 [==============================] - 4s 182ms/step - loss: 0.1715 - accuracy: 0.9477 - val_loss: 0.2649 - val_accuracy: 0.8788\n",
      "Epoch 60/80\n",
      "20/20 [==============================] - 4s 182ms/step - loss: 0.1704 - accuracy: 0.9477 - val_loss: 0.2648 - val_accuracy: 0.8788\n",
      "Epoch 61/80\n",
      "20/20 [==============================] - 4s 182ms/step - loss: 0.1693 - accuracy: 0.9477 - val_loss: 0.2647 - val_accuracy: 0.8788\n",
      "Epoch 62/80\n",
      "20/20 [==============================] - 4s 182ms/step - loss: 0.1682 - accuracy: 0.9477 - val_loss: 0.2646 - val_accuracy: 0.8788\n",
      "Epoch 63/80\n",
      "20/20 [==============================] - 4s 182ms/step - loss: 0.1671 - accuracy: 0.9493 - val_loss: 0.2644 - val_accuracy: 0.8788\n",
      "Epoch 64/80\n",
      "20/20 [==============================] - 4s 182ms/step - loss: 0.1660 - accuracy: 0.9493 - val_loss: 0.2643 - val_accuracy: 0.8788\n",
      "Epoch 65/80\n",
      "20/20 [==============================] - 4s 182ms/step - loss: 0.1650 - accuracy: 0.9510 - val_loss: 0.2642 - val_accuracy: 0.8788\n",
      "Epoch 66/80\n",
      "20/20 [==============================] - 4s 182ms/step - loss: 0.1639 - accuracy: 0.9526 - val_loss: 0.2641 - val_accuracy: 0.8788\n",
      "Epoch 67/80\n",
      "20/20 [==============================] - 4s 182ms/step - loss: 0.1629 - accuracy: 0.9526 - val_loss: 0.2640 - val_accuracy: 0.8788\n",
      "Epoch 68/80\n",
      "20/20 [==============================] - 4s 182ms/step - loss: 0.1619 - accuracy: 0.9526 - val_loss: 0.2639 - val_accuracy: 0.8687\n",
      "Epoch 69/80\n",
      "20/20 [==============================] - 4s 182ms/step - loss: 0.1608 - accuracy: 0.9526 - val_loss: 0.2639 - val_accuracy: 0.8687\n",
      "Epoch 70/80\n",
      "20/20 [==============================] - 4s 182ms/step - loss: 0.1598 - accuracy: 0.9542 - val_loss: 0.2638 - val_accuracy: 0.8687\n",
      "Epoch 71/80\n",
      "20/20 [==============================] - 4s 182ms/step - loss: 0.1589 - accuracy: 0.9542 - val_loss: 0.2637 - val_accuracy: 0.8687\n",
      "Epoch 72/80\n",
      "20/20 [==============================] - 4s 182ms/step - loss: 0.1579 - accuracy: 0.9542 - val_loss: 0.2636 - val_accuracy: 0.8687\n",
      "Epoch 73/80\n",
      "20/20 [==============================] - 4s 182ms/step - loss: 0.1569 - accuracy: 0.9542 - val_loss: 0.2635 - val_accuracy: 0.8687\n",
      "Epoch 74/80\n",
      "20/20 [==============================] - 4s 182ms/step - loss: 0.1560 - accuracy: 0.9542 - val_loss: 0.2635 - val_accuracy: 0.8687\n",
      "Epoch 75/80\n",
      "20/20 [==============================] - 4s 182ms/step - loss: 0.1550 - accuracy: 0.9542 - val_loss: 0.2634 - val_accuracy: 0.8687\n",
      "Epoch 76/80\n",
      "20/20 [==============================] - 4s 182ms/step - loss: 0.1541 - accuracy: 0.9575 - val_loss: 0.2633 - val_accuracy: 0.8687\n",
      "Epoch 77/80\n",
      "20/20 [==============================] - 4s 182ms/step - loss: 0.1531 - accuracy: 0.9575 - val_loss: 0.2633 - val_accuracy: 0.8687\n",
      "Epoch 78/80\n",
      "20/20 [==============================] - 4s 182ms/step - loss: 0.1522 - accuracy: 0.9575 - val_loss: 0.2632 - val_accuracy: 0.8687\n",
      "Epoch 79/80\n",
      "20/20 [==============================] - 4s 182ms/step - loss: 0.1513 - accuracy: 0.9592 - val_loss: 0.2632 - val_accuracy: 0.8687\n",
      "Epoch 80/80\n",
      "20/20 [==============================] - 4s 182ms/step - loss: 0.1504 - accuracy: 0.9592 - val_loss: 0.2631 - val_accuracy: 0.8687\n",
      "INFO:tensorflow:Assets written to: ./Resnet_50_dataset_2\\assets\n"
     ]
    }
   ],
   "source": [
    "results = model.fit(\n",
    "    train_ds,\n",
    "    batch_size = 32,\n",
    "    epochs = 80,\n",
    "    validation_data = val_ds,\n",
    "    verbose=1,\n",
    ")\n",
    "\n",
    "model.save(\"./Resnet_50_dataset_2\")"
   ]
  },
  {
   "cell_type": "code",
   "execution_count": 13,
   "metadata": {},
   "outputs": [
    {
     "data": {
      "image/png": "[encoded data removed]",
      "text/plain": [
       "<Figure size 432x288 with 1 Axes>"
      ]
     },
     "metadata": {
      "needs_background": "light"
     },
     "output_type": "display_data"
    }
   ],
   "source": [
    "results.history.keys()\n",
    "import matplotlib.pyplot as plt\n",
    "%matplotlib inline\n",
    "plt.plot(results.history['loss'][1:])\n",
    "plt.plot(results.history['val_loss'][1:])\n",
    "plt.legend(['Training', 'Validation'])\n",
    "plt.title('Training and Validation losses')\n",
    "plt.xlabel('epoch')\n",
    "plt.savefig(\"../project/Resnet_50_ds_2.png\")"
   ]
  },
  {
   "cell_type": "code",
   "execution_count": 14,
   "metadata": {},
   "outputs": [],
   "source": [
    "# We will try to train the last stage of ResNet50\n",
    "for layer in base_model.layers[0:143]:\n",
    "  layer.trainable = False\n",
    " \n",
    "for layer in base_model.layers[143:]:\n",
    "  layer.trainable = True"
   ]
  },
  {
   "cell_type": "code",
   "execution_count": 15,
   "metadata": {},
   "outputs": [
    {
     "name": "stdout",
     "output_type": "stream",
     "text": [
      "Epoch 1/20\n",
      "20/20 [==============================] - 4s 183ms/step - loss: 0.1495 - accuracy: 0.9592 - val_loss: 0.2631 - val_accuracy: 0.8687\n",
      "Epoch 2/20\n",
      "20/20 [==============================] - 4s 183ms/step - loss: 0.1486 - accuracy: 0.9592 - val_loss: 0.2631 - val_accuracy: 0.8687\n",
      "Epoch 3/20\n",
      "20/20 [==============================] - 4s 182ms/step - loss: 0.1477 - accuracy: 0.9608 - val_loss: 0.2630 - val_accuracy: 0.8687\n",
      "Epoch 4/20\n",
      "20/20 [==============================] - 4s 182ms/step - loss: 0.1468 - accuracy: 0.9608 - val_loss: 0.2630 - val_accuracy: 0.8687\n",
      "Epoch 5/20\n",
      "20/20 [==============================] - 4s 183ms/step - loss: 0.1460 - accuracy: 0.9608 - val_loss: 0.2630 - val_accuracy: 0.8687\n",
      "Epoch 6/20\n",
      "20/20 [==============================] - 4s 182ms/step - loss: 0.1451 - accuracy: 0.9608 - val_loss: 0.2629 - val_accuracy: 0.8687\n",
      "Epoch 7/20\n",
      "20/20 [==============================] - 4s 182ms/step - loss: 0.1442 - accuracy: 0.9608 - val_loss: 0.2629 - val_accuracy: 0.8687\n",
      "Epoch 8/20\n",
      "20/20 [==============================] - 4s 182ms/step - loss: 0.1434 - accuracy: 0.9608 - val_loss: 0.2629 - val_accuracy: 0.8687\n",
      "Epoch 9/20\n",
      "20/20 [==============================] - 4s 182ms/step - loss: 0.1426 - accuracy: 0.9624 - val_loss: 0.2629 - val_accuracy: 0.8687\n",
      "Epoch 10/20\n",
      "20/20 [==============================] - 4s 182ms/step - loss: 0.1417 - accuracy: 0.9624 - val_loss: 0.2629 - val_accuracy: 0.8687\n",
      "Epoch 11/20\n",
      "20/20 [==============================] - 4s 182ms/step - loss: 0.1409 - accuracy: 0.9624 - val_loss: 0.2629 - val_accuracy: 0.8687\n",
      "Epoch 12/20\n",
      "20/20 [==============================] - 4s 182ms/step - loss: 0.1401 - accuracy: 0.9624 - val_loss: 0.2629 - val_accuracy: 0.8687\n",
      "Epoch 13/20\n",
      "20/20 [==============================] - 4s 182ms/step - loss: 0.1393 - accuracy: 0.9624 - val_loss: 0.2628 - val_accuracy: 0.8687\n",
      "Epoch 14/20\n",
      "20/20 [==============================] - 4s 182ms/step - loss: 0.1385 - accuracy: 0.9641 - val_loss: 0.2629 - val_accuracy: 0.8687\n",
      "Epoch 15/20\n",
      "20/20 [==============================] - 4s 182ms/step - loss: 0.1377 - accuracy: 0.9641 - val_loss: 0.2629 - val_accuracy: 0.8687\n",
      "Epoch 16/20\n",
      "20/20 [==============================] - 4s 182ms/step - loss: 0.1369 - accuracy: 0.9641 - val_loss: 0.2629 - val_accuracy: 0.8788\n",
      "Epoch 17/20\n",
      "20/20 [==============================] - 4s 182ms/step - loss: 0.1361 - accuracy: 0.9673 - val_loss: 0.2629 - val_accuracy: 0.8788\n",
      "Epoch 18/20\n",
      "20/20 [==============================] - 4s 182ms/step - loss: 0.1353 - accuracy: 0.9690 - val_loss: 0.2629 - val_accuracy: 0.8788\n",
      "Epoch 19/20\n",
      "20/20 [==============================] - 4s 182ms/step - loss: 0.1346 - accuracy: 0.9690 - val_loss: 0.2630 - val_accuracy: 0.8788\n",
      "Epoch 20/20\n",
      "20/20 [==============================] - 4s 182ms/step - loss: 0.1338 - accuracy: 0.9690 - val_loss: 0.2630 - val_accuracy: 0.8788\n"
     ]
    }
   ],
   "source": [
    "results = model.fit(\n",
    "    train_ds,\n",
    "    batch_size = 32,\n",
    "    epochs = 20,\n",
    "    validation_data = val_ds,\n",
    "    verbose=1,\n",
    ")"
   ]
  },
  {
   "cell_type": "code",
   "execution_count": 16,
   "metadata": {},
   "outputs": [
    {
     "name": "stdout",
     "output_type": "stream",
     "text": [
      "3/3 [==============================] - 1s 317ms/step - loss: 0.2427 - accuracy: 0.9011\n"
     ]
    },
    {
     "data": {
      "text/plain": [
       "[0.24265599250793457, 0.901098906993866]"
      ]
     },
     "execution_count": 16,
     "metadata": {},
     "output_type": "execute_result"
    }
   ],
   "source": [
    "model.evaluate(test_ds)"
   ]
  },
  {
   "cell_type": "markdown",
   "metadata": {},
   "source": [
    "### Dataset 3"
   ]
  },
  {
   "cell_type": "code",
   "execution_count": 17,
   "metadata": {},
   "outputs": [
    {
     "name": "stdout",
     "output_type": "stream",
     "text": [
      "Found 2233 files belonging to 2 classes.\n",
      "Using 1787 files for training.\n",
      "Found 2233 files belonging to 2 classes.\n",
      "Using 446 files for validation.\n",
      "Found 248 files belonging to 2 classes.\n"
     ]
    }
   ],
   "source": [
    "train_ds = keras.preprocessing.image_dataset_from_directory( r'../datasets/kaggle-large-ct/train/',\n",
    "                                                               image_size=(227, 227),\n",
    "                                                               validation_split=0.2,\n",
    "                                                               subset=\"training\",\n",
    "                                                               seed=123,\n",
    "                                                               batch_size=32,\n",
    "                                                               label_mode='categorical')\n",
    "\n",
    "val_ds = keras.preprocessing.image_dataset_from_directory( r'../datasets/kaggle-large-ct/train/',\n",
    "                                                             image_size=(227, 227),\n",
    "                                                             validation_split=0.2,\n",
    "                                                             subset=\"validation\",\n",
    "                                                             seed=123,\n",
    "                                                             batch_size=32,\n",
    "                                                             label_mode='categorical')\n",
    "\n",
    "test_ds = keras.preprocessing.image_dataset_from_directory( r'../datasets/kaggle-large-ct/test/',\n",
    "                                                             image_size=(227, 227),\n",
    "                                                             batch_size=32,\n",
    "                                                             label_mode='categorical')"
   ]
  },
  {
   "cell_type": "code",
   "execution_count": 18,
   "metadata": {},
   "outputs": [
    {
     "name": "stdout",
     "output_type": "stream",
     "text": [
      "Epoch 1/80\n",
      "56/56 [==============================] - 18s 324ms/step - loss: 0.7842 - accuracy: 0.5848 - val_loss: 0.5567 - val_accuracy: 0.6996\n",
      "Epoch 2/80\n",
      "56/56 [==============================] - 17s 310ms/step - loss: 0.5355 - accuracy: 0.7303 - val_loss: 0.5155 - val_accuracy: 0.7220\n",
      "Epoch 3/80\n",
      "56/56 [==============================] - 17s 309ms/step - loss: 0.4614 - accuracy: 0.7706 - val_loss: 0.4217 - val_accuracy: 0.7892\n",
      "Epoch 4/80\n",
      "56/56 [==============================] - 17s 311ms/step - loss: 0.4226 - accuracy: 0.7969 - val_loss: 0.3799 - val_accuracy: 0.8139\n",
      "Epoch 5/80\n",
      "56/56 [==============================] - 17s 310ms/step - loss: 0.3920 - accuracy: 0.8209 - val_loss: 0.3633 - val_accuracy: 0.8139\n",
      "Epoch 6/80\n",
      "56/56 [==============================] - 17s 309ms/step - loss: 0.3703 - accuracy: 0.8344 - val_loss: 0.3440 - val_accuracy: 0.8251\n",
      "Epoch 7/80\n",
      "56/56 [==============================] - 17s 310ms/step - loss: 0.3553 - accuracy: 0.8416 - val_loss: 0.3343 - val_accuracy: 0.8251\n",
      "Epoch 8/80\n",
      "56/56 [==============================] - 18s 313ms/step - loss: 0.3399 - accuracy: 0.8489 - val_loss: 0.3242 - val_accuracy: 0.8296\n",
      "Epoch 9/80\n",
      "56/56 [==============================] - 17s 309ms/step - loss: 0.3280 - accuracy: 0.8612 - val_loss: 0.3119 - val_accuracy: 0.8430\n",
      "Epoch 10/80\n",
      "56/56 [==============================] - 17s 310ms/step - loss: 0.3173 - accuracy: 0.8668 - val_loss: 0.3053 - val_accuracy: 0.8453\n",
      "Epoch 11/80\n",
      "56/56 [==============================] - 17s 310ms/step - loss: 0.3085 - accuracy: 0.8719 - val_loss: 0.3031 - val_accuracy: 0.8498\n",
      "Epoch 12/80\n",
      "56/56 [==============================] - 17s 309ms/step - loss: 0.2987 - accuracy: 0.8797 - val_loss: 0.2995 - val_accuracy: 0.8610\n",
      "Epoch 13/80\n",
      "56/56 [==============================] - 17s 309ms/step - loss: 0.2915 - accuracy: 0.8830 - val_loss: 0.3038 - val_accuracy: 0.8610\n",
      "Epoch 14/80\n",
      "56/56 [==============================] - 17s 309ms/step - loss: 0.2862 - accuracy: 0.8892 - val_loss: 0.3003 - val_accuracy: 0.8677\n",
      "Epoch 15/80\n",
      "56/56 [==============================] - 18s 313ms/step - loss: 0.2796 - accuracy: 0.8808 - val_loss: 0.2773 - val_accuracy: 0.8655\n",
      "Epoch 16/80\n",
      "56/56 [==============================] - 18s 315ms/step - loss: 0.2730 - accuracy: 0.8914 - val_loss: 0.2940 - val_accuracy: 0.8677\n",
      "Epoch 17/80\n",
      "56/56 [==============================] - 17s 312ms/step - loss: 0.2689 - accuracy: 0.8965 - val_loss: 0.2771 - val_accuracy: 0.8700\n",
      "Epoch 18/80\n",
      "56/56 [==============================] - 18s 313ms/step - loss: 0.2643 - accuracy: 0.8993 - val_loss: 0.2905 - val_accuracy: 0.8744\n",
      "Epoch 19/80\n",
      "56/56 [==============================] - 18s 313ms/step - loss: 0.2591 - accuracy: 0.9032 - val_loss: 0.2633 - val_accuracy: 0.8722\n",
      "Epoch 20/80\n",
      "56/56 [==============================] - 17s 311ms/step - loss: 0.2547 - accuracy: 0.9010 - val_loss: 0.2748 - val_accuracy: 0.8700\n",
      "Epoch 21/80\n",
      "56/56 [==============================] - 17s 311ms/step - loss: 0.2512 - accuracy: 0.8982 - val_loss: 0.2638 - val_accuracy: 0.8789\n",
      "Epoch 22/80\n",
      "56/56 [==============================] - 18s 315ms/step - loss: 0.2457 - accuracy: 0.9054 - val_loss: 0.2589 - val_accuracy: 0.8812\n",
      "Epoch 23/80\n",
      "56/56 [==============================] - 18s 315ms/step - loss: 0.2420 - accuracy: 0.9071 - val_loss: 0.2536 - val_accuracy: 0.8767\n",
      "Epoch 24/80\n",
      "56/56 [==============================] - 18s 314ms/step - loss: 0.2421 - accuracy: 0.9088 - val_loss: 0.2522 - val_accuracy: 0.8812\n",
      "Epoch 25/80\n",
      "56/56 [==============================] - 17s 311ms/step - loss: 0.2352 - accuracy: 0.9116 - val_loss: 0.2502 - val_accuracy: 0.8812\n",
      "Epoch 26/80\n",
      "56/56 [==============================] - 17s 312ms/step - loss: 0.2325 - accuracy: 0.9127 - val_loss: 0.2455 - val_accuracy: 0.8901\n",
      "Epoch 27/80\n",
      "56/56 [==============================] - 17s 310ms/step - loss: 0.2283 - accuracy: 0.9166 - val_loss: 0.2485 - val_accuracy: 0.8834\n",
      "Epoch 28/80\n",
      "56/56 [==============================] - 17s 310ms/step - loss: 0.2249 - accuracy: 0.9177 - val_loss: 0.2533 - val_accuracy: 0.8879\n",
      "Epoch 29/80\n",
      "56/56 [==============================] - 17s 311ms/step - loss: 0.2223 - accuracy: 0.9149 - val_loss: 0.2404 - val_accuracy: 0.8969\n",
      "Epoch 30/80\n",
      "56/56 [==============================] - 17s 309ms/step - loss: 0.2217 - accuracy: 0.9183 - val_loss: 0.2484 - val_accuracy: 0.8857\n",
      "Epoch 31/80\n",
      "56/56 [==============================] - 17s 310ms/step - loss: 0.2163 - accuracy: 0.9149 - val_loss: 0.2477 - val_accuracy: 0.8879\n",
      "Epoch 32/80\n",
      "56/56 [==============================] - 17s 310ms/step - loss: 0.2157 - accuracy: 0.9172 - val_loss: 0.2329 - val_accuracy: 0.9036\n",
      "Epoch 33/80\n",
      "56/56 [==============================] - 17s 310ms/step - loss: 0.2152 - accuracy: 0.9172 - val_loss: 0.2338 - val_accuracy: 0.9036\n",
      "Epoch 34/80\n",
      "56/56 [==============================] - 17s 310ms/step - loss: 0.2103 - accuracy: 0.9245 - val_loss: 0.2311 - val_accuracy: 0.9036\n",
      "Epoch 35/80\n",
      "56/56 [==============================] - 17s 309ms/step - loss: 0.2092 - accuracy: 0.9228 - val_loss: 0.2355 - val_accuracy: 0.8991\n",
      "Epoch 36/80\n",
      "56/56 [==============================] - 17s 310ms/step - loss: 0.2046 - accuracy: 0.9217 - val_loss: 0.2342 - val_accuracy: 0.9013\n",
      "Epoch 37/80\n",
      "56/56 [==============================] - 17s 311ms/step - loss: 0.2032 - accuracy: 0.9245 - val_loss: 0.2274 - val_accuracy: 0.9126\n",
      "Epoch 38/80\n",
      "56/56 [==============================] - 17s 310ms/step - loss: 0.2008 - accuracy: 0.9278 - val_loss: 0.2309 - val_accuracy: 0.9036\n",
      "Epoch 39/80\n",
      "56/56 [==============================] - 17s 311ms/step - loss: 0.1981 - accuracy: 0.9284 - val_loss: 0.2287 - val_accuracy: 0.9081\n",
      "Epoch 40/80\n",
      "56/56 [==============================] - 17s 311ms/step - loss: 0.1960 - accuracy: 0.9261 - val_loss: 0.2243 - val_accuracy: 0.9103\n",
      "Epoch 41/80\n",
      "56/56 [==============================] - 17s 309ms/step - loss: 0.1936 - accuracy: 0.9278 - val_loss: 0.2200 - val_accuracy: 0.9103\n",
      "Epoch 42/80\n",
      "56/56 [==============================] - 17s 309ms/step - loss: 0.1920 - accuracy: 0.9323 - val_loss: 0.2283 - val_accuracy: 0.9058\n",
      "Epoch 43/80\n",
      "56/56 [==============================] - 17s 310ms/step - loss: 0.1905 - accuracy: 0.9334 - val_loss: 0.2219 - val_accuracy: 0.9103\n",
      "Epoch 44/80\n",
      "56/56 [==============================] - 17s 310ms/step - loss: 0.1888 - accuracy: 0.9345 - val_loss: 0.2219 - val_accuracy: 0.9148\n",
      "Epoch 45/80\n",
      "56/56 [==============================] - 17s 312ms/step - loss: 0.1868 - accuracy: 0.9345 - val_loss: 0.2190 - val_accuracy: 0.9148\n",
      "Epoch 46/80\n",
      "56/56 [==============================] - 17s 311ms/step - loss: 0.1842 - accuracy: 0.9379 - val_loss: 0.2200 - val_accuracy: 0.9148\n",
      "Epoch 47/80\n",
      "56/56 [==============================] - 18s 318ms/step - loss: 0.1820 - accuracy: 0.9340 - val_loss: 0.2225 - val_accuracy: 0.9103\n",
      "Epoch 48/80\n",
      "56/56 [==============================] - 18s 315ms/step - loss: 0.1804 - accuracy: 0.9373 - val_loss: 0.2104 - val_accuracy: 0.9215\n",
      "Epoch 49/80\n",
      "56/56 [==============================] - 17s 312ms/step - loss: 0.1801 - accuracy: 0.9362 - val_loss: 0.2174 - val_accuracy: 0.9126\n",
      "Epoch 50/80\n",
      "56/56 [==============================] - 17s 311ms/step - loss: 0.1777 - accuracy: 0.9390 - val_loss: 0.2107 - val_accuracy: 0.9193\n",
      "Epoch 51/80\n",
      "56/56 [==============================] - 18s 314ms/step - loss: 0.1766 - accuracy: 0.9384 - val_loss: 0.2113 - val_accuracy: 0.9148\n",
      "Epoch 52/80\n",
      "56/56 [==============================] - 18s 314ms/step - loss: 0.1752 - accuracy: 0.9412 - val_loss: 0.2126 - val_accuracy: 0.9148\n",
      "Epoch 53/80\n",
      "56/56 [==============================] - 18s 315ms/step - loss: 0.1733 - accuracy: 0.9390 - val_loss: 0.2184 - val_accuracy: 0.9126\n",
      "Epoch 54/80\n",
      "56/56 [==============================] - 18s 313ms/step - loss: 0.1700 - accuracy: 0.9435 - val_loss: 0.2082 - val_accuracy: 0.9170\n",
      "Epoch 55/80\n",
      "56/56 [==============================] - 17s 312ms/step - loss: 0.1685 - accuracy: 0.9424 - val_loss: 0.2155 - val_accuracy: 0.9126\n",
      "Epoch 56/80\n",
      "56/56 [==============================] - 18s 313ms/step - loss: 0.1671 - accuracy: 0.9457 - val_loss: 0.2092 - val_accuracy: 0.9170\n",
      "Epoch 57/80\n",
      "56/56 [==============================] - 17s 311ms/step - loss: 0.1659 - accuracy: 0.9468 - val_loss: 0.2038 - val_accuracy: 0.9193\n"
     ]
    },
    {
     "name": "stdout",
     "output_type": "stream",
     "text": [
      "Epoch 58/80\n",
      "56/56 [==============================] - 17s 312ms/step - loss: 0.1654 - accuracy: 0.9452 - val_loss: 0.2053 - val_accuracy: 0.9170\n",
      "Epoch 59/80\n",
      "56/56 [==============================] - 17s 310ms/step - loss: 0.1634 - accuracy: 0.9457 - val_loss: 0.2035 - val_accuracy: 0.9170\n",
      "Epoch 60/80\n",
      "56/56 [==============================] - 17s 312ms/step - loss: 0.1620 - accuracy: 0.9502 - val_loss: 0.2002 - val_accuracy: 0.9215\n",
      "Epoch 61/80\n",
      "56/56 [==============================] - 17s 312ms/step - loss: 0.1618 - accuracy: 0.9491 - val_loss: 0.2078 - val_accuracy: 0.9148\n",
      "Epoch 62/80\n",
      "56/56 [==============================] - 17s 312ms/step - loss: 0.1587 - accuracy: 0.9502 - val_loss: 0.2018 - val_accuracy: 0.9215\n",
      "Epoch 63/80\n",
      "56/56 [==============================] - 17s 311ms/step - loss: 0.1588 - accuracy: 0.9474 - val_loss: 0.1976 - val_accuracy: 0.9238\n",
      "Epoch 64/80\n",
      "56/56 [==============================] - 17s 312ms/step - loss: 0.1582 - accuracy: 0.9502 - val_loss: 0.1954 - val_accuracy: 0.9238\n",
      "Epoch 65/80\n",
      "56/56 [==============================] - 17s 311ms/step - loss: 0.1572 - accuracy: 0.9502 - val_loss: 0.1948 - val_accuracy: 0.9260\n",
      "Epoch 66/80\n",
      "56/56 [==============================] - 18s 313ms/step - loss: 0.1575 - accuracy: 0.9524 - val_loss: 0.1985 - val_accuracy: 0.9215\n",
      "Epoch 67/80\n",
      "56/56 [==============================] - 17s 312ms/step - loss: 0.1527 - accuracy: 0.9524 - val_loss: 0.2088 - val_accuracy: 0.9148\n",
      "Epoch 68/80\n",
      "56/56 [==============================] - 18s 314ms/step - loss: 0.1535 - accuracy: 0.9536 - val_loss: 0.1919 - val_accuracy: 0.9238\n",
      "Epoch 69/80\n",
      "56/56 [==============================] - 17s 312ms/step - loss: 0.1549 - accuracy: 0.9513 - val_loss: 0.1927 - val_accuracy: 0.9283\n",
      "Epoch 70/80\n",
      "56/56 [==============================] - 18s 315ms/step - loss: 0.1505 - accuracy: 0.9519 - val_loss: 0.1987 - val_accuracy: 0.9215\n",
      "Epoch 71/80\n",
      "56/56 [==============================] - 17s 311ms/step - loss: 0.1484 - accuracy: 0.9564 - val_loss: 0.1917 - val_accuracy: 0.9260\n",
      "Epoch 72/80\n",
      "56/56 [==============================] - 18s 313ms/step - loss: 0.1475 - accuracy: 0.9536 - val_loss: 0.1900 - val_accuracy: 0.9283\n",
      "Epoch 73/80\n",
      "56/56 [==============================] - 18s 314ms/step - loss: 0.1492 - accuracy: 0.9564 - val_loss: 0.1905 - val_accuracy: 0.9238\n",
      "Epoch 74/80\n",
      "56/56 [==============================] - 17s 312ms/step - loss: 0.1485 - accuracy: 0.9519 - val_loss: 0.1887 - val_accuracy: 0.9283\n",
      "Epoch 75/80\n",
      "56/56 [==============================] - 17s 312ms/step - loss: 0.1444 - accuracy: 0.9564 - val_loss: 0.1907 - val_accuracy: 0.9238\n",
      "Epoch 76/80\n",
      "56/56 [==============================] - 18s 313ms/step - loss: 0.1437 - accuracy: 0.9569 - val_loss: 0.1871 - val_accuracy: 0.9305\n",
      "Epoch 77/80\n",
      "56/56 [==============================] - 17s 312ms/step - loss: 0.1425 - accuracy: 0.9614 - val_loss: 0.1910 - val_accuracy: 0.9215\n",
      "Epoch 78/80\n",
      "56/56 [==============================] - 18s 313ms/step - loss: 0.1404 - accuracy: 0.9564 - val_loss: 0.1932 - val_accuracy: 0.9260\n",
      "Epoch 79/80\n",
      "56/56 [==============================] - 18s 313ms/step - loss: 0.1396 - accuracy: 0.9586 - val_loss: 0.1870 - val_accuracy: 0.9238\n",
      "Epoch 80/80\n",
      "56/56 [==============================] - 17s 312ms/step - loss: 0.1389 - accuracy: 0.9586 - val_loss: 0.1872 - val_accuracy: 0.9238\n",
      "INFO:tensorflow:Assets written to: ./Resnet_50_dataset_3\\assets\n"
     ]
    }
   ],
   "source": [
    "results = model.fit(\n",
    "    train_ds,\n",
    "    batch_size = 32,\n",
    "    epochs = 80,\n",
    "    validation_data = val_ds,\n",
    "    verbose=1,\n",
    ")\n",
    "\n",
    "model.save(\"./Resnet_50_dataset_3\")"
   ]
  },
  {
   "cell_type": "code",
   "execution_count": 19,
   "metadata": {},
   "outputs": [
    {
     "data": {
      "image/png": "[encoded data removed]",
      "text/plain": [
       "<Figure size 432x288 with 1 Axes>"
      ]
     },
     "metadata": {
      "needs_background": "light"
     },
     "output_type": "display_data"
    }
   ],
   "source": [
    "results.history.keys()\n",
    "import matplotlib.pyplot as plt\n",
    "%matplotlib inline\n",
    "plt.plot(results.history['loss'][1:])\n",
    "plt.plot(results.history['val_loss'][1:])\n",
    "plt.legend(['Training', 'Validation'])\n",
    "plt.title('Training and Validation losses')\n",
    "plt.xlabel('epoch')\n",
    "plt.savefig(\"../project/Resnet_50_ds_3.png\")"
   ]
  },
  {
   "cell_type": "code",
   "execution_count": 20,
   "metadata": {},
   "outputs": [],
   "source": [
    "# We will try to train the last stage of ResNet50\n",
    "for layer in base_model.layers[0:143]:\n",
    "  layer.trainable = False\n",
    " \n",
    "for layer in base_model.layers[143:]:\n",
    "  layer.trainable = True"
   ]
  },
  {
   "cell_type": "code",
   "execution_count": 21,
   "metadata": {},
   "outputs": [
    {
     "name": "stdout",
     "output_type": "stream",
     "text": [
      "Epoch 1/20\n",
      "56/56 [==============================] - 18s 319ms/step - loss: 0.1374 - accuracy: 0.9608 - val_loss: 0.1847 - val_accuracy: 0.9305\n",
      "Epoch 2/20\n",
      "56/56 [==============================] - 18s 316ms/step - loss: 0.1375 - accuracy: 0.9619 - val_loss: 0.1848 - val_accuracy: 0.9283\n",
      "Epoch 3/20\n",
      "56/56 [==============================] - 17s 310ms/step - loss: 0.1370 - accuracy: 0.9608 - val_loss: 0.1870 - val_accuracy: 0.9260\n",
      "Epoch 4/20\n",
      "56/56 [==============================] - 17s 310ms/step - loss: 0.1354 - accuracy: 0.9603 - val_loss: 0.1828 - val_accuracy: 0.9305\n",
      "Epoch 5/20\n",
      "56/56 [==============================] - 18s 329ms/step - loss: 0.1338 - accuracy: 0.9608 - val_loss: 0.1886 - val_accuracy: 0.9238\n",
      "Epoch 6/20\n",
      "56/56 [==============================] - 18s 326ms/step - loss: 0.1330 - accuracy: 0.9619 - val_loss: 0.1900 - val_accuracy: 0.9238\n",
      "Epoch 7/20\n",
      "56/56 [==============================] - 18s 316ms/step - loss: 0.1313 - accuracy: 0.9591 - val_loss: 0.1913 - val_accuracy: 0.9238\n",
      "Epoch 8/20\n",
      "56/56 [==============================] - 18s 318ms/step - loss: 0.1311 - accuracy: 0.9603 - val_loss: 0.1815 - val_accuracy: 0.9283\n",
      "Epoch 9/20\n",
      "56/56 [==============================] - 18s 316ms/step - loss: 0.1303 - accuracy: 0.9614 - val_loss: 0.1804 - val_accuracy: 0.9305\n",
      "Epoch 10/20\n",
      "56/56 [==============================] - 17s 312ms/step - loss: 0.1297 - accuracy: 0.9614 - val_loss: 0.1851 - val_accuracy: 0.9238\n",
      "Epoch 11/20\n",
      "56/56 [==============================] - 18s 313ms/step - loss: 0.1297 - accuracy: 0.9614 - val_loss: 0.1842 - val_accuracy: 0.9260\n",
      "Epoch 12/20\n",
      "56/56 [==============================] - 18s 314ms/step - loss: 0.1278 - accuracy: 0.9619 - val_loss: 0.1819 - val_accuracy: 0.9283\n",
      "Epoch 13/20\n",
      "56/56 [==============================] - 18s 315ms/step - loss: 0.1278 - accuracy: 0.9619 - val_loss: 0.1817 - val_accuracy: 0.9283\n",
      "Epoch 14/20\n",
      "56/56 [==============================] - 18s 315ms/step - loss: 0.1255 - accuracy: 0.9647 - val_loss: 0.1815 - val_accuracy: 0.9283\n",
      "Epoch 15/20\n",
      "56/56 [==============================] - 17s 312ms/step - loss: 0.1253 - accuracy: 0.9647 - val_loss: 0.1760 - val_accuracy: 0.9327\n",
      "Epoch 16/20\n",
      "56/56 [==============================] - 18s 313ms/step - loss: 0.1266 - accuracy: 0.9642 - val_loss: 0.1838 - val_accuracy: 0.9238\n",
      "Epoch 17/20\n",
      "56/56 [==============================] - 18s 313ms/step - loss: 0.1236 - accuracy: 0.9647 - val_loss: 0.1785 - val_accuracy: 0.9283\n",
      "Epoch 18/20\n",
      "56/56 [==============================] - 18s 313ms/step - loss: 0.1225 - accuracy: 0.9642 - val_loss: 0.1836 - val_accuracy: 0.9260\n",
      "Epoch 19/20\n",
      "56/56 [==============================] - 18s 314ms/step - loss: 0.1221 - accuracy: 0.9625 - val_loss: 0.1860 - val_accuracy: 0.9260\n",
      "Epoch 20/20\n",
      "56/56 [==============================] - 18s 314ms/step - loss: 0.1207 - accuracy: 0.9659 - val_loss: 0.1804 - val_accuracy: 0.9260\n"
     ]
    }
   ],
   "source": [
    "results = model.fit(\n",
    "    train_ds,\n",
    "    batch_size = 32,\n",
    "    epochs = 20,\n",
    "    validation_data = val_ds,\n",
    "    verbose=1,\n",
    ")"
   ]
  },
  {
   "cell_type": "code",
   "execution_count": 22,
   "metadata": {},
   "outputs": [
    {
     "name": "stdout",
     "output_type": "stream",
     "text": [
      "8/8 [==============================] - 2s 225ms/step - loss: 0.1727 - accuracy: 0.9395\n"
     ]
    },
    {
     "data": {
      "text/plain": [
       "[0.1726762056350708, 0.9395161271095276]"
      ]
     },
     "execution_count": 22,
     "metadata": {},
     "output_type": "execute_result"
    }
   ],
   "source": [
    "model.evaluate(test_ds)"
   ]
  }
 ],
 "metadata": {
  "kernelspec": {
   "display_name": "Python 3",
   "language": "python",
   "name": "python3"
  },
  "language_info": {
   "codemirror_mode": {
    "name": "ipython",
    "version": 3
   },
   "file_extension": ".py",
   "mimetype": "text/x-python",
   "name": "python",
   "nbconvert_exporter": "python",
   "pygments_lexer": "ipython3",
   "version": "3.7.4"
  }
 },
 "nbformat": 4,
 "nbformat_minor": 2
}
